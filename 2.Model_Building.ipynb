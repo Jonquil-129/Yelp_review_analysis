{
 "cells": [
  {
   "cell_type": "markdown",
   "metadata": {},
   "source": [
    "# Yelp Reviews - Restaurant Review Topic Analysis  \n",
    "* Ankur Vishwakarma  \n",
    "* Metis SF Winter 2018"
   ]
  },
  {
   "cell_type": "markdown",
   "metadata": {},
   "source": [
    "## Notebook 2 - Text processing  \n",
    "Previous notebook - [1_extracting_reviews](1_extracting_reviews)  \n",
    "\n",
    "---"
   ]
  },
  {
   "cell_type": "markdown",
   "metadata": {},
   "source": [
    "## Table of Contents  \n",
    "1. [Stopwords](#s1)\n",
    "2. [TFIDF](#s2)\n",
    "3. [LSA](#s3)\n",
    "4. [NMF](#s4)\n",
    "5. [Review Similarity in NMF space](#s5)\n",
    "6. [Count Vectorizer](#s6)\n",
    "7. [LDA](#s7)\n",
    "8. [Continuing with NMF Topics](#s8)\n",
    "9. [Topic Modeling All Reviews](#s9)\n",
    "10. [Adding Topic Weights to Pandas DataFrame](#s10)\n",
    "11. [Adding in Business Information](#s11)"
   ]
  },
  {
   "cell_type": "code",
   "execution_count": 1,
   "metadata": {},
   "outputs": [],
   "source": [
    "# import initial modules\n",
    "from pprint import pprint\n",
    "import pandas as pd\n",
    "import numpy as np\n",
    "import matplotlib.pyplot as plt\n",
    "%matplotlib inline\n",
    "import seaborn as sns\n",
    "sns.set()"
   ]
  },
  {
   "cell_type": "code",
   "execution_count": 2,
   "metadata": {},
   "outputs": [],
   "source": [
    "# read in reviews from previous notebook\n",
    "data = pd.read_csv('review_steakhouse.csv')"
   ]
  },
  {
   "cell_type": "code",
   "execution_count": 3,
   "metadata": {},
   "outputs": [],
   "source": [
    "data['review_length'] = data.text.map(len)"
   ]
  },
  {
   "cell_type": "code",
   "execution_count": 4,
   "metadata": {},
   "outputs": [],
   "source": [
    "import numpy as np\n",
    "from textblob import TextBlob\n",
    "import nltk\n",
    "from nltk.corpus import stopwords\n",
    "from wordcloud import WordCloud\n",
    "import re, string\n",
    "import sys\n",
    "import time\n",
    "import collections\n",
    "from array import array"
   ]
  },
  {
   "cell_type": "code",
   "execution_count": 5,
   "metadata": {},
   "outputs": [
    {
     "name": "stdout",
     "output_type": "stream",
     "text": [
      "Postive Reviews:  17,270\n",
      "Negative Reviews:  7,284\n"
     ]
    }
   ],
   "source": [
    "badreviews = data[(data.stars_x <= 2 )]\n",
    "goodreviews = data[(data.stars_x >= 4)]\n",
    "badreviews = badreviews.text\n",
    "goodreviews = goodreviews.text\n",
    "print('Postive Reviews:  {:,}'.format(len(goodreviews)))\n",
    "print('Negative Reviews:  {:,}'.format(len(badreviews)))"
   ]
  },
  {
   "cell_type": "code",
   "execution_count": 6,
   "metadata": {},
   "outputs": [],
   "source": [
    "badreviews = [\"\".join([char for char in a if char not in string.punctuation]) for a in badreviews]\n",
    "goodreviews = [\"\".join([char for char in a if char not in string.punctuation]) for a in goodreviews]"
   ]
  },
  {
   "cell_type": "code",
   "execution_count": 7,
   "metadata": {},
   "outputs": [],
   "source": [
    "# additional stopwords\n",
    "from sklearn.feature_extraction import text \n",
    "extra_words = ['ve', 'like', 'got', 'just', \n",
    "               'don', 'really', 'said', 'told', 'ok',\n",
    "               'came', 'went', 'did', 'didn', 'good']\n",
    "stop_words = text.ENGLISH_STOP_WORDS.union(extra_words)"
   ]
  },
  {
   "cell_type": "code",
   "execution_count": 8,
   "metadata": {},
   "outputs": [],
   "source": [
    "text1=badreviews\n",
    "text1 = [a.lower() for a in text1]\n",
    "words1 = [nltk.word_tokenize(a) for a in text1]\n",
    "filtered_words1 = [[word for word in a if word not in stop_words] for a in words1]\n",
    "from nltk.stem.wordnet import WordNetLemmatizer\n",
    "lmtzr = WordNetLemmatizer()"
   ]
  },
  {
   "cell_type": "code",
   "execution_count": 9,
   "metadata": {},
   "outputs": [],
   "source": [
    "text2=goodreviews\n",
    "text2 = [a.lower() for a in text2]\n",
    "words2 = [nltk.word_tokenize(a) for a in text2]\n",
    "filtered_words2 = [[word for word in a if word not in stop_words] for a in words2]"
   ]
  },
  {
   "cell_type": "code",
   "execution_count": 10,
   "metadata": {},
   "outputs": [],
   "source": [
    "lemmatized_words1 = [[lmtzr.lemmatize(x) for x in a] for a in filtered_words1]\n",
    "lemmatized_words2 = [[lmtzr.lemmatize(x) for x in a] for a in filtered_words2]"
   ]
  },
  {
   "cell_type": "code",
   "execution_count": 11,
   "metadata": {},
   "outputs": [],
   "source": [
    "import sklearn\n",
    "from sklearn.feature_extraction.text import TfidfVectorizer\n",
    "lemmatized_words1=[ ' '.join(map(str, sent)) for sent in lemmatized_words1]\n",
    "lemmatized_words2=[ ' '.join(map(str, sent)) for sent in lemmatized_words2]"
   ]
  },
  {
   "cell_type": "code",
   "execution_count": 12,
   "metadata": {},
   "outputs": [],
   "source": [
    "tfidf_model1 = TfidfVectorizer(stop_words=stop_words,\n",
    "                        ngram_range=(1,1))\n",
    "tfidf_model2 = TfidfVectorizer(stop_words=stop_words, \n",
    "                        ngram_range=(1,1))\n",
    "result1=tfidf_model1.fit_transform(lemmatized_words1)\n",
    "result2=tfidf_model2.fit_transform(lemmatized_words2)"
   ]
  },
  {
   "cell_type": "code",
   "execution_count": 13,
   "metadata": {},
   "outputs": [
    {
     "name": "stdout",
     "output_type": "stream",
     "text": [
      "Top words in good reviews:\n",
      "[('great',), ('food',), ('service',), ('place',), ('steak',), ('time',), ('restaurant',), ('best',)]\n",
      "Top words in bad reviews:\n",
      "[('food',), ('steak',), ('service',), ('time',), ('place',), ('table',), ('restaurant',), ('ordered',)]\n"
     ]
    }
   ],
   "source": [
    "bad_df = pd.DataFrame(result1.todense(), columns=[tfidf_model1.get_feature_names()])\n",
    "good_df = pd.DataFrame(result2.todense(), columns=[tfidf_model2.get_feature_names()])\n",
    "col_means_bad = {}\n",
    "for col in bad_df:\n",
    "    col_means_bad[col] = bad_df[col].mean()\n",
    "\n",
    "col_means_good = {}\n",
    "for col in good_df:\n",
    "    col_means_good[col] = good_df[col].mean()\n",
    "    \n",
    "top_words = 8\n",
    "\n",
    "print('Top words in good reviews:')\n",
    "print(sorted(col_means_good, key=col_means_good.get, reverse=True)[:top_words])\n",
    "\n",
    "print('Top words in bad reviews:')\n",
    "print(sorted(col_means_bad, key=col_means_bad.get, reverse=True)[:top_words])"
   ]
  },
  {
   "cell_type": "code",
   "execution_count": 14,
   "metadata": {
    "scrolled": true
   },
   "outputs": [
    {
     "data": {
      "image/png": "[encoded data removed]",
      "text/plain": [
       "<Figure size 864x360 with 1 Axes>"
      ]
     },
     "metadata": {},
     "output_type": "display_data"
    }
   ],
   "source": [
    "'This part credited to Ankur Vishwakarma, Oakland, CA. https://github.com/Vishwacorp/'\n",
    "from gensim import corpora, models, similarities, matutils\n",
    "corpus1 = matutils.Sparse2Corpus(result1.transpose())\n",
    "corpus2 = matutils.Sparse2Corpus(result2.transpose())\n",
    "word_bad = dict((v,k) for k,v in tfidf_model1.vocabulary_.items())\n",
    "word_good = dict((v,k) for k,v in tfidf_model2.vocabulary_.items())\n",
    "word_bad2 = corpora.Dictionary.from_corpus(corpus1, id2word=word_bad)\n",
    "word_good2 = corpora.Dictionary.from_corpus(corpus2, id2word=word_good)\n",
    "lsi_bad = models.LsiModel(corpus1, id2word=word_bad2, num_topics=10)\n",
    "lsi_good = models.LsiModel(corpus2, id2word=word_good2, num_topics=10)\n",
    "\n",
    "singular_values_bad = lsi_bad.projection.s.tolist()\n",
    "singular_values_bad_rel = [sv/singular_values_bad[-1] for sv in singular_values_bad]\n",
    "singular_values_good = lsi_good.projection.s.tolist()\n",
    "singular_values_good_rel = [sv/singular_values_good[-1] for sv in singular_values_good]\n",
    "plt.style.use('fivethirtyeight')\n",
    "plt.figure(figsize=(12,5))\n",
    "plt.plot(range(len(singular_values_bad)), singular_values_bad_rel, label='Bad Reviews', alpha=1.0)\n",
    "plt.plot(range(len(singular_values_good)), singular_values_good_rel, label='Good Reviews', alpha=0.7)\n",
    "plt.xticks(range(len(singular_values_bad)), range(len(singular_values_bad)))\n",
    "plt.xlabel('Topic #')\n",
    "plt.ylabel('Relative Strength')\n",
    "plt.title('LSI Topic Strengths (Relative)')\n",
    "plt.legend(loc=0, fontsize='medium');"
   ]
  },
  {
   "cell_type": "code",
   "execution_count": 15,
   "metadata": {},
   "outputs": [],
   "source": [
    "import pprint\n",
    "from pprint import pprint"
   ]
  },
  {
   "cell_type": "code",
   "execution_count": 18,
   "metadata": {},
   "outputs": [
    {
     "name": "stdout",
     "output_type": "stream",
     "text": [
      "Top 8 words in POSITIVE reviews:[('great',), ('food',), ('service',), ('place',), ('steak',), ('time',), ('restaurant',), ('best',)]\n",
      "Top 8 words in NEGATIVE reviews:[('food',), ('steak',), ('service',), ('time',), ('place',), ('table',), ('restaurant',), ('ordered',)]\n"
     ]
    }
   ],
   "source": [
    "no_top_words = 8\n",
    "\n",
    "print('Top %d words in POSITIVE reviews:' %no_top_words, end='')\n",
    "print(sorted(col_means_good, key=col_means_good.get, reverse=True)[:no_top_words])\n",
    "\n",
    "print('Top %d words in NEGATIVE reviews:' %no_top_words, end='')\n",
    "print(sorted(col_means_bad, key=col_means_bad.get, reverse=True)[:no_top_words])"
   ]
  },
  {
   "cell_type": "markdown",
   "metadata": {},
   "source": [
    "### NMF <a name='s4'></a>"
   ]
  },
  {
   "cell_type": "code",
   "execution_count": 24,
   "metadata": {},
   "outputs": [
    {
     "name": "stdout",
     "output_type": "stream",
     "text": [
      "Wall time: 1.31 s\n"
     ]
    }
   ],
   "source": [
    "%%time\n",
    "# negative values in LSA topics are annoying\n",
    "# let's see if we can fix that with NMF\n",
    "from sklearn.decomposition import NMF\n",
    "\n",
    "# change num_topics\n",
    "num_topics = 4\n",
    "\n",
    "nmf_pos = NMF(n_components=num_topics)\n",
    "W_pos = nmf_pos.fit_transform(result2)\n",
    "H_pos = nmf_pos.components_\n",
    "\n",
    "nmf_neg = NMF(n_components=num_topics)\n",
    "W_neg = nmf_neg.fit_transform(result1)\n",
    "H_neg = nmf_neg.components_"
   ]
  },
  {
   "cell_type": "code",
   "execution_count": 25,
   "metadata": {},
   "outputs": [
    {
     "name": "stdout",
     "output_type": "stream",
     "text": [
      "Top topics + words for POSITIVE reviews\n",
      "---------------------------------------\n",
      "Topic 0:   0.776*salad, 0.763*meat, 0.681*ordered, 0.653*delicious\n",
      "Topic 1:   1.366*cheese, 1.219*curd, 1.139*burger, 0.945*old\n",
      "Topic 2:   1.989*great, 1.499*food, 1.126*service, 0.696*atmosphere\n",
      "Topic 3:   2.520*steak, 0.846*best, 0.699*cooked, 0.419*perfectly\n",
      "\n",
      "Top topics + words for NEGATIVE reviews\n",
      "---------------------------------------\n",
      "Topic 0:   1.156*minute, 1.115*table, 0.760*drink, 0.705*order\n",
      "Topic 1:   1.996*steak, 0.794*medium, 0.603*rare, 0.433*cooked\n",
      "Topic 2:   0.795*salad, 0.542*ordered, 0.513*chicken, 0.482*cheese\n",
      "Topic 3:   1.591*food, 1.192*service, 1.029*place, 0.586*time\n"
     ]
    }
   ],
   "source": [
    "def display_topics(model, feature_names, num_topics, no_top_words):\n",
    "    for topic_idx, topic in enumerate(model.components_):\n",
    "        if topic_idx < num_topics:\n",
    "            print(\"{:11}\".format(\"Topic %d:\" %(topic_idx)), end='')\n",
    "            print(\", \".join(['{:04.3f}*'.format(topic[i])+feature_names[i] \\\n",
    "                             for i in topic.argsort()[:-no_top_words-1:-1]]))\n",
    "\n",
    "no_topics = num_topics\n",
    "no_top_words = 4\n",
    "\n",
    "print('Top topics + words for POSITIVE reviews')\n",
    "print('-'*39)\n",
    "display_topics(nmf_pos, tfidf_model2.get_feature_names(), no_topics, no_top_words)\n",
    "\n",
    "print('\\nTop topics + words for NEGATIVE reviews')\n",
    "print('-'*39)\n",
    "display_topics(nmf_neg, tfidf_model1.get_feature_names(), no_topics, no_top_words)"
   ]
  },
  {
   "cell_type": "markdown",
   "metadata": {},
   "source": [
    "As expected, these topics are far more interpretable.  \n",
    "* First two topics for positive reviews seem to be (1) salad and sides and (2) meals other than steak.\n",
    "* First two topics for negative reviews seem to be (1) slow service and (2) temperature of steak (seems like thai food in this subset of data)."
   ]
  },
  {
   "cell_type": "code",
   "execution_count": 26,
   "metadata": {},
   "outputs": [],
   "source": [
    "np.random.seed(38)\n",
    "num_reviews = 20000\n",
    "random_pos = np.random.choice(goodreviews, size=num_reviews)"
   ]
  },
  {
   "cell_type": "code",
   "execution_count": 27,
   "metadata": {},
   "outputs": [],
   "source": [
    "np.random.seed(38)\n",
    "num_reviews = 20000\n",
    "random_neg = np.random.choice(badreviews, size=num_reviews)"
   ]
  },
  {
   "cell_type": "markdown",
   "metadata": {},
   "source": [
    "### Review Similarity in NMF space <a name='s5'></a>"
   ]
  },
  {
   "cell_type": "code",
   "execution_count": 28,
   "metadata": {
    "scrolled": true
   },
   "outputs": [
    {
     "name": "stdout",
     "output_type": "stream",
     "text": [
      "1237\n",
      "I wanted to thank the manager and staff for finding room for our party of 12 then 13 at the last minute on Saturday night The service was exceptional the food was delicious and the setting and ambiance are spectacular Thanks for a wonderful night\n"
     ]
    }
   ],
   "source": [
    "# look at a random positive review\n",
    "review_num = np.random.randint(0, high=len(random_pos))\n",
    "print(review_num)\n",
    "print(random_pos[review_num])"
   ]
  },
  {
   "cell_type": "code",
   "execution_count": 29,
   "metadata": {},
   "outputs": [],
   "source": [
    "# compute cosine similarities of this review with all other reviews in the new space\n",
    "import sklearn.metrics.pairwise as smp\n",
    "\n",
    "cosines = {}\n",
    "for ind, review in enumerate(W_pos):\n",
    "    similarity = smp.cosine_similarity(W_pos[review_num].reshape(1,-1), review.reshape(1,-1))\n",
    "    cosines[ind] = similarity[0][0]"
   ]
  },
  {
   "cell_type": "code",
   "execution_count": 30,
   "metadata": {
    "scrolled": true
   },
   "outputs": [
    {
     "name": "stdout",
     "output_type": "stream",
     "text": [
      "--------------------------------------------------\n",
      ">> Similarity 1.000\n",
      "Ive lived in Madison my entire life so the fact that I had not been to this establishment before last night is shocking to me From the moment we made reservations to when we were walking out after dinner the staff was so incredibly friendly and attentive \n",
      "\n",
      "We started out at the bar  which is still the original bar from 1929 with some refurbishing where Al Capone and John Dillinger and some other gangsters used to hang out \n",
      "\n",
      "We had The Godfather martini vodka pineapple juice and the Tommy Gun bourbon cherry juice  I recommend both\n",
      "\n",
      "We were seated upstairs for dinner Our waitress told us a wellrehearsed history on the Wonder Bar and added that it is now considered a certified haunted establishment This is a thumbs up in my book Our steaks were made perfectly the salads and sides were just as good Try the cheesy hash browns Oh And as an appetizer get the crab cakes \n",
      "\n",
      "The prices are decent for the amount and quality of food you receive I will be back\n",
      "--------------------------------------------------\n",
      ">> Similarity 1.000\n",
      "Great experience Jeremy the manager and Cheryl the server made our ordinary night one to remember The food was skillfully prepared and Jeremy was wonderful about making recommendations for a wine pairing that was in line with our budget We found the staff to be down to earth and very accommodating\n",
      "--------------------------------------------------\n",
      ">> Similarity 0.999\n",
      "Yummy food and great ambience for dinner They have a bar lounge party room and SOUP I ordered the clam chowder They also have yummy peanut butter martinis\n",
      "--------------------------------------------------\n"
     ]
    }
   ],
   "source": [
    "# get top 3 matching reviews\n",
    "for n in sorted(cosines, key=cosines.get, reverse=True)[1:4]:\n",
    "    print('-'*50)\n",
    "    print('>> Similarity {:.3f}'.format(cosines[n]))\n",
    "    print(random_pos[n])\n",
    "print('-'*50)"
   ]
  },
  {
   "cell_type": "markdown",
   "metadata": {},
   "source": [
    "NMF seems to be working well and making good topics for us. But just to give it a shot, let's use CountVectorizer (instead of TFIDF) and try topic modeling through LDA. While slower, its use of a dirichlet prior can often give good results."
   ]
  },
  {
   "cell_type": "markdown",
   "metadata": {},
   "source": [
    "### Count Vectorizer <a name='s6'></a>"
   ]
  },
  {
   "cell_type": "code",
   "execution_count": 31,
   "metadata": {},
   "outputs": [],
   "source": [
    "from sklearn.feature_extraction.text import CountVectorizer\n",
    "\n",
    "# Create a vectorizer object to generate term document counts\n",
    "cv_pos = CountVectorizer(stop_words=stop_words, min_df=10, max_df=0.5, \n",
    "                        ngram_range=(1,1), token_pattern='[a-z][a-z]+')\n",
    "\n",
    "cv_neg = CountVectorizer(stop_words=stop_words, min_df=10, max_df=0.5, \n",
    "                        ngram_range=(1,1), token_pattern='[a-z][a-z]+')\n",
    "\n",
    "# Get random subset of reviews\n",
    "np.random.seed(38)\n",
    "num_reviews = 15000\n",
    "cv_random_neg = np.random.choice(badreviews, size=num_reviews)\n",
    "cv_random_pos = np.random.choice(goodreviews, size=num_reviews)\n",
    "\n",
    "# Get the cv vectors\n",
    "cv_neg_vectors = cv_neg.fit_transform(cv_random_neg).transpose()\n",
    "cv_pos_vectors = cv_pos.fit_transform(cv_random_pos).transpose()"
   ]
  },
  {
   "cell_type": "code",
   "execution_count": 32,
   "metadata": {},
   "outputs": [],
   "source": [
    "# Convert sparse matrix of counts to a gensim corpus\n",
    "corpus_neg = matutils.Sparse2Corpus(cv_neg_vectors)\n",
    "corpus_pos = matutils.Sparse2Corpus(cv_pos_vectors)\n",
    "\n",
    "# save a mapping (dict) of row id to word (token) for later use by gensim \n",
    "id2word_cv_pos = dict((v, k) for k, v in cv_pos.vocabulary_.items())\n",
    "id2word_cv_neg = dict((v, k) for k, v in cv_neg.vocabulary_.items())"
   ]
  },
  {
   "cell_type": "markdown",
   "metadata": {},
   "source": [
    "### LDA <a name='s7'></a>"
   ]
  },
  {
   "cell_type": "code",
   "execution_count": 33,
   "metadata": {},
   "outputs": [
    {
     "name": "stdout",
     "output_type": "stream",
     "text": [
      "Wall time: 1min 47s\n"
     ]
    }
   ],
   "source": [
    "%%time\n",
    "# create lda multicore model\n",
    "lda_pos = models.ldamulticore.LdaMulticore(corpus=corpus_pos, num_topics=4, \n",
    "                                           id2word=id2word_cv_pos, passes=10, workers=15)\n",
    "lda_neg = models.ldamulticore.LdaMulticore(corpus=corpus_neg, num_topics=4, \n",
    "                                           id2word=id2word_cv_neg, passes=10, workers=15)"
   ]
  },
  {
   "cell_type": "code",
   "execution_count": 34,
   "metadata": {},
   "outputs": [
    {
     "name": "stdout",
     "output_type": "stream",
     "text": [
      "Top topics + words for POSITIVE reviews\n",
      "---------------------------------------\n",
      "[(0,\n",
      "  '0.014*\"place\" + 0.013*\"great\" + 0.013*\"food\" + 0.012*\"bar\" + '\n",
      "  '0.010*\"service\" + 0.009*\"time\" + 0.007*\"nice\"'),\n",
      " (1,\n",
      "  '0.015*\"cheese\" + 0.010*\"great\" + 0.009*\"food\" + 0.008*\"old\" + '\n",
      "  '0.008*\"ordered\" + 0.007*\"place\" + 0.006*\"restaurant\"'),\n",
      " (2,\n",
      "  '0.016*\"steak\" + 0.009*\"salad\" + 0.009*\"food\" + 0.008*\"great\" + '\n",
      "  '0.008*\"service\" + 0.008*\"place\" + 0.008*\"meat\"'),\n",
      " (3,\n",
      "  '0.036*\"great\" + 0.031*\"food\" + 0.021*\"service\" + 0.012*\"place\" + '\n",
      "  '0.011*\"best\" + 0.009*\"excellent\" + 0.008*\"delicious\"')]\n",
      "\n",
      "Top topics + words for NEGATIVE reviews\n",
      "---------------------------------------\n",
      "[(0,\n",
      "  '0.014*\"service\" + 0.011*\"place\" + 0.010*\"bar\" + 0.008*\"great\" + '\n",
      "  '0.007*\"time\" + 0.007*\"restaurant\" + 0.007*\"better\"'),\n",
      " (1,\n",
      "  '0.013*\"table\" + 0.010*\"service\" + 0.010*\"time\" + 0.010*\"place\" + '\n",
      "  '0.009*\"salad\" + 0.008*\"ordered\" + 0.007*\"order\"'),\n",
      " (2,\n",
      "  '0.011*\"time\" + 0.011*\"service\" + 0.010*\"restaurant\" + 0.009*\"manager\" + '\n",
      "  '0.009*\"minutes\" + 0.008*\"place\" + 0.007*\"table\"'),\n",
      " (3,\n",
      "  '0.018*\"steak\" + 0.016*\"ordered\" + 0.007*\"restaurant\" + 0.007*\"medium\" + '\n",
      "  '0.006*\"service\" + 0.006*\"didnt\" + 0.006*\"time\"')]\n"
     ]
    }
   ],
   "source": [
    "print('Top topics + words for POSITIVE reviews')\n",
    "print('-'*39)\n",
    "pprint(lda_pos.print_topics(num_words=7))\n",
    "\n",
    "print('\\nTop topics + words for NEGATIVE reviews')\n",
    "print('-'*39)\n",
    "pprint(lda_neg.print_topics(num_words=7))"
   ]
  },
  {
   "cell_type": "markdown",
   "metadata": {},
   "source": [
    "In this case, it seems that our LDA topics are more blended together into each other than the ones generated by NMF. Let's move forward with NMF."
   ]
  },
  {
   "cell_type": "markdown",
   "metadata": {},
   "source": [
    "### Continuing with NMF Topics <a name='s8'></a>"
   ]
  },
  {
   "cell_type": "code",
   "execution_count": 35,
   "metadata": {},
   "outputs": [
    {
     "name": "stdout",
     "output_type": "stream",
     "text": [
      "Top topics + words for POSITIVE reviews\n",
      "---------------------------------------\n",
      "Topic 0:   0.776*salad, 0.763*meat, 0.681*ordered, 0.653*delicious\n",
      "Topic 1:   1.366*cheese, 1.219*curd, 1.139*burger, 0.945*old\n",
      "Topic 2:   1.989*great, 1.499*food, 1.126*service, 0.696*atmosphere\n",
      "Topic 3:   2.520*steak, 0.846*best, 0.699*cooked, 0.419*perfectly\n",
      "Wall time: 23 ms\n"
     ]
    }
   ],
   "source": [
    "%%time\n",
    "# let's remind ourselves of the POSITIVE topics\n",
    "print('Top topics + words for POSITIVE reviews')\n",
    "print('-'*39)\n",
    "display_topics(nmf_pos,tfidf_model2.get_feature_names(), no_topics, no_top_words)"
   ]
  },
  {
   "cell_type": "code",
   "execution_count": 36,
   "metadata": {
    "scrolled": false
   },
   "outputs": [
    {
     "name": "stdout",
     "output_type": "stream",
     "text": [
      "Positive Review #14832\n",
      "-------------------------\n",
      "We stayed at the adjoining hotel while vending at the annual winter beerfest  We stumbled upon the hotel by accident and couldnt have been happier with the stay and the majority of that comment is from this restaurant  Our first impression of this amazing place was the super sweet super amazing Nami  This young lady knows more about beer than the majority of people that were at the beerfest to say shes a connoisseur is selling her short  She was kind polite and professional while being super friendly and awesome the entire stay  The food was absolutely amazing  Everything was not only presented extremely well but was all hand crafted artisan deliciousness  Our group was a mix of vegetarian pescitarian and meat eaters  We all found amazing choices and everyone raved about every dish  The french fries have to be the best fries Ive ever tasted in my life  The fish and chips were to die for they even served it with an amazing malt vinegar that paired so well with the homemade tartar sauce it was explosive  My friend also commented that the burgers were to die for  Overall between the gorgeous ambiance the amazingly awesome staff and the outrageously delicious food this place is a true gem of Pittsburgh  Well be back very soon\n",
      "-------------------------\n",
      "Topic 2: 0.0622\n",
      "Topic 1: 0.0045\n",
      "Topic 0: 0.0000\n",
      "Topic 3: 0.0000\n"
     ]
    }
   ],
   "source": [
    "# we can investigate a random positive review and see how it's distributed across those topics\n",
    "review_num = np.random.randint(0, high=len(random_pos))\n",
    "print('Positive Review #%d' %review_num)\n",
    "print('-'*25)\n",
    "print(random_pos[review_num])\n",
    "print('-'*25)\n",
    "topic_dict = {}\n",
    "for ind, w in enumerate(W_pos[review_num]):\n",
    "    topic_dict[ind] = w\n",
    "for k in sorted(topic_dict, key=topic_dict.get, reverse=True):\n",
    "     print('Topic {}: {:.4f}'.format(k, topic_dict[k]))"
   ]
  },
  {
   "cell_type": "code",
   "execution_count": 37,
   "metadata": {},
   "outputs": [
    {
     "name": "stdout",
     "output_type": "stream",
     "text": [
      "Top topics + words for NEGATIVE reviews\n",
      "---------------------------------------\n",
      "Topic 0:   1.156*minute, 1.115*table, 0.760*drink, 0.705*order\n",
      "Topic 1:   1.996*steak, 0.794*medium, 0.603*rare, 0.433*cooked\n",
      "Topic 2:   0.795*salad, 0.542*ordered, 0.513*chicken, 0.482*cheese\n",
      "Topic 3:   1.591*food, 1.192*service, 1.029*place, 0.586*time\n"
     ]
    }
   ],
   "source": [
    "print('Top topics + words for NEGATIVE reviews')\n",
    "print('-'*39)\n",
    "display_topics(nmf_neg, tfidf_model1.get_feature_names(), no_topics, no_top_words)"
   ]
  },
  {
   "cell_type": "code",
   "execution_count": 38,
   "metadata": {},
   "outputs": [
    {
     "name": "stdout",
     "output_type": "stream",
     "text": [
      "Negative Review #2516\n",
      "-------------------------\n",
      "The place is very clean and spacious I felt comfortable in the restaurant Service was excellent The portions are generous however the the food is not flavorful I had carne asada rice and bears I didnt feel like anything was seasoned and I did not find myself wanting to take another bite which is very usual for me and Mexican food \n",
      "\n",
      "The place is ok if youre very hungry and you like bland food Personally Id rather wait in line at Maize\n",
      "-------------------------\n",
      "Topic 1: 0.0976\n",
      "Topic 3: 0.0312\n",
      "Topic 0: 0.0183\n",
      "Topic 2: 0.0091\n"
     ]
    }
   ],
   "source": [
    "# now investigate a random negative review and see how it's distributed across those topics\n",
    "review_num = np.random.randint(0, high=len(random_neg))\n",
    "print('Negative Review #%d' %review_num)\n",
    "print('-'*25)\n",
    "print(random_neg[review_num])\n",
    "print('-'*25)\n",
    "topic_dict = {}\n",
    "for ind, w in enumerate(W_neg[review_num]):\n",
    "    topic_dict[ind] = w\n",
    "for k in sorted(topic_dict, key=topic_dict.get, reverse=True):\n",
    "     print('Topic {}: {:.4f}'.format(k, topic_dict[k]))"
   ]
  },
  {
   "cell_type": "markdown",
   "metadata": {},
   "source": [
    "### Topic Modeling All Reviews <a name='s9'></a>  \n",
    "At this point, we can see that our topics are relatively interpretable and match along with the reviews they're trying to categorize. Let's proceed with topic modeling all reviews and businesses using NMF."
   ]
  },
  {
   "cell_type": "code",
   "execution_count": 39,
   "metadata": {},
   "outputs": [
    {
     "name": "stdout",
     "output_type": "stream",
     "text": [
      "Postive Reviews:  17,270\n",
      "Negative Reviews:  7,284\n"
     ]
    }
   ],
   "source": [
    "print('Postive Reviews:  {:,}'.format(len(goodreviews)))\n",
    "print('Negative Reviews:  {:,}'.format(len(badreviews)))"
   ]
  },
  {
   "cell_type": "code",
   "execution_count": 40,
   "metadata": {},
   "outputs": [
    {
     "name": "stdout",
     "output_type": "stream",
     "text": [
      "Wall time: 1.36 s\n"
     ]
    }
   ],
   "source": [
    "%%time\n",
    "# Create a vectorizer object to generate term document counts\n",
    "tfidf_model1 = TfidfVectorizer(stop_words=stop_words, min_df=10, max_df=0.5, \n",
    "                        ngram_range=(1,1), token_pattern='[a-z][a-z]+')\n",
    "\n",
    "tfidf_model2 = TfidfVectorizer(stop_words=stop_words, min_df=10, max_df=0.5, \n",
    "                        ngram_range=(1,1), token_pattern='[a-z][a-z]+')\n",
    "\n",
    "# Get the vectors\n",
    "neg_vectors = tfidf_model1.fit_transform(badreviews)\n",
    "pos_vectors = tfidf_model2.fit_transform(goodreviews)"
   ]
  },
  {
   "cell_type": "code",
   "execution_count": 41,
   "metadata": {},
   "outputs": [
    {
     "name": "stderr",
     "output_type": "stream",
     "text": [
      "C:\\Users\\13754\\anaconda3\\lib\\site-packages\\sklearn\\decomposition\\_nmf.py:1076: ConvergenceWarning: Maximum number of iterations 200 reached. Increase it to improve convergence.\n",
      "  warnings.warn(\"Maximum number of iterations %d reached. Increase it to\"\n"
     ]
    },
    {
     "name": "stdout",
     "output_type": "stream",
     "text": [
      "Wall time: 1.45 s\n"
     ]
    }
   ],
   "source": [
    "%%time\n",
    "# NMF for all reviews\n",
    "from sklearn.decomposition import NMF\n",
    "\n",
    "# change num_topics\n",
    "num_topics = 4\n",
    "\n",
    "nmf_pos = NMF(n_components=num_topics)\n",
    "W_pos = nmf_pos.fit_transform(pos_vectors)\n",
    "H_pos = nmf_pos.components_\n",
    "\n",
    "nmf_neg = NMF(n_components=num_topics)\n",
    "W_neg = nmf_neg.fit_transform(neg_vectors)\n",
    "H_neg = nmf_neg.components_"
   ]
  },
  {
   "cell_type": "code",
   "execution_count": 42,
   "metadata": {},
   "outputs": [
    {
     "name": "stdout",
     "output_type": "stream",
     "text": [
      "Topics for POSITIVE reviews\n",
      "---------------------------------------\n",
      "Topic 0:   0.766*bar, 0.666*salad, 0.644*ordered, 0.640*delicious, 0.640*meat\n",
      "Topic 1:   2.106*great, 1.511*food, 1.171*service, 0.711*atmosphere, 0.650*place\n",
      "Topic 2:   1.536*cheese, 1.316*curds, 1.046*old, 0.893*fashioned, 0.757*burger\n",
      "Topic 3:   2.179*steak, 0.865*best, 0.835*cooked, 0.592*steaks, 0.510*perfectly\n",
      "\n",
      "Topics for NEGATIVE reviews\n",
      "---------------------------------------\n",
      "Topic 0:   1.299*place, 1.170*service, 0.648*dont, 0.578*great, 0.506*better\n",
      "Topic 1:   1.909*steak, 0.884*medium, 0.659*rare, 0.453*cooked, 0.437*ordered\n",
      "Topic 2:   1.092*minutes, 0.901*table, 0.626*order, 0.555*waited, 0.548*took\n",
      "Topic 3:   0.797*salad, 0.593*chicken, 0.580*ordered, 0.546*cheese, 0.392*fries\n"
     ]
    }
   ],
   "source": [
    "no_topics = num_topics\n",
    "no_top_words = 5\n",
    "\n",
    "print('Topics for POSITIVE reviews')\n",
    "print('-'*39)\n",
    "display_topics(nmf_pos, tfidf_model2.get_feature_names(), no_topics, no_top_words)\n",
    "\n",
    "print('\\nTopics for NEGATIVE reviews')\n",
    "print('-'*39)\n",
    "display_topics(nmf_neg, tfidf_model1.get_feature_names(), no_topics, no_top_words)"
   ]
  },
  {
   "cell_type": "code",
   "execution_count": 43,
   "metadata": {},
   "outputs": [],
   "source": [
    "# create topic dictionaries to summarize the topic meanings\n",
    "pos_topics = {0:'Quality of vegetable salads and meat products', 1:'Atmosphere and service', \n",
    "              2:'Quality of other main courses', 3:'Quality of Steaks'}\n",
    "\n",
    "neg_topics = {0:'Service quality', 1:'Cooking of steaks', 2:'Service--Waiting time', \n",
    "              3:'Quality of other sides and snacks'}"
   ]
  },
  {
   "cell_type": "markdown",
   "metadata": {},
   "source": [
    "### Adding Topic Weights to Pandas DataFrame <a name='s10'></a>"
   ]
  },
  {
   "cell_type": "code",
   "execution_count": 44,
   "metadata": {},
   "outputs": [],
   "source": [
    "# we create dataframes for positive & negative reviews that we can\n",
    "# later add topic information to\n",
    "df_pos = data[['business_id', 'stars_x', 'text', 'review_length']][data.stars_x>3].reset_index()\n",
    "df_neg = data[['business_id', 'stars_x', 'text', 'review_length']][data.stars_x<3].reset_index()\n",
    "df_pos.drop(labels='index', axis=1, inplace=True)\n",
    "df_neg.drop(labels='index', axis=1, inplace=True)"
   ]
  },
  {
   "cell_type": "markdown",
   "metadata": {},
   "source": [
    "Our topic weights are not immediately relevant as absolute numbers. Let's take a look. "
   ]
  },
  {
   "cell_type": "code",
   "execution_count": 45,
   "metadata": {},
   "outputs": [
    {
     "name": "stdout",
     "output_type": "stream",
     "text": [
      "Topic weights :  [0.01551396 0.01319791 0.01480702 0.        ]\n",
      "Sum of weights:  0.04351888636249507\n"
     ]
    }
   ],
   "source": [
    "print('Topic weights : ', W_pos[0])\n",
    "print('Sum of weights: ', W_pos[0].sum())"
   ]
  },
  {
   "cell_type": "markdown",
   "metadata": {},
   "source": [
    "To a business owner, it does not make sense that that a review they received is 0.016 topic 0 and all their topics sum up to 0.043. Therefore, we can normalize the weights so they all add up to 1. "
   ]
  },
  {
   "cell_type": "code",
   "execution_count": 46,
   "metadata": {},
   "outputs": [
    {
     "name": "stdout",
     "output_type": "stream",
     "text": [
      "Normalized Topic weights :  [[0.35648791 0.30326845 0.34024364 0.        ]]\n",
      "Sum of normalized weights:  1.0\n"
     ]
    }
   ],
   "source": [
    "from sklearn.preprocessing import normalize\n",
    "print('Normalized Topic weights : ', normalize(W_pos[0].reshape(1,-1), norm='l1'))\n",
    "print('Sum of normalized weights: ', normalize(W_pos[0].reshape(1,-1), norm='l1').sum())"
   ]
  },
  {
   "cell_type": "code",
   "execution_count": 47,
   "metadata": {},
   "outputs": [],
   "source": [
    "# add normalized topic weights to each review\n",
    "df_pos = pd.concat([df_pos, pd.DataFrame(normalize(W_pos, norm='l1'))], axis=1)\n",
    "df_neg = pd.concat([df_neg, pd.DataFrame(normalize(W_neg, norm='l1'))], axis=1)"
   ]
  },
  {
   "cell_type": "code",
   "execution_count": 48,
   "metadata": {},
   "outputs": [
    {
     "data": {
      "text/html": [
       "<div>\n",
       "<style scoped>\n",
       "    .dataframe tbody tr th:only-of-type {\n",
       "        vertical-align: middle;\n",
       "    }\n",
       "\n",
       "    .dataframe tbody tr th {\n",
       "        vertical-align: top;\n",
       "    }\n",
       "\n",
       "    .dataframe thead th {\n",
       "        text-align: right;\n",
       "    }\n",
       "</style>\n",
       "<table border=\"1\" class=\"dataframe\">\n",
       "  <thead>\n",
       "    <tr style=\"text-align: right;\">\n",
       "      <th></th>\n",
       "      <th>business_id</th>\n",
       "      <th>stars_x</th>\n",
       "      <th>text</th>\n",
       "      <th>review_length</th>\n",
       "      <th>0</th>\n",
       "      <th>1</th>\n",
       "      <th>2</th>\n",
       "      <th>3</th>\n",
       "    </tr>\n",
       "  </thead>\n",
       "  <tbody>\n",
       "    <tr>\n",
       "      <th>0</th>\n",
       "      <td>JhxI7oS_jsFnq34dDubugQ</td>\n",
       "      <td>2</td>\n",
       "      <td>Rocky River location. Out of four different en...</td>\n",
       "      <td>425</td>\n",
       "      <td>0.323147</td>\n",
       "      <td>0.220360</td>\n",
       "      <td>0.001469</td>\n",
       "      <td>0.455024</td>\n",
       "    </tr>\n",
       "    <tr>\n",
       "      <th>1</th>\n",
       "      <td>zLnmmB9jiKg-A2Lggs64-A</td>\n",
       "      <td>1</td>\n",
       "      <td>Not worth the price. Service was OK... \"Poop e...</td>\n",
       "      <td>64</td>\n",
       "      <td>1.000000</td>\n",
       "      <td>0.000000</td>\n",
       "      <td>0.000000</td>\n",
       "      <td>0.000000</td>\n",
       "    </tr>\n",
       "    <tr>\n",
       "      <th>2</th>\n",
       "      <td>7ddnq3YQSKguGK15etqGLQ</td>\n",
       "      <td>2</td>\n",
       "      <td>We decided on short notice to try the new Ditk...</td>\n",
       "      <td>942</td>\n",
       "      <td>0.239486</td>\n",
       "      <td>0.480081</td>\n",
       "      <td>0.001110</td>\n",
       "      <td>0.279323</td>\n",
       "    </tr>\n",
       "    <tr>\n",
       "      <th>3</th>\n",
       "      <td>zLnmmB9jiKg-A2Lggs64-A</td>\n",
       "      <td>2</td>\n",
       "      <td>Came here for the ayce seafood buffet what a d...</td>\n",
       "      <td>442</td>\n",
       "      <td>0.329776</td>\n",
       "      <td>0.088952</td>\n",
       "      <td>0.000000</td>\n",
       "      <td>0.581272</td>\n",
       "    </tr>\n",
       "    <tr>\n",
       "      <th>4</th>\n",
       "      <td>lpxj6LFir23Ds6swW8a6fg</td>\n",
       "      <td>1</td>\n",
       "      <td>Tourist trap. Like a bad cafeteria on top of M...</td>\n",
       "      <td>60</td>\n",
       "      <td>0.979663</td>\n",
       "      <td>0.020337</td>\n",
       "      <td>0.000000</td>\n",
       "      <td>0.000000</td>\n",
       "    </tr>\n",
       "  </tbody>\n",
       "</table>\n",
       "</div>"
      ],
      "text/plain": [
       "              business_id  stars_x  \\\n",
       "0  JhxI7oS_jsFnq34dDubugQ        2   \n",
       "1  zLnmmB9jiKg-A2Lggs64-A        1   \n",
       "2  7ddnq3YQSKguGK15etqGLQ        2   \n",
       "3  zLnmmB9jiKg-A2Lggs64-A        2   \n",
       "4  lpxj6LFir23Ds6swW8a6fg        1   \n",
       "\n",
       "                                                text  review_length         0  \\\n",
       "0  Rocky River location. Out of four different en...            425  0.323147   \n",
       "1  Not worth the price. Service was OK... \"Poop e...             64  1.000000   \n",
       "2  We decided on short notice to try the new Ditk...            942  0.239486   \n",
       "3  Came here for the ayce seafood buffet what a d...            442  0.329776   \n",
       "4  Tourist trap. Like a bad cafeteria on top of M...             60  0.979663   \n",
       "\n",
       "          1         2         3  \n",
       "0  0.220360  0.001469  0.455024  \n",
       "1  0.000000  0.000000  0.000000  \n",
       "2  0.480081  0.001110  0.279323  \n",
       "3  0.088952  0.000000  0.581272  \n",
       "4  0.020337  0.000000  0.000000  "
      ]
     },
     "execution_count": 48,
     "metadata": {},
     "output_type": "execute_result"
    }
   ],
   "source": [
    "# peek into a dataframe to ensure it worked right\n",
    "df_neg.head()"
   ]
  },
  {
   "cell_type": "markdown",
   "metadata": {},
   "source": [
    "Great - we have topic weights for each review in this dataframe. Next, we can group by the business_id and get mean topic weights per restaurant."
   ]
  },
  {
   "cell_type": "code",
   "execution_count": 49,
   "metadata": {},
   "outputs": [],
   "source": [
    "# group by business_id and apply mean/count functions to columns\n",
    "df_pos_bsns = df_pos.groupby('business_id').agg({'stars_x':'mean', 'text':'count',\n",
    "                                                 'review_length':'mean',0:'mean', \n",
    "                                                 1:'mean', 2:'mean', 3:'mean'}).reset_index()\n",
    "df_neg_bsns = df_neg.groupby('business_id').agg({'stars_x':'mean', 'text':'count',\n",
    "                                                 'review_length':'mean',0:'mean', \n",
    "                                                 1:'mean', 2:'mean', 3:'mean'}).reset_index()"
   ]
  },
  {
   "cell_type": "code",
   "execution_count": 50,
   "metadata": {
    "scrolled": true
   },
   "outputs": [
    {
     "data": {
      "text/html": [
       "<div>\n",
       "<style scoped>\n",
       "    .dataframe tbody tr th:only-of-type {\n",
       "        vertical-align: middle;\n",
       "    }\n",
       "\n",
       "    .dataframe tbody tr th {\n",
       "        vertical-align: top;\n",
       "    }\n",
       "\n",
       "    .dataframe thead th {\n",
       "        text-align: right;\n",
       "    }\n",
       "</style>\n",
       "<table border=\"1\" class=\"dataframe\">\n",
       "  <thead>\n",
       "    <tr style=\"text-align: right;\">\n",
       "      <th></th>\n",
       "      <th>business_id</th>\n",
       "      <th>stars_x</th>\n",
       "      <th>text</th>\n",
       "      <th>review_length</th>\n",
       "      <th>0</th>\n",
       "      <th>1</th>\n",
       "      <th>2</th>\n",
       "      <th>3</th>\n",
       "    </tr>\n",
       "  </thead>\n",
       "  <tbody>\n",
       "    <tr>\n",
       "      <th>0</th>\n",
       "      <td>-RQCdTsH5rkG702auLcEqA</td>\n",
       "      <td>4.400000</td>\n",
       "      <td>20</td>\n",
       "      <td>481.650000</td>\n",
       "      <td>0.455453</td>\n",
       "      <td>0.267870</td>\n",
       "      <td>0.090952</td>\n",
       "      <td>0.185724</td>\n",
       "    </tr>\n",
       "    <tr>\n",
       "      <th>1</th>\n",
       "      <td>-bHpvkmiFzm_swHLYsGiqw</td>\n",
       "      <td>4.659091</td>\n",
       "      <td>88</td>\n",
       "      <td>540.954545</td>\n",
       "      <td>0.405884</td>\n",
       "      <td>0.383983</td>\n",
       "      <td>0.071390</td>\n",
       "      <td>0.138743</td>\n",
       "    </tr>\n",
       "    <tr>\n",
       "      <th>2</th>\n",
       "      <td>0YA3RpY5KXcezPXcjdfOGQ</td>\n",
       "      <td>5.000000</td>\n",
       "      <td>1</td>\n",
       "      <td>491.000000</td>\n",
       "      <td>0.275592</td>\n",
       "      <td>0.272366</td>\n",
       "      <td>0.000000</td>\n",
       "      <td>0.452042</td>\n",
       "    </tr>\n",
       "    <tr>\n",
       "      <th>3</th>\n",
       "      <td>0gbi6kYiAOnFwfZ_2_dXSA</td>\n",
       "      <td>4.528090</td>\n",
       "      <td>89</td>\n",
       "      <td>574.000000</td>\n",
       "      <td>0.316093</td>\n",
       "      <td>0.315641</td>\n",
       "      <td>0.058682</td>\n",
       "      <td>0.309584</td>\n",
       "    </tr>\n",
       "    <tr>\n",
       "      <th>4</th>\n",
       "      <td>0grgvnq4GgoY-estWytUhg</td>\n",
       "      <td>4.475410</td>\n",
       "      <td>61</td>\n",
       "      <td>657.360656</td>\n",
       "      <td>0.489593</td>\n",
       "      <td>0.321819</td>\n",
       "      <td>0.098266</td>\n",
       "      <td>0.090322</td>\n",
       "    </tr>\n",
       "  </tbody>\n",
       "</table>\n",
       "</div>"
      ],
      "text/plain": [
       "              business_id   stars_x  text  review_length         0         1  \\\n",
       "0  -RQCdTsH5rkG702auLcEqA  4.400000    20     481.650000  0.455453  0.267870   \n",
       "1  -bHpvkmiFzm_swHLYsGiqw  4.659091    88     540.954545  0.405884  0.383983   \n",
       "2  0YA3RpY5KXcezPXcjdfOGQ  5.000000     1     491.000000  0.275592  0.272366   \n",
       "3  0gbi6kYiAOnFwfZ_2_dXSA  4.528090    89     574.000000  0.316093  0.315641   \n",
       "4  0grgvnq4GgoY-estWytUhg  4.475410    61     657.360656  0.489593  0.321819   \n",
       "\n",
       "          2         3  \n",
       "0  0.090952  0.185724  \n",
       "1  0.071390  0.138743  \n",
       "2  0.000000  0.452042  \n",
       "3  0.058682  0.309584  \n",
       "4  0.098266  0.090322  "
      ]
     },
     "execution_count": 50,
     "metadata": {},
     "output_type": "execute_result"
    }
   ],
   "source": [
    "df_pos_bsns.head(5)"
   ]
  },
  {
   "cell_type": "code",
   "execution_count": 51,
   "metadata": {},
   "outputs": [
    {
     "data": {
      "text/html": [
       "<div>\n",
       "<style scoped>\n",
       "    .dataframe tbody tr th:only-of-type {\n",
       "        vertical-align: middle;\n",
       "    }\n",
       "\n",
       "    .dataframe tbody tr th {\n",
       "        vertical-align: top;\n",
       "    }\n",
       "\n",
       "    .dataframe thead th {\n",
       "        text-align: right;\n",
       "    }\n",
       "</style>\n",
       "<table border=\"1\" class=\"dataframe\">\n",
       "  <thead>\n",
       "    <tr style=\"text-align: right;\">\n",
       "      <th></th>\n",
       "      <th>business_id</th>\n",
       "      <th>stars_x</th>\n",
       "      <th>text</th>\n",
       "      <th>review_length</th>\n",
       "      <th>0</th>\n",
       "      <th>1</th>\n",
       "      <th>2</th>\n",
       "      <th>3</th>\n",
       "    </tr>\n",
       "  </thead>\n",
       "  <tbody>\n",
       "    <tr>\n",
       "      <th>0</th>\n",
       "      <td>-RQCdTsH5rkG702auLcEqA</td>\n",
       "      <td>1.400000</td>\n",
       "      <td>10</td>\n",
       "      <td>991.500000</td>\n",
       "      <td>0.321232</td>\n",
       "      <td>0.204246</td>\n",
       "      <td>0.147369</td>\n",
       "      <td>0.327153</td>\n",
       "    </tr>\n",
       "    <tr>\n",
       "      <th>1</th>\n",
       "      <td>-bHpvkmiFzm_swHLYsGiqw</td>\n",
       "      <td>1.520000</td>\n",
       "      <td>25</td>\n",
       "      <td>700.480000</td>\n",
       "      <td>0.511158</td>\n",
       "      <td>0.110051</td>\n",
       "      <td>0.152027</td>\n",
       "      <td>0.226764</td>\n",
       "    </tr>\n",
       "    <tr>\n",
       "      <th>2</th>\n",
       "      <td>0YA3RpY5KXcezPXcjdfOGQ</td>\n",
       "      <td>1.200000</td>\n",
       "      <td>5</td>\n",
       "      <td>446.800000</td>\n",
       "      <td>0.383100</td>\n",
       "      <td>0.396977</td>\n",
       "      <td>0.121657</td>\n",
       "      <td>0.098265</td>\n",
       "    </tr>\n",
       "    <tr>\n",
       "      <th>3</th>\n",
       "      <td>0gbi6kYiAOnFwfZ_2_dXSA</td>\n",
       "      <td>1.692308</td>\n",
       "      <td>13</td>\n",
       "      <td>965.615385</td>\n",
       "      <td>0.239982</td>\n",
       "      <td>0.264789</td>\n",
       "      <td>0.192736</td>\n",
       "      <td>0.302493</td>\n",
       "    </tr>\n",
       "    <tr>\n",
       "      <th>4</th>\n",
       "      <td>0grgvnq4GgoY-estWytUhg</td>\n",
       "      <td>1.586207</td>\n",
       "      <td>29</td>\n",
       "      <td>968.137931</td>\n",
       "      <td>0.389274</td>\n",
       "      <td>0.030535</td>\n",
       "      <td>0.174895</td>\n",
       "      <td>0.405296</td>\n",
       "    </tr>\n",
       "  </tbody>\n",
       "</table>\n",
       "</div>"
      ],
      "text/plain": [
       "              business_id   stars_x  text  review_length         0         1  \\\n",
       "0  -RQCdTsH5rkG702auLcEqA  1.400000    10     991.500000  0.321232  0.204246   \n",
       "1  -bHpvkmiFzm_swHLYsGiqw  1.520000    25     700.480000  0.511158  0.110051   \n",
       "2  0YA3RpY5KXcezPXcjdfOGQ  1.200000     5     446.800000  0.383100  0.396977   \n",
       "3  0gbi6kYiAOnFwfZ_2_dXSA  1.692308    13     965.615385  0.239982  0.264789   \n",
       "4  0grgvnq4GgoY-estWytUhg  1.586207    29     968.137931  0.389274  0.030535   \n",
       "\n",
       "          2         3  \n",
       "0  0.147369  0.327153  \n",
       "1  0.152027  0.226764  \n",
       "2  0.121657  0.098265  \n",
       "3  0.192736  0.302493  \n",
       "4  0.174895  0.405296  "
      ]
     },
     "execution_count": 51,
     "metadata": {},
     "output_type": "execute_result"
    }
   ],
   "source": [
    "df_neg_bsns.head()"
   ]
  },
  {
   "cell_type": "markdown",
   "metadata": {},
   "source": [
    "### Adding in Business Information <a name='s11'></a>"
   ]
  },
  {
   "cell_type": "code",
   "execution_count": 53,
   "metadata": {},
   "outputs": [
    {
     "data": {
      "text/html": [
       "<div>\n",
       "<style scoped>\n",
       "    .dataframe tbody tr th:only-of-type {\n",
       "        vertical-align: middle;\n",
       "    }\n",
       "\n",
       "    .dataframe tbody tr th {\n",
       "        vertical-align: top;\n",
       "    }\n",
       "\n",
       "    .dataframe thead th {\n",
       "        text-align: right;\n",
       "    }\n",
       "</style>\n",
       "<table border=\"1\" class=\"dataframe\">\n",
       "  <thead>\n",
       "    <tr style=\"text-align: right;\">\n",
       "      <th></th>\n",
       "      <th>id</th>\n",
       "      <th>stars_x</th>\n",
       "      <th>useful</th>\n",
       "      <th>text</th>\n",
       "      <th>name</th>\n",
       "      <th>address</th>\n",
       "      <th>city</th>\n",
       "      <th>state</th>\n",
       "      <th>postal_code</th>\n",
       "      <th>stars_y</th>\n",
       "      <th>attributes</th>\n",
       "      <th>categories</th>\n",
       "    </tr>\n",
       "  </thead>\n",
       "  <tbody>\n",
       "    <tr>\n",
       "      <th>0</th>\n",
       "      <td>lpxj6LFir23Ds6swW8a6fg</td>\n",
       "      <td>4</td>\n",
       "      <td>0</td>\n",
       "      <td>Very fresh food and authentic Italian taste. T...</td>\n",
       "      <td>Grandview Saloon</td>\n",
       "      <td>1212 Grandview Ave</td>\n",
       "      <td>Pittsburgh</td>\n",
       "      <td>PA</td>\n",
       "      <td>15211</td>\n",
       "      <td>3.0</td>\n",
       "      <td>{'Alcohol': \"u'full_bar'\", 'WiFi': \"'free'\", '...</td>\n",
       "      <td>Restaurants, Steakhouses, Seafood, American (T...</td>\n",
       "    </tr>\n",
       "    <tr>\n",
       "      <th>1</th>\n",
       "      <td>d6VYQbeTZ_WdD8Uuhh35dg</td>\n",
       "      <td>5</td>\n",
       "      <td>0</td>\n",
       "      <td>This is my favorite happy hour place in all of...</td>\n",
       "      <td>Tempest Oyster Bar</td>\n",
       "      <td>120 E Wilson St</td>\n",
       "      <td>Madison</td>\n",
       "      <td>WI</td>\n",
       "      <td>53703</td>\n",
       "      <td>4.0</td>\n",
       "      <td>{'RestaurantsTakeOut': 'False', 'WiFi': \"u'no'...</td>\n",
       "      <td>Steakhouses, Restaurants, Bars, Seafood, Night...</td>\n",
       "    </tr>\n",
       "    <tr>\n",
       "      <th>2</th>\n",
       "      <td>szGbmw_vq3kVU4SfK1x6Sw</td>\n",
       "      <td>4</td>\n",
       "      <td>1</td>\n",
       "      <td>Ruth Chris Steakhouse is by far one of the bes...</td>\n",
       "      <td>Ruths Chris Steak House</td>\n",
       "      <td>6 PPG Pl</td>\n",
       "      <td>Pittsburgh</td>\n",
       "      <td>PA</td>\n",
       "      <td>15222</td>\n",
       "      <td>4.0</td>\n",
       "      <td>{'BusinessParking': \"{'garage': False, 'street...</td>\n",
       "      <td>Restaurants, Steakhouses</td>\n",
       "    </tr>\n",
       "    <tr>\n",
       "      <th>3</th>\n",
       "      <td>eF2jf-E5ktRQIh_4_-Jxsg</td>\n",
       "      <td>4</td>\n",
       "      <td>1</td>\n",
       "      <td>My rating is purely on the food and not on the...</td>\n",
       "      <td>Cannon's Chop House</td>\n",
       "      <td>1900 Main St</td>\n",
       "      <td>Canonsburg</td>\n",
       "      <td>PA</td>\n",
       "      <td>15317</td>\n",
       "      <td>3.5</td>\n",
       "      <td>{'Alcohol': \"u'full_bar'\", 'RestaurantsReserva...</td>\n",
       "      <td>Steakhouses, Restaurants, Cajun/Creole</td>\n",
       "    </tr>\n",
       "    <tr>\n",
       "      <th>4</th>\n",
       "      <td>JhxI7oS_jsFnq34dDubugQ</td>\n",
       "      <td>2</td>\n",
       "      <td>1</td>\n",
       "      <td>Rocky River location. Out of four different en...</td>\n",
       "      <td>Ferris Steak House</td>\n",
       "      <td>8700 Detroit Ave</td>\n",
       "      <td>Cleveland</td>\n",
       "      <td>OH</td>\n",
       "      <td>44102</td>\n",
       "      <td>3.5</td>\n",
       "      <td>{'RestaurantsReservations': 'True', 'Restauran...</td>\n",
       "      <td>Steakhouses, Restaurants</td>\n",
       "    </tr>\n",
       "  </tbody>\n",
       "</table>\n",
       "</div>"
      ],
      "text/plain": [
       "                       id  stars_x  useful  \\\n",
       "0  lpxj6LFir23Ds6swW8a6fg        4       0   \n",
       "1  d6VYQbeTZ_WdD8Uuhh35dg        5       0   \n",
       "2  szGbmw_vq3kVU4SfK1x6Sw        4       1   \n",
       "3  eF2jf-E5ktRQIh_4_-Jxsg        4       1   \n",
       "4  JhxI7oS_jsFnq34dDubugQ        2       1   \n",
       "\n",
       "                                                text                     name  \\\n",
       "0  Very fresh food and authentic Italian taste. T...         Grandview Saloon   \n",
       "1  This is my favorite happy hour place in all of...       Tempest Oyster Bar   \n",
       "2  Ruth Chris Steakhouse is by far one of the bes...  Ruths Chris Steak House   \n",
       "3  My rating is purely on the food and not on the...      Cannon's Chop House   \n",
       "4  Rocky River location. Out of four different en...       Ferris Steak House   \n",
       "\n",
       "              address        city state  postal_code  stars_y  \\\n",
       "0  1212 Grandview Ave  Pittsburgh    PA        15211      3.0   \n",
       "1     120 E Wilson St     Madison    WI        53703      4.0   \n",
       "2            6 PPG Pl  Pittsburgh    PA        15222      4.0   \n",
       "3        1900 Main St  Canonsburg    PA        15317      3.5   \n",
       "4    8700 Detroit Ave   Cleveland    OH        44102      3.5   \n",
       "\n",
       "                                          attributes  \\\n",
       "0  {'Alcohol': \"u'full_bar'\", 'WiFi': \"'free'\", '...   \n",
       "1  {'RestaurantsTakeOut': 'False', 'WiFi': \"u'no'...   \n",
       "2  {'BusinessParking': \"{'garage': False, 'street...   \n",
       "3  {'Alcohol': \"u'full_bar'\", 'RestaurantsReserva...   \n",
       "4  {'RestaurantsReservations': 'True', 'Restauran...   \n",
       "\n",
       "                                          categories  \n",
       "0  Restaurants, Steakhouses, Seafood, American (T...  \n",
       "1  Steakhouses, Restaurants, Bars, Seafood, Night...  \n",
       "2                           Restaurants, Steakhouses  \n",
       "3             Steakhouses, Restaurants, Cajun/Creole  \n",
       "4                           Steakhouses, Restaurants  "
      ]
     },
     "execution_count": 53,
     "metadata": {},
     "output_type": "execute_result"
    }
   ],
   "source": [
    "# we can read in business info from a saved CSV file\n",
    "# and add that to our last dataframe\n",
    "steak_df = pd.read_csv('review_steakhouse.csv')\n",
    "steak_df.drop(labels='Unnamed: 0', axis=1, inplace=True)\n",
    "steak_df.columns=['id',\"stars_x\",\"useful\",\"text\",\"name\",\"address\",\"city\",\"state\",\"postal_code\",\"stars_y\",\"attributes\",\"categories\"]\n",
    "steak_df.head()"
   ]
  },
  {
   "cell_type": "code",
   "execution_count": 73,
   "metadata": {},
   "outputs": [
    {
     "data": {
      "text/html": [
       "<div>\n",
       "<style scoped>\n",
       "    .dataframe tbody tr th:only-of-type {\n",
       "        vertical-align: middle;\n",
       "    }\n",
       "\n",
       "    .dataframe tbody tr th {\n",
       "        vertical-align: top;\n",
       "    }\n",
       "\n",
       "    .dataframe thead th {\n",
       "        text-align: right;\n",
       "    }\n",
       "</style>\n",
       "<table border=\"1\" class=\"dataframe\">\n",
       "  <thead>\n",
       "    <tr style=\"text-align: right;\">\n",
       "      <th></th>\n",
       "      <th>id</th>\n",
       "      <th>name</th>\n",
       "      <th>city</th>\n",
       "      <th>stars_x</th>\n",
       "    </tr>\n",
       "  </thead>\n",
       "  <tbody>\n",
       "    <tr>\n",
       "      <th>0</th>\n",
       "      <td>188</td>\n",
       "      <td>Grandview Saloon</td>\n",
       "      <td>Pittsburgh</td>\n",
       "      <td>4</td>\n",
       "    </tr>\n",
       "    <tr>\n",
       "      <th>1</th>\n",
       "      <td>219</td>\n",
       "      <td>Tempest Oyster Bar</td>\n",
       "      <td>Madison</td>\n",
       "      <td>5</td>\n",
       "    </tr>\n",
       "    <tr>\n",
       "      <th>2</th>\n",
       "      <td>262</td>\n",
       "      <td>Ruths Chris Steak House</td>\n",
       "      <td>Pittsburgh</td>\n",
       "      <td>4</td>\n",
       "    </tr>\n",
       "    <tr>\n",
       "      <th>3</th>\n",
       "      <td>273</td>\n",
       "      <td>Cannon's Chop House</td>\n",
       "      <td>Canonsburg</td>\n",
       "      <td>4</td>\n",
       "    </tr>\n",
       "    <tr>\n",
       "      <th>4</th>\n",
       "      <td>393</td>\n",
       "      <td>Ferris Steak House</td>\n",
       "      <td>Cleveland</td>\n",
       "      <td>2</td>\n",
       "    </tr>\n",
       "  </tbody>\n",
       "</table>\n",
       "</div>"
      ],
      "text/plain": [
       "    id                     name        city  stars_x\n",
       "0  188         Grandview Saloon  Pittsburgh        4\n",
       "1  219       Tempest Oyster Bar     Madison        5\n",
       "2  262  Ruths Chris Steak House  Pittsburgh        4\n",
       "3  273      Cannon's Chop House  Canonsburg        4\n",
       "4  393       Ferris Steak House   Cleveland        2"
      ]
     },
     "execution_count": 73,
     "metadata": {},
     "output_type": "execute_result"
    }
   ],
   "source": [
    "steak_df[['id', 'name', 'city', 'stars_x']].head()"
   ]
  },
  {
   "cell_type": "code",
   "execution_count": 67,
   "metadata": {},
   "outputs": [
    {
     "name": "stderr",
     "output_type": "stream",
     "text": [
      "<ipython-input-67-a3f6ee3d699e>:1: FutureWarning: Indexing with multiple keys (implicitly converted to a tuple of keys) will be deprecated, use a list instead.\n",
      "  test=df_pos_bsns.groupby(by=['business_id'])[0,1,2,3].sum()\n"
     ]
    },
    {
     "data": {
      "text/html": [
       "<div>\n",
       "<style scoped>\n",
       "    .dataframe tbody tr th:only-of-type {\n",
       "        vertical-align: middle;\n",
       "    }\n",
       "\n",
       "    .dataframe tbody tr th {\n",
       "        vertical-align: top;\n",
       "    }\n",
       "\n",
       "    .dataframe thead th {\n",
       "        text-align: right;\n",
       "    }\n",
       "</style>\n",
       "<table border=\"1\" class=\"dataframe\">\n",
       "  <thead>\n",
       "    <tr style=\"text-align: right;\">\n",
       "      <th></th>\n",
       "      <th>0</th>\n",
       "      <th>1</th>\n",
       "      <th>2</th>\n",
       "      <th>3</th>\n",
       "    </tr>\n",
       "    <tr>\n",
       "      <th>business_id</th>\n",
       "      <th></th>\n",
       "      <th></th>\n",
       "      <th></th>\n",
       "      <th></th>\n",
       "    </tr>\n",
       "  </thead>\n",
       "  <tbody>\n",
       "    <tr>\n",
       "      <th>-RQCdTsH5rkG702auLcEqA</th>\n",
       "      <td>0.455453</td>\n",
       "      <td>0.267870</td>\n",
       "      <td>0.090952</td>\n",
       "      <td>0.185724</td>\n",
       "    </tr>\n",
       "    <tr>\n",
       "      <th>-bHpvkmiFzm_swHLYsGiqw</th>\n",
       "      <td>0.405884</td>\n",
       "      <td>0.383983</td>\n",
       "      <td>0.071390</td>\n",
       "      <td>0.138743</td>\n",
       "    </tr>\n",
       "    <tr>\n",
       "      <th>0YA3RpY5KXcezPXcjdfOGQ</th>\n",
       "      <td>0.275592</td>\n",
       "      <td>0.272366</td>\n",
       "      <td>0.000000</td>\n",
       "      <td>0.452042</td>\n",
       "    </tr>\n",
       "    <tr>\n",
       "      <th>0gbi6kYiAOnFwfZ_2_dXSA</th>\n",
       "      <td>0.316093</td>\n",
       "      <td>0.315641</td>\n",
       "      <td>0.058682</td>\n",
       "      <td>0.309584</td>\n",
       "    </tr>\n",
       "    <tr>\n",
       "      <th>0grgvnq4GgoY-estWytUhg</th>\n",
       "      <td>0.489593</td>\n",
       "      <td>0.321819</td>\n",
       "      <td>0.098266</td>\n",
       "      <td>0.090322</td>\n",
       "    </tr>\n",
       "  </tbody>\n",
       "</table>\n",
       "</div>"
      ],
      "text/plain": [
       "                               0         1         2         3\n",
       "business_id                                                   \n",
       "-RQCdTsH5rkG702auLcEqA  0.455453  0.267870  0.090952  0.185724\n",
       "-bHpvkmiFzm_swHLYsGiqw  0.405884  0.383983  0.071390  0.138743\n",
       "0YA3RpY5KXcezPXcjdfOGQ  0.275592  0.272366  0.000000  0.452042\n",
       "0gbi6kYiAOnFwfZ_2_dXSA  0.316093  0.315641  0.058682  0.309584\n",
       "0grgvnq4GgoY-estWytUhg  0.489593  0.321819  0.098266  0.090322"
      ]
     },
     "execution_count": 67,
     "metadata": {},
     "output_type": "execute_result"
    }
   ],
   "source": [
    "test=df_pos_bsns.groupby(by=['business_id'])[0,1,2,3].sum()\n",
    "test.head()"
   ]
  },
  {
   "cell_type": "code",
   "execution_count": 61,
   "metadata": {},
   "outputs": [
    {
     "ename": "KeyError",
     "evalue": "\"['stars_y'] not in index\"",
     "output_type": "error",
     "traceback": [
      "\u001b[1;31m---------------------------------------------------------------------------\u001b[0m",
      "\u001b[1;31mKeyError\u001b[0m                                  Traceback (most recent call last)",
      "\u001b[1;32m<ipython-input-61-38cf0b873ad2>\u001b[0m in \u001b[0;36m<module>\u001b[1;34m\u001b[0m\n\u001b[0;32m      1\u001b[0m \u001b[1;31m# merge business name/city with topic data\u001b[0m\u001b[1;33m\u001b[0m\u001b[1;33m\u001b[0m\u001b[1;33m\u001b[0m\u001b[0m\n\u001b[1;32m----> 2\u001b[1;33m df_pos_tot = df_pos_bsns.merge(steak_df[['id','name', 'city', 'stars_x']], left_on='business_id', \n\u001b[0m\u001b[0;32m      3\u001b[0m                                right_on='id')[['business_id', 'name', 'city','stars_y', 0, 1, 2, 3]]\n\u001b[0;32m      4\u001b[0m \u001b[1;33m\u001b[0m\u001b[0m\n\u001b[0;32m      5\u001b[0m df_neg_tot = df_neg_bsns.merge(steak_df[[ 'id','name', 'city', 'stars_x']], left_on='business_id', \n",
      "\u001b[1;32m~\\anaconda3\\lib\\site-packages\\pandas\\core\\frame.py\u001b[0m in \u001b[0;36m__getitem__\u001b[1;34m(self, key)\u001b[0m\n\u001b[0;32m   2804\u001b[0m             \u001b[1;32mif\u001b[0m \u001b[0mis_iterator\u001b[0m\u001b[1;33m(\u001b[0m\u001b[0mkey\u001b[0m\u001b[1;33m)\u001b[0m\u001b[1;33m:\u001b[0m\u001b[1;33m\u001b[0m\u001b[1;33m\u001b[0m\u001b[0m\n\u001b[0;32m   2805\u001b[0m                 \u001b[0mkey\u001b[0m \u001b[1;33m=\u001b[0m \u001b[0mlist\u001b[0m\u001b[1;33m(\u001b[0m\u001b[0mkey\u001b[0m\u001b[1;33m)\u001b[0m\u001b[1;33m\u001b[0m\u001b[1;33m\u001b[0m\u001b[0m\n\u001b[1;32m-> 2806\u001b[1;33m             \u001b[0mindexer\u001b[0m \u001b[1;33m=\u001b[0m \u001b[0mself\u001b[0m\u001b[1;33m.\u001b[0m\u001b[0mloc\u001b[0m\u001b[1;33m.\u001b[0m\u001b[0m_get_listlike_indexer\u001b[0m\u001b[1;33m(\u001b[0m\u001b[0mkey\u001b[0m\u001b[1;33m,\u001b[0m \u001b[0maxis\u001b[0m\u001b[1;33m=\u001b[0m\u001b[1;36m1\u001b[0m\u001b[1;33m,\u001b[0m \u001b[0mraise_missing\u001b[0m\u001b[1;33m=\u001b[0m\u001b[1;32mTrue\u001b[0m\u001b[1;33m)\u001b[0m\u001b[1;33m[\u001b[0m\u001b[1;36m1\u001b[0m\u001b[1;33m]\u001b[0m\u001b[1;33m\u001b[0m\u001b[1;33m\u001b[0m\u001b[0m\n\u001b[0m\u001b[0;32m   2807\u001b[0m \u001b[1;33m\u001b[0m\u001b[0m\n\u001b[0;32m   2808\u001b[0m         \u001b[1;31m# take() does not accept boolean indexers\u001b[0m\u001b[1;33m\u001b[0m\u001b[1;33m\u001b[0m\u001b[1;33m\u001b[0m\u001b[0m\n",
      "\u001b[1;32m~\\anaconda3\\lib\\site-packages\\pandas\\core\\indexing.py\u001b[0m in \u001b[0;36m_get_listlike_indexer\u001b[1;34m(self, key, axis, raise_missing)\u001b[0m\n\u001b[0;32m   1550\u001b[0m             \u001b[0mkeyarr\u001b[0m\u001b[1;33m,\u001b[0m \u001b[0mindexer\u001b[0m\u001b[1;33m,\u001b[0m \u001b[0mnew_indexer\u001b[0m \u001b[1;33m=\u001b[0m \u001b[0max\u001b[0m\u001b[1;33m.\u001b[0m\u001b[0m_reindex_non_unique\u001b[0m\u001b[1;33m(\u001b[0m\u001b[0mkeyarr\u001b[0m\u001b[1;33m)\u001b[0m\u001b[1;33m\u001b[0m\u001b[1;33m\u001b[0m\u001b[0m\n\u001b[0;32m   1551\u001b[0m \u001b[1;33m\u001b[0m\u001b[0m\n\u001b[1;32m-> 1552\u001b[1;33m         self._validate_read_indexer(\n\u001b[0m\u001b[0;32m   1553\u001b[0m             \u001b[0mkeyarr\u001b[0m\u001b[1;33m,\u001b[0m \u001b[0mindexer\u001b[0m\u001b[1;33m,\u001b[0m \u001b[0mo\u001b[0m\u001b[1;33m.\u001b[0m\u001b[0m_get_axis_number\u001b[0m\u001b[1;33m(\u001b[0m\u001b[0maxis\u001b[0m\u001b[1;33m)\u001b[0m\u001b[1;33m,\u001b[0m \u001b[0mraise_missing\u001b[0m\u001b[1;33m=\u001b[0m\u001b[0mraise_missing\u001b[0m\u001b[1;33m\u001b[0m\u001b[1;33m\u001b[0m\u001b[0m\n\u001b[0;32m   1554\u001b[0m         )\n",
      "\u001b[1;32m~\\anaconda3\\lib\\site-packages\\pandas\\core\\indexing.py\u001b[0m in \u001b[0;36m_validate_read_indexer\u001b[1;34m(self, key, indexer, axis, raise_missing)\u001b[0m\n\u001b[0;32m   1644\u001b[0m             \u001b[1;32mif\u001b[0m \u001b[1;32mnot\u001b[0m \u001b[1;33m(\u001b[0m\u001b[0mself\u001b[0m\u001b[1;33m.\u001b[0m\u001b[0mname\u001b[0m \u001b[1;33m==\u001b[0m \u001b[1;34m\"loc\"\u001b[0m \u001b[1;32mand\u001b[0m \u001b[1;32mnot\u001b[0m \u001b[0mraise_missing\u001b[0m\u001b[1;33m)\u001b[0m\u001b[1;33m:\u001b[0m\u001b[1;33m\u001b[0m\u001b[1;33m\u001b[0m\u001b[0m\n\u001b[0;32m   1645\u001b[0m                 \u001b[0mnot_found\u001b[0m \u001b[1;33m=\u001b[0m \u001b[0mlist\u001b[0m\u001b[1;33m(\u001b[0m\u001b[0mset\u001b[0m\u001b[1;33m(\u001b[0m\u001b[0mkey\u001b[0m\u001b[1;33m)\u001b[0m \u001b[1;33m-\u001b[0m \u001b[0mset\u001b[0m\u001b[1;33m(\u001b[0m\u001b[0max\u001b[0m\u001b[1;33m)\u001b[0m\u001b[1;33m)\u001b[0m\u001b[1;33m\u001b[0m\u001b[1;33m\u001b[0m\u001b[0m\n\u001b[1;32m-> 1646\u001b[1;33m                 \u001b[1;32mraise\u001b[0m \u001b[0mKeyError\u001b[0m\u001b[1;33m(\u001b[0m\u001b[1;34mf\"{not_found} not in index\"\u001b[0m\u001b[1;33m)\u001b[0m\u001b[1;33m\u001b[0m\u001b[1;33m\u001b[0m\u001b[0m\n\u001b[0m\u001b[0;32m   1647\u001b[0m \u001b[1;33m\u001b[0m\u001b[0m\n\u001b[0;32m   1648\u001b[0m             \u001b[1;31m# we skip the warning on Categorical/Interval\u001b[0m\u001b[1;33m\u001b[0m\u001b[1;33m\u001b[0m\u001b[1;33m\u001b[0m\u001b[0m\n",
      "\u001b[1;31mKeyError\u001b[0m: \"['stars_y'] not in index\""
     ]
    }
   ],
   "source": [
    "# merge business name/city with topic data\n",
    "df_pos_tot = df_pos_bsns.merge(steak_df[['id','name', 'city', 'stars_x']], left_on='business_id', \n",
    "                               right_on='id')[['business_id', 'name', 'city','stars_y', 0, 1, 2, 3]]\n",
    "\n",
    "df_neg_tot = df_neg_bsns.merge(steak_df[[ 'id','name', 'city', 'stars_x']], left_on='business_id', \n",
    "                               right_on='id')[['business_id', 'name', 'city','stars_y', 0, 1, 2, 3]]"
   ]
  },
  {
   "cell_type": "code",
   "execution_count": 60,
   "metadata": {},
   "outputs": [
    {
     "ename": "AttributeError",
     "evalue": "'DataFrame' object has no attribute 'dim'",
     "output_type": "error",
     "traceback": [
      "\u001b[1;31m---------------------------------------------------------------------------\u001b[0m",
      "\u001b[1;31mAttributeError\u001b[0m                            Traceback (most recent call last)",
      "\u001b[1;32m<ipython-input-60-cdf8adeb3122>\u001b[0m in \u001b[0;36m<module>\u001b[1;34m\u001b[0m\n\u001b[0;32m      1\u001b[0m \u001b[1;31m# peek into business/topic distributions\u001b[0m\u001b[1;33m\u001b[0m\u001b[1;33m\u001b[0m\u001b[1;33m\u001b[0m\u001b[0m\n\u001b[0;32m      2\u001b[0m \u001b[1;31m#df_pos_tot.head()\u001b[0m\u001b[1;33m\u001b[0m\u001b[1;33m\u001b[0m\u001b[1;33m\u001b[0m\u001b[0m\n\u001b[1;32m----> 3\u001b[1;33m \u001b[0mdf_pos_tot\u001b[0m\u001b[1;33m.\u001b[0m\u001b[0mdim\u001b[0m\u001b[1;33m(\u001b[0m\u001b[1;33m)\u001b[0m\u001b[1;33m\u001b[0m\u001b[1;33m\u001b[0m\u001b[0m\n\u001b[0m",
      "\u001b[1;32m~\\anaconda3\\lib\\site-packages\\pandas\\core\\generic.py\u001b[0m in \u001b[0;36m__getattr__\u001b[1;34m(self, name)\u001b[0m\n\u001b[0;32m   5272\u001b[0m             \u001b[1;32mif\u001b[0m \u001b[0mself\u001b[0m\u001b[1;33m.\u001b[0m\u001b[0m_info_axis\u001b[0m\u001b[1;33m.\u001b[0m\u001b[0m_can_hold_identifiers_and_holds_name\u001b[0m\u001b[1;33m(\u001b[0m\u001b[0mname\u001b[0m\u001b[1;33m)\u001b[0m\u001b[1;33m:\u001b[0m\u001b[1;33m\u001b[0m\u001b[1;33m\u001b[0m\u001b[0m\n\u001b[0;32m   5273\u001b[0m                 \u001b[1;32mreturn\u001b[0m \u001b[0mself\u001b[0m\u001b[1;33m[\u001b[0m\u001b[0mname\u001b[0m\u001b[1;33m]\u001b[0m\u001b[1;33m\u001b[0m\u001b[1;33m\u001b[0m\u001b[0m\n\u001b[1;32m-> 5274\u001b[1;33m             \u001b[1;32mreturn\u001b[0m \u001b[0mobject\u001b[0m\u001b[1;33m.\u001b[0m\u001b[0m__getattribute__\u001b[0m\u001b[1;33m(\u001b[0m\u001b[0mself\u001b[0m\u001b[1;33m,\u001b[0m \u001b[0mname\u001b[0m\u001b[1;33m)\u001b[0m\u001b[1;33m\u001b[0m\u001b[1;33m\u001b[0m\u001b[0m\n\u001b[0m\u001b[0;32m   5275\u001b[0m \u001b[1;33m\u001b[0m\u001b[0m\n\u001b[0;32m   5276\u001b[0m     \u001b[1;32mdef\u001b[0m \u001b[0m__setattr__\u001b[0m\u001b[1;33m(\u001b[0m\u001b[0mself\u001b[0m\u001b[1;33m,\u001b[0m \u001b[0mname\u001b[0m\u001b[1;33m:\u001b[0m \u001b[0mstr\u001b[0m\u001b[1;33m,\u001b[0m \u001b[0mvalue\u001b[0m\u001b[1;33m)\u001b[0m \u001b[1;33m->\u001b[0m \u001b[1;32mNone\u001b[0m\u001b[1;33m:\u001b[0m\u001b[1;33m\u001b[0m\u001b[1;33m\u001b[0m\u001b[0m\n",
      "\u001b[1;31mAttributeError\u001b[0m: 'DataFrame' object has no attribute 'dim'"
     ]
    }
   ],
   "source": [
    "# peek into business/topic distributions\n",
    "#df_pos_tot.head()\n",
    "df_pos_tot.dim()"
   ]
  },
  {
   "cell_type": "markdown",
   "metadata": {},
   "source": [
    "We can check topic distributions for a business and see how they make sense after all the reviews have been normalized and then averaged up to the business-level. Let's check `business_id 'uOPzOiwkS_6w4txA7fYfeA'`, which happens to be a popular chili spot in Ohio."
   ]
  },
  {
   "cell_type": "code",
   "execution_count": 1051,
   "metadata": {},
   "outputs": [
    {
     "name": "stdout",
     "output_type": "stream",
     "text": [
      "Skyline Chili - Positive Reviews\n",
      "------------------------------------\n",
      "Topic 0: beer/happy_hour    > 0.0767\n",
      "Topic 1: food/pizza         > 0.0327\n",
      "Topic 2: service/atmosphere > 0.0818\n",
      "Topic 3: food/burger/fries  > 0.0891\n",
      "Topic 4: friendly_staff     > 0.3543\n",
      "Topic 5: food/chicken/salad > 0.3655\n"
     ]
    }
   ],
   "source": [
    "scores = df_pos_bsns[df_pos_bsns.business_id == 'uOPzOiwkS_6w4txA7fYfeA'].iloc[:,-6:].values\n",
    "print(oh_df[oh_df.id == 'uOPzOiwkS_6w4txA7fYfeA']['name'].values[0] + ' - Positive Reviews')\n",
    "print('-'*36)\n",
    "for n in pos_topics:\n",
    "    print('Topic {}: {:18} > {:.4f}'.format(n, pos_topics[n], scores[0][n]))"
   ]
  },
  {
   "cell_type": "markdown",
   "metadata": {},
   "source": [
    "We now have 4 dataframes:  \n",
    "1. **`df_pos_tot`: ** topic distribution of positive reviews with name, city, and stars for all restaurants\n",
    "2. **`df_neg_tot`: ** topic distribution of negative reviews with name, city, and stars for all restaurants\n",
    "3. **`df_pos`: ** topic distribution of all positive reviews with associated business_id\n",
    "4. **`df_neg`: ** topic distribution of all negative reviews with associated business_id  \n",
    "\n",
    "We can write them to CSV files and then use that information for visualizations in Tableau."
   ]
  },
  {
   "cell_type": "code",
   "execution_count": 1068,
   "metadata": {},
   "outputs": [
    {
     "name": "stdout",
     "output_type": "stream",
     "text": [
      "CPU times: user 1.82 s, sys: 84 ms, total: 1.9 s\n",
      "Wall time: 1.9 s\n"
     ]
    }
   ],
   "source": [
    "%%time\n",
    "# write to CSV\n",
    "df_pos_tot.to_csv('CSVs/pos_bsns.csv')\n",
    "df_neg_tot.to_csv('CSVs/neg_bsns.csv')\n",
    "df_pos.to_csv('CSVs/pos_reviews.csv')\n",
    "df_neg.to_csv('CSVs/neg_reviews.csv')"
   ]
  }
 ],
 "metadata": {
  "kernelspec": {
   "display_name": "Python 3",
   "language": "python",
   "name": "python3"
  },
  "language_info": {
   "codemirror_mode": {
    "name": "ipython",
    "version": 3
   },
   "file_extension": ".py",
   "mimetype": "text/x-python",
   "name": "python",
   "nbconvert_exporter": "python",
   "pygments_lexer": "ipython3",
   "version": "3.8.3"
  }
 },
 "nbformat": 4,
 "nbformat_minor": 2
}
