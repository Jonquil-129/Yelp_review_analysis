{
 "cells": [
  {
   "cell_type": "markdown",
   "metadata": {},
   "source": [
    "# Group 13 - Yelp Review Analysis for Module 3 \n",
    "Group members:\n",
    "- Jonquil Liao\n",
    "- Yuhan Zhou\n",
    "- Yike Wang"
   ]
  },
  {
   "cell_type": "code",
   "execution_count": 1,
   "metadata": {},
   "outputs": [],
   "source": [
    "# import initial modules\n",
    "from pprint import pprint\n",
    "import pandas as pd\n",
    "import numpy as np\n",
    "import matplotlib.pyplot as plt\n",
    "%matplotlib inline\n",
    "import seaborn as sns\n",
    "sns.set()"
   ]
  },
  {
   "cell_type": "markdown",
   "metadata": {},
   "source": [
    "# Preparation and trial"
   ]
  },
  {
   "cell_type": "code",
   "execution_count": 2,
   "metadata": {},
   "outputs": [],
   "source": [
    "# read in reviews from previous notebook\n",
    "data = pd.read_csv('review_steakhouse.csv')"
   ]
  },
  {
   "cell_type": "code",
   "execution_count": 5,
   "metadata": {},
   "outputs": [
    {
     "data": {
      "image/png": "[encoded data removed]",
      "text/plain": [
       "<Figure size 1728x216 with 8 Axes>"
      ]
     },
     "metadata": {},
     "output_type": "display_data"
    }
   ],
   "source": [
    "import seaborn as sns\n",
    "sns.set()\n",
    "data['review_length'] = data.text.map(len)\n",
    "ax = sns.FacetGrid(data=data, col='stars_y',xlim=(0, 2000)).map(plt.hist, 'review_length', bins=50)\n",
    "ax.axes[0][0].set(ylabel='number of reviews');"
   ]
  },
  {
   "cell_type": "code",
   "execution_count": 6,
   "metadata": {},
   "outputs": [],
   "source": [
    "data['review_length'] = data.text.map(len)"
   ]
  },
  {
   "cell_type": "code",
   "execution_count": 7,
   "metadata": {},
   "outputs": [],
   "source": [
    "import numpy as np\n",
    "from textblob import TextBlob\n",
    "import nltk\n",
    "from nltk.corpus import stopwords\n",
    "from wordcloud import WordCloud\n",
    "import re, string\n",
    "import sys\n",
    "import time\n",
    "import collections\n",
    "from array import array"
   ]
  },
  {
   "cell_type": "code",
   "execution_count": 123,
   "metadata": {},
   "outputs": [
    {
     "name": "stdout",
     "output_type": "stream",
     "text": [
      "Postive Reviews:  17,270\n",
      "Negative Reviews:  11,139\n"
     ]
    }
   ],
   "source": [
    "badreviews = data[(data.stars_x <= 3 )]\n",
    "goodreviews = data[(data.stars_x > 3)]\n",
    "badreviews = badreviews.text\n",
    "goodreviews = goodreviews.text\n",
    "print('Postive Reviews:  {:,}'.format(len(goodreviews)))\n",
    "print('Negative Reviews:  {:,}'.format(len(badreviews)))"
   ]
  },
  {
   "cell_type": "code",
   "execution_count": 124,
   "metadata": {},
   "outputs": [],
   "source": [
    "badreviews = [\"\".join([char for char in a if char not in string.punctuation]) for a in badreviews]\n",
    "goodreviews = [\"\".join([char for char in a if char not in string.punctuation]) for a in goodreviews]"
   ]
  },
  {
   "cell_type": "code",
   "execution_count": 125,
   "metadata": {},
   "outputs": [],
   "source": [
    "# additional stopwords\n",
    "from sklearn.feature_extraction import text \n",
    "extra_words = ['ve', 'like', 'got', 'just', 'us','great',\n",
    "               'good','best','nice','always','back','ever',\n",
    "               'ive','go','well','not','bad','terrible',\n",
    "               'don', 'really', 'said', 'told', 'ok','dont',\n",
    "               'came', 'went', 'did', 'didn','one','would']\n",
    "stop_words = text.ENGLISH_STOP_WORDS.union(extra_words)"
   ]
  },
  {
   "cell_type": "code",
   "execution_count": 126,
   "metadata": {},
   "outputs": [],
   "source": [
    "text1=badreviews\n",
    "text1 = [a.lower() for a in text1]\n",
    "words1 = [nltk.word_tokenize(a) for a in text1]\n",
    "filtered_words1 = [[word for word in a if word not in stop_words] for a in words1]\n",
    "from nltk.stem.wordnet import WordNetLemmatizer\n",
    "lmtzr = WordNetLemmatizer()"
   ]
  },
  {
   "cell_type": "code",
   "execution_count": 127,
   "metadata": {},
   "outputs": [],
   "source": [
    "text2=goodreviews\n",
    "text2 = [a.lower() for a in text2]\n",
    "words2 = [nltk.word_tokenize(a) for a in text2]\n",
    "filtered_words2 = [[word for word in a if word not in stop_words] for a in words2]"
   ]
  },
  {
   "cell_type": "code",
   "execution_count": 128,
   "metadata": {},
   "outputs": [],
   "source": [
    "lemmatized_words1 = [[lmtzr.lemmatize(x) for x in a] for a in filtered_words1]\n",
    "lemmatized_words2 = [[lmtzr.lemmatize(x) for x in a] for a in filtered_words2]"
   ]
  },
  {
   "cell_type": "code",
   "execution_count": 129,
   "metadata": {},
   "outputs": [],
   "source": [
    "import sklearn\n",
    "from sklearn.feature_extraction.text import TfidfVectorizer\n",
    "lemmatized_words1=[ ' '.join(map(str, sent)) for sent in lemmatized_words1]\n",
    "lemmatized_words2=[ ' '.join(map(str, sent)) for sent in lemmatized_words2]"
   ]
  },
  {
   "cell_type": "code",
   "execution_count": 130,
   "metadata": {},
   "outputs": [],
   "source": [
    "tfidf_model1 = TfidfVectorizer(stop_words=stop_words,\n",
    "                        ngram_range=(1,1))\n",
    "tfidf_model2 = TfidfVectorizer(stop_words=stop_words, \n",
    "                        ngram_range=(1,1))\n",
    "result1=tfidf_model1.fit_transform(lemmatized_words1)\n",
    "result2=tfidf_model2.fit_transform(lemmatized_words2)"
   ]
  },
  {
   "cell_type": "code",
   "execution_count": 131,
   "metadata": {},
   "outputs": [
    {
     "name": "stdout",
     "output_type": "stream",
     "text": [
      "Top words in good reviews:\n",
      "[('food',), ('service',), ('place',), ('steak',), ('time',), ('restaurant',), ('delicious',), ('bar',)]\n",
      "Top words in bad reviews:\n",
      "[('food',), ('steak',), ('service',), ('place',), ('time',), ('table',), ('restaurant',), ('ordered',)]\n"
     ]
    }
   ],
   "source": [
    "bad_df = pd.DataFrame(result1.todense(), columns=[tfidf_model1.get_feature_names()])\n",
    "good_df = pd.DataFrame(result2.todense(), columns=[tfidf_model2.get_feature_names()])\n",
    "col_means_bad = {}\n",
    "for col in bad_df:\n",
    "    col_means_bad[col] = bad_df[col].mean()\n",
    "\n",
    "col_means_good = {}\n",
    "for col in good_df:\n",
    "    col_means_good[col] = good_df[col].mean()\n",
    "    \n",
    "top_words = 8\n",
    "\n",
    "print('Top words in good reviews:')\n",
    "print(sorted(col_means_good, key=col_means_good.get, reverse=True)[:top_words])\n",
    "\n",
    "print('Top words in bad reviews:')\n",
    "print(sorted(col_means_bad, key=col_means_bad.get, reverse=True)[:top_words])"
   ]
  },
  {
   "cell_type": "code",
   "execution_count": 132,
   "metadata": {
    "scrolled": true
   },
   "outputs": [
    {
     "data": {
      "image/png": "[encoded data removed]",
      "text/plain": [
       "<Figure size 864x360 with 1 Axes>"
      ]
     },
     "metadata": {},
     "output_type": "display_data"
    }
   ],
   "source": [
    "'This part credited to Ankur Vishwakarma, Oakland, CA. https://github.com/Vishwacorp/'\n",
    "from gensim import corpora, models, similarities, matutils\n",
    "corpus1 = matutils.Sparse2Corpus(result1.transpose())\n",
    "corpus2 = matutils.Sparse2Corpus(result2.transpose())\n",
    "word_bad = dict((v,k) for k,v in tfidf_model1.vocabulary_.items())\n",
    "word_good = dict((v,k) for k,v in tfidf_model2.vocabulary_.items())\n",
    "word_bad2 = corpora.Dictionary.from_corpus(corpus1, id2word=word_bad)\n",
    "word_good2 = corpora.Dictionary.from_corpus(corpus2, id2word=word_good)\n",
    "lsi_bad = models.LsiModel(corpus1, id2word=word_bad2, num_topics=10)\n",
    "lsi_good = models.LsiModel(corpus2, id2word=word_good2, num_topics=10)\n",
    "\n",
    "singular_values_bad = lsi_bad.projection.s.tolist()\n",
    "singular_values_bad_rel = [sv/singular_values_bad[-1] for sv in singular_values_bad]\n",
    "singular_values_good = lsi_good.projection.s.tolist()\n",
    "singular_values_good_rel = [sv/singular_values_good[-1] for sv in singular_values_good]\n",
    "plt.style.use('fivethirtyeight')\n",
    "plt.figure(figsize=(12,5))\n",
    "plt.plot(range(len(singular_values_bad)), singular_values_bad_rel, label='Bad Reviews', alpha=1.0)\n",
    "plt.plot(range(len(singular_values_good)), singular_values_good_rel, label='Good Reviews', alpha=0.7)\n",
    "plt.xticks(range(len(singular_values_bad)), range(len(singular_values_bad)))\n",
    "plt.xlabel('Topic #')\n",
    "plt.ylabel('Relative Strength')\n",
    "plt.title('LSI Topic Strengths (Relative)')\n",
    "plt.legend(loc=0, fontsize='medium');"
   ]
  },
  {
   "cell_type": "code",
   "execution_count": 133,
   "metadata": {},
   "outputs": [],
   "source": [
    "import pprint\n",
    "from pprint import pprint"
   ]
  },
  {
   "cell_type": "code",
   "execution_count": 134,
   "metadata": {},
   "outputs": [
    {
     "name": "stdout",
     "output_type": "stream",
     "text": [
      "Top 8 words in POSITIVE reviews:[('food',), ('service',), ('place',), ('steak',), ('time',), ('restaurant',), ('delicious',), ('bar',)]\n",
      "Top 8 words in NEGATIVE reviews:[('food',), ('steak',), ('service',), ('place',), ('time',), ('table',), ('restaurant',), ('ordered',)]\n"
     ]
    }
   ],
   "source": [
    "no_top_words = 8\n",
    "\n",
    "print('Top %d words in POSITIVE reviews:' %no_top_words, end='')\n",
    "print(sorted(col_means_good, key=col_means_good.get, reverse=True)[:no_top_words])\n",
    "\n",
    "print('Top %d words in NEGATIVE reviews:' %no_top_words, end='')\n",
    "print(sorted(col_means_bad, key=col_means_bad.get, reverse=True)[:no_top_words])"
   ]
  },
  {
   "cell_type": "markdown",
   "metadata": {},
   "source": [
    "### Trial with NMF <a name='s4'></a>"
   ]
  },
  {
   "cell_type": "code",
   "execution_count": 135,
   "metadata": {},
   "outputs": [
    {
     "name": "stdout",
     "output_type": "stream",
     "text": [
      "Wall time: 1.61 s\n"
     ]
    }
   ],
   "source": [
    "%%time\n",
    "# negative values in LSA topics are annoying\n",
    "# let's see if we can fix that with NMF\n",
    "from sklearn.decomposition import NMF\n",
    "\n",
    "# change num_topics\n",
    "num_topics = 4\n",
    "\n",
    "nmf_pos = NMF(n_components=num_topics)\n",
    "W_pos = nmf_pos.fit_transform(result2)\n",
    "H_pos = nmf_pos.components_\n",
    "\n",
    "nmf_neg = NMF(n_components=num_topics)\n",
    "W_neg = nmf_neg.fit_transform(result1)\n",
    "H_neg = nmf_neg.components_"
   ]
  },
  {
   "cell_type": "code",
   "execution_count": 136,
   "metadata": {},
   "outputs": [
    {
     "name": "stdout",
     "output_type": "stream",
     "text": [
      "Top topics + words for POSITIVE reviews\n",
      "---------------------------------------\n",
      "Topic 0:   0.842*salad, 0.798*meat, 0.723*ordered, 0.637*bar, 0.637*delicious, 0.635*dinner\n",
      "Topic 1:   1.420*cheese, 1.272*curd, 1.161*burger, 0.991*old, 0.896*beer, 0.840*fashioned\n",
      "Topic 2:   1.705*food, 1.209*service, 0.801*place, 0.716*excellent, 0.684*atmosphere, 0.661*amazing\n",
      "Topic 3:   2.761*steak, 0.756*cooked, 0.444*perfectly, 0.386*house, 0.384*steakhouse, 0.352*service\n",
      "\n",
      "Top topics + words for NEGATIVE reviews\n",
      "---------------------------------------\n",
      "Topic 0:   0.937*salad, 0.809*cheese, 0.745*burger, 0.686*chicken, 0.615*ordered, 0.568*fry\n",
      "Topic 1:   2.193*steak, 0.774*medium, 0.582*rare, 0.480*cooked, 0.447*ordered, 0.318*filet\n",
      "Topic 2:   1.091*table, 1.078*minute, 0.688*drink, 0.673*order, 0.637*time, 0.563*server\n",
      "Topic 3:   1.460*food, 1.029*service, 0.959*place, 0.485*price, 0.471*time, 0.416*restaurant\n"
     ]
    }
   ],
   "source": [
    "def display_topics(model, feature_names, num_topics, no_top_words):\n",
    "    for topic_idx, topic in enumerate(model.components_):\n",
    "        if topic_idx < num_topics:\n",
    "            print(\"{:11}\".format(\"Topic %d:\" %(topic_idx)), end='')\n",
    "            print(\", \".join(['{:04.3f}*'.format(topic[i])+feature_names[i] \\\n",
    "                             for i in topic.argsort()[:-no_top_words-1:-1]]))\n",
    "\n",
    "no_topics = num_topics\n",
    "no_top_words = 6\n",
    "\n",
    "print('Top topics + words for POSITIVE reviews')\n",
    "print('-'*39)\n",
    "display_topics(nmf_pos, tfidf_model2.get_feature_names(), no_topics, no_top_words)\n",
    "\n",
    "print('\\nTop topics + words for NEGATIVE reviews')\n",
    "print('-'*39)\n",
    "display_topics(nmf_neg, tfidf_model1.get_feature_names(), no_topics, no_top_words)"
   ]
  },
  {
   "cell_type": "markdown",
   "metadata": {},
   "source": [
    "As expected, these topics are far more interpretable.  \n",
    "* First two topics for positive reviews seem to be (1) salad and sides and (2) drinks and meals other than steak.\n",
    "* First two topics for negative reviews seem to be (1) slow service and (2) temperature of steak (seems like thai food in this subset of data)."
   ]
  },
  {
   "cell_type": "code",
   "execution_count": 137,
   "metadata": {},
   "outputs": [],
   "source": [
    "np.random.seed(3)\n",
    "num_reviews = 18000\n",
    "random_pos = np.random.choice(goodreviews, size=num_reviews)"
   ]
  },
  {
   "cell_type": "code",
   "execution_count": 138,
   "metadata": {},
   "outputs": [],
   "source": [
    "np.random.seed(30)\n",
    "num_reviews = 5000\n",
    "random_neg = np.random.choice(badreviews, size=num_reviews)"
   ]
  },
  {
   "cell_type": "markdown",
   "metadata": {},
   "source": [
    "### Review Similarity in NMF space <a name='s5'></a>"
   ]
  },
  {
   "cell_type": "code",
   "execution_count": 139,
   "metadata": {
    "scrolled": true
   },
   "outputs": [
    {
     "name": "stdout",
     "output_type": "stream",
     "text": [
      "11657\n",
      "I like this Texas Roadhouse location Like it so much we drive past the Washington location to get here \n",
      "They dont take reservations but the call ahead seating is so nice You just call when youre on your way and they put your name down on the wait list \n",
      "For a chain restaurant their steaks are very good Actually pretty much everything on the menu is good Prices are affordable and the staff is friendly\n"
     ]
    }
   ],
   "source": [
    "# look at a random positive review\n",
    "review_num = np.random.randint(0, high=len(random_pos))\n",
    "print(review_num)\n",
    "print(random_pos[review_num])"
   ]
  },
  {
   "cell_type": "code",
   "execution_count": 140,
   "metadata": {},
   "outputs": [],
   "source": [
    "# compute cosine similarities of this review with all other reviews in the new space\n",
    "import sklearn.metrics.pairwise as smp\n",
    "\n",
    "cosines = {}\n",
    "for ind, review in enumerate(W_pos):\n",
    "    similarity = smp.cosine_similarity(W_pos[review_num].reshape(1,-1), review.reshape(1,-1))\n",
    "    cosines[ind] = similarity[0][0]"
   ]
  },
  {
   "cell_type": "code",
   "execution_count": 141,
   "metadata": {
    "scrolled": true
   },
   "outputs": [
    {
     "name": "stdout",
     "output_type": "stream",
     "text": [
      "--------------------------------------------------\n",
      ">> Similarity 1.000\n",
      "My husband and I went to The Corkscrew Saloon for Valentines Day We had reservations and were seated right away Our server Brandon was fabulous The food was phenomenal I had the salmon My husband had the flat iron steak We both had dessert Definitely a 1010 Best dinner weve had out in quite some time Thanks Ryan\n",
      "--------------------------------------------------\n",
      ">> Similarity 1.000\n",
      "I Love Cleveland Chop\n",
      "\n",
      "This place always wins for me I love the warm cornbread with a little spicy kick the house cocktails and varying Mules crispy fries and dont even get me started on the steak salad Okay so this salad Im always so full from apps cornbread and good drinks that this salad is perfect every time I get to taste the delicious savory steak and also get the fresh flavors from the salad veggies and big bites of blue cheese I get it every time I come here leaving happy and taking plenty home for lunch the next day \n",
      "\n",
      "Did you know they have a back patio here Super private and cute like youre sitting on someones family deck but in the middle of an old courtyard in Cleveland Dont look down at the abandoned office furniture and just enjoy the quiet ambiance \n",
      "\n",
      "Brunch is killer here too  free cinnamon rolls Service is always attentive kind and professional Business lunch birthday dinner date night or brunch  go heremm\n",
      "--------------------------------------------------\n",
      ">> Similarity 1.000\n",
      "Wow This little restaurant serves delicious food without question I checked this place out with my Aunt who had been there before She recommended we go with Carpaccio for the appetizer because it will melt in your mouth Well that it certainly did but I dont know if I could get a distinct taste from it I enjoyed it and made it into a mini open sandwich with the piece of bread parmesian and salad it was served with It grew on me more and more after each bite it was also quite an elegant cut very thinly sliced\n",
      "\n",
      "I also had the Loaded Wedge salad this was the most confusing dish to me It was literally a wedge of salad If you wanted an easy go at it you needed to cut it up prior to trying to eat it For the entree I went with the Filet Mignon That too melted in my mouth I have never had a piece of meat executed so well It was so easy to cut and filled with so much flavor juicy too For my side I tried the Wonder Bar Signature Hashbrowns The only thing I had to compare it with was George Webbs hashbrowns which in hindsight makes me laugh now These blew those out of the water This is a must order side for anyone\n",
      "\n",
      "Best part of the meal was that I left full My biggest worry about restaurants like this is that the portions are smaller which if they have great dessert options good But usually youre not interested in a dessert as well\n",
      "\n",
      "Dear Wonder Bar\n",
      "\n",
      "While I doubt to visit often I do know that I will have to come back again and I will tell my friends about the wonderfull time I had\n",
      "\n",
      "Sincerely\n",
      "\n",
      "Youre new fan\n",
      "\n",
      "ps I heard The Wonder Bar is haunted I will have to explore that more the next time I visit\n",
      "--------------------------------------------------\n"
     ]
    }
   ],
   "source": [
    "# get top 3 matching reviews\n",
    "for n in sorted(cosines, key=cosines.get, reverse=True)[1:4]:\n",
    "    print('-'*50)\n",
    "    print('>> Similarity {:.3f}'.format(cosines[n]))\n",
    "    print(random_pos[n])\n",
    "print('-'*50)"
   ]
  },
  {
   "cell_type": "markdown",
   "metadata": {},
   "source": [
    "NMF seems to be working well and making good topics for us. But just to give it a shot, let's use CountVectorizer (instead of TFIDF) and try topic modeling through LDA. While slower, its use of a dirichlet prior can often give good results."
   ]
  },
  {
   "cell_type": "markdown",
   "metadata": {},
   "source": [
    "### Trial with Count Vectorizer <a name='s6'></a>"
   ]
  },
  {
   "cell_type": "code",
   "execution_count": 142,
   "metadata": {},
   "outputs": [],
   "source": [
    "from sklearn.feature_extraction.text import CountVectorizer\n",
    "\n",
    "# Create a vectorizer object to generate term document counts\n",
    "cv_pos = CountVectorizer(stop_words=stop_words, min_df=10, max_df=0.5, \n",
    "                        ngram_range=(1,1), token_pattern='[a-z][a-z]+')\n",
    "\n",
    "cv_neg = CountVectorizer(stop_words=stop_words, min_df=10, max_df=0.5, \n",
    "                        ngram_range=(1,1), token_pattern='[a-z][a-z]+')\n",
    "\n",
    "# Get random subset of reviews\n",
    "np.random.seed(38)\n",
    "num_reviews = 5000\n",
    "cv_random_neg = np.random.choice(badreviews, size=num_reviews)\n",
    "cv_random_pos = np.random.choice(goodreviews, size=num_reviews)\n",
    "\n",
    "# Get the cv vectors\n",
    "cv_neg_vectors = cv_neg.fit_transform(cv_random_neg).transpose()\n",
    "cv_pos_vectors = cv_pos.fit_transform(cv_random_pos).transpose()"
   ]
  },
  {
   "cell_type": "code",
   "execution_count": 143,
   "metadata": {},
   "outputs": [],
   "source": [
    "# Convert sparse matrix of counts to a gensim corpus\n",
    "corpus_neg = matutils.Sparse2Corpus(cv_neg_vectors)\n",
    "corpus_pos = matutils.Sparse2Corpus(cv_pos_vectors)\n",
    "\n",
    "# save a mapping (dict) of row id to word (token) for later use by gensim \n",
    "id2word_cv_pos = dict((v, k) for k, v in cv_pos.vocabulary_.items())\n",
    "id2word_cv_neg = dict((v, k) for k, v in cv_neg.vocabulary_.items())"
   ]
  },
  {
   "cell_type": "markdown",
   "metadata": {},
   "source": [
    "### LDA(Count Vectorizer)<a name='s7'></a>"
   ]
  },
  {
   "cell_type": "code",
   "execution_count": 144,
   "metadata": {},
   "outputs": [
    {
     "name": "stdout",
     "output_type": "stream",
     "text": [
      "Wall time: 54.5 s\n"
     ]
    }
   ],
   "source": [
    "%%time\n",
    "# create lda multicore model\n",
    "lda_pos = models.ldamulticore.LdaMulticore(corpus=corpus_pos, num_topics=4, \n",
    "                                           id2word=id2word_cv_pos, passes=10, workers=15)\n",
    "lda_neg = models.ldamulticore.LdaMulticore(corpus=corpus_neg, num_topics=4, \n",
    "                                           id2word=id2word_cv_neg, passes=10, workers=15)"
   ]
  },
  {
   "cell_type": "code",
   "execution_count": 145,
   "metadata": {},
   "outputs": [
    {
     "name": "stdout",
     "output_type": "stream",
     "text": [
      "Top topics + words for POSITIVE reviews\n",
      "---------------------------------------\n",
      "[(0,\n",
      "  '0.014*\"steak\" + 0.013*\"cheese\" + 0.013*\"food\" + 0.012*\"time\" + '\n",
      "  '0.010*\"service\" + 0.010*\"place\" + 0.010*\"cooked\"'),\n",
      " (1,\n",
      "  '0.014*\"place\" + 0.009*\"menu\" + 0.008*\"food\" + 0.007*\"night\" + '\n",
      "  '0.007*\"dinner\" + 0.006*\"ordered\" + 0.006*\"bar\"'),\n",
      " (2,\n",
      "  '0.011*\"steak\" + 0.010*\"restaurant\" + 0.009*\"time\" + 0.009*\"food\" + '\n",
      "  '0.008*\"potatoes\" + 0.008*\"meal\" + 0.008*\"chicken\"'),\n",
      " (3,\n",
      "  '0.029*\"food\" + 0.021*\"service\" + 0.016*\"place\" + 0.011*\"bar\" + '\n",
      "  '0.009*\"restaurant\" + 0.008*\"excellent\" + 0.008*\"delicious\"')]\n",
      "\n",
      "Top topics + words for NEGATIVE reviews\n",
      "---------------------------------------\n",
      "[(0,\n",
      "  '0.017*\"place\" + 0.010*\"service\" + 0.007*\"bar\" + 0.007*\"menu\" + '\n",
      "  '0.007*\"cheese\" + 0.007*\"ordered\" + 0.007*\"restaurant\"'),\n",
      " (1,\n",
      "  '0.022*\"steak\" + 0.013*\"ordered\" + 0.011*\"service\" + 0.011*\"salad\" + '\n",
      "  '0.008*\"cooked\" + 0.007*\"time\" + 0.007*\"medium\"'),\n",
      " (2,\n",
      "  '0.012*\"steak\" + 0.009*\"restaurant\" + 0.007*\"time\" + 0.006*\"meal\" + '\n",
      "  '0.006*\"manager\" + 0.006*\"going\" + 0.006*\"didnt\"'),\n",
      " (3,\n",
      "  '0.014*\"service\" + 0.014*\"minutes\" + 0.013*\"table\" + 0.012*\"time\" + '\n",
      "  '0.010*\"server\" + 0.009*\"ordered\" + 0.009*\"asked\"')]\n"
     ]
    }
   ],
   "source": [
    "print('Top topics + words for POSITIVE reviews')\n",
    "print('-'*39)\n",
    "pprint(lda_pos.print_topics(num_words=7))\n",
    "\n",
    "print('\\nTop topics + words for NEGATIVE reviews')\n",
    "print('-'*39)\n",
    "pprint(lda_neg.print_topics(num_words=7))"
   ]
  },
  {
   "cell_type": "markdown",
   "metadata": {},
   "source": [
    "It can be seen that, topics are mixed up for the positive reviews.So we would still use TFIDF to do the modeling."
   ]
  },
  {
   "cell_type": "markdown",
   "metadata": {},
   "source": [
    "### Continuing with NMF Topics <a name='s8'></a>"
   ]
  },
  {
   "cell_type": "code",
   "execution_count": 146,
   "metadata": {},
   "outputs": [
    {
     "name": "stdout",
     "output_type": "stream",
     "text": [
      "Top topics + words for POSITIVE reviews\n",
      "---------------------------------------\n",
      "Topic 0:   0.842*salad, 0.798*meat, 0.723*ordered, 0.637*bar, 0.637*delicious, 0.635*dinner\n",
      "Topic 1:   1.420*cheese, 1.272*curd, 1.161*burger, 0.991*old, 0.896*beer, 0.840*fashioned\n",
      "Topic 2:   1.705*food, 1.209*service, 0.801*place, 0.716*excellent, 0.684*atmosphere, 0.661*amazing\n",
      "Topic 3:   2.761*steak, 0.756*cooked, 0.444*perfectly, 0.386*house, 0.384*steakhouse, 0.352*service\n",
      "Wall time: 21.5 ms\n"
     ]
    }
   ],
   "source": [
    "%%time\n",
    "# let's remind ourselves of the POSITIVE topics\n",
    "print('Top topics + words for POSITIVE reviews')\n",
    "print('-'*39)\n",
    "display_topics(nmf_pos,tfidf_model2.get_feature_names(), no_topics, no_top_words)"
   ]
  },
  {
   "cell_type": "code",
   "execution_count": 147,
   "metadata": {
    "scrolled": false
   },
   "outputs": [
    {
     "name": "stdout",
     "output_type": "stream",
     "text": [
      "Positive Review #16061\n",
      "-------------------------\n",
      "Small scheduling snafu but they made it right Great service here and theyre  really concerned with your happiness\n",
      "-------------------------\n",
      "Topic 0: 0.0296\n",
      "Topic 2: 0.0241\n",
      "Topic 3: 0.0033\n",
      "Topic 1: 0.0000\n"
     ]
    }
   ],
   "source": [
    "# we can investigate a random positive review and see how it's distributed across those topics\n",
    "review_num = np.random.randint(0, high=len(random_pos))\n",
    "print('Positive Review #%d' %review_num)\n",
    "print('-'*25)\n",
    "print(random_pos[review_num])\n",
    "print('-'*25)\n",
    "topic_dict = {}\n",
    "for ind, w in enumerate(W_pos[review_num]):\n",
    "    topic_dict[ind] = w\n",
    "for k in sorted(topic_dict, key=topic_dict.get, reverse=True):\n",
    "     print('Topic {}: {:.4f}'.format(k, topic_dict[k]))"
   ]
  },
  {
   "cell_type": "code",
   "execution_count": 148,
   "metadata": {},
   "outputs": [
    {
     "name": "stdout",
     "output_type": "stream",
     "text": [
      "Top topics + words for NEGATIVE reviews\n",
      "---------------------------------------\n",
      "Topic 0:   0.937*salad, 0.809*cheese, 0.745*burger, 0.686*chicken, 0.615*ordered, 0.568*fry\n",
      "Topic 1:   2.193*steak, 0.774*medium, 0.582*rare, 0.480*cooked, 0.447*ordered, 0.318*filet\n",
      "Topic 2:   1.091*table, 1.078*minute, 0.688*drink, 0.673*order, 0.637*time, 0.563*server\n",
      "Topic 3:   1.460*food, 1.029*service, 0.959*place, 0.485*price, 0.471*time, 0.416*restaurant\n"
     ]
    }
   ],
   "source": [
    "print('Top topics + words for NEGATIVE reviews')\n",
    "print('-'*39)\n",
    "display_topics(nmf_neg, tfidf_model1.get_feature_names(), no_topics, no_top_words)"
   ]
  },
  {
   "cell_type": "code",
   "execution_count": 149,
   "metadata": {},
   "outputs": [
    {
     "data": {
      "text/plain": [
       "5000"
      ]
     },
     "execution_count": 149,
     "metadata": {},
     "output_type": "execute_result"
    }
   ],
   "source": [
    "len(random_neg)"
   ]
  },
  {
   "cell_type": "code",
   "execution_count": 150,
   "metadata": {},
   "outputs": [
    {
     "name": "stdout",
     "output_type": "stream",
     "text": [
      "Negative Review #1803\n",
      "-------------------------\n",
      "If you are looking for a sports bar with OK food this place is fine  Nothing special but it was OK  I had the ribs my wife had the shrimp tacos and both were good  The cole slaw with the ribs was actually pretty good but the baked potato was just OK  My wife liked her tacos though there wasnt a lot of shrimp on them\n",
      "\n",
      "I will warn you that the ribs are either available with a sweet or spicy sauce and the spicy is very spicy\n",
      "\n",
      "The waitstaff was also OK pleasant but a little on the inattentive side\n",
      "\n",
      "As I said I wouldnt rush back but not terrible  Just not special\n",
      "-------------------------\n",
      "Topic 0: 0.0758\n",
      "Topic 1: 0.0193\n",
      "Topic 2: 0.0095\n",
      "Topic 3: 0.0000\n"
     ]
    }
   ],
   "source": [
    "# now investigate a random negative review and see how it's distributed across those topics\n",
    "review_num = np.random.randint(0, high=len(random_neg))\n",
    "print('Negative Review #%d' %review_num)\n",
    "print('-'*25)\n",
    "print(random_neg[review_num])\n",
    "print('-'*25)\n",
    "topic_dict = {}\n",
    "for ind, w in enumerate(W_neg[review_num]):\n",
    "    topic_dict[ind] = w\n",
    "for k in sorted(topic_dict, key=topic_dict.get, reverse=True):\n",
    "     print('Topic {}: {:.4f}'.format(k, topic_dict[k]))"
   ]
  },
  {
   "cell_type": "markdown",
   "metadata": {},
   "source": [
    "# Topic Modeling All Reviews <a name='s9'></a>  "
   ]
  },
  {
   "cell_type": "code",
   "execution_count": 213,
   "metadata": {},
   "outputs": [
    {
     "name": "stdout",
     "output_type": "stream",
     "text": [
      "Postive Reviews:  17,270\n",
      "Negative Reviews:  11,139\n"
     ]
    }
   ],
   "source": [
    "print('Postive Reviews:  {:,}'.format(len(goodreviews)))\n",
    "print('Negative Reviews:  {:,}'.format(len(badreviews)))"
   ]
  },
  {
   "cell_type": "code",
   "execution_count": 214,
   "metadata": {},
   "outputs": [
    {
     "name": "stdout",
     "output_type": "stream",
     "text": [
      "Wall time: 1.53 s\n"
     ]
    }
   ],
   "source": [
    "%%time\n",
    "# Create a vectorizer object to generate term document counts\n",
    "tfidf_model1 = TfidfVectorizer(stop_words=stop_words, min_df=10, max_df=0.5, \n",
    "                        ngram_range=(1,1), token_pattern='[a-z][a-z]+')\n",
    "\n",
    "tfidf_model2 = TfidfVectorizer(stop_words=stop_words, min_df=10, max_df=0.5, \n",
    "                        ngram_range=(1,1), token_pattern='[a-z][a-z]+')\n",
    "\n",
    "# Get the vectors\n",
    "neg_vectors = tfidf_model1.fit_transform(badreviews)\n",
    "pos_vectors = tfidf_model2.fit_transform(goodreviews)"
   ]
  },
  {
   "cell_type": "code",
   "execution_count": 215,
   "metadata": {},
   "outputs": [
    {
     "name": "stdout",
     "output_type": "stream",
     "text": [
      "Wall time: 3.65 s\n"
     ]
    }
   ],
   "source": [
    "%%time\n",
    "# NMF for all reviews\n",
    "from sklearn.decomposition import NMF\n",
    "\n",
    "# change num_topics\n",
    "num_topics = 4\n",
    "\n",
    "nmf_pos = NMF(n_components=num_topics,max_iter=1000)\n",
    "W_pos = nmf_pos.fit_transform(pos_vectors)\n",
    "H_pos = nmf_pos.components_\n",
    "\n",
    "nmf_neg = NMF(n_components=num_topics,max_iter=1000)\n",
    "W_neg = nmf_neg.fit_transform(neg_vectors)\n",
    "H_neg = nmf_neg.components_"
   ]
  },
  {
   "cell_type": "code",
   "execution_count": 216,
   "metadata": {},
   "outputs": [
    {
     "name": "stdout",
     "output_type": "stream",
     "text": [
      "Topics for POSITIVE reviews\n",
      "---------------------------------------\n",
      "Topic 0:   1.464*place, 1.256*bar, 0.765*love, 0.741*menu, 0.655*happy, 0.595*hour\n",
      "Topic 1:   1.649*cheese, 1.417*curds, 1.091*old, 0.945*fashioned, 0.699*madison, 0.694*burger\n",
      "Topic 2:   1.757*food, 1.457*service, 0.890*excellent, 0.755*amazing, 0.720*atmosphere, 0.586*recommend\n",
      "Topic 3:   1.576*steak, 0.881*ordered, 0.828*cooked, 0.723*salad, 0.621*delicious, 0.593*meal\n",
      "\n",
      "Topics for NEGATIVE reviews\n",
      "---------------------------------------\n",
      "Topic 0:   1.398*place, 1.046*service, 0.737*bar, 0.598*better, 0.587*restaurant, 0.449*menu\n",
      "Topic 1:   2.077*steak, 0.876*medium, 0.649*rare, 0.528*cooked, 0.507*steaks, 0.504*ordered\n",
      "Topic 2:   1.088*minutes, 0.928*table, 0.661*time, 0.612*order, 0.606*took, 0.589*asked\n",
      "Topic 3:   0.837*cheese, 0.810*salad, 0.730*chicken, 0.600*ordered, 0.569*burger, 0.496*fries\n"
     ]
    }
   ],
   "source": [
    "no_topics = num_topics\n",
    "no_top_words = 6\n",
    "\n",
    "print('Topics for POSITIVE reviews')\n",
    "print('-'*39)\n",
    "display_topics(nmf_pos, tfidf_model2.get_feature_names(), no_topics, no_top_words)\n",
    "\n",
    "print('\\nTopics for NEGATIVE reviews')\n",
    "print('-'*39)\n",
    "display_topics(nmf_neg, tfidf_model1.get_feature_names(), no_topics, no_top_words)"
   ]
  },
  {
   "cell_type": "code",
   "execution_count": 217,
   "metadata": {},
   "outputs": [],
   "source": [
    "# create topic dictionaries to summarize the topic meanings\n",
    "pos_topics = {0:'Menu/Bar/Happy hour', 1:'Other main dishes and stype', \n",
    "              2:'Service and atmosphere', 3:'Quality of steaks'}\n",
    "\n",
    "neg_topics = {0:'Service/Bar/Menu', 1:\"Temperature of Steaks\" , 2:'Service time', \n",
    "              3:'Quality of other sides and snacks'}"
   ]
  },
  {
   "cell_type": "markdown",
   "metadata": {},
   "source": [
    "### Adding Topic Weights to Pandas DataFrame <a name='s10'></a>"
   ]
  },
  {
   "cell_type": "code",
   "execution_count": 218,
   "metadata": {},
   "outputs": [],
   "source": [
    "# we create dataframes for positive & negative reviews that we can\n",
    "# later add topic information to\n",
    "df_pos = data[['business_id', 'stars_y', 'text', 'review_length']][data.stars_x>3].reset_index()\n",
    "df_neg = data[['business_id', 'stars_y', 'text', 'review_length']][data.stars_x<=3].reset_index()\n",
    "df_pos.drop(labels='index', axis=1, inplace=True)\n",
    "df_neg.drop(labels='index', axis=1, inplace=True)"
   ]
  },
  {
   "cell_type": "code",
   "execution_count": 219,
   "metadata": {},
   "outputs": [
    {
     "name": "stdout",
     "output_type": "stream",
     "text": [
      "Topic weights :  [0.01619659 0.01357375 0.01742102 0.00372958]\n",
      "Sum of weights:  0.05092094509298746\n"
     ]
    }
   ],
   "source": [
    "print('Topic weights : ', W_pos[0])\n",
    "print('Sum of weights: ', W_pos[0].sum())"
   ]
  },
  {
   "cell_type": "markdown",
   "metadata": {},
   "source": [
    "Results like these are not easy to interpretate, Therefore, we can normalize the weights so they all add up to 1. Such scale is much more straightforward."
   ]
  },
  {
   "cell_type": "code",
   "execution_count": 220,
   "metadata": {},
   "outputs": [
    {
     "name": "stdout",
     "output_type": "stream",
     "text": [
      "Normalized Topic weights :  [[0.3180733  0.2665652  0.34211894 0.07324256]]\n",
      "Sum of normalized weights:  1.0\n"
     ]
    }
   ],
   "source": [
    "from sklearn.preprocessing import normalize\n",
    "print('Normalized Topic weights : ', normalize(W_pos[0].reshape(1,-1), norm='l1'))\n",
    "print('Sum of normalized weights: ', normalize(W_pos[0].reshape(1,-1), norm='l1').sum())"
   ]
  },
  {
   "cell_type": "code",
   "execution_count": 221,
   "metadata": {},
   "outputs": [],
   "source": [
    "# add normalized topic weights to each review\n",
    "df_pos = pd.concat([df_pos, pd.DataFrame(normalize(W_pos, norm='l1'))], axis=1)\n",
    "df_neg = pd.concat([df_neg, pd.DataFrame(normalize(W_neg, norm='l1'))], axis=1)"
   ]
  },
  {
   "cell_type": "code",
   "execution_count": 222,
   "metadata": {},
   "outputs": [
    {
     "data": {
      "text/html": [
       "<div>\n",
       "<style scoped>\n",
       "    .dataframe tbody tr th:only-of-type {\n",
       "        vertical-align: middle;\n",
       "    }\n",
       "\n",
       "    .dataframe tbody tr th {\n",
       "        vertical-align: top;\n",
       "    }\n",
       "\n",
       "    .dataframe thead th {\n",
       "        text-align: right;\n",
       "    }\n",
       "</style>\n",
       "<table border=\"1\" class=\"dataframe\">\n",
       "  <thead>\n",
       "    <tr style=\"text-align: right;\">\n",
       "      <th></th>\n",
       "      <th>business_id</th>\n",
       "      <th>stars_y</th>\n",
       "      <th>text</th>\n",
       "      <th>review_length</th>\n",
       "      <th>0</th>\n",
       "      <th>1</th>\n",
       "      <th>2</th>\n",
       "      <th>3</th>\n",
       "    </tr>\n",
       "  </thead>\n",
       "  <tbody>\n",
       "    <tr>\n",
       "      <th>0</th>\n",
       "      <td>JhxI7oS_jsFnq34dDubugQ</td>\n",
       "      <td>3.5</td>\n",
       "      <td>Rocky River location. Out of four different en...</td>\n",
       "      <td>425</td>\n",
       "      <td>0.383279</td>\n",
       "      <td>0.315974</td>\n",
       "      <td>0.029941</td>\n",
       "      <td>0.270806</td>\n",
       "    </tr>\n",
       "    <tr>\n",
       "      <th>1</th>\n",
       "      <td>zLnmmB9jiKg-A2Lggs64-A</td>\n",
       "      <td>3.0</td>\n",
       "      <td>Not worth the price. Service was OK... \"Poop e...</td>\n",
       "      <td>64</td>\n",
       "      <td>1.000000</td>\n",
       "      <td>0.000000</td>\n",
       "      <td>0.000000</td>\n",
       "      <td>0.000000</td>\n",
       "    </tr>\n",
       "    <tr>\n",
       "      <th>2</th>\n",
       "      <td>7ddnq3YQSKguGK15etqGLQ</td>\n",
       "      <td>3.0</td>\n",
       "      <td>We decided on short notice to try the new Ditk...</td>\n",
       "      <td>942</td>\n",
       "      <td>0.359941</td>\n",
       "      <td>0.511129</td>\n",
       "      <td>0.000000</td>\n",
       "      <td>0.128930</td>\n",
       "    </tr>\n",
       "    <tr>\n",
       "      <th>3</th>\n",
       "      <td>lpxj6LFir23Ds6swW8a6fg</td>\n",
       "      <td>3.0</td>\n",
       "      <td>The outdoor views from the deck are unparallel...</td>\n",
       "      <td>347</td>\n",
       "      <td>0.758990</td>\n",
       "      <td>0.000000</td>\n",
       "      <td>0.241010</td>\n",
       "      <td>0.000000</td>\n",
       "    </tr>\n",
       "    <tr>\n",
       "      <th>4</th>\n",
       "      <td>lpxj6LFir23Ds6swW8a6fg</td>\n",
       "      <td>3.0</td>\n",
       "      <td>I really enjoy going to Grandview Saloon, but ...</td>\n",
       "      <td>876</td>\n",
       "      <td>0.907441</td>\n",
       "      <td>0.000000</td>\n",
       "      <td>0.073815</td>\n",
       "      <td>0.018743</td>\n",
       "    </tr>\n",
       "  </tbody>\n",
       "</table>\n",
       "</div>"
      ],
      "text/plain": [
       "              business_id  stars_y  \\\n",
       "0  JhxI7oS_jsFnq34dDubugQ      3.5   \n",
       "1  zLnmmB9jiKg-A2Lggs64-A      3.0   \n",
       "2  7ddnq3YQSKguGK15etqGLQ      3.0   \n",
       "3  lpxj6LFir23Ds6swW8a6fg      3.0   \n",
       "4  lpxj6LFir23Ds6swW8a6fg      3.0   \n",
       "\n",
       "                                                text  review_length         0  \\\n",
       "0  Rocky River location. Out of four different en...            425  0.383279   \n",
       "1  Not worth the price. Service was OK... \"Poop e...             64  1.000000   \n",
       "2  We decided on short notice to try the new Ditk...            942  0.359941   \n",
       "3  The outdoor views from the deck are unparallel...            347  0.758990   \n",
       "4  I really enjoy going to Grandview Saloon, but ...            876  0.907441   \n",
       "\n",
       "          1         2         3  \n",
       "0  0.315974  0.029941  0.270806  \n",
       "1  0.000000  0.000000  0.000000  \n",
       "2  0.511129  0.000000  0.128930  \n",
       "3  0.000000  0.241010  0.000000  \n",
       "4  0.000000  0.073815  0.018743  "
      ]
     },
     "execution_count": 222,
     "metadata": {},
     "output_type": "execute_result"
    }
   ],
   "source": [
    "# peek into a dataframe to ensure it worked right\n",
    "df_neg.head()"
   ]
  },
  {
   "cell_type": "code",
   "execution_count": 223,
   "metadata": {},
   "outputs": [
    {
     "data": {
      "text/html": [
       "<div>\n",
       "<style scoped>\n",
       "    .dataframe tbody tr th:only-of-type {\n",
       "        vertical-align: middle;\n",
       "    }\n",
       "\n",
       "    .dataframe tbody tr th {\n",
       "        vertical-align: top;\n",
       "    }\n",
       "\n",
       "    .dataframe thead th {\n",
       "        text-align: right;\n",
       "    }\n",
       "</style>\n",
       "<table border=\"1\" class=\"dataframe\">\n",
       "  <thead>\n",
       "    <tr style=\"text-align: right;\">\n",
       "      <th></th>\n",
       "      <th>business_id</th>\n",
       "      <th>stars_y</th>\n",
       "      <th>text</th>\n",
       "      <th>review_length</th>\n",
       "      <th>0</th>\n",
       "      <th>1</th>\n",
       "      <th>2</th>\n",
       "      <th>3</th>\n",
       "    </tr>\n",
       "  </thead>\n",
       "  <tbody>\n",
       "    <tr>\n",
       "      <th>0</th>\n",
       "      <td>lpxj6LFir23Ds6swW8a6fg</td>\n",
       "      <td>3.0</td>\n",
       "      <td>Very fresh food and authentic Italian taste. T...</td>\n",
       "      <td>259</td>\n",
       "      <td>0.318073</td>\n",
       "      <td>0.266565</td>\n",
       "      <td>0.342119</td>\n",
       "      <td>0.073243</td>\n",
       "    </tr>\n",
       "    <tr>\n",
       "      <th>1</th>\n",
       "      <td>d6VYQbeTZ_WdD8Uuhh35dg</td>\n",
       "      <td>4.0</td>\n",
       "      <td>This is my favorite happy hour place in all of...</td>\n",
       "      <td>589</td>\n",
       "      <td>0.512464</td>\n",
       "      <td>0.173743</td>\n",
       "      <td>0.313794</td>\n",
       "      <td>0.000000</td>\n",
       "    </tr>\n",
       "    <tr>\n",
       "      <th>2</th>\n",
       "      <td>szGbmw_vq3kVU4SfK1x6Sw</td>\n",
       "      <td>4.0</td>\n",
       "      <td>Ruth Chris Steakhouse is by far one of the bes...</td>\n",
       "      <td>1080</td>\n",
       "      <td>0.000000</td>\n",
       "      <td>0.117080</td>\n",
       "      <td>0.000000</td>\n",
       "      <td>0.882920</td>\n",
       "    </tr>\n",
       "    <tr>\n",
       "      <th>3</th>\n",
       "      <td>eF2jf-E5ktRQIh_4_-Jxsg</td>\n",
       "      <td>3.5</td>\n",
       "      <td>My rating is purely on the food and not on the...</td>\n",
       "      <td>504</td>\n",
       "      <td>0.292333</td>\n",
       "      <td>0.000000</td>\n",
       "      <td>0.707667</td>\n",
       "      <td>0.000000</td>\n",
       "    </tr>\n",
       "    <tr>\n",
       "      <th>4</th>\n",
       "      <td>d6VYQbeTZ_WdD8Uuhh35dg</td>\n",
       "      <td>4.0</td>\n",
       "      <td>I've only experienced the Tempest bar. With li...</td>\n",
       "      <td>752</td>\n",
       "      <td>0.653569</td>\n",
       "      <td>0.063595</td>\n",
       "      <td>0.178056</td>\n",
       "      <td>0.104780</td>\n",
       "    </tr>\n",
       "  </tbody>\n",
       "</table>\n",
       "</div>"
      ],
      "text/plain": [
       "              business_id  stars_y  \\\n",
       "0  lpxj6LFir23Ds6swW8a6fg      3.0   \n",
       "1  d6VYQbeTZ_WdD8Uuhh35dg      4.0   \n",
       "2  szGbmw_vq3kVU4SfK1x6Sw      4.0   \n",
       "3  eF2jf-E5ktRQIh_4_-Jxsg      3.5   \n",
       "4  d6VYQbeTZ_WdD8Uuhh35dg      4.0   \n",
       "\n",
       "                                                text  review_length         0  \\\n",
       "0  Very fresh food and authentic Italian taste. T...            259  0.318073   \n",
       "1  This is my favorite happy hour place in all of...            589  0.512464   \n",
       "2  Ruth Chris Steakhouse is by far one of the bes...           1080  0.000000   \n",
       "3  My rating is purely on the food and not on the...            504  0.292333   \n",
       "4  I've only experienced the Tempest bar. With li...            752  0.653569   \n",
       "\n",
       "          1         2         3  \n",
       "0  0.266565  0.342119  0.073243  \n",
       "1  0.173743  0.313794  0.000000  \n",
       "2  0.117080  0.000000  0.882920  \n",
       "3  0.000000  0.707667  0.000000  \n",
       "4  0.063595  0.178056  0.104780  "
      ]
     },
     "execution_count": 223,
     "metadata": {},
     "output_type": "execute_result"
    }
   ],
   "source": [
    "df_pos.head()"
   ]
  },
  {
   "cell_type": "markdown",
   "metadata": {},
   "source": [
    "Here are the topic weights for each review in this dataframe. Next, we can group by the business_id and get mean topic weights per restaurant."
   ]
  },
  {
   "cell_type": "code",
   "execution_count": 224,
   "metadata": {},
   "outputs": [],
   "source": [
    "# group by business_id and apply mean/count functions to columns\n",
    "df_pos_bsns = df_pos.groupby('business_id').agg({'stars_y':'mean', 'text':'count',\n",
    "                                                 'review_length':'mean',0:'mean', \n",
    "                                                 1:'mean', 2:'mean', 3:'mean'}).reset_index()\n",
    "df_neg_bsns = df_neg.groupby('business_id').agg({'stars_y':'mean', 'text':'count',\n",
    "                                                 'review_length':'mean',0:'mean', \n",
    "                                                 1:'mean', 2:'mean', 3:'mean'}).reset_index()"
   ]
  },
  {
   "cell_type": "code",
   "execution_count": 225,
   "metadata": {
    "scrolled": true
   },
   "outputs": [
    {
     "data": {
      "text/plain": [
       "312"
      ]
     },
     "execution_count": 225,
     "metadata": {},
     "output_type": "execute_result"
    }
   ],
   "source": [
    "df_pos_bsns.head(5)\n",
    "df_pos_bsns.shape[0]"
   ]
  },
  {
   "cell_type": "code",
   "execution_count": 226,
   "metadata": {},
   "outputs": [
    {
     "data": {
      "text/plain": [
       "313"
      ]
     },
     "execution_count": 226,
     "metadata": {},
     "output_type": "execute_result"
    }
   ],
   "source": [
    "df_neg_bsns.head()\n",
    "df_neg_bsns.shape[0]"
   ]
  },
  {
   "cell_type": "markdown",
   "metadata": {},
   "source": [
    "### Adding in Business Information <a name='s11'></a>"
   ]
  },
  {
   "cell_type": "code",
   "execution_count": 227,
   "metadata": {},
   "outputs": [],
   "source": [
    "# we can read in business info from a saved CSV file\n",
    "# and add that to our last dataframe\n",
    "steak_df = pd.read_csv('review_steakhouse.csv')\n",
    "steak_df.drop(labels='Unnamed: 0', axis=1, inplace=True)\n",
    "steak_df=steak_df.drop(columns=['useful','text','address',\"postal_code\",\"attributes\",\"categories\"])"
   ]
  },
  {
   "cell_type": "code",
   "execution_count": 228,
   "metadata": {},
   "outputs": [
    {
     "data": {
      "text/html": [
       "<div>\n",
       "<style scoped>\n",
       "    .dataframe tbody tr th:only-of-type {\n",
       "        vertical-align: middle;\n",
       "    }\n",
       "\n",
       "    .dataframe tbody tr th {\n",
       "        vertical-align: top;\n",
       "    }\n",
       "\n",
       "    .dataframe thead th {\n",
       "        text-align: right;\n",
       "    }\n",
       "</style>\n",
       "<table border=\"1\" class=\"dataframe\">\n",
       "  <thead>\n",
       "    <tr style=\"text-align: right;\">\n",
       "      <th></th>\n",
       "      <th>business_id</th>\n",
       "      <th>stars_x</th>\n",
       "      <th>name</th>\n",
       "      <th>city</th>\n",
       "      <th>state</th>\n",
       "      <th>stars_y</th>\n",
       "    </tr>\n",
       "  </thead>\n",
       "  <tbody>\n",
       "    <tr>\n",
       "      <th>0</th>\n",
       "      <td>lpxj6LFir23Ds6swW8a6fg</td>\n",
       "      <td>4</td>\n",
       "      <td>Grandview Saloon</td>\n",
       "      <td>Pittsburgh</td>\n",
       "      <td>PA</td>\n",
       "      <td>3.0</td>\n",
       "    </tr>\n",
       "    <tr>\n",
       "      <th>1</th>\n",
       "      <td>d6VYQbeTZ_WdD8Uuhh35dg</td>\n",
       "      <td>5</td>\n",
       "      <td>Tempest Oyster Bar</td>\n",
       "      <td>Madison</td>\n",
       "      <td>WI</td>\n",
       "      <td>4.0</td>\n",
       "    </tr>\n",
       "    <tr>\n",
       "      <th>2</th>\n",
       "      <td>szGbmw_vq3kVU4SfK1x6Sw</td>\n",
       "      <td>4</td>\n",
       "      <td>Ruths Chris Steak House</td>\n",
       "      <td>Pittsburgh</td>\n",
       "      <td>PA</td>\n",
       "      <td>4.0</td>\n",
       "    </tr>\n",
       "    <tr>\n",
       "      <th>3</th>\n",
       "      <td>eF2jf-E5ktRQIh_4_-Jxsg</td>\n",
       "      <td>4</td>\n",
       "      <td>Cannon's Chop House</td>\n",
       "      <td>Canonsburg</td>\n",
       "      <td>PA</td>\n",
       "      <td>3.5</td>\n",
       "    </tr>\n",
       "    <tr>\n",
       "      <th>4</th>\n",
       "      <td>JhxI7oS_jsFnq34dDubugQ</td>\n",
       "      <td>2</td>\n",
       "      <td>Ferris Steak House</td>\n",
       "      <td>Cleveland</td>\n",
       "      <td>OH</td>\n",
       "      <td>3.5</td>\n",
       "    </tr>\n",
       "  </tbody>\n",
       "</table>\n",
       "</div>"
      ],
      "text/plain": [
       "              business_id  stars_x                     name        city state  \\\n",
       "0  lpxj6LFir23Ds6swW8a6fg        4         Grandview Saloon  Pittsburgh    PA   \n",
       "1  d6VYQbeTZ_WdD8Uuhh35dg        5       Tempest Oyster Bar     Madison    WI   \n",
       "2  szGbmw_vq3kVU4SfK1x6Sw        4  Ruths Chris Steak House  Pittsburgh    PA   \n",
       "3  eF2jf-E5ktRQIh_4_-Jxsg        4      Cannon's Chop House  Canonsburg    PA   \n",
       "4  JhxI7oS_jsFnq34dDubugQ        2       Ferris Steak House   Cleveland    OH   \n",
       "\n",
       "   stars_y  \n",
       "0      3.0  \n",
       "1      4.0  \n",
       "2      4.0  \n",
       "3      3.5  \n",
       "4      3.5  "
      ]
     },
     "execution_count": 228,
     "metadata": {},
     "output_type": "execute_result"
    }
   ],
   "source": [
    "steak_df.head()"
   ]
  },
  {
   "cell_type": "code",
   "execution_count": 229,
   "metadata": {},
   "outputs": [
    {
     "data": {
      "text/plain": [
       "1496"
      ]
     },
     "execution_count": 229,
     "metadata": {},
     "output_type": "execute_result"
    }
   ],
   "source": [
    "steakid=steak_df.groupby('business_id').apply(lambda x: x)\n",
    "steakid=steakid.drop_duplicates()\n",
    "steakid.head()\n",
    "steakid.shape[0]"
   ]
  },
  {
   "cell_type": "code",
   "execution_count": 234,
   "metadata": {},
   "outputs": [],
   "source": [
    "df_pos_tot = df_pos_bsns.merge(steakid[['business_id','name','city','state']], left_on='business_id', \n",
    "                               right_on='business_id')[['business_id', 'name', 'city','state','stars_y', 0, 1, 2, 3]]\n",
    "\n",
    "df_neg_tot = df_neg_bsns.merge(steakid[['business_id','name','city','state']], left_on='business_id', \n",
    "                               right_on='business_id')[['business_id', 'name', 'city','state','stars_y',0, 1, 2, 3]]"
   ]
  },
  {
   "cell_type": "code",
   "execution_count": 241,
   "metadata": {},
   "outputs": [],
   "source": [
    "# peek into business/topic distributions\n",
    "#df_pos_tot.head()\n",
    "df_pos_tot=df_pos_tot.drop_duplicates()"
   ]
  },
  {
   "cell_type": "code",
   "execution_count": 242,
   "metadata": {},
   "outputs": [],
   "source": [
    "df_neg_tot=df_neg_tot.drop_duplicates()"
   ]
  },
  {
   "cell_type": "markdown",
   "metadata": {},
   "source": [
    "We can check topic distributions for a business and see how they make sense after all the reviews have been normalized and then averaged up to the business-level. Let's check `business_id '-bHpvkmiFzm_swHLYsGiqw'`, a famous grille resturant."
   ]
  },
  {
   "cell_type": "code",
   "execution_count": 243,
   "metadata": {},
   "outputs": [
    {
     "name": "stdout",
     "output_type": "stream",
     "text": [
      "Ken Stewart's Grille - Positive Reviews\n",
      "------------------------------------\n",
      "Topic 0: Menu/Bar/Happy hour > 0.3075\n",
      "Topic 1: Other main dishes and stype > 0.0552\n",
      "Topic 2: Service and atmosphere > 0.3522\n",
      "Topic 3: Quality of steaks  > 0.2850\n"
     ]
    }
   ],
   "source": [
    "scores = df_pos_bsns[df_pos_bsns.business_id == '-bHpvkmiFzm_swHLYsGiqw'].iloc[:,-4:].values\n",
    "print(steakid[steakid.business_id == '-bHpvkmiFzm_swHLYsGiqw']['name'].values[0] + ' - Positive Reviews')\n",
    "print('-'*36)\n",
    "for n in pos_topics:\n",
    "    print('Topic {}: {:18} > {:.4f}'.format(n, pos_topics[n], scores[0][n]))"
   ]
  },
  {
   "cell_type": "markdown",
   "metadata": {},
   "source": [
    "We now have 4 dataframes:  \n",
    "1. **`df_pos_tot`: ** topic distribution of positive reviews with name, city, and stars for all restaurants\n",
    "2. **`df_neg_tot`: ** topic distribution of negative reviews with name, city, and stars for all restaurants\n",
    "3. **`df_pos`: ** topic distribution of all positive reviews with associated business_id\n",
    "4. **`df_neg`: ** topic distribution of all negative reviews with associated business_id  \n",
    "\n",
    "We can write them to CSV files and then use that information for further analysis with R and Shiny app."
   ]
  },
  {
   "cell_type": "code",
   "execution_count": 244,
   "metadata": {},
   "outputs": [
    {
     "name": "stdout",
     "output_type": "stream",
     "text": [
      "Wall time: 16 ms\n"
     ]
    }
   ],
   "source": [
    "%%time\n",
    "# write to CSV\n",
    "df_pos_tot.to_csv('outputcsv/pos_bsns.csv')\n",
    "df_neg_tot.to_csv('outputcsv/neg_bsns.csv')"
   ]
  },
  {
   "cell_type": "code",
   "execution_count": null,
   "metadata": {},
   "outputs": [],
   "source": []
  },
  {
   "cell_type": "code",
   "execution_count": null,
   "metadata": {},
   "outputs": [],
   "source": []
  },
  {
   "cell_type": "code",
   "execution_count": null,
   "metadata": {},
   "outputs": [],
   "source": []
  }
 ],
 "metadata": {
  "kernelspec": {
   "display_name": "Python 3",
   "language": "python",
   "name": "python3"
  },
  "language_info": {
   "codemirror_mode": {
    "name": "ipython",
    "version": 3
   },
   "file_extension": ".py",
   "mimetype": "text/x-python",
   "name": "python",
   "nbconvert_exporter": "python",
   "pygments_lexer": "ipython3",
   "version": "3.8.3"
  }
 },
 "nbformat": 4,
 "nbformat_minor": 2
}
