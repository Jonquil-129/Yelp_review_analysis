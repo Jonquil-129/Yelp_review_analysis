{
 "cells": [
  {
   "cell_type": "markdown",
   "metadata": {},
   "source": [
    "# Group 13 - Yelp Review Analysis for Module 3 \n",
    "Group members:\n",
    "- Jonquil Liao\n",
    "- Yuhan Zhou\n",
    "- Yike Wang"
   ]
  },
  {
   "cell_type": "code",
   "execution_count": 1,
   "metadata": {},
   "outputs": [],
   "source": [
    "# import initial modules\n",
    "from pprint import pprint\n",
    "import pandas as pd\n",
    "import numpy as np\n",
    "import matplotlib.pyplot as plt\n",
    "%matplotlib inline\n",
    "import seaborn as sns\n",
    "sns.set()"
   ]
  },
  {
   "cell_type": "markdown",
   "metadata": {},
   "source": [
    "# Preparation and trial"
   ]
  },
  {
   "cell_type": "code",
   "execution_count": 2,
   "metadata": {},
   "outputs": [],
   "source": [
    "# read in reviews from previous notebook\n",
    "data = pd.read_csv('review_steakhouse.csv')"
   ]
  },
  {
   "cell_type": "code",
   "execution_count": 5,
   "metadata": {},
   "outputs": [
    {
     "data": {
      "image/png": "[encoded data removed]",
      "text/plain": [
       "<Figure size 1728x216 with 8 Axes>"
      ]
     },
     "metadata": {},
     "output_type": "display_data"
    }
   ],
   "source": [
    "import seaborn as sns\n",
    "sns.set()\n",
    "data['review_length'] = data.text.map(len)\n",
    "ax = sns.FacetGrid(data=data, col='stars_y',xlim=(0, 2000)).map(plt.hist, 'review_length', bins=50)\n",
    "ax.axes[0][0].set(ylabel='number of reviews');"
   ]
  },
  {
   "cell_type": "code",
   "execution_count": 6,
   "metadata": {},
   "outputs": [],
   "source": [
    "data['review_length'] = data.text.map(len)"
   ]
  },
  {
   "cell_type": "code",
   "execution_count": 7,
   "metadata": {},
   "outputs": [],
   "source": [
    "import numpy as np\n",
    "from textblob import TextBlob\n",
    "import nltk\n",
    "from nltk.corpus import stopwords\n",
    "from wordcloud import WordCloud\n",
    "import re, string\n",
    "import sys\n",
    "import time\n",
    "import collections\n",
    "from array import array"
   ]
  },
  {
   "cell_type": "code",
   "execution_count": 8,
   "metadata": {},
   "outputs": [
    {
     "name": "stdout",
     "output_type": "stream",
     "text": [
      "Postive Reviews:  20,948\n",
      "Negative Reviews:  7,461\n"
     ]
    }
   ],
   "source": [
    "badreviews = data[(data.stars_y <= 3 )]\n",
    "goodreviews = data[(data.stars_y > 3)]\n",
    "badreviews = badreviews.text\n",
    "goodreviews = goodreviews.text\n",
    "print('Postive Reviews:  {:,}'.format(len(goodreviews)))\n",
    "print('Negative Reviews:  {:,}'.format(len(badreviews)))"
   ]
  },
  {
   "cell_type": "code",
   "execution_count": 9,
   "metadata": {},
   "outputs": [],
   "source": [
    "badreviews = [\"\".join([char for char in a if char not in string.punctuation]) for a in badreviews]\n",
    "goodreviews = [\"\".join([char for char in a if char not in string.punctuation]) for a in goodreviews]"
   ]
  },
  {
   "cell_type": "code",
   "execution_count": 10,
   "metadata": {},
   "outputs": [],
   "source": [
    "# additional stopwords\n",
    "from sklearn.feature_extraction import text \n",
    "extra_words = ['ve', 'like', 'got', 'just', 'us','great',\n",
    "               'good','best','nice','always','back','ever',\n",
    "               'ive','go','well','not','bad','terrible',\n",
    "               'don', 'really', 'said', 'told', 'ok','dont',\n",
    "               'came', 'went', 'did', 'didn','one','would']\n",
    "stop_words = text.ENGLISH_STOP_WORDS.union(extra_words)"
   ]
  },
  {
   "cell_type": "code",
   "execution_count": 11,
   "metadata": {},
   "outputs": [],
   "source": [
    "text1=badreviews\n",
    "text1 = [a.lower() for a in text1]\n",
    "words1 = [nltk.word_tokenize(a) for a in text1]\n",
    "filtered_words1 = [[word for word in a if word not in stop_words] for a in words1]\n",
    "from nltk.stem.wordnet import WordNetLemmatizer\n",
    "lmtzr = WordNetLemmatizer()"
   ]
  },
  {
   "cell_type": "code",
   "execution_count": 12,
   "metadata": {},
   "outputs": [],
   "source": [
    "text2=goodreviews\n",
    "text2 = [a.lower() for a in text2]\n",
    "words2 = [nltk.word_tokenize(a) for a in text2]\n",
    "filtered_words2 = [[word for word in a if word not in stop_words] for a in words2]"
   ]
  },
  {
   "cell_type": "code",
   "execution_count": 13,
   "metadata": {},
   "outputs": [],
   "source": [
    "lemmatized_words1 = [[lmtzr.lemmatize(x) for x in a] for a in filtered_words1]\n",
    "lemmatized_words2 = [[lmtzr.lemmatize(x) for x in a] for a in filtered_words2]"
   ]
  },
  {
   "cell_type": "code",
   "execution_count": 14,
   "metadata": {},
   "outputs": [],
   "source": [
    "import sklearn\n",
    "from sklearn.feature_extraction.text import TfidfVectorizer\n",
    "lemmatized_words1=[ ' '.join(map(str, sent)) for sent in lemmatized_words1]\n",
    "lemmatized_words2=[ ' '.join(map(str, sent)) for sent in lemmatized_words2]"
   ]
  },
  {
   "cell_type": "code",
   "execution_count": 15,
   "metadata": {},
   "outputs": [],
   "source": [
    "tfidf_model1 = TfidfVectorizer(stop_words=stop_words,\n",
    "                        ngram_range=(1,1))\n",
    "tfidf_model2 = TfidfVectorizer(stop_words=stop_words, \n",
    "                        ngram_range=(1,1))\n",
    "result1=tfidf_model1.fit_transform(lemmatized_words1)\n",
    "result2=tfidf_model2.fit_transform(lemmatized_words2)"
   ]
  },
  {
   "cell_type": "code",
   "execution_count": 16,
   "metadata": {},
   "outputs": [
    {
     "name": "stdout",
     "output_type": "stream",
     "text": [
      "Top words in good reviews:\n",
      "[('food',), ('steak',), ('service',), ('place',), ('time',), ('restaurant',), ('bar',), ('dinner',)]\n",
      "Top words in bad reviews:\n",
      "[('food',), ('service',), ('steak',), ('place',), ('time',), ('restaurant',), ('drink',), ('ordered',)]\n"
     ]
    }
   ],
   "source": [
    "bad_df = pd.DataFrame(result1.todense(), columns=[tfidf_model1.get_feature_names()])\n",
    "good_df = pd.DataFrame(result2.todense(), columns=[tfidf_model2.get_feature_names()])\n",
    "col_means_bad = {}\n",
    "for col in bad_df:\n",
    "    col_means_bad[col] = bad_df[col].mean()\n",
    "\n",
    "col_means_good = {}\n",
    "for col in good_df:\n",
    "    col_means_good[col] = good_df[col].mean()\n",
    "    \n",
    "top_words = 8\n",
    "\n",
    "print('Top words in good reviews:')\n",
    "print(sorted(col_means_good, key=col_means_good.get, reverse=True)[:top_words])\n",
    "\n",
    "print('Top words in bad reviews:')\n",
    "print(sorted(col_means_bad, key=col_means_bad.get, reverse=True)[:top_words])"
   ]
  },
  {
   "cell_type": "code",
   "execution_count": 17,
   "metadata": {
    "scrolled": true
   },
   "outputs": [
    {
     "data": {
      "image/png": "[encoded data removed]",
      "text/plain": [
       "<Figure size 864x360 with 1 Axes>"
      ]
     },
     "metadata": {},
     "output_type": "display_data"
    }
   ],
   "source": [
    "'This part credited to Ankur Vishwakarma, Oakland, CA. https://github.com/Vishwacorp/'\n",
    "from gensim import corpora, models, similarities, matutils\n",
    "corpus1 = matutils.Sparse2Corpus(result1.transpose())\n",
    "corpus2 = matutils.Sparse2Corpus(result2.transpose())\n",
    "word_bad = dict((v,k) for k,v in tfidf_model1.vocabulary_.items())\n",
    "word_good = dict((v,k) for k,v in tfidf_model2.vocabulary_.items())\n",
    "word_bad2 = corpora.Dictionary.from_corpus(corpus1, id2word=word_bad)\n",
    "word_good2 = corpora.Dictionary.from_corpus(corpus2, id2word=word_good)\n",
    "lsi_bad = models.LsiModel(corpus1, id2word=word_bad2, num_topics=10)\n",
    "lsi_good = models.LsiModel(corpus2, id2word=word_good2, num_topics=10)\n",
    "\n",
    "singular_values_bad = lsi_bad.projection.s.tolist()\n",
    "singular_values_bad_rel = [sv/singular_values_bad[-1] for sv in singular_values_bad]\n",
    "singular_values_good = lsi_good.projection.s.tolist()\n",
    "singular_values_good_rel = [sv/singular_values_good[-1] for sv in singular_values_good]\n",
    "plt.style.use('fivethirtyeight')\n",
    "plt.figure(figsize=(12,5))\n",
    "plt.plot(range(len(singular_values_bad)), singular_values_bad_rel, label='Bad Reviews', alpha=1.0)\n",
    "plt.plot(range(len(singular_values_good)), singular_values_good_rel, label='Good Reviews', alpha=0.7)\n",
    "plt.xticks(range(len(singular_values_bad)), range(len(singular_values_bad)))\n",
    "plt.xlabel('Topic #')\n",
    "plt.ylabel('Relative Strength')\n",
    "plt.title('LSI Topic Strengths (Relative)')\n",
    "plt.legend(loc=0, fontsize='medium');"
   ]
  },
  {
   "cell_type": "code",
   "execution_count": 18,
   "metadata": {},
   "outputs": [],
   "source": [
    "import pprint\n",
    "from pprint import pprint"
   ]
  },
  {
   "cell_type": "code",
   "execution_count": 19,
   "metadata": {},
   "outputs": [
    {
     "name": "stdout",
     "output_type": "stream",
     "text": [
      "Top 8 words in POSITIVE reviews:[('food',), ('steak',), ('service',), ('place',), ('time',), ('restaurant',), ('bar',), ('dinner',)]\n",
      "Top 8 words in NEGATIVE reviews:[('food',), ('service',), ('steak',), ('place',), ('time',), ('restaurant',), ('drink',), ('ordered',)]\n"
     ]
    }
   ],
   "source": [
    "no_top_words = 8\n",
    "\n",
    "print('Top %d words in POSITIVE reviews:' %no_top_words, end='')\n",
    "print(sorted(col_means_good, key=col_means_good.get, reverse=True)[:no_top_words])\n",
    "\n",
    "print('Top %d words in NEGATIVE reviews:' %no_top_words, end='')\n",
    "print(sorted(col_means_bad, key=col_means_bad.get, reverse=True)[:no_top_words])"
   ]
  },
  {
   "cell_type": "markdown",
   "metadata": {},
   "source": [
    "### Trial with NMF <a name='s4'></a>"
   ]
  },
  {
   "cell_type": "code",
   "execution_count": 20,
   "metadata": {},
   "outputs": [
    {
     "name": "stderr",
     "output_type": "stream",
     "text": [
      "C:\\Users\\13754\\anaconda3\\lib\\site-packages\\sklearn\\decomposition\\_nmf.py:1076: ConvergenceWarning: Maximum number of iterations 200 reached. Increase it to improve convergence.\n",
      "  warnings.warn(\"Maximum number of iterations %d reached. Increase it to\"\n"
     ]
    },
    {
     "name": "stdout",
     "output_type": "stream",
     "text": [
      "Wall time: 2.5 s\n"
     ]
    }
   ],
   "source": [
    "%%time\n",
    "# negative values in LSA topics are annoying\n",
    "# let's see if we can fix that with NMF\n",
    "from sklearn.decomposition import NMF\n",
    "\n",
    "# change num_topics\n",
    "num_topics = 4\n",
    "\n",
    "nmf_pos = NMF(n_components=num_topics)\n",
    "W_pos = nmf_pos.fit_transform(result2)\n",
    "H_pos = nmf_pos.components_\n",
    "\n",
    "nmf_neg = NMF(n_components=num_topics)\n",
    "W_neg = nmf_neg.fit_transform(result1)\n",
    "H_neg = nmf_neg.components_"
   ]
  },
  {
   "cell_type": "code",
   "execution_count": 27,
   "metadata": {},
   "outputs": [
    {
     "name": "stdout",
     "output_type": "stream",
     "text": [
      "Top topics + words for POSITIVE reviews\n",
      "---------------------------------------\n",
      "Topic 0:   1.005*table, 0.807*meat, 0.785*time, 0.771*bar, 0.652*salad, 0.604*restaurant\n",
      "Topic 1:   1.511*cheese, 1.287*curd, 1.251*burger, 0.907*old, 0.842*beer, 0.782*fashioned\n",
      "Topic 2:   1.701*food, 1.271*service, 0.858*place, 0.714*excellent, 0.709*amazing, 0.704*atmosphere\n",
      "Topic 3:   2.608*steak, 0.798*cooked, 0.628*medium, 0.527*rare, 0.488*filet, 0.485*ordered\n",
      "\n",
      "Top topics + words for NEGATIVE reviews\n",
      "---------------------------------------\n",
      "Topic 0:   1.080*minute, 0.837*table, 0.763*order, 0.615*took, 0.611*time, 0.601*drink\n",
      "Topic 1:   1.429*steak, 0.709*salad, 0.564*ordered, 0.508*cooked, 0.498*potato, 0.383*medium\n",
      "Topic 2:   1.207*food, 0.911*place, 0.848*service, 0.458*bar, 0.424*price, 0.423*time\n",
      "Topic 3:   2.276*wing, 0.494*sauce, 0.303*quaker, 0.290*buffet, 0.270*chicken, 0.255*beer\n"
     ]
    }
   ],
   "source": [
    "def display_topics(model, feature_names, num_topics, no_top_words):\n",
    "    for topic_idx, topic in enumerate(model.components_):\n",
    "        if topic_idx < num_topics:\n",
    "            print(\"{:11}\".format(\"Topic %d:\" %(topic_idx)), end='')\n",
    "            print(\", \".join(['{:04.3f}*'.format(topic[i])+feature_names[i] \\\n",
    "                             for i in topic.argsort()[:-no_top_words-1:-1]]))\n",
    "\n",
    "no_topics = num_topics\n",
    "no_top_words = 6\n",
    "\n",
    "print('Top topics + words for POSITIVE reviews')\n",
    "print('-'*39)\n",
    "display_topics(nmf_pos, tfidf_model2.get_feature_names(), no_topics, no_top_words)\n",
    "\n",
    "print('\\nTop topics + words for NEGATIVE reviews')\n",
    "print('-'*39)\n",
    "display_topics(nmf_neg, tfidf_model1.get_feature_names(), no_topics, no_top_words)"
   ]
  },
  {
   "cell_type": "markdown",
   "metadata": {},
   "source": [
    "As expected, these topics are far more interpretable.  \n",
    "* First two topics for positive reviews seem to be (1) salad and sides and (2) meals other than steak.\n",
    "* First two topics for negative reviews seem to be (1) slow service and (2) temperature of steak (seems like thai food in this subset of data)."
   ]
  },
  {
   "cell_type": "code",
   "execution_count": 39,
   "metadata": {},
   "outputs": [],
   "source": [
    "np.random.seed(3)\n",
    "num_reviews = 18000\n",
    "random_pos = np.random.choice(goodreviews, size=num_reviews)"
   ]
  },
  {
   "cell_type": "code",
   "execution_count": 40,
   "metadata": {},
   "outputs": [],
   "source": [
    "np.random.seed(30)\n",
    "num_reviews = 5000\n",
    "random_neg = np.random.choice(badreviews, size=num_reviews)"
   ]
  },
  {
   "cell_type": "markdown",
   "metadata": {},
   "source": [
    "### Review Similarity in NMF space <a name='s5'></a>"
   ]
  },
  {
   "cell_type": "code",
   "execution_count": 41,
   "metadata": {
    "scrolled": true
   },
   "outputs": [
    {
     "name": "stdout",
     "output_type": "stream",
     "text": [
      "16675\n",
      "Love it here Scallops and Sea Bass are delicious Its comfortable a little pricey but worth the meal\n"
     ]
    }
   ],
   "source": [
    "# look at a random positive review\n",
    "review_num = np.random.randint(0, high=len(random_pos))\n",
    "print(review_num)\n",
    "print(random_pos[review_num])"
   ]
  },
  {
   "cell_type": "code",
   "execution_count": 42,
   "metadata": {},
   "outputs": [],
   "source": [
    "# compute cosine similarities of this review with all other reviews in the new space\n",
    "import sklearn.metrics.pairwise as smp\n",
    "\n",
    "cosines = {}\n",
    "for ind, review in enumerate(W_pos):\n",
    "    similarity = smp.cosine_similarity(W_pos[review_num].reshape(1,-1), review.reshape(1,-1))\n",
    "    cosines[ind] = similarity[0][0]"
   ]
  },
  {
   "cell_type": "code",
   "execution_count": 43,
   "metadata": {
    "scrolled": true
   },
   "outputs": [
    {
     "name": "stdout",
     "output_type": "stream",
     "text": [
      "--------------------------------------------------\n",
      ">> Similarity 1.000\n",
      "Disclaimer I am a HUGE oyster fan and came into this restaurant with high expectations  I wasnt disappointed\n",
      "\n",
      "First things first Oyster Shots  We tried the Willapa oyster shots which were their version of bloody mary shots  The bartender fished out huge oysters for us and plopped them in the bottom of the glasses  Absolutely delicious  The shots were a bit large and took a few gulps to finish but were so delicious I wasnt upset They had a variety of other oyster shots that we didnt trybut am looking forward to in the future\n",
      "\n",
      "Another thing not to miss are their specialty cocktails  We came about an hour early just to have a drink at the bar and check out the new decor  A pleasant and welcoming change compared to the set up when it was Magnus  Everything is bright and welcoming but very romantic if you want to just have drinks before dinner  Do not miss their specialty cocktail menu  I am usually not a fan of any specialty cocktails  They are more often than not a distraction and served watered down and too fruity  This was not the case here  They infuse their own vodkas and tequila with tasty and imaginative flavors  I had the Awniker which contained plenty of their jalapeno infused tequila which added a wonderful amount of spice to contrast the passion fruit and honey liqueur  I must also mention their drink menu heavily relies on Old Sugar Distillery products which keeps a lot of their  menu local   My boyfriend had the Keelhauler which with its muddled cucumber tasted almost like aloe juice  Yum  \n",
      "\n",
      "On to dinner  I read reviews about the Fruits de Mer appetizer and ordered it out of curiosity  It was not a disappointment The breading on the variety of seafood was light and the cocktail sauce was delicious with a dollop of creme fraiche in the middle  We honestly could have done with a bit more of it  We only tried one kind of oyster  Usually we avoid west coast oysters because of their smaller size so we got the east coast oyster our server recommended  Their oyster menu changes every other day or so so just ask your server what they would recommend  They were shucked well for the most part but I did get a large piece of shell in one  This can happen to even the best shuckers though  \n",
      "\n",
      "Our group was also very pleased with the main entrees  Just as a warning if you are interested in having a side with your meal you must order it off of their a la carte menu  Otherwise the main event of the dish is all you get  You wont be disappointed though  The star of our table was the Carpetbagger  A beautiful piece of tenderloin with a delicious beer sauce  To top it all off it was wrapped around beautifully cooked oysters which made it incredibly decadent  I got the marlin which had a bit too much citrus for my taste but I still enjoyed it because of the quality of the meat and the tasty fried leeks on top which were ample  Another hit was the sturgeon which came with a perfectly cooked egg and a MOUND of black caviar over the dollop again of creme fraiche  The halibut was also well cooked but came with an awkwardly large bulb of roasted fennel that was a bit difficult to eat\n",
      "\n",
      "We were so full after drinks appetizers and dinner that we skipped dessert so no recommendations on that end   \n",
      "\n",
      "Dont miss trying this wonderful new restaurant  The only bad thing I have to say about it was that it was quite noisy  I read reviews that where far more severe but the noise was a bit distracting  It is no noisier than Sardine though which is its only competition for fresh oysters in Madison It also got a bit too warm for some of our friends But dont let the few bad things keep you from trying their amazing food  5 stars\n",
      "--------------------------------------------------\n",
      ">> Similarity 1.000\n",
      "Came here Saturday with high expectations but were not impressed I ordered clam chowder and 6 oz filet mignon and my husband got the catch of the day red snapper The clam chowder  was really good But the filet mignon was pretty dry for being medium and lacked flavor The sauce that came with it wasnt too good but it was my own fault for not asking for a replacement My husbands snapper sauce it came with was good but fish had no flavor \n",
      "\n",
      "Overall we spend around 85 dollars and were very disappointed Maybe our pallette is not sophisticated enough but essentially everything lacked flavor I expect steak to at least have some salt pepper and some butter but I didnt even taste that much We regret not just going to Longhorn for steaks which cost less and has way better food\n",
      "--------------------------------------------------\n",
      ">> Similarity 1.000\n",
      "I came here for a lunch with my coworkers to celebrate the holidays We made a reservation for their small private room which suited our needs perfectly Our server was excellent and extremely knowledgeable about the menu and was very friendly I went with the rose to drink which was delicious We started off with the calamari appetizer for the table This was my first time trying calamari and I was super nervous as I am not a big seafood person at all The calamari was served fried with a sweet  spicy Asian chili sauce It was honestly delicious Now some people who are true calamari fans may have found it to be too fried with an overpowering sauce but as someone who doesnt appreciate calamari normally and would hate a more chewy or fishy taste I found this to be quite delicious I even went in for seconds The bread that came before our meal was fresh and very tasty For my lunch I went with the 6 oz filet medium and shrimp 32 Many of my colleagues went with the same thing We all highly enjoyed it Personally I will say that I expected the shrimp to be a little larger in size but they were still fresh and tasted very good The filet was the most tender filet I have ever had in my life It was served on an extremely hot plate and was sizzling at the table when it arrived The server recommended that you order the steak a little more rare than you normally would as it will continue to cook on the plate That advice was very well received from me It was delicious I ate the entire thing and was in heaven the whole time Overall I was blown away with the meal I received and although this is a more expensive spot I highly believe it was worth the price we paid We all had a great time and I would love to come back\n",
      "--------------------------------------------------\n"
     ]
    }
   ],
   "source": [
    "# get top 3 matching reviews\n",
    "for n in sorted(cosines, key=cosines.get, reverse=True)[1:4]:\n",
    "    print('-'*50)\n",
    "    print('>> Similarity {:.3f}'.format(cosines[n]))\n",
    "    print(random_pos[n])\n",
    "print('-'*50)"
   ]
  },
  {
   "cell_type": "markdown",
   "metadata": {},
   "source": [
    "NMF seems to be working well and making good topics for us. But just to give it a shot, let's use CountVectorizer (instead of TFIDF) and try topic modeling through LDA. While slower, its use of a dirichlet prior can often give good results."
   ]
  },
  {
   "cell_type": "markdown",
   "metadata": {},
   "source": [
    "### Trial with Count Vectorizer <a name='s6'></a>"
   ]
  },
  {
   "cell_type": "code",
   "execution_count": 44,
   "metadata": {},
   "outputs": [],
   "source": [
    "from sklearn.feature_extraction.text import CountVectorizer\n",
    "\n",
    "# Create a vectorizer object to generate term document counts\n",
    "cv_pos = CountVectorizer(stop_words=stop_words, min_df=10, max_df=0.5, \n",
    "                        ngram_range=(1,1), token_pattern='[a-z][a-z]+')\n",
    "\n",
    "cv_neg = CountVectorizer(stop_words=stop_words, min_df=10, max_df=0.5, \n",
    "                        ngram_range=(1,1), token_pattern='[a-z][a-z]+')\n",
    "\n",
    "# Get random subset of reviews\n",
    "np.random.seed(38)\n",
    "num_reviews = 5000\n",
    "cv_random_neg = np.random.choice(badreviews, size=num_reviews)\n",
    "cv_random_pos = np.random.choice(goodreviews, size=num_reviews)\n",
    "\n",
    "# Get the cv vectors\n",
    "cv_neg_vectors = cv_neg.fit_transform(cv_random_neg).transpose()\n",
    "cv_pos_vectors = cv_pos.fit_transform(cv_random_pos).transpose()"
   ]
  },
  {
   "cell_type": "code",
   "execution_count": 45,
   "metadata": {},
   "outputs": [],
   "source": [
    "# Convert sparse matrix of counts to a gensim corpus\n",
    "corpus_neg = matutils.Sparse2Corpus(cv_neg_vectors)\n",
    "corpus_pos = matutils.Sparse2Corpus(cv_pos_vectors)\n",
    "\n",
    "# save a mapping (dict) of row id to word (token) for later use by gensim \n",
    "id2word_cv_pos = dict((v, k) for k, v in cv_pos.vocabulary_.items())\n",
    "id2word_cv_neg = dict((v, k) for k, v in cv_neg.vocabulary_.items())"
   ]
  },
  {
   "cell_type": "markdown",
   "metadata": {},
   "source": [
    "### LDA(Count Vectorizer)<a name='s7'></a>"
   ]
  },
  {
   "cell_type": "code",
   "execution_count": 46,
   "metadata": {},
   "outputs": [
    {
     "name": "stdout",
     "output_type": "stream",
     "text": [
      "Wall time: 53.8 s\n"
     ]
    }
   ],
   "source": [
    "%%time\n",
    "# create lda multicore model\n",
    "lda_pos = models.ldamulticore.LdaMulticore(corpus=corpus_pos, num_topics=4, \n",
    "                                           id2word=id2word_cv_pos, passes=10, workers=15)\n",
    "lda_neg = models.ldamulticore.LdaMulticore(corpus=corpus_neg, num_topics=4, \n",
    "                                           id2word=id2word_cv_neg, passes=10, workers=15)"
   ]
  },
  {
   "cell_type": "code",
   "execution_count": 47,
   "metadata": {},
   "outputs": [
    {
     "name": "stdout",
     "output_type": "stream",
     "text": [
      "Top topics + words for POSITIVE reviews\n",
      "---------------------------------------\n",
      "[(0,\n",
      "  '0.016*\"food\" + 0.013*\"service\" + 0.012*\"steak\" + 0.009*\"delicious\" + '\n",
      "  '0.009*\"amazing\" + 0.008*\"time\" + 0.007*\"menu\"'),\n",
      " (1,\n",
      "  '0.013*\"steak\" + 0.011*\"ordered\" + 0.010*\"salad\" + 0.009*\"meat\" + '\n",
      "  '0.008*\"restaurant\" + 0.008*\"time\" + 0.008*\"food\"'),\n",
      " (2,\n",
      "  '0.030*\"food\" + 0.021*\"place\" + 0.020*\"service\" + 0.013*\"bar\" + '\n",
      "  '0.008*\"restaurant\" + 0.007*\"steak\" + 0.007*\"dinner\"'),\n",
      " (3,\n",
      "  '0.014*\"cheese\" + 0.011*\"place\" + 0.009*\"ordered\" + 0.008*\"food\" + '\n",
      "  '0.008*\"curds\" + 0.007*\"time\" + 0.007*\"old\"')]\n",
      "\n",
      "Top topics + words for NEGATIVE reviews\n",
      "---------------------------------------\n",
      "[(0,\n",
      "  '0.013*\"wings\" + 0.010*\"bar\" + 0.010*\"place\" + 0.009*\"service\" + '\n",
      "  '0.009*\"happy\" + 0.008*\"menu\" + 0.008*\"hour\"'),\n",
      " (1,\n",
      "  '0.021*\"steak\" + 0.017*\"ordered\" + 0.013*\"salad\" + 0.009*\"place\" + '\n",
      "  '0.008*\"cooked\" + 0.008*\"service\" + 0.007*\"cheese\"'),\n",
      " (2,\n",
      "  '0.014*\"time\" + 0.013*\"service\" + 0.013*\"minutes\" + 0.011*\"order\" + '\n",
      "  '0.010*\"table\" + 0.009*\"place\" + 0.008*\"wait\"'),\n",
      " (3,\n",
      "  '0.013*\"service\" + 0.012*\"place\" + 0.008*\"time\" + 0.007*\"casino\" + '\n",
      "  '0.006*\"shrimp\" + 0.006*\"better\" + 0.006*\"bar\"')]\n"
     ]
    }
   ],
   "source": [
    "print('Top topics + words for POSITIVE reviews')\n",
    "print('-'*39)\n",
    "pprint(lda_pos.print_topics(num_words=7))\n",
    "\n",
    "print('\\nTop topics + words for NEGATIVE reviews')\n",
    "print('-'*39)\n",
    "pprint(lda_neg.print_topics(num_words=7))"
   ]
  },
  {
   "cell_type": "markdown",
   "metadata": {},
   "source": [
    "It can be seen that, topics are mixed up for the positive reviews.So we would still use TFIDF to do the modeling."
   ]
  },
  {
   "cell_type": "markdown",
   "metadata": {},
   "source": [
    "### Continuing with NMF Topics <a name='s8'></a>"
   ]
  },
  {
   "cell_type": "code",
   "execution_count": 48,
   "metadata": {},
   "outputs": [
    {
     "name": "stdout",
     "output_type": "stream",
     "text": [
      "Top topics + words for POSITIVE reviews\n",
      "---------------------------------------\n",
      "Topic 0:   1.005*table, 0.807*meat, 0.785*time, 0.771*bar, 0.652*salad, 0.604*restaurant\n",
      "Topic 1:   1.511*cheese, 1.287*curd, 1.251*burger, 0.907*old, 0.842*beer, 0.782*fashioned\n",
      "Topic 2:   1.701*food, 1.271*service, 0.858*place, 0.714*excellent, 0.709*amazing, 0.704*atmosphere\n",
      "Topic 3:   2.608*steak, 0.798*cooked, 0.628*medium, 0.527*rare, 0.488*filet, 0.485*ordered\n",
      "Wall time: 23.5 ms\n"
     ]
    }
   ],
   "source": [
    "%%time\n",
    "# let's remind ourselves of the POSITIVE topics\n",
    "print('Top topics + words for POSITIVE reviews')\n",
    "print('-'*39)\n",
    "display_topics(nmf_pos,tfidf_model2.get_feature_names(), no_topics, no_top_words)"
   ]
  },
  {
   "cell_type": "code",
   "execution_count": 49,
   "metadata": {
    "scrolled": false
   },
   "outputs": [
    {
     "name": "stdout",
     "output_type": "stream",
     "text": [
      "Positive Review #12920\n",
      "-------------------------\n",
      "This a great restaurant that never disappoints and certainly is one of the east sides legendary dining locations The perfect place for a quality meal fine wine and wonderful service and a pleasure walk before or after\n",
      "\n",
      "I Highly recommend this establishment\n",
      "-------------------------\n",
      "Topic 0: 0.0176\n",
      "Topic 3: 0.0140\n",
      "Topic 1: 0.0095\n",
      "Topic 2: 0.0000\n"
     ]
    }
   ],
   "source": [
    "# we can investigate a random positive review and see how it's distributed across those topics\n",
    "review_num = np.random.randint(0, high=len(random_pos))\n",
    "print('Positive Review #%d' %review_num)\n",
    "print('-'*25)\n",
    "print(random_pos[review_num])\n",
    "print('-'*25)\n",
    "topic_dict = {}\n",
    "for ind, w in enumerate(W_pos[review_num]):\n",
    "    topic_dict[ind] = w\n",
    "for k in sorted(topic_dict, key=topic_dict.get, reverse=True):\n",
    "     print('Topic {}: {:.4f}'.format(k, topic_dict[k]))"
   ]
  },
  {
   "cell_type": "code",
   "execution_count": 50,
   "metadata": {},
   "outputs": [
    {
     "name": "stdout",
     "output_type": "stream",
     "text": [
      "Top topics + words for NEGATIVE reviews\n",
      "---------------------------------------\n",
      "Topic 0:   1.080*minute, 0.837*table, 0.763*order, 0.615*took, 0.611*time, 0.601*drink\n",
      "Topic 1:   1.429*steak, 0.709*salad, 0.564*ordered, 0.508*cooked, 0.498*potato, 0.383*medium\n",
      "Topic 2:   1.207*food, 0.911*place, 0.848*service, 0.458*bar, 0.424*price, 0.423*time\n",
      "Topic 3:   2.276*wing, 0.494*sauce, 0.303*quaker, 0.290*buffet, 0.270*chicken, 0.255*beer\n"
     ]
    }
   ],
   "source": [
    "print('Top topics + words for NEGATIVE reviews')\n",
    "print('-'*39)\n",
    "display_topics(nmf_neg, tfidf_model1.get_feature_names(), no_topics, no_top_words)"
   ]
  },
  {
   "cell_type": "code",
   "execution_count": 51,
   "metadata": {},
   "outputs": [
    {
     "data": {
      "text/plain": [
       "5000"
      ]
     },
     "execution_count": 51,
     "metadata": {},
     "output_type": "execute_result"
    }
   ],
   "source": [
    "len(random_neg)"
   ]
  },
  {
   "cell_type": "code",
   "execution_count": 52,
   "metadata": {},
   "outputs": [
    {
     "name": "stdout",
     "output_type": "stream",
     "text": [
      "Negative Review #746\n",
      "-------------------------\n",
      "So where do I startmy ever pressing girlfriend picked this spot for our nye excursion The menu looked pretty nice online and even had a few more options when we got there We were quickly seated even without a reservation but unfortunately this is the end of the highlight \n",
      "\n",
      "The menus were changed for nye and the options were very limited Everything was about 15 more expensive and the things I wanted were off the menu The jalapeño crab dip was exceptional and I wish that is all I ordered \n",
      "\n",
      "Our server was ok and wasnt that talkative at all I had the stuffed shrimp which ended up being just shrimp with crab on top I had a side of the roasted potatoes They were only 4yeah and they were cold and barely seasoned \n",
      "\n",
      "overall it could be a very good restaurant but the portions are very small compared to the price The experience did not match the price either If you come back get the jalapeño dip and leave \n",
      "\n",
      "The drink menu was very limited also Not a good look\n",
      "-------------------------\n",
      "Topic 1: 0.0206\n",
      "Topic 0: 0.0079\n",
      "Topic 2: 0.0048\n",
      "Topic 3: 0.0000\n"
     ]
    }
   ],
   "source": [
    "# now investigate a random negative review and see how it's distributed across those topics\n",
    "review_num = np.random.randint(0, high=len(random_neg))\n",
    "print('Negative Review #%d' %review_num)\n",
    "print('-'*25)\n",
    "print(random_neg[review_num])\n",
    "print('-'*25)\n",
    "topic_dict = {}\n",
    "for ind, w in enumerate(W_neg[review_num]):\n",
    "    topic_dict[ind] = w\n",
    "for k in sorted(topic_dict, key=topic_dict.get, reverse=True):\n",
    "     print('Topic {}: {:.4f}'.format(k, topic_dict[k]))"
   ]
  },
  {
   "cell_type": "markdown",
   "metadata": {},
   "source": [
    "# Topic Modeling All Reviews <a name='s9'></a>  "
   ]
  },
  {
   "cell_type": "code",
   "execution_count": 53,
   "metadata": {},
   "outputs": [
    {
     "name": "stdout",
     "output_type": "stream",
     "text": [
      "Postive Reviews:  20,948\n",
      "Negative Reviews:  7,461\n"
     ]
    }
   ],
   "source": [
    "print('Postive Reviews:  {:,}'.format(len(goodreviews)))\n",
    "print('Negative Reviews:  {:,}'.format(len(badreviews)))"
   ]
  },
  {
   "cell_type": "code",
   "execution_count": 58,
   "metadata": {},
   "outputs": [
    {
     "name": "stdout",
     "output_type": "stream",
     "text": [
      "Wall time: 1.52 s\n"
     ]
    }
   ],
   "source": [
    "%%time\n",
    "# Create a vectorizer object to generate term document counts\n",
    "tfidf_model1 = TfidfVectorizer(stop_words=stop_words, min_df=10, max_df=0.5, \n",
    "                        ngram_range=(1,1), token_pattern='[a-z][a-z]+')\n",
    "\n",
    "tfidf_model2 = TfidfVectorizer(stop_words=stop_words, min_df=10, max_df=0.5, \n",
    "                        ngram_range=(1,1), token_pattern='[a-z][a-z]+')\n",
    "\n",
    "# Get the vectors\n",
    "neg_vectors = tfidf_model1.fit_transform(badreviews)\n",
    "pos_vectors = tfidf_model2.fit_transform(goodreviews)"
   ]
  },
  {
   "cell_type": "code",
   "execution_count": 59,
   "metadata": {},
   "outputs": [
    {
     "name": "stdout",
     "output_type": "stream",
     "text": [
      "Wall time: 1.15 s\n"
     ]
    }
   ],
   "source": [
    "%%time\n",
    "# NMF for all reviews\n",
    "from sklearn.decomposition import NMF\n",
    "\n",
    "# change num_topics\n",
    "num_topics = 4\n",
    "\n",
    "nmf_pos = NMF(n_components=num_topics)\n",
    "W_pos = nmf_pos.fit_transform(pos_vectors)\n",
    "H_pos = nmf_pos.components_\n",
    "\n",
    "nmf_neg = NMF(n_components=num_topics)\n",
    "W_neg = nmf_neg.fit_transform(neg_vectors)\n",
    "H_neg = nmf_neg.components_"
   ]
  },
  {
   "cell_type": "code",
   "execution_count": 60,
   "metadata": {},
   "outputs": [
    {
     "name": "stdout",
     "output_type": "stream",
     "text": [
      "Topics for POSITIVE reviews\n",
      "---------------------------------------\n",
      "Topic 0:   2.060*steak, 0.877*cooked, 0.739*ordered, 0.658*salad, 0.648*medium, 0.608*filet\n",
      "Topic 1:   1.628*cheese, 1.353*curds, 0.996*old, 0.860*fashioned, 0.822*burger, 0.689*beer\n",
      "Topic 2:   1.673*food, 1.299*service, 0.800*place, 0.747*excellent, 0.746*amazing, 0.732*atmosphere\n",
      "Topic 3:   0.773*bar, 0.752*table, 0.659*time, 0.479*minutes, 0.463*restaurant, 0.452*didnt\n",
      "\n",
      "Topics for NEGATIVE reviews\n",
      "---------------------------------------\n",
      "Topic 0:   1.665*steak, 0.796*salad, 0.731*ordered, 0.641*cooked, 0.509*medium, 0.455*cheese\n",
      "Topic 1:   0.884*minutes, 0.582*table, 0.552*order, 0.544*took, 0.530*waitress, 0.512*time\n",
      "Topic 2:   1.010*place, 0.701*service, 0.599*bar, 0.379*friendly, 0.367*staff, 0.357*menu\n",
      "Topic 3:   2.204*wings, 0.369*sauce, 0.357*chicken, 0.330*quaker, 0.314*wing, 0.294*buffet\n"
     ]
    }
   ],
   "source": [
    "no_topics = num_topics\n",
    "no_top_words = 6\n",
    "\n",
    "print('Topics for POSITIVE reviews')\n",
    "print('-'*39)\n",
    "display_topics(nmf_pos, tfidf_model2.get_feature_names(), no_topics, no_top_words)\n",
    "\n",
    "print('\\nTopics for NEGATIVE reviews')\n",
    "print('-'*39)\n",
    "display_topics(nmf_neg, tfidf_model1.get_feature_names(), no_topics, no_top_words)"
   ]
  },
  {
   "cell_type": "code",
   "execution_count": 87,
   "metadata": {},
   "outputs": [],
   "source": [
    "# create topic dictionaries to summarize the topic meanings\n",
    "pos_topics = {0:'Quality of steaks and sides', 1:'Other main dishes', \n",
    "              2:'Service and atmosphere', 3:'Waiting time and table availbility'}\n",
    "\n",
    "neg_topics = {0:'Steaks and salads', 1:\"Waiting time and watiress response' response\" , 2:'Service--attitude', \n",
    "              3:'Quality of other sides and snacks'}"
   ]
  },
  {
   "cell_type": "markdown",
   "metadata": {},
   "source": [
    "### Adding Topic Weights to Pandas DataFrame <a name='s10'></a>"
   ]
  },
  {
   "cell_type": "code",
   "execution_count": 69,
   "metadata": {},
   "outputs": [],
   "source": [
    "# we create dataframes for positive & negative reviews that we can\n",
    "# later add topic information to\n",
    "df_pos = data[['business_id', 'stars_y', 'text', 'review_length']][data.stars_y>3].reset_index()\n",
    "df_neg = data[['business_id', 'stars_y', 'text', 'review_length']][data.stars_y<=3].reset_index()\n",
    "df_pos.drop(labels='index', axis=1, inplace=True)\n",
    "df_neg.drop(labels='index', axis=1, inplace=True)"
   ]
  },
  {
   "cell_type": "code",
   "execution_count": 70,
   "metadata": {},
   "outputs": [
    {
     "name": "stdout",
     "output_type": "stream",
     "text": [
      "Topic weights :  [0.00079404 0.02052135 0.04864945 0.0179198 ]\n",
      "Sum of weights:  0.08788463592303748\n"
     ]
    }
   ],
   "source": [
    "print('Topic weights : ', W_pos[0])\n",
    "print('Sum of weights: ', W_pos[0].sum())"
   ]
  },
  {
   "cell_type": "markdown",
   "metadata": {},
   "source": [
    "Results like these are not easy to interpretate, Therefore, we can normalize the weights so they all add up to 1. Such scale is much more straightforward."
   ]
  },
  {
   "cell_type": "code",
   "execution_count": 71,
   "metadata": {},
   "outputs": [
    {
     "name": "stdout",
     "output_type": "stream",
     "text": [
      "Normalized Topic weights :  [[0.00903497 0.2335033  0.55356031 0.20390141]]\n",
      "Sum of normalized weights:  1.0\n"
     ]
    }
   ],
   "source": [
    "from sklearn.preprocessing import normalize\n",
    "print('Normalized Topic weights : ', normalize(W_pos[0].reshape(1,-1), norm='l1'))\n",
    "print('Sum of normalized weights: ', normalize(W_pos[0].reshape(1,-1), norm='l1').sum())"
   ]
  },
  {
   "cell_type": "code",
   "execution_count": 72,
   "metadata": {},
   "outputs": [],
   "source": [
    "# add normalized topic weights to each review\n",
    "df_pos = pd.concat([df_pos, pd.DataFrame(normalize(W_pos, norm='l1'))], axis=1)\n",
    "df_neg = pd.concat([df_neg, pd.DataFrame(normalize(W_neg, norm='l1'))], axis=1)"
   ]
  },
  {
   "cell_type": "code",
   "execution_count": 73,
   "metadata": {},
   "outputs": [
    {
     "data": {
      "text/html": [
       "<div>\n",
       "<style scoped>\n",
       "    .dataframe tbody tr th:only-of-type {\n",
       "        vertical-align: middle;\n",
       "    }\n",
       "\n",
       "    .dataframe tbody tr th {\n",
       "        vertical-align: top;\n",
       "    }\n",
       "\n",
       "    .dataframe thead th {\n",
       "        text-align: right;\n",
       "    }\n",
       "</style>\n",
       "<table border=\"1\" class=\"dataframe\">\n",
       "  <thead>\n",
       "    <tr style=\"text-align: right;\">\n",
       "      <th></th>\n",
       "      <th>business_id</th>\n",
       "      <th>stars_y</th>\n",
       "      <th>text</th>\n",
       "      <th>review_length</th>\n",
       "      <th>0</th>\n",
       "      <th>1</th>\n",
       "      <th>2</th>\n",
       "      <th>3</th>\n",
       "    </tr>\n",
       "  </thead>\n",
       "  <tbody>\n",
       "    <tr>\n",
       "      <th>0</th>\n",
       "      <td>lpxj6LFir23Ds6swW8a6fg</td>\n",
       "      <td>3.0</td>\n",
       "      <td>Very fresh food and authentic Italian taste. T...</td>\n",
       "      <td>259</td>\n",
       "      <td>0.182854</td>\n",
       "      <td>0.000000</td>\n",
       "      <td>0.702967</td>\n",
       "      <td>0.11418</td>\n",
       "    </tr>\n",
       "    <tr>\n",
       "      <th>1</th>\n",
       "      <td>zLnmmB9jiKg-A2Lggs64-A</td>\n",
       "      <td>3.0</td>\n",
       "      <td>Not worth the price. Service was OK... \"Poop e...</td>\n",
       "      <td>64</td>\n",
       "      <td>0.000000</td>\n",
       "      <td>0.000000</td>\n",
       "      <td>1.000000</td>\n",
       "      <td>0.00000</td>\n",
       "    </tr>\n",
       "    <tr>\n",
       "      <th>2</th>\n",
       "      <td>qELIf4gzE_vlteu7pO7TZg</td>\n",
       "      <td>3.0</td>\n",
       "      <td>Fantastic food and atmosphere, and right in th...</td>\n",
       "      <td>162</td>\n",
       "      <td>0.000000</td>\n",
       "      <td>0.071388</td>\n",
       "      <td>0.928612</td>\n",
       "      <td>0.00000</td>\n",
       "    </tr>\n",
       "    <tr>\n",
       "      <th>3</th>\n",
       "      <td>7ddnq3YQSKguGK15etqGLQ</td>\n",
       "      <td>3.0</td>\n",
       "      <td>We decided on short notice to try the new Ditk...</td>\n",
       "      <td>942</td>\n",
       "      <td>0.537401</td>\n",
       "      <td>0.000000</td>\n",
       "      <td>0.462599</td>\n",
       "      <td>0.00000</td>\n",
       "    </tr>\n",
       "    <tr>\n",
       "      <th>4</th>\n",
       "      <td>lpxj6LFir23Ds6swW8a6fg</td>\n",
       "      <td>3.0</td>\n",
       "      <td>The outdoor views from the deck are unparallel...</td>\n",
       "      <td>347</td>\n",
       "      <td>0.000000</td>\n",
       "      <td>0.261984</td>\n",
       "      <td>0.738016</td>\n",
       "      <td>0.00000</td>\n",
       "    </tr>\n",
       "  </tbody>\n",
       "</table>\n",
       "</div>"
      ],
      "text/plain": [
       "              business_id  stars_y  \\\n",
       "0  lpxj6LFir23Ds6swW8a6fg      3.0   \n",
       "1  zLnmmB9jiKg-A2Lggs64-A      3.0   \n",
       "2  qELIf4gzE_vlteu7pO7TZg      3.0   \n",
       "3  7ddnq3YQSKguGK15etqGLQ      3.0   \n",
       "4  lpxj6LFir23Ds6swW8a6fg      3.0   \n",
       "\n",
       "                                                text  review_length         0  \\\n",
       "0  Very fresh food and authentic Italian taste. T...            259  0.182854   \n",
       "1  Not worth the price. Service was OK... \"Poop e...             64  0.000000   \n",
       "2  Fantastic food and atmosphere, and right in th...            162  0.000000   \n",
       "3  We decided on short notice to try the new Ditk...            942  0.537401   \n",
       "4  The outdoor views from the deck are unparallel...            347  0.000000   \n",
       "\n",
       "          1         2        3  \n",
       "0  0.000000  0.702967  0.11418  \n",
       "1  0.000000  1.000000  0.00000  \n",
       "2  0.071388  0.928612  0.00000  \n",
       "3  0.000000  0.462599  0.00000  \n",
       "4  0.261984  0.738016  0.00000  "
      ]
     },
     "execution_count": 73,
     "metadata": {},
     "output_type": "execute_result"
    }
   ],
   "source": [
    "# peek into a dataframe to ensure it worked right\n",
    "df_neg.head()"
   ]
  },
  {
   "cell_type": "markdown",
   "metadata": {},
   "source": [
    "Here are the topic weights for each review in this dataframe. Next, we can group by the business_id and get mean topic weights per restaurant."
   ]
  },
  {
   "cell_type": "code",
   "execution_count": 74,
   "metadata": {},
   "outputs": [],
   "source": [
    "# group by business_id and apply mean/count functions to columns\n",
    "df_pos_bsns = df_pos.groupby('business_id').agg({'stars_y':'mean', 'text':'count',\n",
    "                                                 'review_length':'mean',0:'mean', \n",
    "                                                 1:'mean', 2:'mean', 3:'mean'}).reset_index()\n",
    "df_neg_bsns = df_neg.groupby('business_id').agg({'stars_y':'mean', 'text':'count',\n",
    "                                                 'review_length':'mean',0:'mean', \n",
    "                                                 1:'mean', 2:'mean', 3:'mean'}).reset_index()"
   ]
  },
  {
   "cell_type": "code",
   "execution_count": 75,
   "metadata": {
    "scrolled": true
   },
   "outputs": [
    {
     "data": {
      "text/html": [
       "<div>\n",
       "<style scoped>\n",
       "    .dataframe tbody tr th:only-of-type {\n",
       "        vertical-align: middle;\n",
       "    }\n",
       "\n",
       "    .dataframe tbody tr th {\n",
       "        vertical-align: top;\n",
       "    }\n",
       "\n",
       "    .dataframe thead th {\n",
       "        text-align: right;\n",
       "    }\n",
       "</style>\n",
       "<table border=\"1\" class=\"dataframe\">\n",
       "  <thead>\n",
       "    <tr style=\"text-align: right;\">\n",
       "      <th></th>\n",
       "      <th>business_id</th>\n",
       "      <th>stars_y</th>\n",
       "      <th>text</th>\n",
       "      <th>review_length</th>\n",
       "      <th>0</th>\n",
       "      <th>1</th>\n",
       "      <th>2</th>\n",
       "      <th>3</th>\n",
       "    </tr>\n",
       "  </thead>\n",
       "  <tbody>\n",
       "    <tr>\n",
       "      <th>0</th>\n",
       "      <td>-RQCdTsH5rkG702auLcEqA</td>\n",
       "      <td>3.5</td>\n",
       "      <td>35</td>\n",
       "      <td>697.057143</td>\n",
       "      <td>0.265975</td>\n",
       "      <td>0.085147</td>\n",
       "      <td>0.235490</td>\n",
       "      <td>0.413388</td>\n",
       "    </tr>\n",
       "    <tr>\n",
       "      <th>1</th>\n",
       "      <td>-bHpvkmiFzm_swHLYsGiqw</td>\n",
       "      <td>4.0</td>\n",
       "      <td>120</td>\n",
       "      <td>579.450000</td>\n",
       "      <td>0.190667</td>\n",
       "      <td>0.071186</td>\n",
       "      <td>0.413659</td>\n",
       "      <td>0.324488</td>\n",
       "    </tr>\n",
       "    <tr>\n",
       "      <th>2</th>\n",
       "      <td>0gbi6kYiAOnFwfZ_2_dXSA</td>\n",
       "      <td>4.0</td>\n",
       "      <td>117</td>\n",
       "      <td>634.709402</td>\n",
       "      <td>0.350508</td>\n",
       "      <td>0.060084</td>\n",
       "      <td>0.284954</td>\n",
       "      <td>0.304453</td>\n",
       "    </tr>\n",
       "    <tr>\n",
       "      <th>3</th>\n",
       "      <td>0grgvnq4GgoY-estWytUhg</td>\n",
       "      <td>3.5</td>\n",
       "      <td>103</td>\n",
       "      <td>755.203883</td>\n",
       "      <td>0.148926</td>\n",
       "      <td>0.080779</td>\n",
       "      <td>0.372326</td>\n",
       "      <td>0.397969</td>\n",
       "    </tr>\n",
       "    <tr>\n",
       "      <th>4</th>\n",
       "      <td>1njD5p7-FvV8uoHzwiVYCA</td>\n",
       "      <td>3.5</td>\n",
       "      <td>42</td>\n",
       "      <td>531.333333</td>\n",
       "      <td>0.332267</td>\n",
       "      <td>0.042691</td>\n",
       "      <td>0.232604</td>\n",
       "      <td>0.392438</td>\n",
       "    </tr>\n",
       "  </tbody>\n",
       "</table>\n",
       "</div>"
      ],
      "text/plain": [
       "              business_id  stars_y  text  review_length         0         1  \\\n",
       "0  -RQCdTsH5rkG702auLcEqA      3.5    35     697.057143  0.265975  0.085147   \n",
       "1  -bHpvkmiFzm_swHLYsGiqw      4.0   120     579.450000  0.190667  0.071186   \n",
       "2  0gbi6kYiAOnFwfZ_2_dXSA      4.0   117     634.709402  0.350508  0.060084   \n",
       "3  0grgvnq4GgoY-estWytUhg      3.5   103     755.203883  0.148926  0.080779   \n",
       "4  1njD5p7-FvV8uoHzwiVYCA      3.5    42     531.333333  0.332267  0.042691   \n",
       "\n",
       "          2         3  \n",
       "0  0.235490  0.413388  \n",
       "1  0.413659  0.324488  \n",
       "2  0.284954  0.304453  \n",
       "3  0.372326  0.397969  \n",
       "4  0.232604  0.392438  "
      ]
     },
     "execution_count": 75,
     "metadata": {},
     "output_type": "execute_result"
    }
   ],
   "source": [
    "df_pos_bsns.head(5)"
   ]
  },
  {
   "cell_type": "code",
   "execution_count": 76,
   "metadata": {},
   "outputs": [
    {
     "data": {
      "text/html": [
       "<div>\n",
       "<style scoped>\n",
       "    .dataframe tbody tr th:only-of-type {\n",
       "        vertical-align: middle;\n",
       "    }\n",
       "\n",
       "    .dataframe tbody tr th {\n",
       "        vertical-align: top;\n",
       "    }\n",
       "\n",
       "    .dataframe thead th {\n",
       "        text-align: right;\n",
       "    }\n",
       "</style>\n",
       "<table border=\"1\" class=\"dataframe\">\n",
       "  <thead>\n",
       "    <tr style=\"text-align: right;\">\n",
       "      <th></th>\n",
       "      <th>business_id</th>\n",
       "      <th>stars_y</th>\n",
       "      <th>text</th>\n",
       "      <th>review_length</th>\n",
       "      <th>0</th>\n",
       "      <th>1</th>\n",
       "      <th>2</th>\n",
       "      <th>3</th>\n",
       "    </tr>\n",
       "  </thead>\n",
       "  <tbody>\n",
       "    <tr>\n",
       "      <th>0</th>\n",
       "      <td>0YA3RpY5KXcezPXcjdfOGQ</td>\n",
       "      <td>2.0</td>\n",
       "      <td>6</td>\n",
       "      <td>454.166667</td>\n",
       "      <td>0.413895</td>\n",
       "      <td>0.234186</td>\n",
       "      <td>0.351919</td>\n",
       "      <td>0.000000</td>\n",
       "    </tr>\n",
       "    <tr>\n",
       "      <th>1</th>\n",
       "      <td>0wUBRqU95D8URo5Ws4r5Qg</td>\n",
       "      <td>2.0</td>\n",
       "      <td>47</td>\n",
       "      <td>370.914894</td>\n",
       "      <td>0.170086</td>\n",
       "      <td>0.469782</td>\n",
       "      <td>0.289903</td>\n",
       "      <td>0.070229</td>\n",
       "    </tr>\n",
       "    <tr>\n",
       "      <th>2</th>\n",
       "      <td>1HtxtLaFgTeerAuF9Q5jRQ</td>\n",
       "      <td>3.0</td>\n",
       "      <td>23</td>\n",
       "      <td>699.826087</td>\n",
       "      <td>0.372505</td>\n",
       "      <td>0.294543</td>\n",
       "      <td>0.299048</td>\n",
       "      <td>0.033903</td>\n",
       "    </tr>\n",
       "    <tr>\n",
       "      <th>3</th>\n",
       "      <td>3R6UGi7SU-rHc8FO2VZ29Q</td>\n",
       "      <td>3.0</td>\n",
       "      <td>48</td>\n",
       "      <td>618.625000</td>\n",
       "      <td>0.352147</td>\n",
       "      <td>0.346572</td>\n",
       "      <td>0.287491</td>\n",
       "      <td>0.013790</td>\n",
       "    </tr>\n",
       "    <tr>\n",
       "      <th>4</th>\n",
       "      <td>3YrySY6jiAJO1N7LbjsI_Q</td>\n",
       "      <td>2.5</td>\n",
       "      <td>36</td>\n",
       "      <td>792.138889</td>\n",
       "      <td>0.115113</td>\n",
       "      <td>0.310965</td>\n",
       "      <td>0.541234</td>\n",
       "      <td>0.032688</td>\n",
       "    </tr>\n",
       "  </tbody>\n",
       "</table>\n",
       "</div>"
      ],
      "text/plain": [
       "              business_id  stars_y  text  review_length         0         1  \\\n",
       "0  0YA3RpY5KXcezPXcjdfOGQ      2.0     6     454.166667  0.413895  0.234186   \n",
       "1  0wUBRqU95D8URo5Ws4r5Qg      2.0    47     370.914894  0.170086  0.469782   \n",
       "2  1HtxtLaFgTeerAuF9Q5jRQ      3.0    23     699.826087  0.372505  0.294543   \n",
       "3  3R6UGi7SU-rHc8FO2VZ29Q      3.0    48     618.625000  0.352147  0.346572   \n",
       "4  3YrySY6jiAJO1N7LbjsI_Q      2.5    36     792.138889  0.115113  0.310965   \n",
       "\n",
       "          2         3  \n",
       "0  0.351919  0.000000  \n",
       "1  0.289903  0.070229  \n",
       "2  0.299048  0.033903  \n",
       "3  0.287491  0.013790  \n",
       "4  0.541234  0.032688  "
      ]
     },
     "execution_count": 76,
     "metadata": {},
     "output_type": "execute_result"
    }
   ],
   "source": [
    "df_neg_bsns.head()"
   ]
  },
  {
   "cell_type": "markdown",
   "metadata": {},
   "source": [
    "### Adding in Business Information <a name='s11'></a>"
   ]
  },
  {
   "cell_type": "code",
   "execution_count": 79,
   "metadata": {},
   "outputs": [],
   "source": [
    "# we can read in business info from a saved CSV file\n",
    "# and add that to our last dataframe\n",
    "steak_df = pd.read_csv('review_steakhouse.csv')\n",
    "steak_df.drop(labels='Unnamed: 0', axis=1, inplace=True)\n",
    "steak_df=steak_df.drop(columns=['stars_x','useful','text','address',\"postal_code\",\"attributes\",\"categories\"])"
   ]
  },
  {
   "cell_type": "code",
   "execution_count": 80,
   "metadata": {},
   "outputs": [
    {
     "data": {
      "text/html": [
       "<div>\n",
       "<style scoped>\n",
       "    .dataframe tbody tr th:only-of-type {\n",
       "        vertical-align: middle;\n",
       "    }\n",
       "\n",
       "    .dataframe tbody tr th {\n",
       "        vertical-align: top;\n",
       "    }\n",
       "\n",
       "    .dataframe thead th {\n",
       "        text-align: right;\n",
       "    }\n",
       "</style>\n",
       "<table border=\"1\" class=\"dataframe\">\n",
       "  <thead>\n",
       "    <tr style=\"text-align: right;\">\n",
       "      <th></th>\n",
       "      <th>business_id</th>\n",
       "      <th>name</th>\n",
       "      <th>city</th>\n",
       "      <th>state</th>\n",
       "      <th>stars_y</th>\n",
       "    </tr>\n",
       "  </thead>\n",
       "  <tbody>\n",
       "    <tr>\n",
       "      <th>0</th>\n",
       "      <td>lpxj6LFir23Ds6swW8a6fg</td>\n",
       "      <td>Grandview Saloon</td>\n",
       "      <td>Pittsburgh</td>\n",
       "      <td>PA</td>\n",
       "      <td>3.0</td>\n",
       "    </tr>\n",
       "    <tr>\n",
       "      <th>1</th>\n",
       "      <td>d6VYQbeTZ_WdD8Uuhh35dg</td>\n",
       "      <td>Tempest Oyster Bar</td>\n",
       "      <td>Madison</td>\n",
       "      <td>WI</td>\n",
       "      <td>4.0</td>\n",
       "    </tr>\n",
       "    <tr>\n",
       "      <th>2</th>\n",
       "      <td>szGbmw_vq3kVU4SfK1x6Sw</td>\n",
       "      <td>Ruths Chris Steak House</td>\n",
       "      <td>Pittsburgh</td>\n",
       "      <td>PA</td>\n",
       "      <td>4.0</td>\n",
       "    </tr>\n",
       "    <tr>\n",
       "      <th>3</th>\n",
       "      <td>eF2jf-E5ktRQIh_4_-Jxsg</td>\n",
       "      <td>Cannon's Chop House</td>\n",
       "      <td>Canonsburg</td>\n",
       "      <td>PA</td>\n",
       "      <td>3.5</td>\n",
       "    </tr>\n",
       "    <tr>\n",
       "      <th>4</th>\n",
       "      <td>JhxI7oS_jsFnq34dDubugQ</td>\n",
       "      <td>Ferris Steak House</td>\n",
       "      <td>Cleveland</td>\n",
       "      <td>OH</td>\n",
       "      <td>3.5</td>\n",
       "    </tr>\n",
       "  </tbody>\n",
       "</table>\n",
       "</div>"
      ],
      "text/plain": [
       "              business_id                     name        city state  stars_y\n",
       "0  lpxj6LFir23Ds6swW8a6fg         Grandview Saloon  Pittsburgh    PA      3.0\n",
       "1  d6VYQbeTZ_WdD8Uuhh35dg       Tempest Oyster Bar     Madison    WI      4.0\n",
       "2  szGbmw_vq3kVU4SfK1x6Sw  Ruths Chris Steak House  Pittsburgh    PA      4.0\n",
       "3  eF2jf-E5ktRQIh_4_-Jxsg      Cannon's Chop House  Canonsburg    PA      3.5\n",
       "4  JhxI7oS_jsFnq34dDubugQ       Ferris Steak House   Cleveland    OH      3.5"
      ]
     },
     "execution_count": 80,
     "metadata": {},
     "output_type": "execute_result"
    }
   ],
   "source": [
    "steak_df.head()"
   ]
  },
  {
   "cell_type": "code",
   "execution_count": 81,
   "metadata": {},
   "outputs": [
    {
     "data": {
      "text/html": [
       "<div>\n",
       "<style scoped>\n",
       "    .dataframe tbody tr th:only-of-type {\n",
       "        vertical-align: middle;\n",
       "    }\n",
       "\n",
       "    .dataframe tbody tr th {\n",
       "        vertical-align: top;\n",
       "    }\n",
       "\n",
       "    .dataframe thead th {\n",
       "        text-align: right;\n",
       "    }\n",
       "</style>\n",
       "<table border=\"1\" class=\"dataframe\">\n",
       "  <thead>\n",
       "    <tr style=\"text-align: right;\">\n",
       "      <th></th>\n",
       "      <th>business_id</th>\n",
       "      <th>name</th>\n",
       "      <th>city</th>\n",
       "      <th>state</th>\n",
       "      <th>stars_y</th>\n",
       "    </tr>\n",
       "  </thead>\n",
       "  <tbody>\n",
       "    <tr>\n",
       "      <th>0</th>\n",
       "      <td>lpxj6LFir23Ds6swW8a6fg</td>\n",
       "      <td>Grandview Saloon</td>\n",
       "      <td>Pittsburgh</td>\n",
       "      <td>PA</td>\n",
       "      <td>3.0</td>\n",
       "    </tr>\n",
       "    <tr>\n",
       "      <th>1</th>\n",
       "      <td>d6VYQbeTZ_WdD8Uuhh35dg</td>\n",
       "      <td>Tempest Oyster Bar</td>\n",
       "      <td>Madison</td>\n",
       "      <td>WI</td>\n",
       "      <td>4.0</td>\n",
       "    </tr>\n",
       "    <tr>\n",
       "      <th>2</th>\n",
       "      <td>szGbmw_vq3kVU4SfK1x6Sw</td>\n",
       "      <td>Ruths Chris Steak House</td>\n",
       "      <td>Pittsburgh</td>\n",
       "      <td>PA</td>\n",
       "      <td>4.0</td>\n",
       "    </tr>\n",
       "    <tr>\n",
       "      <th>3</th>\n",
       "      <td>eF2jf-E5ktRQIh_4_-Jxsg</td>\n",
       "      <td>Cannon's Chop House</td>\n",
       "      <td>Canonsburg</td>\n",
       "      <td>PA</td>\n",
       "      <td>3.5</td>\n",
       "    </tr>\n",
       "    <tr>\n",
       "      <th>4</th>\n",
       "      <td>JhxI7oS_jsFnq34dDubugQ</td>\n",
       "      <td>Ferris Steak House</td>\n",
       "      <td>Cleveland</td>\n",
       "      <td>OH</td>\n",
       "      <td>3.5</td>\n",
       "    </tr>\n",
       "  </tbody>\n",
       "</table>\n",
       "</div>"
      ],
      "text/plain": [
       "              business_id                     name        city state  stars_y\n",
       "0  lpxj6LFir23Ds6swW8a6fg         Grandview Saloon  Pittsburgh    PA      3.0\n",
       "1  d6VYQbeTZ_WdD8Uuhh35dg       Tempest Oyster Bar     Madison    WI      4.0\n",
       "2  szGbmw_vq3kVU4SfK1x6Sw  Ruths Chris Steak House  Pittsburgh    PA      4.0\n",
       "3  eF2jf-E5ktRQIh_4_-Jxsg      Cannon's Chop House  Canonsburg    PA      3.5\n",
       "4  JhxI7oS_jsFnq34dDubugQ       Ferris Steak House   Cleveland    OH      3.5"
      ]
     },
     "execution_count": 81,
     "metadata": {},
     "output_type": "execute_result"
    }
   ],
   "source": [
    "steakid=steak_df.groupby('business_id').apply(lambda x: x)\n",
    "steakid=steakid.drop_duplicates()\n",
    "steakid.head()"
   ]
  },
  {
   "cell_type": "code",
   "execution_count": 82,
   "metadata": {},
   "outputs": [
    {
     "name": "stderr",
     "output_type": "stream",
     "text": [
      "<ipython-input-82-a3f6ee3d699e>:1: FutureWarning: Indexing with multiple keys (implicitly converted to a tuple of keys) will be deprecated, use a list instead.\n",
      "  test=df_pos_bsns.groupby(by=['business_id'])[0,1,2,3].sum()\n"
     ]
    },
    {
     "data": {
      "text/html": [
       "<div>\n",
       "<style scoped>\n",
       "    .dataframe tbody tr th:only-of-type {\n",
       "        vertical-align: middle;\n",
       "    }\n",
       "\n",
       "    .dataframe tbody tr th {\n",
       "        vertical-align: top;\n",
       "    }\n",
       "\n",
       "    .dataframe thead th {\n",
       "        text-align: right;\n",
       "    }\n",
       "</style>\n",
       "<table border=\"1\" class=\"dataframe\">\n",
       "  <thead>\n",
       "    <tr style=\"text-align: right;\">\n",
       "      <th></th>\n",
       "      <th>0</th>\n",
       "      <th>1</th>\n",
       "      <th>2</th>\n",
       "      <th>3</th>\n",
       "    </tr>\n",
       "    <tr>\n",
       "      <th>business_id</th>\n",
       "      <th></th>\n",
       "      <th></th>\n",
       "      <th></th>\n",
       "      <th></th>\n",
       "    </tr>\n",
       "  </thead>\n",
       "  <tbody>\n",
       "    <tr>\n",
       "      <th>-RQCdTsH5rkG702auLcEqA</th>\n",
       "      <td>0.265975</td>\n",
       "      <td>0.085147</td>\n",
       "      <td>0.235490</td>\n",
       "      <td>0.413388</td>\n",
       "    </tr>\n",
       "    <tr>\n",
       "      <th>-bHpvkmiFzm_swHLYsGiqw</th>\n",
       "      <td>0.190667</td>\n",
       "      <td>0.071186</td>\n",
       "      <td>0.413659</td>\n",
       "      <td>0.324488</td>\n",
       "    </tr>\n",
       "    <tr>\n",
       "      <th>0gbi6kYiAOnFwfZ_2_dXSA</th>\n",
       "      <td>0.350508</td>\n",
       "      <td>0.060084</td>\n",
       "      <td>0.284954</td>\n",
       "      <td>0.304453</td>\n",
       "    </tr>\n",
       "    <tr>\n",
       "      <th>0grgvnq4GgoY-estWytUhg</th>\n",
       "      <td>0.148926</td>\n",
       "      <td>0.080779</td>\n",
       "      <td>0.372326</td>\n",
       "      <td>0.397969</td>\n",
       "    </tr>\n",
       "    <tr>\n",
       "      <th>1njD5p7-FvV8uoHzwiVYCA</th>\n",
       "      <td>0.332267</td>\n",
       "      <td>0.042691</td>\n",
       "      <td>0.232604</td>\n",
       "      <td>0.392438</td>\n",
       "    </tr>\n",
       "  </tbody>\n",
       "</table>\n",
       "</div>"
      ],
      "text/plain": [
       "                               0         1         2         3\n",
       "business_id                                                   \n",
       "-RQCdTsH5rkG702auLcEqA  0.265975  0.085147  0.235490  0.413388\n",
       "-bHpvkmiFzm_swHLYsGiqw  0.190667  0.071186  0.413659  0.324488\n",
       "0gbi6kYiAOnFwfZ_2_dXSA  0.350508  0.060084  0.284954  0.304453\n",
       "0grgvnq4GgoY-estWytUhg  0.148926  0.080779  0.372326  0.397969\n",
       "1njD5p7-FvV8uoHzwiVYCA  0.332267  0.042691  0.232604  0.392438"
      ]
     },
     "execution_count": 82,
     "metadata": {},
     "output_type": "execute_result"
    }
   ],
   "source": [
    "test=df_pos_bsns.groupby(by=['business_id'])[0,1,2,3].sum()\n",
    "test.head()"
   ]
  },
  {
   "cell_type": "code",
   "execution_count": 84,
   "metadata": {},
   "outputs": [],
   "source": [
    "df_pos_tot = df_pos_bsns.merge(steakid[['business_id','name', 'city', 'stars_y']], left_on='business_id', \n",
    "                               right_on='business_id')[['business_id', 'name', 'city', 0, 1, 2, 3]]\n",
    "\n",
    "df_neg_tot = df_neg_bsns.merge(steakid[[ 'business_id','name', 'city', 'stars_y']], left_on='business_id', \n",
    "                               right_on='business_id')[['business_id', 'name', 'city', 0, 1, 2, 3]]"
   ]
  },
  {
   "cell_type": "code",
   "execution_count": 85,
   "metadata": {},
   "outputs": [
    {
     "data": {
      "text/html": [
       "<div>\n",
       "<style scoped>\n",
       "    .dataframe tbody tr th:only-of-type {\n",
       "        vertical-align: middle;\n",
       "    }\n",
       "\n",
       "    .dataframe tbody tr th {\n",
       "        vertical-align: top;\n",
       "    }\n",
       "\n",
       "    .dataframe thead th {\n",
       "        text-align: right;\n",
       "    }\n",
       "</style>\n",
       "<table border=\"1\" class=\"dataframe\">\n",
       "  <thead>\n",
       "    <tr style=\"text-align: right;\">\n",
       "      <th></th>\n",
       "      <th>business_id</th>\n",
       "      <th>name</th>\n",
       "      <th>city</th>\n",
       "      <th>0</th>\n",
       "      <th>1</th>\n",
       "      <th>2</th>\n",
       "      <th>3</th>\n",
       "    </tr>\n",
       "  </thead>\n",
       "  <tbody>\n",
       "    <tr>\n",
       "      <th>0</th>\n",
       "      <td>-RQCdTsH5rkG702auLcEqA</td>\n",
       "      <td>Hoss's Steak &amp; Sea House</td>\n",
       "      <td>Murrysville</td>\n",
       "      <td>0.265975</td>\n",
       "      <td>0.085147</td>\n",
       "      <td>0.235490</td>\n",
       "      <td>0.413388</td>\n",
       "    </tr>\n",
       "    <tr>\n",
       "      <th>1</th>\n",
       "      <td>-bHpvkmiFzm_swHLYsGiqw</td>\n",
       "      <td>Ken Stewart's Grille</td>\n",
       "      <td>Akron</td>\n",
       "      <td>0.190667</td>\n",
       "      <td>0.071186</td>\n",
       "      <td>0.413659</td>\n",
       "      <td>0.324488</td>\n",
       "    </tr>\n",
       "    <tr>\n",
       "      <th>2</th>\n",
       "      <td>0gbi6kYiAOnFwfZ_2_dXSA</td>\n",
       "      <td>Hyde Park Prime Steakhouse</td>\n",
       "      <td>Beachwood</td>\n",
       "      <td>0.350508</td>\n",
       "      <td>0.060084</td>\n",
       "      <td>0.284954</td>\n",
       "      <td>0.304453</td>\n",
       "    </tr>\n",
       "    <tr>\n",
       "      <th>3</th>\n",
       "      <td>0grgvnq4GgoY-estWytUhg</td>\n",
       "      <td>Timpone's</td>\n",
       "      <td>Urbana</td>\n",
       "      <td>0.148926</td>\n",
       "      <td>0.080779</td>\n",
       "      <td>0.372326</td>\n",
       "      <td>0.397969</td>\n",
       "    </tr>\n",
       "    <tr>\n",
       "      <th>4</th>\n",
       "      <td>1njD5p7-FvV8uoHzwiVYCA</td>\n",
       "      <td>LongHorn Steakhouse</td>\n",
       "      <td>Mentor</td>\n",
       "      <td>0.332267</td>\n",
       "      <td>0.042691</td>\n",
       "      <td>0.232604</td>\n",
       "      <td>0.392438</td>\n",
       "    </tr>\n",
       "  </tbody>\n",
       "</table>\n",
       "</div>"
      ],
      "text/plain": [
       "              business_id                        name         city         0  \\\n",
       "0  -RQCdTsH5rkG702auLcEqA    Hoss's Steak & Sea House  Murrysville  0.265975   \n",
       "1  -bHpvkmiFzm_swHLYsGiqw        Ken Stewart's Grille        Akron  0.190667   \n",
       "2  0gbi6kYiAOnFwfZ_2_dXSA  Hyde Park Prime Steakhouse    Beachwood  0.350508   \n",
       "3  0grgvnq4GgoY-estWytUhg                   Timpone's       Urbana  0.148926   \n",
       "4  1njD5p7-FvV8uoHzwiVYCA         LongHorn Steakhouse       Mentor  0.332267   \n",
       "\n",
       "          1         2         3  \n",
       "0  0.085147  0.235490  0.413388  \n",
       "1  0.071186  0.413659  0.324488  \n",
       "2  0.060084  0.284954  0.304453  \n",
       "3  0.080779  0.372326  0.397969  \n",
       "4  0.042691  0.232604  0.392438  "
      ]
     },
     "execution_count": 85,
     "metadata": {},
     "output_type": "execute_result"
    }
   ],
   "source": [
    "# peek into business/topic distributions\n",
    "#df_pos_tot.head()\n",
    "df_pos_tot.head()"
   ]
  },
  {
   "cell_type": "markdown",
   "metadata": {},
   "source": [
    "We can check topic distributions for a business and see how they make sense after all the reviews have been normalized and then averaged up to the business-level. Let's check `business_id '-bHpvkmiFzm_swHLYsGiqw'`, a famous grille resturant."
   ]
  },
  {
   "cell_type": "code",
   "execution_count": 93,
   "metadata": {},
   "outputs": [
    {
     "name": "stdout",
     "output_type": "stream",
     "text": [
      "Ken Stewart's Grille - Positive Reviews\n",
      "------------------------------------\n",
      "Topic 0: Quality of steaks and sides > 0.1907\n",
      "Topic 1: Other main dishes  > 0.0712\n",
      "Topic 2: Service and atmosphere > 0.4137\n",
      "Topic 3: Waiting time and table availbility > 0.3245\n"
     ]
    }
   ],
   "source": [
    "scores = df_pos_bsns[df_pos_bsns.business_id == '-bHpvkmiFzm_swHLYsGiqw'].iloc[:,-4:].values\n",
    "print(steakid[steakid.business_id == '-bHpvkmiFzm_swHLYsGiqw']['name'].values[0] + ' - Positive Reviews')\n",
    "print('-'*36)\n",
    "for n in pos_topics:\n",
    "    print('Topic {}: {:18} > {:.4f}'.format(n, pos_topics[n], scores[0][n]))"
   ]
  },
  {
   "cell_type": "markdown",
   "metadata": {},
   "source": [
    "We now have 4 dataframes:  \n",
    "1. **`df_pos_tot`: ** topic distribution of positive reviews with name, city, and stars for all restaurants\n",
    "2. **`df_neg_tot`: ** topic distribution of negative reviews with name, city, and stars for all restaurants\n",
    "3. **`df_pos`: ** topic distribution of all positive reviews with associated business_id\n",
    "4. **`df_neg`: ** topic distribution of all negative reviews with associated business_id  \n",
    "\n",
    "We can write them to CSV files and then use that information for further analysis with R and Shiny app."
   ]
  },
  {
   "cell_type": "code",
   "execution_count": 90,
   "metadata": {},
   "outputs": [
    {
     "name": "stdout",
     "output_type": "stream",
     "text": [
      "Wall time: 13 ms\n"
     ]
    }
   ],
   "source": [
    "%%time\n",
    "# write to CSV\n",
    "df_pos_tot.to_csv('outputcsv/pos_bsns.csv')\n",
    "df_neg_tot.to_csv('outputcsv/neg_bsns.csv')"
   ]
  },
  {
   "cell_type": "code",
   "execution_count": null,
   "metadata": {},
   "outputs": [],
   "source": []
  },
  {
   "cell_type": "code",
   "execution_count": null,
   "metadata": {},
   "outputs": [],
   "source": []
  },
  {
   "cell_type": "code",
   "execution_count": null,
   "metadata": {},
   "outputs": [],
   "source": []
  }
 ],
 "metadata": {
  "kernelspec": {
   "display_name": "Python 3",
   "language": "python",
   "name": "python3"
  },
  "language_info": {
   "codemirror_mode": {
    "name": "ipython",
    "version": 3
   },
   "file_extension": ".py",
   "mimetype": "text/x-python",
   "name": "python",
   "nbconvert_exporter": "python",
   "pygments_lexer": "ipython3",
   "version": "3.8.3"
  }
 },
 "nbformat": 4,
 "nbformat_minor": 2
}
