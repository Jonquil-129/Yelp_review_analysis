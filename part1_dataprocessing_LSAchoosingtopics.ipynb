{
 "cells": [
  {
   "cell_type": "markdown",
   "metadata": {},
   "source": [
    "## Yelp reviews analysis"
   ]
  },
  {
   "cell_type": "markdown",
   "metadata": {},
   "source": [
    "STAT 628 Group 13:\\\n",
    "Yike Wang\\\n",
    "Yuhan Zhou\\\n",
    "Jonquil Liao"
   ]
  },
  {
   "cell_type": "markdown",
   "metadata": {},
   "source": [
    "### 1. Import the data"
   ]
  },
  {
   "cell_type": "code",
   "execution_count": 7,
   "metadata": {},
   "outputs": [],
   "source": [
    "import pandas as pd\n",
    "review = pd.read_json('/Users/zhonglingliao/Desktop/stat628/module3/Data/review_city.json', lines=True)\n",
    "business = pd.read_json('/Users/zhonglingliao/Desktop/stat628/module3/Data/business_city.json', lines=True)"
   ]
  },
  {
   "cell_type": "code",
   "execution_count": 8,
   "metadata": {},
   "outputs": [],
   "source": [
    "df_raw = pd.merge(review, business, how='left', on='business_id')\n",
    "df = df_raw.drop(columns=[ 'review_id', 'user_id', 'funny', 'cool', 'date', 'latitude', 'longitude', 'is_open', 'review_count', 'hours'])"
   ]
  },
  {
   "cell_type": "code",
   "execution_count": 9,
   "metadata": {},
   "outputs": [
    {
     "data": {
      "text/html": [
       "<div>\n",
       "<style scoped>\n",
       "    .dataframe tbody tr th:only-of-type {\n",
       "        vertical-align: middle;\n",
       "    }\n",
       "\n",
       "    .dataframe tbody tr th {\n",
       "        vertical-align: top;\n",
       "    }\n",
       "\n",
       "    .dataframe thead th {\n",
       "        text-align: right;\n",
       "    }\n",
       "</style>\n",
       "<table border=\"1\" class=\"dataframe\">\n",
       "  <thead>\n",
       "    <tr style=\"text-align: right;\">\n",
       "      <th></th>\n",
       "      <th>business_id</th>\n",
       "      <th>stars_x</th>\n",
       "      <th>useful</th>\n",
       "      <th>text</th>\n",
       "      <th>name</th>\n",
       "      <th>address</th>\n",
       "      <th>city</th>\n",
       "      <th>state</th>\n",
       "      <th>postal_code</th>\n",
       "      <th>stars_y</th>\n",
       "      <th>attributes</th>\n",
       "      <th>categories</th>\n",
       "    </tr>\n",
       "  </thead>\n",
       "  <tbody>\n",
       "    <tr>\n",
       "      <th>0</th>\n",
       "      <td>HQl28KMwrEKHqhFrrDqVNQ</td>\n",
       "      <td>5</td>\n",
       "      <td>1</td>\n",
       "      <td>I love Deagan's. I do. I really do. The atmosp...</td>\n",
       "      <td>Deagan's Kitchen &amp; Bar</td>\n",
       "      <td>14810 Detroit Ave</td>\n",
       "      <td>Lakewood</td>\n",
       "      <td>OH</td>\n",
       "      <td>44107</td>\n",
       "      <td>4.0</td>\n",
       "      <td>{'BusinessAcceptsCreditCards': 'True', 'Outdoo...</td>\n",
       "      <td>Restaurants, Gastropubs, Nightlife, American (...</td>\n",
       "    </tr>\n",
       "    <tr>\n",
       "      <th>1</th>\n",
       "      <td>ZlCSsWS07JulSBIQlrbF5w</td>\n",
       "      <td>5</td>\n",
       "      <td>1</td>\n",
       "      <td>Called for a 5:15 morning reservation. The dri...</td>\n",
       "      <td>Black Cab &amp; Limo</td>\n",
       "      <td></td>\n",
       "      <td>Champaign</td>\n",
       "      <td>IL</td>\n",
       "      <td></td>\n",
       "      <td>4.5</td>\n",
       "      <td>{'WiFi': 'u'free''}</td>\n",
       "      <td>Airport Shuttles, Transportation, Taxis, Hotel...</td>\n",
       "    </tr>\n",
       "    <tr>\n",
       "      <th>2</th>\n",
       "      <td>oVuZtlCFg_zF090Nhtp0Ow</td>\n",
       "      <td>4</td>\n",
       "      <td>3</td>\n",
       "      <td>A close friend was in town and so instead of t...</td>\n",
       "      <td>Choolaah Indian BBQ</td>\n",
       "      <td>6114 Centre Ave</td>\n",
       "      <td>Pittsburgh</td>\n",
       "      <td>PA</td>\n",
       "      <td>15206</td>\n",
       "      <td>4.0</td>\n",
       "      <td>{'RestaurantsTableService': 'False', 'Restaura...</td>\n",
       "      <td>Restaurants, Indian, Vegetarian, Vegan, Gluten...</td>\n",
       "    </tr>\n",
       "    <tr>\n",
       "      <th>3</th>\n",
       "      <td>wSAGILK2CFbq5BVZ5D67-A</td>\n",
       "      <td>3</td>\n",
       "      <td>0</td>\n",
       "      <td>The service is attentive. The decor attractive...</td>\n",
       "      <td>Adega</td>\n",
       "      <td>2017 E 9th St</td>\n",
       "      <td>Cleveland</td>\n",
       "      <td>OH</td>\n",
       "      <td>44115</td>\n",
       "      <td>4.0</td>\n",
       "      <td>{'BusinessAcceptsCreditCards': 'True', 'Restau...</td>\n",
       "      <td>Mediterranean, Hotels, Beer, Wine &amp; Spirits, B...</td>\n",
       "    </tr>\n",
       "    <tr>\n",
       "      <th>4</th>\n",
       "      <td>oCvxJBOs-Mbg-4oanPO7lQ</td>\n",
       "      <td>4</td>\n",
       "      <td>0</td>\n",
       "      <td>The ingredients are always fresh and I like th...</td>\n",
       "      <td>Pita Pit</td>\n",
       "      <td>2763 East Carson St</td>\n",
       "      <td>Pittsburgh</td>\n",
       "      <td>PA</td>\n",
       "      <td>15203</td>\n",
       "      <td>3.5</td>\n",
       "      <td>{'RestaurantsPriceRange2': '1', 'RestaurantsAt...</td>\n",
       "      <td>Fast Food, Greek, Breakfast &amp; Brunch, Restaura...</td>\n",
       "    </tr>\n",
       "  </tbody>\n",
       "</table>\n",
       "</div>"
      ],
      "text/plain": [
       "              business_id  stars_x  useful  \\\n",
       "0  HQl28KMwrEKHqhFrrDqVNQ        5       1   \n",
       "1  ZlCSsWS07JulSBIQlrbF5w        5       1   \n",
       "2  oVuZtlCFg_zF090Nhtp0Ow        4       3   \n",
       "3  wSAGILK2CFbq5BVZ5D67-A        3       0   \n",
       "4  oCvxJBOs-Mbg-4oanPO7lQ        4       0   \n",
       "\n",
       "                                                text                    name  \\\n",
       "0  I love Deagan's. I do. I really do. The atmosp...  Deagan's Kitchen & Bar   \n",
       "1  Called for a 5:15 morning reservation. The dri...        Black Cab & Limo   \n",
       "2  A close friend was in town and so instead of t...     Choolaah Indian BBQ   \n",
       "3  The service is attentive. The decor attractive...                   Adega   \n",
       "4  The ingredients are always fresh and I like th...                Pita Pit   \n",
       "\n",
       "               address        city state postal_code  stars_y  \\\n",
       "0    14810 Detroit Ave    Lakewood    OH       44107      4.0   \n",
       "1                        Champaign    IL                  4.5   \n",
       "2      6114 Centre Ave  Pittsburgh    PA       15206      4.0   \n",
       "3        2017 E 9th St   Cleveland    OH       44115      4.0   \n",
       "4  2763 East Carson St  Pittsburgh    PA       15203      3.5   \n",
       "\n",
       "                                          attributes  \\\n",
       "0  {'BusinessAcceptsCreditCards': 'True', 'Outdoo...   \n",
       "1                                {'WiFi': 'u'free''}   \n",
       "2  {'RestaurantsTableService': 'False', 'Restaura...   \n",
       "3  {'BusinessAcceptsCreditCards': 'True', 'Restau...   \n",
       "4  {'RestaurantsPriceRange2': '1', 'RestaurantsAt...   \n",
       "\n",
       "                                          categories  \n",
       "0  Restaurants, Gastropubs, Nightlife, American (...  \n",
       "1  Airport Shuttles, Transportation, Taxis, Hotel...  \n",
       "2  Restaurants, Indian, Vegetarian, Vegan, Gluten...  \n",
       "3  Mediterranean, Hotels, Beer, Wine & Spirits, B...  \n",
       "4  Fast Food, Greek, Breakfast & Brunch, Restaura...  "
      ]
     },
     "execution_count": 9,
     "metadata": {},
     "output_type": "execute_result"
    }
   ],
   "source": [
    "df.head()"
   ]
  },
  {
   "cell_type": "markdown",
   "metadata": {},
   "source": [
    "### 2. Choose the Business\n",
    "\n",
    "#### We plan to focus on business type 'Steakhouse', so here we pick out the businesses only in category 'Steakhouse'."
   ]
  },
  {
   "cell_type": "code",
   "execution_count": 10,
   "metadata": {},
   "outputs": [],
   "source": [
    "data = df[df['categories'].str.contains('Steakhouse',na=False)]"
   ]
  },
  {
   "cell_type": "code",
   "execution_count": 11,
   "metadata": {},
   "outputs": [
    {
     "data": {
      "text/html": [
       "<div>\n",
       "<style scoped>\n",
       "    .dataframe tbody tr th:only-of-type {\n",
       "        vertical-align: middle;\n",
       "    }\n",
       "\n",
       "    .dataframe tbody tr th {\n",
       "        vertical-align: top;\n",
       "    }\n",
       "\n",
       "    .dataframe thead th {\n",
       "        text-align: right;\n",
       "    }\n",
       "</style>\n",
       "<table border=\"1\" class=\"dataframe\">\n",
       "  <thead>\n",
       "    <tr style=\"text-align: right;\">\n",
       "      <th></th>\n",
       "      <th>business_id</th>\n",
       "      <th>stars_x</th>\n",
       "      <th>useful</th>\n",
       "      <th>text</th>\n",
       "      <th>name</th>\n",
       "      <th>address</th>\n",
       "      <th>city</th>\n",
       "      <th>state</th>\n",
       "      <th>postal_code</th>\n",
       "      <th>stars_y</th>\n",
       "      <th>attributes</th>\n",
       "      <th>categories</th>\n",
       "    </tr>\n",
       "  </thead>\n",
       "  <tbody>\n",
       "    <tr>\n",
       "      <th>169</th>\n",
       "      <td>VGxJbglGlx-a7Gdc55Q6jQ</td>\n",
       "      <td>1</td>\n",
       "      <td>1</td>\n",
       "      <td>I gave this place 2 chances. i love japanese f...</td>\n",
       "      <td>Katana</td>\n",
       "      <td>3229 W Liberty Ave</td>\n",
       "      <td>Pittsburgh</td>\n",
       "      <td>PA</td>\n",
       "      <td>15216</td>\n",
       "      <td>3.0</td>\n",
       "      <td>{'RestaurantsAttire': 'u'casual'', 'Restaurant...</td>\n",
       "      <td>Restaurants, Japanese, Sushi Bars, Chinese, St...</td>\n",
       "    </tr>\n",
       "    <tr>\n",
       "      <th>188</th>\n",
       "      <td>lpxj6LFir23Ds6swW8a6fg</td>\n",
       "      <td>4</td>\n",
       "      <td>0</td>\n",
       "      <td>Very fresh food and authentic Italian taste. T...</td>\n",
       "      <td>Grandview Saloon</td>\n",
       "      <td>1212 Grandview Ave</td>\n",
       "      <td>Pittsburgh</td>\n",
       "      <td>PA</td>\n",
       "      <td>15211</td>\n",
       "      <td>3.0</td>\n",
       "      <td>{'Alcohol': 'u'full_bar'', 'WiFi': ''free'', '...</td>\n",
       "      <td>Restaurants, Steakhouses, Seafood, American (T...</td>\n",
       "    </tr>\n",
       "    <tr>\n",
       "      <th>219</th>\n",
       "      <td>d6VYQbeTZ_WdD8Uuhh35dg</td>\n",
       "      <td>5</td>\n",
       "      <td>0</td>\n",
       "      <td>This is my favorite happy hour place in all of...</td>\n",
       "      <td>Tempest Oyster Bar</td>\n",
       "      <td>120 E Wilson St</td>\n",
       "      <td>Madison</td>\n",
       "      <td>WI</td>\n",
       "      <td>53703</td>\n",
       "      <td>4.0</td>\n",
       "      <td>{'RestaurantsTakeOut': 'False', 'WiFi': 'u'no'...</td>\n",
       "      <td>Steakhouses, Restaurants, Bars, Seafood, Night...</td>\n",
       "    </tr>\n",
       "    <tr>\n",
       "      <th>262</th>\n",
       "      <td>szGbmw_vq3kVU4SfK1x6Sw</td>\n",
       "      <td>4</td>\n",
       "      <td>1</td>\n",
       "      <td>Ruth Chris Steakhouse is by far one of the bes...</td>\n",
       "      <td>Ruths Chris Steak House</td>\n",
       "      <td>6 PPG Pl</td>\n",
       "      <td>Pittsburgh</td>\n",
       "      <td>PA</td>\n",
       "      <td>15222</td>\n",
       "      <td>4.0</td>\n",
       "      <td>{'BusinessParking': '{'garage': False, 'street...</td>\n",
       "      <td>Restaurants, Steakhouses</td>\n",
       "    </tr>\n",
       "    <tr>\n",
       "      <th>269</th>\n",
       "      <td>ZspvlO5Dvtd517YhVLJJ_A</td>\n",
       "      <td>3</td>\n",
       "      <td>5</td>\n",
       "      <td>When it comes to Tomo, my biggest suggestions ...</td>\n",
       "      <td>Tomo Sushi &amp; Hibachi</td>\n",
       "      <td>1293 W 9th St</td>\n",
       "      <td>Cleveland</td>\n",
       "      <td>OH</td>\n",
       "      <td>44113</td>\n",
       "      <td>3.0</td>\n",
       "      <td>{'RestaurantsGoodForGroups': 'True', 'Business...</td>\n",
       "      <td>Sushi Bars, Restaurants, Japanese, Steakhouses</td>\n",
       "    </tr>\n",
       "  </tbody>\n",
       "</table>\n",
       "</div>"
      ],
      "text/plain": [
       "                business_id  stars_x  useful  \\\n",
       "169  VGxJbglGlx-a7Gdc55Q6jQ        1       1   \n",
       "188  lpxj6LFir23Ds6swW8a6fg        4       0   \n",
       "219  d6VYQbeTZ_WdD8Uuhh35dg        5       0   \n",
       "262  szGbmw_vq3kVU4SfK1x6Sw        4       1   \n",
       "269  ZspvlO5Dvtd517YhVLJJ_A        3       5   \n",
       "\n",
       "                                                  text  \\\n",
       "169  I gave this place 2 chances. i love japanese f...   \n",
       "188  Very fresh food and authentic Italian taste. T...   \n",
       "219  This is my favorite happy hour place in all of...   \n",
       "262  Ruth Chris Steakhouse is by far one of the bes...   \n",
       "269  When it comes to Tomo, my biggest suggestions ...   \n",
       "\n",
       "                        name             address        city state  \\\n",
       "169                   Katana  3229 W Liberty Ave  Pittsburgh    PA   \n",
       "188         Grandview Saloon  1212 Grandview Ave  Pittsburgh    PA   \n",
       "219       Tempest Oyster Bar     120 E Wilson St     Madison    WI   \n",
       "262  Ruths Chris Steak House            6 PPG Pl  Pittsburgh    PA   \n",
       "269     Tomo Sushi & Hibachi       1293 W 9th St   Cleveland    OH   \n",
       "\n",
       "    postal_code  stars_y                                         attributes  \\\n",
       "169       15216      3.0  {'RestaurantsAttire': 'u'casual'', 'Restaurant...   \n",
       "188       15211      3.0  {'Alcohol': 'u'full_bar'', 'WiFi': ''free'', '...   \n",
       "219       53703      4.0  {'RestaurantsTakeOut': 'False', 'WiFi': 'u'no'...   \n",
       "262       15222      4.0  {'BusinessParking': '{'garage': False, 'street...   \n",
       "269       44113      3.0  {'RestaurantsGoodForGroups': 'True', 'Business...   \n",
       "\n",
       "                                            categories  \n",
       "169  Restaurants, Japanese, Sushi Bars, Chinese, St...  \n",
       "188  Restaurants, Steakhouses, Seafood, American (T...  \n",
       "219  Steakhouses, Restaurants, Bars, Seafood, Night...  \n",
       "262                           Restaurants, Steakhouses  \n",
       "269     Sushi Bars, Restaurants, Japanese, Steakhouses  "
      ]
     },
     "execution_count": 11,
     "metadata": {},
     "output_type": "execute_result"
    }
   ],
   "source": [
    "data.head()"
   ]
  },
  {
   "cell_type": "code",
   "execution_count": 12,
   "metadata": {},
   "outputs": [
    {
     "data": {
      "text/plain": [
       "32184"
      ]
     },
     "execution_count": 12,
     "metadata": {},
     "output_type": "execute_result"
    }
   ],
   "source": [
    "len(data)"
   ]
  },
  {
   "cell_type": "code",
   "execution_count": 13,
   "metadata": {},
   "outputs": [
    {
     "data": {
      "text/plain": [
       "354"
      ]
     },
     "execution_count": 13,
     "metadata": {},
     "output_type": "execute_result"
    }
   ],
   "source": [
    "liststeak = {}.fromkeys(data.business_id).keys()\n",
    "len(liststeak)"
   ]
  },
  {
   "cell_type": "markdown",
   "metadata": {},
   "source": [
    "#### There are around 354 businesses that contains category 'Steakhouse' and 30000 reviews we should work on.\n",
    "\n",
    "#### Let's take a look at how many reviews  in each rating level."
   ]
  },
  {
   "cell_type": "code",
   "execution_count": 14,
   "metadata": {},
   "outputs": [
    {
     "data": {
      "image/png": "[encoded data removed]",
      "text/plain": [
       "<Figure size 576x360 with 1 Axes>"
      ]
     },
     "metadata": {
      "needs_background": "light"
     },
     "output_type": "display_data"
    }
   ],
   "source": [
    "import matplotlib.pyplot as plt\n",
    "star_x = data.stars_x.value_counts().index\n",
    "star_y = data.stars_x.value_counts().values\n",
    "plt.figure(figsize=(8,5))\n",
    "bar_colors = ['darkgreen', 'mediumseagreen', 'gold', 'crimson', 'orange']\n",
    "plt.bar(star_x, star_y, color=bar_colors, width=.6)\n",
    "plt.xlabel('Stars (Rating)')\n",
    "plt.ylabel('Number of reviews')\n",
    "plt.title('Number of reviews by Rating for Steakhouses');"
   ]
  },
  {
   "cell_type": "markdown",
   "metadata": {},
   "source": [
    "#### Let's take a look at how many reviews are there for each rating level."
   ]
  },
  {
   "cell_type": "code",
   "execution_count": 15,
   "metadata": {},
   "outputs": [],
   "source": [
    "review_steakhouse = review[review.business_id.isin(data.business_id)]"
   ]
  },
  {
   "cell_type": "code",
   "execution_count": 16,
   "metadata": {},
   "outputs": [
    {
     "data": {
      "text/html": [
       "<div>\n",
       "<style scoped>\n",
       "    .dataframe tbody tr th:only-of-type {\n",
       "        vertical-align: middle;\n",
       "    }\n",
       "\n",
       "    .dataframe tbody tr th {\n",
       "        vertical-align: top;\n",
       "    }\n",
       "\n",
       "    .dataframe thead th {\n",
       "        text-align: right;\n",
       "    }\n",
       "</style>\n",
       "<table border=\"1\" class=\"dataframe\">\n",
       "  <thead>\n",
       "    <tr style=\"text-align: right;\">\n",
       "      <th></th>\n",
       "      <th>review_id</th>\n",
       "      <th>user_id</th>\n",
       "      <th>business_id</th>\n",
       "      <th>stars</th>\n",
       "      <th>useful</th>\n",
       "      <th>funny</th>\n",
       "      <th>cool</th>\n",
       "      <th>text</th>\n",
       "      <th>date</th>\n",
       "    </tr>\n",
       "  </thead>\n",
       "  <tbody>\n",
       "    <tr>\n",
       "      <th>169</th>\n",
       "      <td>6GNIVJCqvvPAKXKL3oa9Sg</td>\n",
       "      <td>w1nr-eZ04z-Cq4ErAN2otg</td>\n",
       "      <td>VGxJbglGlx-a7Gdc55Q6jQ</td>\n",
       "      <td>1</td>\n",
       "      <td>1</td>\n",
       "      <td>1</td>\n",
       "      <td>0</td>\n",
       "      <td>I gave this place 2 chances. i love japanese f...</td>\n",
       "      <td>2013-05-08 01:34:24</td>\n",
       "    </tr>\n",
       "    <tr>\n",
       "      <th>188</th>\n",
       "      <td>wqwgRouFIAi29XGhSiZoDg</td>\n",
       "      <td>m5ID0Dpz6IxbNPmhgZQyEQ</td>\n",
       "      <td>lpxj6LFir23Ds6swW8a6fg</td>\n",
       "      <td>4</td>\n",
       "      <td>0</td>\n",
       "      <td>0</td>\n",
       "      <td>0</td>\n",
       "      <td>Very fresh food and authentic Italian taste. T...</td>\n",
       "      <td>2014-08-10 20:30:28</td>\n",
       "    </tr>\n",
       "    <tr>\n",
       "      <th>219</th>\n",
       "      <td>7vsixeZiFsfGoI7JxTpqLg</td>\n",
       "      <td>URig1W1Y_6P2viLKDx5hkQ</td>\n",
       "      <td>d6VYQbeTZ_WdD8Uuhh35dg</td>\n",
       "      <td>5</td>\n",
       "      <td>0</td>\n",
       "      <td>0</td>\n",
       "      <td>1</td>\n",
       "      <td>This is my favorite happy hour place in all of...</td>\n",
       "      <td>2016-11-09 21:15:28</td>\n",
       "    </tr>\n",
       "    <tr>\n",
       "      <th>262</th>\n",
       "      <td>0wceCr75fE63DVC-BxJucQ</td>\n",
       "      <td>jV2JRJT9oSEVzoSkOSqmiQ</td>\n",
       "      <td>szGbmw_vq3kVU4SfK1x6Sw</td>\n",
       "      <td>4</td>\n",
       "      <td>1</td>\n",
       "      <td>0</td>\n",
       "      <td>0</td>\n",
       "      <td>Ruth Chris Steakhouse is by far one of the bes...</td>\n",
       "      <td>2015-01-03 23:44:23</td>\n",
       "    </tr>\n",
       "    <tr>\n",
       "      <th>269</th>\n",
       "      <td>R2agv2EUeCooIv0_-3X7YA</td>\n",
       "      <td>u3ZPMVVEzneq8x856WksJQ</td>\n",
       "      <td>ZspvlO5Dvtd517YhVLJJ_A</td>\n",
       "      <td>3</td>\n",
       "      <td>5</td>\n",
       "      <td>0</td>\n",
       "      <td>2</td>\n",
       "      <td>When it comes to Tomo, my biggest suggestions ...</td>\n",
       "      <td>2016-03-06 23:43:57</td>\n",
       "    </tr>\n",
       "  </tbody>\n",
       "</table>\n",
       "</div>"
      ],
      "text/plain": [
       "                  review_id                 user_id             business_id  \\\n",
       "169  6GNIVJCqvvPAKXKL3oa9Sg  w1nr-eZ04z-Cq4ErAN2otg  VGxJbglGlx-a7Gdc55Q6jQ   \n",
       "188  wqwgRouFIAi29XGhSiZoDg  m5ID0Dpz6IxbNPmhgZQyEQ  lpxj6LFir23Ds6swW8a6fg   \n",
       "219  7vsixeZiFsfGoI7JxTpqLg  URig1W1Y_6P2viLKDx5hkQ  d6VYQbeTZ_WdD8Uuhh35dg   \n",
       "262  0wceCr75fE63DVC-BxJucQ  jV2JRJT9oSEVzoSkOSqmiQ  szGbmw_vq3kVU4SfK1x6Sw   \n",
       "269  R2agv2EUeCooIv0_-3X7YA  u3ZPMVVEzneq8x856WksJQ  ZspvlO5Dvtd517YhVLJJ_A   \n",
       "\n",
       "     stars  useful  funny  cool  \\\n",
       "169      1       1      1     0   \n",
       "188      4       0      0     0   \n",
       "219      5       0      0     1   \n",
       "262      4       1      0     0   \n",
       "269      3       5      0     2   \n",
       "\n",
       "                                                  text                date  \n",
       "169  I gave this place 2 chances. i love japanese f... 2013-05-08 01:34:24  \n",
       "188  Very fresh food and authentic Italian taste. T... 2014-08-10 20:30:28  \n",
       "219  This is my favorite happy hour place in all of... 2016-11-09 21:15:28  \n",
       "262  Ruth Chris Steakhouse is by far one of the bes... 2015-01-03 23:44:23  \n",
       "269  When it comes to Tomo, my biggest suggestions ... 2016-03-06 23:43:57  "
      ]
     },
     "execution_count": 16,
     "metadata": {},
     "output_type": "execute_result"
    }
   ],
   "source": [
    "review_steakhouse.head()"
   ]
  },
  {
   "cell_type": "code",
   "execution_count": 17,
   "metadata": {},
   "outputs": [
    {
     "data": {
      "text/html": [
       "<div>\n",
       "<style scoped>\n",
       "    .dataframe tbody tr th:only-of-type {\n",
       "        vertical-align: middle;\n",
       "    }\n",
       "\n",
       "    .dataframe tbody tr th {\n",
       "        vertical-align: top;\n",
       "    }\n",
       "\n",
       "    .dataframe thead th {\n",
       "        text-align: right;\n",
       "    }\n",
       "</style>\n",
       "<table border=\"1\" class=\"dataframe\">\n",
       "  <thead>\n",
       "    <tr style=\"text-align: right;\">\n",
       "      <th></th>\n",
       "      <th>business_id</th>\n",
       "      <th>stars_x</th>\n",
       "      <th>useful</th>\n",
       "      <th>text</th>\n",
       "      <th>name</th>\n",
       "      <th>address</th>\n",
       "      <th>city</th>\n",
       "      <th>state</th>\n",
       "      <th>postal_code</th>\n",
       "      <th>stars_y</th>\n",
       "      <th>attributes</th>\n",
       "      <th>categories</th>\n",
       "    </tr>\n",
       "  </thead>\n",
       "  <tbody>\n",
       "    <tr>\n",
       "      <th>169</th>\n",
       "      <td>VGxJbglGlx-a7Gdc55Q6jQ</td>\n",
       "      <td>1</td>\n",
       "      <td>1</td>\n",
       "      <td>I gave this place 2 chances. i love japanese f...</td>\n",
       "      <td>Katana</td>\n",
       "      <td>3229 W Liberty Ave</td>\n",
       "      <td>Pittsburgh</td>\n",
       "      <td>PA</td>\n",
       "      <td>15216</td>\n",
       "      <td>3.0</td>\n",
       "      <td>{'RestaurantsAttire': 'u'casual'', 'Restaurant...</td>\n",
       "      <td>Restaurants, Japanese, Sushi Bars, Chinese, St...</td>\n",
       "    </tr>\n",
       "    <tr>\n",
       "      <th>188</th>\n",
       "      <td>lpxj6LFir23Ds6swW8a6fg</td>\n",
       "      <td>4</td>\n",
       "      <td>0</td>\n",
       "      <td>Very fresh food and authentic Italian taste. T...</td>\n",
       "      <td>Grandview Saloon</td>\n",
       "      <td>1212 Grandview Ave</td>\n",
       "      <td>Pittsburgh</td>\n",
       "      <td>PA</td>\n",
       "      <td>15211</td>\n",
       "      <td>3.0</td>\n",
       "      <td>{'Alcohol': 'u'full_bar'', 'WiFi': ''free'', '...</td>\n",
       "      <td>Restaurants, Steakhouses, Seafood, American (T...</td>\n",
       "    </tr>\n",
       "    <tr>\n",
       "      <th>219</th>\n",
       "      <td>d6VYQbeTZ_WdD8Uuhh35dg</td>\n",
       "      <td>5</td>\n",
       "      <td>0</td>\n",
       "      <td>This is my favorite happy hour place in all of...</td>\n",
       "      <td>Tempest Oyster Bar</td>\n",
       "      <td>120 E Wilson St</td>\n",
       "      <td>Madison</td>\n",
       "      <td>WI</td>\n",
       "      <td>53703</td>\n",
       "      <td>4.0</td>\n",
       "      <td>{'RestaurantsTakeOut': 'False', 'WiFi': 'u'no'...</td>\n",
       "      <td>Steakhouses, Restaurants, Bars, Seafood, Night...</td>\n",
       "    </tr>\n",
       "    <tr>\n",
       "      <th>262</th>\n",
       "      <td>szGbmw_vq3kVU4SfK1x6Sw</td>\n",
       "      <td>4</td>\n",
       "      <td>1</td>\n",
       "      <td>Ruth Chris Steakhouse is by far one of the bes...</td>\n",
       "      <td>Ruths Chris Steak House</td>\n",
       "      <td>6 PPG Pl</td>\n",
       "      <td>Pittsburgh</td>\n",
       "      <td>PA</td>\n",
       "      <td>15222</td>\n",
       "      <td>4.0</td>\n",
       "      <td>{'BusinessParking': '{'garage': False, 'street...</td>\n",
       "      <td>Restaurants, Steakhouses</td>\n",
       "    </tr>\n",
       "    <tr>\n",
       "      <th>269</th>\n",
       "      <td>ZspvlO5Dvtd517YhVLJJ_A</td>\n",
       "      <td>3</td>\n",
       "      <td>5</td>\n",
       "      <td>When it comes to Tomo, my biggest suggestions ...</td>\n",
       "      <td>Tomo Sushi &amp; Hibachi</td>\n",
       "      <td>1293 W 9th St</td>\n",
       "      <td>Cleveland</td>\n",
       "      <td>OH</td>\n",
       "      <td>44113</td>\n",
       "      <td>3.0</td>\n",
       "      <td>{'RestaurantsGoodForGroups': 'True', 'Business...</td>\n",
       "      <td>Sushi Bars, Restaurants, Japanese, Steakhouses</td>\n",
       "    </tr>\n",
       "  </tbody>\n",
       "</table>\n",
       "</div>"
      ],
      "text/plain": [
       "                business_id  stars_x  useful  \\\n",
       "169  VGxJbglGlx-a7Gdc55Q6jQ        1       1   \n",
       "188  lpxj6LFir23Ds6swW8a6fg        4       0   \n",
       "219  d6VYQbeTZ_WdD8Uuhh35dg        5       0   \n",
       "262  szGbmw_vq3kVU4SfK1x6Sw        4       1   \n",
       "269  ZspvlO5Dvtd517YhVLJJ_A        3       5   \n",
       "\n",
       "                                                  text  \\\n",
       "169  I gave this place 2 chances. i love japanese f...   \n",
       "188  Very fresh food and authentic Italian taste. T...   \n",
       "219  This is my favorite happy hour place in all of...   \n",
       "262  Ruth Chris Steakhouse is by far one of the bes...   \n",
       "269  When it comes to Tomo, my biggest suggestions ...   \n",
       "\n",
       "                        name             address        city state  \\\n",
       "169                   Katana  3229 W Liberty Ave  Pittsburgh    PA   \n",
       "188         Grandview Saloon  1212 Grandview Ave  Pittsburgh    PA   \n",
       "219       Tempest Oyster Bar     120 E Wilson St     Madison    WI   \n",
       "262  Ruths Chris Steak House            6 PPG Pl  Pittsburgh    PA   \n",
       "269     Tomo Sushi & Hibachi       1293 W 9th St   Cleveland    OH   \n",
       "\n",
       "    postal_code  stars_y                                         attributes  \\\n",
       "169       15216      3.0  {'RestaurantsAttire': 'u'casual'', 'Restaurant...   \n",
       "188       15211      3.0  {'Alcohol': 'u'full_bar'', 'WiFi': ''free'', '...   \n",
       "219       53703      4.0  {'RestaurantsTakeOut': 'False', 'WiFi': 'u'no'...   \n",
       "262       15222      4.0  {'BusinessParking': '{'garage': False, 'street...   \n",
       "269       44113      3.0  {'RestaurantsGoodForGroups': 'True', 'Business...   \n",
       "\n",
       "                                            categories  \n",
       "169  Restaurants, Japanese, Sushi Bars, Chinese, St...  \n",
       "188  Restaurants, Steakhouses, Seafood, American (T...  \n",
       "219  Steakhouses, Restaurants, Bars, Seafood, Night...  \n",
       "262                           Restaurants, Steakhouses  \n",
       "269     Sushi Bars, Restaurants, Japanese, Steakhouses  "
      ]
     },
     "execution_count": 17,
     "metadata": {},
     "output_type": "execute_result"
    }
   ],
   "source": [
    "data.head()"
   ]
  },
  {
   "cell_type": "markdown",
   "metadata": {},
   "source": [
    "#### Save the review_steakhouse"
   ]
  },
  {
   "cell_type": "code",
   "execution_count": 18,
   "metadata": {},
   "outputs": [],
   "source": [
    "data.to_csv('review_steakhouse.csv')"
   ]
  },
  {
   "cell_type": "markdown",
   "metadata": {},
   "source": [
    "#### Then let's take a loot at the length of the reviews."
   ]
  },
  {
   "cell_type": "code",
   "execution_count": 19,
   "metadata": {},
   "outputs": [
    {
     "name": "stderr",
     "output_type": "stream",
     "text": [
      "<ipython-input-19-ce21c0a0adf6>:3: SettingWithCopyWarning: \n",
      "A value is trying to be set on a copy of a slice from a DataFrame.\n",
      "Try using .loc[row_indexer,col_indexer] = value instead\n",
      "\n",
      "See the caveats in the documentation: https://pandas.pydata.org/pandas-docs/stable/user_guide/indexing.html#returning-a-view-versus-a-copy\n",
      "  data['review_length'] = data.text.map(len)\n"
     ]
    },
    {
     "data": {
      "image/png": "[encoded data removed]",
      "text/plain": [
       "<Figure size 1080x216 with 5 Axes>"
      ]
     },
     "metadata": {},
     "output_type": "display_data"
    }
   ],
   "source": [
    "import seaborn as sns\n",
    "sns.set()\n",
    "data['review_length'] = data.text.map(len)\n",
    "ax = sns.FacetGrid(data=data, col='stars_x',xlim=(0, 2000)).map(plt.hist, 'review_length', bins=50)\n",
    "ax.axes[0][0].set(ylabel='number of reviews');"
   ]
  },
  {
   "cell_type": "markdown",
   "metadata": {},
   "source": [
    "### 3. Choose the topics"
   ]
  },
  {
   "cell_type": "code",
   "execution_count": 20,
   "metadata": {},
   "outputs": [],
   "source": [
    "import numpy as np\n",
    "from textblob import TextBlob\n",
    "import nltk\n",
    "from nltk.corpus import stopwords\n",
    "from wordcloud import WordCloud\n",
    "import re, string\n",
    "import sys\n",
    "import time\n",
    "import collections"
   ]
  },
  {
   "cell_type": "code",
   "execution_count": 21,
   "metadata": {},
   "outputs": [
    {
     "name": "stderr",
     "output_type": "stream",
     "text": [
      "[nltk_data] Downloading package stopwords to\n",
      "[nltk_data]     /Users/zhonglingliao/nltk_data...\n",
      "[nltk_data]   Package stopwords is already up-to-date!\n"
     ]
    }
   ],
   "source": [
    "import collections\n",
    "nltk.download('stopwords')\n",
    "stop_words = stopwords.words('english')"
   ]
  },
  {
   "cell_type": "code",
   "execution_count": 22,
   "metadata": {},
   "outputs": [],
   "source": [
    "badreviews = data[(data.stars_x <= 2 )]\n",
    "goodreviews = data[(data.stars_x >= 4)]\n",
    "badreviews = badreviews.text\n",
    "goodreviews = goodreviews.text"
   ]
  },
  {
   "cell_type": "markdown",
   "metadata": {},
   "source": [
    "#### clean the reviews"
   ]
  },
  {
   "cell_type": "code",
   "execution_count": 23,
   "metadata": {},
   "outputs": [],
   "source": [
    "badreviews = [\"\".join([char for char in a if char not in string.punctuation]) for a in badreviews]\n",
    "goodreviews = [\"\".join([char for char in a if char not in string.punctuation]) for a in goodreviews]"
   ]
  },
  {
   "cell_type": "code",
   "execution_count": 24,
   "metadata": {},
   "outputs": [
    {
     "name": "stderr",
     "output_type": "stream",
     "text": [
      "[nltk_data] Downloading package punkt to\n",
      "[nltk_data]     /Users/zhonglingliao/nltk_data...\n",
      "[nltk_data]   Package punkt is already up-to-date!\n",
      "[nltk_data] Downloading package wordnet to\n",
      "[nltk_data]     /Users/zhonglingliao/nltk_data...\n",
      "[nltk_data]   Package wordnet is already up-to-date!\n"
     ]
    }
   ],
   "source": [
    "import nltk\n",
    "nltk.download('punkt')\n",
    "nltk.download('wordnet')\n",
    "from nltk import word_tokenize,sent_tokenize"
   ]
  },
  {
   "cell_type": "code",
   "execution_count": 72,
   "metadata": {},
   "outputs": [],
   "source": [
    "text1=badreviews\n",
    "text1 = [a.lower() for a in text1]\n",
    "words1 = [nltk.word_tokenize(a) for a in text1]\n",
    "filtered_words1 = [[word for word in a if word not in stop_words] for a in words1]\n",
    "from nltk.stem.wordnet import WordNetLemmatizer\n",
    "lmtzr = WordNetLemmatizer()"
   ]
  },
  {
   "cell_type": "code",
   "execution_count": 73,
   "metadata": {},
   "outputs": [],
   "source": [
    "text2=goodreviews\n",
    "text2 = [a.lower() for a in text2]\n",
    "words2 = [nltk.word_tokenize(a) for a in text2]\n",
    "filtered_words2 = [[word for word in a if word not in stop_words] for a in words2]"
   ]
  },
  {
   "cell_type": "code",
   "execution_count": 115,
   "metadata": {},
   "outputs": [],
   "source": [
    "lemmatized_words1 = [[lmtzr.lemmatize(x) for x in a] for a in filtered_words1]\n",
    "lemmatized_words2 = [[lmtzr.lemmatize(x) for x in a] for a in filtered_words2]"
   ]
  },
  {
   "cell_type": "markdown",
   "metadata": {},
   "source": [
    "#### Let's use LSA to determine the number of top topics and topics we plan to do further analysis with"
   ]
  },
  {
   "cell_type": "markdown",
   "metadata": {},
   "source": [
    "#### Firstly, we have to use tfdif algorithm to get the top valuous words in bad/good reviews."
   ]
  },
  {
   "cell_type": "code",
   "execution_count": 67,
   "metadata": {},
   "outputs": [
    {
     "data": {
      "text/plain": [
       "list"
      ]
     },
     "execution_count": 67,
     "metadata": {},
     "output_type": "execute_result"
    }
   ],
   "source": [
    "type(lemmatized_words1)"
   ]
  },
  {
   "cell_type": "code",
   "execution_count": 82,
   "metadata": {},
   "outputs": [
    {
     "data": {
      "text/plain": [
       "'I gave this place 2 chances i love japanese food and really wanted to love this place because it is close to home I was underwhelmed the first time and disgusted the second time the food was tasteless and not what the menu stated Soba noodles are not white they are buckwheat and are beige at the lightest and brown at the darkest When I called i had delivery to tell them that I did not get what I ordered I was told that it was correct and I was wrong Food was tasteless and service was Awful Do not waste your money or your time'"
      ]
     },
     "execution_count": 82,
     "metadata": {},
     "output_type": "execute_result"
    }
   ],
   "source": [
    "badreviews[0]"
   ]
  },
  {
   "cell_type": "code",
   "execution_count": 68,
   "metadata": {},
   "outputs": [
    {
     "data": {
      "text/plain": [
       "['gave',\n",
       " 'place',\n",
       " '2',\n",
       " 'chance',\n",
       " 'love',\n",
       " 'japanese',\n",
       " 'food',\n",
       " 'really',\n",
       " 'wanted',\n",
       " 'love',\n",
       " 'place',\n",
       " 'close',\n",
       " 'home',\n",
       " 'underwhelmed',\n",
       " 'first',\n",
       " 'time',\n",
       " 'disgusted',\n",
       " 'second',\n",
       " 'time',\n",
       " 'food',\n",
       " 'tasteless',\n",
       " 'menu',\n",
       " 'stated',\n",
       " 'soba',\n",
       " 'noodle',\n",
       " 'white',\n",
       " 'buckwheat',\n",
       " 'beige',\n",
       " 'lightest',\n",
       " 'brown',\n",
       " 'darkest',\n",
       " 'called',\n",
       " 'delivery',\n",
       " 'tell',\n",
       " 'get',\n",
       " 'ordered',\n",
       " 'told',\n",
       " 'correct',\n",
       " 'wrong',\n",
       " 'food',\n",
       " 'tasteless',\n",
       " 'service',\n",
       " 'awful',\n",
       " 'waste',\n",
       " 'money',\n",
       " 'time']"
      ]
     },
     "execution_count": 68,
     "metadata": {},
     "output_type": "execute_result"
    }
   ],
   "source": [
    "lemmatized_words1[0]"
   ]
  },
  {
   "cell_type": "code",
   "execution_count": 116,
   "metadata": {},
   "outputs": [],
   "source": [
    "import sklearn\n",
    "from sklearn.feature_extraction.text import TfidfVectorizer\n",
    "lemmatized_words1=[ ' '.join(map(str, sent)) for sent in lemmatized_words1]\n",
    "lemmatized_words2=[ ' '.join(map(str, sent)) for sent in lemmatized_words2]\n"
   ]
  },
  {
   "cell_type": "code",
   "execution_count": 117,
   "metadata": {},
   "outputs": [],
   "source": [
    "from array import array "
   ]
  },
  {
   "cell_type": "code",
   "execution_count": 122,
   "metadata": {},
   "outputs": [
    {
     "data": {
      "text/plain": [
       "'gave place 2 chance love japanese food really wanted love place close home underwhelmed first time disgusted second time food tasteless menu stated soba noodle white buckwheat beige lightest brown darkest called delivery tell get ordered told correct wrong food tasteless service awful waste money time'"
      ]
     },
     "execution_count": 122,
     "metadata": {},
     "output_type": "execute_result"
    }
   ],
   "source": [
    "lemmatized_words1[0]"
   ]
  },
  {
   "cell_type": "code",
   "execution_count": 121,
   "metadata": {},
   "outputs": [
    {
     "data": {
      "text/plain": [
       "list"
      ]
     },
     "execution_count": 121,
     "metadata": {},
     "output_type": "execute_result"
    }
   ],
   "source": [
    "type(lemmatized_words1)"
   ]
  },
  {
   "cell_type": "code",
   "execution_count": 124,
   "metadata": {},
   "outputs": [],
   "source": [
    "tfidf_model1 = TfidfVectorizer(stop_words=stop_words,\n",
    "                        ngram_range=(1,1))\n",
    "tfidf_model2 = TfidfVectorizer(stop_words=stop_words, \n",
    "                        ngram_range=(1,1))\n",
    "result1=tfidf_model1.fit_transform(lemmatized_words1)\n",
    "result2=tfidf_model2.fit_transform(lemmatized_words2)"
   ]
  },
  {
   "cell_type": "code",
   "execution_count": 125,
   "metadata": {},
   "outputs": [
    {
     "name": "stdout",
     "output_type": "stream",
     "text": [
      "  (0, 12678)\t0.10233264461434136\n",
      "  (0, 21436)\t0.13048395912188518\n",
      "  (0, 2405)\t0.11762368238588518\n",
      "  (0, 17317)\t0.0571542062832208\n",
      "  (0, 21983)\t0.11186883209372551\n",
      "  (0, 5201)\t0.15472032668470975\n",
      "  (0, 20028)\t0.08644633050396013\n",
      "  (0, 13693)\t0.0662856684932291\n",
      "  (0, 8741)\t0.06617644641854305\n",
      "  (0, 19540)\t0.11031868875255849\n",
      "  (0, 5910)\t0.17569600266547244\n",
      "  (0, 3795)\t0.11620792683093026\n",
      "  (0, 5664)\t0.2762240826885306\n",
      "  (0, 3493)\t0.1420970388218675\n",
      "  (0, 11474)\t0.2762240826885306\n",
      "  (0, 2813)\t0.24914157682901583\n",
      "  (0, 3553)\t0.2642398829316392\n",
      "  (0, 21698)\t0.149412374446926\n",
      "  (0, 13239)\t0.15751316167866783\n",
      "  (0, 18123)\t0.24914157682901583\n",
      "  (0, 18627)\t0.15472032668470975\n",
      "  (0, 12292)\t0.08779955646374858\n",
      "  (0, 19450)\t0.2908806722963287\n",
      "  (0, 17170)\t0.11441993716272081\n",
      "  (0, 6317)\t0.1876802024223639\n",
      "  :\t:\n",
      "  (8420, 6317)\t0.1492389171377159\n",
      "  (8420, 8193)\t0.11354375033053747\n",
      "  (8421, 3479)\t0.2925774632215122\n",
      "  (8421, 18337)\t0.3338068665433318\n",
      "  (8421, 19238)\t0.2797513447978519\n",
      "  (8421, 4823)\t0.275082032306358\n",
      "  (8421, 4824)\t0.24629421295951828\n",
      "  (8421, 6961)\t0.21363629992207156\n",
      "  (8421, 17472)\t0.25578093869363794\n",
      "  (8421, 11708)\t0.21638557626300284\n",
      "  (8421, 5083)\t0.2864027989316621\n",
      "  (8421, 12177)\t0.14516027829411868\n",
      "  (8421, 21065)\t0.21444284755152562\n",
      "  (8421, 3857)\t0.1593530782189457\n",
      "  (8421, 16768)\t0.12148291955204783\n",
      "  (8421, 4698)\t0.142827329501257\n",
      "  (8421, 16399)\t0.1894133812995268\n",
      "  (8421, 20434)\t0.12751980844629554\n",
      "  (8421, 16217)\t0.09604711432546774\n",
      "  (8421, 5115)\t0.17013221796052916\n",
      "  (8421, 9625)\t0.1799066689784354\n",
      "  (8421, 13584)\t0.09526869799234439\n",
      "  (8421, 17298)\t0.15167574415954946\n",
      "  (8421, 6654)\t0.18836274402795447\n",
      "  (8421, 19905)\t0.17498644816202338\n"
     ]
    }
   ],
   "source": [
    "print(result1)"
   ]
  },
  {
   "cell_type": "code",
   "execution_count": 126,
   "metadata": {},
   "outputs": [
    {
     "name": "stdout",
     "output_type": "stream",
     "text": [
      "Top words in good reviews:\n",
      "[('great',), ('food',), ('good',), ('place',), ('service',), ('steak',), ('time',), ('restaurant',)]\n",
      "Top words in bad reviews:\n",
      "[('food',), ('steak',), ('service',), ('time',), ('place',), ('good',), ('table',), ('back',)]\n"
     ]
    }
   ],
   "source": [
    "bad_df = pd.DataFrame(result1.todense(), columns=[tfidf_model1.get_feature_names()])\n",
    "good_df = pd.DataFrame(result2.todense(), columns=[tfidf_model2.get_feature_names()])\n",
    "col_means_bad = {}\n",
    "for col in bad_df:\n",
    "    col_means_bad[col] = bad_df[col].mean()\n",
    "\n",
    "col_means_good = {}\n",
    "for col in good_df:\n",
    "    col_means_good[col] = good_df[col].mean()\n",
    "    \n",
    "top_words = 8\n",
    "\n",
    "print('Top words in good reviews:')\n",
    "print(sorted(col_means_good, key=col_means_good.get, reverse=True)[:top_words])\n",
    "\n",
    "print('Top words in bad reviews:')\n",
    "print(sorted(col_means_bad, key=col_means_bad.get, reverse=True)[:top_words])"
   ]
  },
  {
   "cell_type": "markdown",
   "metadata": {},
   "source": [
    "#### It looks like the most valuable words in both bad and good reviews are 'food', 'steak','service','time'. So clearly, what customers care most is the courses (ofcourse steaks for steakhouses), food delivery time and customer services. Now it has given us some intuition, let's do further analysis using LSA."
   ]
  },
  {
   "cell_type": "code",
   "execution_count": 130,
   "metadata": {},
   "outputs": [],
   "source": [
    "import gensim"
   ]
  },
  {
   "cell_type": "code",
   "execution_count": 131,
   "metadata": {},
   "outputs": [
    {
     "data": {
      "image/png": "[encoded data removed]",
      "text/plain": [
       "<Figure size 864x360 with 1 Axes>"
      ]
     },
     "metadata": {},
     "output_type": "display_data"
    }
   ],
   "source": [
    "'This part credited to Ankur Vishwakarma, Oakland, CA. https://github.com/Vishwacorp/'\n",
    "from gensim import corpora, models, similarities, matutils\n",
    "corpus1 = matutils.Sparse2Corpus(result1.transpose())\n",
    "corpus2 = matutils.Sparse2Corpus(result2.transpose())\n",
    "word_bad = dict((v,k) for k,v in tfidf_model1.vocabulary_.items())\n",
    "word_good = dict((v,k) for k,v in tfidf_model2.vocabulary_.items())\n",
    "word_bad2 = corpora.Dictionary.from_corpus(corpus1, id2word=word_bad)\n",
    "word_good2 = corpora.Dictionary.from_corpus(corpus2, id2word=word_good)\n",
    "lsi_bad = models.LsiModel(corpus1, id2word=word_bad2, num_topics=10)\n",
    "lsi_good = models.LsiModel(corpus2, id2word=word_good2, num_topics=10)\n",
    "\n",
    "singular_values_bad = lsi_bad.projection.s.tolist()\n",
    "singular_values_bad_rel = [sv/singular_values_bad[-1] for sv in singular_values_bad]\n",
    "singular_values_good = lsi_good.projection.s.tolist()\n",
    "singular_values_good_rel = [sv/singular_values_good[-1] for sv in singular_values_good]\n",
    "plt.style.use('fivethirtyeight')\n",
    "plt.figure(figsize=(12,5))\n",
    "plt.plot(range(len(singular_values_bad)), singular_values_bad_rel, label='Bad Reviews', alpha=1.0)\n",
    "plt.plot(range(len(singular_values_good)), singular_values_good_rel, label='Good Reviews', alpha=0.7)\n",
    "plt.xticks(range(len(singular_values_bad)), range(len(singular_values_bad)))\n",
    "plt.xlabel('Topic #')\n",
    "plt.ylabel('Relative Strength')\n",
    "plt.title('LSI Topic Strengths (Relative)')\n",
    "plt.legend(loc=0, fontsize='medium');"
   ]
  },
  {
   "cell_type": "markdown",
   "metadata": {},
   "source": [
    "#### from the above plot, we can see the it is decent to choose topic number as 4."
   ]
  },
  {
   "cell_type": "markdown",
   "metadata": {},
   "source": [
    "#### Let's see roughly what are these topics:"
   ]
  },
  {
   "cell_type": "markdown",
   "metadata": {},
   "source": [
    "#### Top topics in bad reviews:"
   ]
  },
  {
   "cell_type": "code",
   "execution_count": 140,
   "metadata": {},
   "outputs": [],
   "source": [
    "import pprint\n",
    "from pprint import pprint"
   ]
  },
  {
   "cell_type": "code",
   "execution_count": 141,
   "metadata": {},
   "outputs": [
    {
     "name": "stdout",
     "output_type": "stream",
     "text": [
      "[(0,\n",
      "  '0.191*\"food\" + 0.160*\"steak\" + 0.148*\"time\" + 0.142*\"service\" + '\n",
      "  '0.137*\"table\" + 0.130*\"good\" + 0.129*\"place\" + 0.123*\"back\" + '\n",
      "  '0.122*\"minute\" + 0.120*\"one\"'),\n",
      " (1,\n",
      "  '-0.411*\"steak\" + 0.270*\"minute\" + 0.201*\"table\" + -0.150*\"medium\" + '\n",
      "  '0.145*\"drink\" + 0.134*\"waited\" + -0.133*\"salad\" + -0.129*\"good\" + '\n",
      "  '0.128*\"order\" + 0.124*\"wait\"'),\n",
      " (2,\n",
      "  '0.406*\"steak\" + -0.263*\"food\" + -0.254*\"sushi\" + -0.239*\"place\" + '\n",
      "  '0.238*\"medium\" + 0.172*\"rare\" + -0.168*\"service\" + 0.155*\"came\" + '\n",
      "  '0.155*\"ordered\" + 0.154*\"minute\"'),\n",
      " (3,\n",
      "  '-0.405*\"sushi\" + 0.359*\"service\" + 0.337*\"food\" + 0.263*\"steak\" + '\n",
      "  '-0.181*\"roll\" + -0.142*\"chicken\" + 0.141*\"slow\" + -0.130*\"salad\" + '\n",
      "  '-0.122*\"ordered\" + -0.120*\"hibachi\"')]\n"
     ]
    }
   ],
   "source": [
    "pprint(lsi_bad.show_topics()[0:4])"
   ]
  },
  {
   "cell_type": "markdown",
   "metadata": {},
   "source": [
    "#### Top topics in good reviews:"
   ]
  },
  {
   "cell_type": "code",
   "execution_count": 142,
   "metadata": {},
   "outputs": [
    {
     "name": "stdout",
     "output_type": "stream",
     "text": [
      "[(0,\n",
      "  '0.227*\"great\" + 0.201*\"good\" + 0.193*\"food\" + 0.165*\"place\" + '\n",
      "  '0.157*\"service\" + 0.157*\"steak\" + 0.132*\"time\" + 0.112*\"restaurant\" + '\n",
      "  '0.105*\"best\" + 0.104*\"back\"'),\n",
      " (1,\n",
      "  '0.463*\"great\" + 0.314*\"food\" + 0.224*\"service\" + 0.204*\"sushi\" + '\n",
      "  '0.174*\"always\" + 0.150*\"place\" + 0.150*\"atmosphere\" + -0.150*\"steak\" + '\n",
      "  '-0.148*\"ordered\" + 0.136*\"love\"'),\n",
      " (2,\n",
      "  '0.366*\"cheese\" + 0.353*\"curd\" + 0.302*\"burger\" + 0.253*\"old\" + 0.235*\"beer\" '\n",
      "  '+ 0.231*\"fashioned\" + -0.222*\"steak\" + 0.171*\"wisconsin\" + 0.169*\"madison\" '\n",
      "  '+ -0.149*\"service\"'),\n",
      " (3,\n",
      "  '-0.626*\"sushi\" + -0.305*\"hibachi\" + 0.295*\"great\" + -0.293*\"roll\" + '\n",
      "  '0.132*\"service\" + 0.131*\"steak\" + 0.125*\"food\" + 0.112*\"cheese\" + '\n",
      "  '0.103*\"excellent\" + 0.098*\"atmosphere\"')]\n"
     ]
    }
   ],
   "source": [
    "pprint(lsi_good.show_topics()[0:4])"
   ]
  }
 ],
 "metadata": {
  "kernelspec": {
   "display_name": "Python 3",
   "language": "python",
   "name": "python3"
  },
  "language_info": {
   "codemirror_mode": {
    "name": "ipython",
    "version": 3
   },
   "file_extension": ".py",
   "mimetype": "text/x-python",
   "name": "python",
   "nbconvert_exporter": "python",
   "pygments_lexer": "ipython3",
   "version": "3.8.5"
  }
 },
 "nbformat": 4,
 "nbformat_minor": 4
}
