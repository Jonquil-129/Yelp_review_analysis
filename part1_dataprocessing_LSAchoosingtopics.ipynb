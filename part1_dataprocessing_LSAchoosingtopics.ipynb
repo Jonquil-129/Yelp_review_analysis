{
 "cells": [
  {
   "cell_type": "markdown",
   "metadata": {},
   "source": [
    "## Yelp reviews analysis"
   ]
  },
  {
   "cell_type": "markdown",
   "metadata": {},
   "source": [
    "STAT 628 Group 13:\\\n",
    "Yike Wang\\\n",
    "Yuhan Zhou\\\n",
    "Jonquil Liao"
   ]
  },
  {
   "cell_type": "markdown",
   "metadata": {},
   "source": [
    "### 1. Import the data"
   ]
  },
  {
   "cell_type": "code",
   "execution_count": 1,
   "metadata": {},
   "outputs": [],
   "source": [
    "import pandas as pd\n",
    "review = pd.read_json('review_city.json', lines=True)\n",
    "business = pd.read_json('business_city.json', lines=True)"
   ]
  },
  {
   "cell_type": "code",
   "execution_count": 2,
   "metadata": {},
   "outputs": [],
   "source": [
    "df_raw = pd.merge(review, business, how='left', on='business_id')\n",
    "df = df_raw.drop(columns=[ 'review_id', 'funny', 'cool', 'date', 'latitude', 'longitude', 'is_open', 'review_count', 'hours'])"
   ]
  },
  {
   "cell_type": "code",
   "execution_count": 3,
   "metadata": {},
   "outputs": [
    {
     "data": {
      "text/html": [
       "<div>\n",
       "<style scoped>\n",
       "    .dataframe tbody tr th:only-of-type {\n",
       "        vertical-align: middle;\n",
       "    }\n",
       "\n",
       "    .dataframe tbody tr th {\n",
       "        vertical-align: top;\n",
       "    }\n",
       "\n",
       "    .dataframe thead th {\n",
       "        text-align: right;\n",
       "    }\n",
       "</style>\n",
       "<table border=\"1\" class=\"dataframe\">\n",
       "  <thead>\n",
       "    <tr style=\"text-align: right;\">\n",
       "      <th></th>\n",
       "      <th>user_id</th>\n",
       "      <th>business_id</th>\n",
       "      <th>stars_x</th>\n",
       "      <th>useful</th>\n",
       "      <th>text</th>\n",
       "      <th>name</th>\n",
       "      <th>address</th>\n",
       "      <th>city</th>\n",
       "      <th>state</th>\n",
       "      <th>postal_code</th>\n",
       "      <th>stars_y</th>\n",
       "      <th>attributes</th>\n",
       "      <th>categories</th>\n",
       "    </tr>\n",
       "  </thead>\n",
       "  <tbody>\n",
       "    <tr>\n",
       "      <th>0</th>\n",
       "      <td>V34qejxNsCbcgD8C0HVk-Q</td>\n",
       "      <td>HQl28KMwrEKHqhFrrDqVNQ</td>\n",
       "      <td>5</td>\n",
       "      <td>1</td>\n",
       "      <td>I love Deagan's. I do. I really do. The atmosp...</td>\n",
       "      <td>Deagan's Kitchen &amp; Bar</td>\n",
       "      <td>14810 Detroit Ave</td>\n",
       "      <td>Lakewood</td>\n",
       "      <td>OH</td>\n",
       "      <td>44107</td>\n",
       "      <td>4.0</td>\n",
       "      <td>{'BusinessAcceptsCreditCards': 'True', 'Outdoo...</td>\n",
       "      <td>Restaurants, Gastropubs, Nightlife, American (...</td>\n",
       "    </tr>\n",
       "    <tr>\n",
       "      <th>1</th>\n",
       "      <td>5lb0POg2t-AkMFx6603cYQ</td>\n",
       "      <td>ZlCSsWS07JulSBIQlrbF5w</td>\n",
       "      <td>5</td>\n",
       "      <td>1</td>\n",
       "      <td>Called for a 5:15 morning reservation. The dri...</td>\n",
       "      <td>Black Cab &amp; Limo</td>\n",
       "      <td></td>\n",
       "      <td>Champaign</td>\n",
       "      <td>IL</td>\n",
       "      <td></td>\n",
       "      <td>4.5</td>\n",
       "      <td>{'WiFi': 'u'free''}</td>\n",
       "      <td>Airport Shuttles, Transportation, Taxis, Hotel...</td>\n",
       "    </tr>\n",
       "    <tr>\n",
       "      <th>2</th>\n",
       "      <td>6sJN_HlM_uwpfLJ1puf1Fg</td>\n",
       "      <td>oVuZtlCFg_zF090Nhtp0Ow</td>\n",
       "      <td>4</td>\n",
       "      <td>3</td>\n",
       "      <td>A close friend was in town and so instead of t...</td>\n",
       "      <td>Choolaah Indian BBQ</td>\n",
       "      <td>6114 Centre Ave</td>\n",
       "      <td>Pittsburgh</td>\n",
       "      <td>PA</td>\n",
       "      <td>15206</td>\n",
       "      <td>4.0</td>\n",
       "      <td>{'RestaurantsTableService': 'False', 'Restaura...</td>\n",
       "      <td>Restaurants, Indian, Vegetarian, Vegan, Gluten...</td>\n",
       "    </tr>\n",
       "    <tr>\n",
       "      <th>3</th>\n",
       "      <td>EZ6g9a17UdMjtR-wrZebmA</td>\n",
       "      <td>wSAGILK2CFbq5BVZ5D67-A</td>\n",
       "      <td>3</td>\n",
       "      <td>0</td>\n",
       "      <td>The service is attentive. The decor attractive...</td>\n",
       "      <td>Adega</td>\n",
       "      <td>2017 E 9th St</td>\n",
       "      <td>Cleveland</td>\n",
       "      <td>OH</td>\n",
       "      <td>44115</td>\n",
       "      <td>4.0</td>\n",
       "      <td>{'BusinessAcceptsCreditCards': 'True', 'Restau...</td>\n",
       "      <td>Mediterranean, Hotels, Beer, Wine &amp; Spirits, B...</td>\n",
       "    </tr>\n",
       "    <tr>\n",
       "      <th>4</th>\n",
       "      <td>hHFSpKcnDtJOs6M-JKFZ8Q</td>\n",
       "      <td>oCvxJBOs-Mbg-4oanPO7lQ</td>\n",
       "      <td>4</td>\n",
       "      <td>0</td>\n",
       "      <td>The ingredients are always fresh and I like th...</td>\n",
       "      <td>Pita Pit</td>\n",
       "      <td>2763 East Carson St</td>\n",
       "      <td>Pittsburgh</td>\n",
       "      <td>PA</td>\n",
       "      <td>15203</td>\n",
       "      <td>3.5</td>\n",
       "      <td>{'RestaurantsPriceRange2': '1', 'RestaurantsAt...</td>\n",
       "      <td>Fast Food, Greek, Breakfast &amp; Brunch, Restaura...</td>\n",
       "    </tr>\n",
       "  </tbody>\n",
       "</table>\n",
       "</div>"
      ],
      "text/plain": [
       "                  user_id             business_id  stars_x  useful  \\\n",
       "0  V34qejxNsCbcgD8C0HVk-Q  HQl28KMwrEKHqhFrrDqVNQ        5       1   \n",
       "1  5lb0POg2t-AkMFx6603cYQ  ZlCSsWS07JulSBIQlrbF5w        5       1   \n",
       "2  6sJN_HlM_uwpfLJ1puf1Fg  oVuZtlCFg_zF090Nhtp0Ow        4       3   \n",
       "3  EZ6g9a17UdMjtR-wrZebmA  wSAGILK2CFbq5BVZ5D67-A        3       0   \n",
       "4  hHFSpKcnDtJOs6M-JKFZ8Q  oCvxJBOs-Mbg-4oanPO7lQ        4       0   \n",
       "\n",
       "                                                text                    name  \\\n",
       "0  I love Deagan's. I do. I really do. The atmosp...  Deagan's Kitchen & Bar   \n",
       "1  Called for a 5:15 morning reservation. The dri...        Black Cab & Limo   \n",
       "2  A close friend was in town and so instead of t...     Choolaah Indian BBQ   \n",
       "3  The service is attentive. The decor attractive...                   Adega   \n",
       "4  The ingredients are always fresh and I like th...                Pita Pit   \n",
       "\n",
       "               address        city state postal_code  stars_y  \\\n",
       "0    14810 Detroit Ave    Lakewood    OH       44107      4.0   \n",
       "1                        Champaign    IL                  4.5   \n",
       "2      6114 Centre Ave  Pittsburgh    PA       15206      4.0   \n",
       "3        2017 E 9th St   Cleveland    OH       44115      4.0   \n",
       "4  2763 East Carson St  Pittsburgh    PA       15203      3.5   \n",
       "\n",
       "                                          attributes  \\\n",
       "0  {'BusinessAcceptsCreditCards': 'True', 'Outdoo...   \n",
       "1                                {'WiFi': 'u'free''}   \n",
       "2  {'RestaurantsTableService': 'False', 'Restaura...   \n",
       "3  {'BusinessAcceptsCreditCards': 'True', 'Restau...   \n",
       "4  {'RestaurantsPriceRange2': '1', 'RestaurantsAt...   \n",
       "\n",
       "                                          categories  \n",
       "0  Restaurants, Gastropubs, Nightlife, American (...  \n",
       "1  Airport Shuttles, Transportation, Taxis, Hotel...  \n",
       "2  Restaurants, Indian, Vegetarian, Vegan, Gluten...  \n",
       "3  Mediterranean, Hotels, Beer, Wine & Spirits, B...  \n",
       "4  Fast Food, Greek, Breakfast & Brunch, Restaura...  "
      ]
     },
     "execution_count": 3,
     "metadata": {},
     "output_type": "execute_result"
    }
   ],
   "source": [
    "df.head()"
   ]
  },
  {
   "cell_type": "code",
   "execution_count": 4,
   "metadata": {},
   "outputs": [
    {
     "data": {
      "text/html": [
       "<div>\n",
       "<style scoped>\n",
       "    .dataframe tbody tr th:only-of-type {\n",
       "        vertical-align: middle;\n",
       "    }\n",
       "\n",
       "    .dataframe tbody tr th {\n",
       "        vertical-align: top;\n",
       "    }\n",
       "\n",
       "    .dataframe thead th {\n",
       "        text-align: right;\n",
       "    }\n",
       "</style>\n",
       "<table border=\"1\" class=\"dataframe\">\n",
       "  <thead>\n",
       "    <tr style=\"text-align: right;\">\n",
       "      <th></th>\n",
       "      <th>user_id</th>\n",
       "      <th>business_id</th>\n",
       "      <th>stars_x</th>\n",
       "      <th>useful</th>\n",
       "      <th>text</th>\n",
       "      <th>name</th>\n",
       "      <th>address</th>\n",
       "      <th>city</th>\n",
       "      <th>state</th>\n",
       "      <th>postal_code</th>\n",
       "      <th>stars_y</th>\n",
       "      <th>attributes</th>\n",
       "      <th>categories</th>\n",
       "    </tr>\n",
       "  </thead>\n",
       "  <tbody>\n",
       "    <tr>\n",
       "      <th>942022</th>\n",
       "      <td>XYCyePb6v-RKdm_THQQQbQ</td>\n",
       "      <td>hWzbOi1-eS8PmPyZRV8Lew</td>\n",
       "      <td>5</td>\n",
       "      <td>0</td>\n",
       "      <td>AMAZING lattes and scones.  Nice relaxing atmo...</td>\n",
       "      <td>Staghorn Garden Cafe</td>\n",
       "      <td>517 Greenfield Ave</td>\n",
       "      <td>Pittsburgh</td>\n",
       "      <td>PA</td>\n",
       "      <td>15207</td>\n",
       "      <td>4.5</td>\n",
       "      <td>{'RestaurantsDelivery': 'False', 'BikeParking'...</td>\n",
       "      <td>Coffee &amp; Tea, Food, Home Decor, Bakeries, Home...</td>\n",
       "    </tr>\n",
       "    <tr>\n",
       "      <th>942023</th>\n",
       "      <td>kqytC4gk1EPGq6LoIYIoiA</td>\n",
       "      <td>NC4_GCUAB9fuvhWgl8bu5Q</td>\n",
       "      <td>5</td>\n",
       "      <td>0</td>\n",
       "      <td>The staff is very friendly and helpful. The fo...</td>\n",
       "      <td>The Blue Goose Saloon</td>\n",
       "      <td>605 Mt Royal Blvd</td>\n",
       "      <td>Pittsburgh</td>\n",
       "      <td>PA</td>\n",
       "      <td>15223</td>\n",
       "      <td>4.0</td>\n",
       "      <td>{'Ambience': '{'touristy': False, 'hipster': F...</td>\n",
       "      <td>Salad, Restaurants, Nightlife, American (Tradi...</td>\n",
       "    </tr>\n",
       "    <tr>\n",
       "      <th>942024</th>\n",
       "      <td>RfYEn-JHiP7QVovc-3ltgA</td>\n",
       "      <td>0hlQbEOdqNBagHP6xFgRRQ</td>\n",
       "      <td>5</td>\n",
       "      <td>0</td>\n",
       "      <td>This salon is very clean, professional and upb...</td>\n",
       "      <td>Step Up Styles</td>\n",
       "      <td>3248 Old Frankstown Rd</td>\n",
       "      <td>Plum</td>\n",
       "      <td>PA</td>\n",
       "      <td>15239</td>\n",
       "      <td>5.0</td>\n",
       "      <td>{'BusinessAcceptsCreditCards': 'True', 'ByAppo...</td>\n",
       "      <td>Hair Salons, Beauty &amp; Spas</td>\n",
       "    </tr>\n",
       "    <tr>\n",
       "      <th>942025</th>\n",
       "      <td>pjj4Y76C7jHNpH4WOG6slQ</td>\n",
       "      <td>QayOwK3LVRVniGnT6Gzveg</td>\n",
       "      <td>1</td>\n",
       "      <td>0</td>\n",
       "      <td>Went after work to order dinner. I asked the c...</td>\n",
       "      <td>Chipotle Mexican Grill</td>\n",
       "      <td>5 Atterbury Blvd, Ste 1</td>\n",
       "      <td>Hudson</td>\n",
       "      <td>OH</td>\n",
       "      <td>44236</td>\n",
       "      <td>3.0</td>\n",
       "      <td>{'BusinessAcceptsCreditCards': 'True', 'Alcoho...</td>\n",
       "      <td>Mexican, Restaurants, Fast Food</td>\n",
       "    </tr>\n",
       "    <tr>\n",
       "      <th>942026</th>\n",
       "      <td>VwVHW0hunS1NXceJJtfVrA</td>\n",
       "      <td>zxg3vChBI__R6q7ACtyokw</td>\n",
       "      <td>1</td>\n",
       "      <td>1</td>\n",
       "      <td>I should have read the pattern of complaints o...</td>\n",
       "      <td>American Asphalt Sealcoating</td>\n",
       "      <td></td>\n",
       "      <td>Willoughby</td>\n",
       "      <td>OH</td>\n",
       "      <td>44094</td>\n",
       "      <td>2.0</td>\n",
       "      <td>{'BusinessAcceptsCreditCards': 'True'}</td>\n",
       "      <td>Masonry/Concrete, Home Services</td>\n",
       "    </tr>\n",
       "  </tbody>\n",
       "</table>\n",
       "</div>"
      ],
      "text/plain": [
       "                       user_id             business_id  stars_x  useful  \\\n",
       "942022  XYCyePb6v-RKdm_THQQQbQ  hWzbOi1-eS8PmPyZRV8Lew        5       0   \n",
       "942023  kqytC4gk1EPGq6LoIYIoiA  NC4_GCUAB9fuvhWgl8bu5Q        5       0   \n",
       "942024  RfYEn-JHiP7QVovc-3ltgA  0hlQbEOdqNBagHP6xFgRRQ        5       0   \n",
       "942025  pjj4Y76C7jHNpH4WOG6slQ  QayOwK3LVRVniGnT6Gzveg        1       0   \n",
       "942026  VwVHW0hunS1NXceJJtfVrA  zxg3vChBI__R6q7ACtyokw        1       1   \n",
       "\n",
       "                                                     text  \\\n",
       "942022  AMAZING lattes and scones.  Nice relaxing atmo...   \n",
       "942023  The staff is very friendly and helpful. The fo...   \n",
       "942024  This salon is very clean, professional and upb...   \n",
       "942025  Went after work to order dinner. I asked the c...   \n",
       "942026  I should have read the pattern of complaints o...   \n",
       "\n",
       "                                name                  address        city  \\\n",
       "942022          Staghorn Garden Cafe       517 Greenfield Ave  Pittsburgh   \n",
       "942023         The Blue Goose Saloon        605 Mt Royal Blvd  Pittsburgh   \n",
       "942024                Step Up Styles   3248 Old Frankstown Rd        Plum   \n",
       "942025        Chipotle Mexican Grill  5 Atterbury Blvd, Ste 1      Hudson   \n",
       "942026  American Asphalt Sealcoating                           Willoughby   \n",
       "\n",
       "       state postal_code  stars_y  \\\n",
       "942022    PA       15207      4.5   \n",
       "942023    PA       15223      4.0   \n",
       "942024    PA       15239      5.0   \n",
       "942025    OH       44236      3.0   \n",
       "942026    OH       44094      2.0   \n",
       "\n",
       "                                               attributes  \\\n",
       "942022  {'RestaurantsDelivery': 'False', 'BikeParking'...   \n",
       "942023  {'Ambience': '{'touristy': False, 'hipster': F...   \n",
       "942024  {'BusinessAcceptsCreditCards': 'True', 'ByAppo...   \n",
       "942025  {'BusinessAcceptsCreditCards': 'True', 'Alcoho...   \n",
       "942026             {'BusinessAcceptsCreditCards': 'True'}   \n",
       "\n",
       "                                               categories  \n",
       "942022  Coffee & Tea, Food, Home Decor, Bakeries, Home...  \n",
       "942023  Salad, Restaurants, Nightlife, American (Tradi...  \n",
       "942024                         Hair Salons, Beauty & Spas  \n",
       "942025                    Mexican, Restaurants, Fast Food  \n",
       "942026                    Masonry/Concrete, Home Services  "
      ]
     },
     "execution_count": 4,
     "metadata": {},
     "output_type": "execute_result"
    }
   ],
   "source": [
    "df.tail()"
   ]
  },
  {
   "cell_type": "markdown",
   "metadata": {},
   "source": [
    "### 2. Choose the Business\n",
    "\n",
    "#### We plan to focus on business type 'Steakhouse', so here we pick out the businesses only in category 'Steakhouse'."
   ]
  },
  {
   "cell_type": "code",
   "execution_count": 14,
   "metadata": {},
   "outputs": [],
   "source": [
    "data = df[df['categories'].str.contains('Steakhouse',na=False)]"
   ]
  },
  {
   "cell_type": "code",
   "execution_count": 15,
   "metadata": {},
   "outputs": [],
   "source": [
    "data = data[~data['categories'].str.contains('Japanese',na=False)]"
   ]
  },
  {
   "cell_type": "markdown",
   "metadata": {},
   "source": [
    "#### Since Chinese Steakhouse and Japanese Steakhouse are not our target, we would exclude them from the dataset."
   ]
  },
  {
   "cell_type": "code",
   "execution_count": 16,
   "metadata": {},
   "outputs": [
    {
     "data": {
      "text/html": [
       "<div>\n",
       "<style scoped>\n",
       "    .dataframe tbody tr th:only-of-type {\n",
       "        vertical-align: middle;\n",
       "    }\n",
       "\n",
       "    .dataframe tbody tr th {\n",
       "        vertical-align: top;\n",
       "    }\n",
       "\n",
       "    .dataframe thead th {\n",
       "        text-align: right;\n",
       "    }\n",
       "</style>\n",
       "<table border=\"1\" class=\"dataframe\">\n",
       "  <thead>\n",
       "    <tr style=\"text-align: right;\">\n",
       "      <th></th>\n",
       "      <th>business_id</th>\n",
       "      <th>stars_x</th>\n",
       "      <th>useful</th>\n",
       "      <th>text</th>\n",
       "      <th>name</th>\n",
       "      <th>address</th>\n",
       "      <th>city</th>\n",
       "      <th>state</th>\n",
       "      <th>postal_code</th>\n",
       "      <th>stars_y</th>\n",
       "      <th>attributes</th>\n",
       "      <th>categories</th>\n",
       "    </tr>\n",
       "  </thead>\n",
       "  <tbody>\n",
       "    <tr>\n",
       "      <th>188</th>\n",
       "      <td>lpxj6LFir23Ds6swW8a6fg</td>\n",
       "      <td>4</td>\n",
       "      <td>0</td>\n",
       "      <td>Very fresh food and authentic Italian taste. T...</td>\n",
       "      <td>Grandview Saloon</td>\n",
       "      <td>1212 Grandview Ave</td>\n",
       "      <td>Pittsburgh</td>\n",
       "      <td>PA</td>\n",
       "      <td>15211</td>\n",
       "      <td>3.0</td>\n",
       "      <td>{'Alcohol': 'u'full_bar'', 'WiFi': ''free'', '...</td>\n",
       "      <td>Restaurants, Steakhouses, Seafood, American (T...</td>\n",
       "    </tr>\n",
       "    <tr>\n",
       "      <th>219</th>\n",
       "      <td>d6VYQbeTZ_WdD8Uuhh35dg</td>\n",
       "      <td>5</td>\n",
       "      <td>0</td>\n",
       "      <td>This is my favorite happy hour place in all of...</td>\n",
       "      <td>Tempest Oyster Bar</td>\n",
       "      <td>120 E Wilson St</td>\n",
       "      <td>Madison</td>\n",
       "      <td>WI</td>\n",
       "      <td>53703</td>\n",
       "      <td>4.0</td>\n",
       "      <td>{'RestaurantsTakeOut': 'False', 'WiFi': 'u'no'...</td>\n",
       "      <td>Steakhouses, Restaurants, Bars, Seafood, Night...</td>\n",
       "    </tr>\n",
       "    <tr>\n",
       "      <th>262</th>\n",
       "      <td>szGbmw_vq3kVU4SfK1x6Sw</td>\n",
       "      <td>4</td>\n",
       "      <td>1</td>\n",
       "      <td>Ruth Chris Steakhouse is by far one of the bes...</td>\n",
       "      <td>Ruths Chris Steak House</td>\n",
       "      <td>6 PPG Pl</td>\n",
       "      <td>Pittsburgh</td>\n",
       "      <td>PA</td>\n",
       "      <td>15222</td>\n",
       "      <td>4.0</td>\n",
       "      <td>{'BusinessParking': '{'garage': False, 'street...</td>\n",
       "      <td>Restaurants, Steakhouses</td>\n",
       "    </tr>\n",
       "    <tr>\n",
       "      <th>273</th>\n",
       "      <td>eF2jf-E5ktRQIh_4_-Jxsg</td>\n",
       "      <td>4</td>\n",
       "      <td>1</td>\n",
       "      <td>My rating is purely on the food and not on the...</td>\n",
       "      <td>Cannon's Chop House</td>\n",
       "      <td>1900 Main St</td>\n",
       "      <td>Canonsburg</td>\n",
       "      <td>PA</td>\n",
       "      <td>15317</td>\n",
       "      <td>3.5</td>\n",
       "      <td>{'Alcohol': 'u'full_bar'', 'RestaurantsReserva...</td>\n",
       "      <td>Steakhouses, Restaurants, Cajun/Creole</td>\n",
       "    </tr>\n",
       "    <tr>\n",
       "      <th>393</th>\n",
       "      <td>JhxI7oS_jsFnq34dDubugQ</td>\n",
       "      <td>2</td>\n",
       "      <td>1</td>\n",
       "      <td>Rocky River location. Out of four different en...</td>\n",
       "      <td>Ferris Steak House</td>\n",
       "      <td>8700 Detroit Ave</td>\n",
       "      <td>Cleveland</td>\n",
       "      <td>OH</td>\n",
       "      <td>44102</td>\n",
       "      <td>3.5</td>\n",
       "      <td>{'RestaurantsReservations': 'True', 'Restauran...</td>\n",
       "      <td>Steakhouses, Restaurants</td>\n",
       "    </tr>\n",
       "  </tbody>\n",
       "</table>\n",
       "</div>"
      ],
      "text/plain": [
       "                business_id  stars_x  useful  \\\n",
       "188  lpxj6LFir23Ds6swW8a6fg        4       0   \n",
       "219  d6VYQbeTZ_WdD8Uuhh35dg        5       0   \n",
       "262  szGbmw_vq3kVU4SfK1x6Sw        4       1   \n",
       "273  eF2jf-E5ktRQIh_4_-Jxsg        4       1   \n",
       "393  JhxI7oS_jsFnq34dDubugQ        2       1   \n",
       "\n",
       "                                                  text  \\\n",
       "188  Very fresh food and authentic Italian taste. T...   \n",
       "219  This is my favorite happy hour place in all of...   \n",
       "262  Ruth Chris Steakhouse is by far one of the bes...   \n",
       "273  My rating is purely on the food and not on the...   \n",
       "393  Rocky River location. Out of four different en...   \n",
       "\n",
       "                        name             address        city state  \\\n",
       "188         Grandview Saloon  1212 Grandview Ave  Pittsburgh    PA   \n",
       "219       Tempest Oyster Bar     120 E Wilson St     Madison    WI   \n",
       "262  Ruths Chris Steak House            6 PPG Pl  Pittsburgh    PA   \n",
       "273      Cannon's Chop House        1900 Main St  Canonsburg    PA   \n",
       "393       Ferris Steak House    8700 Detroit Ave   Cleveland    OH   \n",
       "\n",
       "    postal_code  stars_y                                         attributes  \\\n",
       "188       15211      3.0  {'Alcohol': 'u'full_bar'', 'WiFi': ''free'', '...   \n",
       "219       53703      4.0  {'RestaurantsTakeOut': 'False', 'WiFi': 'u'no'...   \n",
       "262       15222      4.0  {'BusinessParking': '{'garage': False, 'street...   \n",
       "273       15317      3.5  {'Alcohol': 'u'full_bar'', 'RestaurantsReserva...   \n",
       "393       44102      3.5  {'RestaurantsReservations': 'True', 'Restauran...   \n",
       "\n",
       "                                            categories  \n",
       "188  Restaurants, Steakhouses, Seafood, American (T...  \n",
       "219  Steakhouses, Restaurants, Bars, Seafood, Night...  \n",
       "262                           Restaurants, Steakhouses  \n",
       "273             Steakhouses, Restaurants, Cajun/Creole  \n",
       "393                           Steakhouses, Restaurants  "
      ]
     },
     "execution_count": 16,
     "metadata": {},
     "output_type": "execute_result"
    }
   ],
   "source": [
    "data.head()"
   ]
  },
  {
   "cell_type": "code",
   "execution_count": 17,
   "metadata": {},
   "outputs": [
    {
     "data": {
      "text/plain": [
       "28409"
      ]
     },
     "execution_count": 17,
     "metadata": {},
     "output_type": "execute_result"
    }
   ],
   "source": [
    "len(data)"
   ]
  },
  {
   "cell_type": "code",
   "execution_count": 18,
   "metadata": {},
   "outputs": [
    {
     "data": {
      "text/plain": [
       "314"
      ]
     },
     "execution_count": 18,
     "metadata": {},
     "output_type": "execute_result"
    }
   ],
   "source": [
    "liststeak = {}.fromkeys(data.business_id).keys()\n",
    "len(liststeak)"
   ]
  },
  {
   "cell_type": "markdown",
   "metadata": {},
   "source": [
    "#### There are around 314 businesses that contains category 'Steakhouse' and 28409 reviews we should work on.\n",
    "\n",
    "#### Let's take a look at how many reviews  in each rating level."
   ]
  },
  {
   "cell_type": "code",
   "execution_count": 19,
   "metadata": {},
   "outputs": [
    {
     "data": {
      "image/png": "[encoded data removed]",
      "text/plain": [
       "<Figure size 576x360 with 1 Axes>"
      ]
     },
     "metadata": {
      "needs_background": "light"
     },
     "output_type": "display_data"
    }
   ],
   "source": [
    "import matplotlib.pyplot as plt\n",
    "star_x = data.stars_x.value_counts().index\n",
    "star_y = data.stars_x.value_counts().values\n",
    "plt.figure(figsize=(8,5))\n",
    "bar_colors = ['darkgreen', 'mediumseagreen', 'gold', 'crimson', 'orange']\n",
    "plt.bar(star_x, star_y, color=bar_colors, width=.6)\n",
    "plt.xlabel('Stars (Rating)')\n",
    "plt.ylabel('Number of reviews')\n",
    "plt.title('Number of reviews by Rating for Steakhouses');"
   ]
  },
  {
   "cell_type": "markdown",
   "metadata": {},
   "source": [
    "#### Let's take a look at how many reviews are there for each rating level."
   ]
  },
  {
   "cell_type": "code",
   "execution_count": 20,
   "metadata": {},
   "outputs": [],
   "source": [
    "review_steakhouse = review[review.business_id.isin(data.business_id)]"
   ]
  },
  {
   "cell_type": "code",
   "execution_count": 21,
   "metadata": {},
   "outputs": [
    {
     "data": {
      "text/html": [
       "<div>\n",
       "<style scoped>\n",
       "    .dataframe tbody tr th:only-of-type {\n",
       "        vertical-align: middle;\n",
       "    }\n",
       "\n",
       "    .dataframe tbody tr th {\n",
       "        vertical-align: top;\n",
       "    }\n",
       "\n",
       "    .dataframe thead th {\n",
       "        text-align: right;\n",
       "    }\n",
       "</style>\n",
       "<table border=\"1\" class=\"dataframe\">\n",
       "  <thead>\n",
       "    <tr style=\"text-align: right;\">\n",
       "      <th></th>\n",
       "      <th>review_id</th>\n",
       "      <th>user_id</th>\n",
       "      <th>business_id</th>\n",
       "      <th>stars</th>\n",
       "      <th>useful</th>\n",
       "      <th>funny</th>\n",
       "      <th>cool</th>\n",
       "      <th>text</th>\n",
       "      <th>date</th>\n",
       "    </tr>\n",
       "  </thead>\n",
       "  <tbody>\n",
       "    <tr>\n",
       "      <th>188</th>\n",
       "      <td>wqwgRouFIAi29XGhSiZoDg</td>\n",
       "      <td>m5ID0Dpz6IxbNPmhgZQyEQ</td>\n",
       "      <td>lpxj6LFir23Ds6swW8a6fg</td>\n",
       "      <td>4</td>\n",
       "      <td>0</td>\n",
       "      <td>0</td>\n",
       "      <td>0</td>\n",
       "      <td>Very fresh food and authentic Italian taste. T...</td>\n",
       "      <td>2014-08-10 20:30:28</td>\n",
       "    </tr>\n",
       "    <tr>\n",
       "      <th>219</th>\n",
       "      <td>7vsixeZiFsfGoI7JxTpqLg</td>\n",
       "      <td>URig1W1Y_6P2viLKDx5hkQ</td>\n",
       "      <td>d6VYQbeTZ_WdD8Uuhh35dg</td>\n",
       "      <td>5</td>\n",
       "      <td>0</td>\n",
       "      <td>0</td>\n",
       "      <td>1</td>\n",
       "      <td>This is my favorite happy hour place in all of...</td>\n",
       "      <td>2016-11-09 21:15:28</td>\n",
       "    </tr>\n",
       "    <tr>\n",
       "      <th>262</th>\n",
       "      <td>0wceCr75fE63DVC-BxJucQ</td>\n",
       "      <td>jV2JRJT9oSEVzoSkOSqmiQ</td>\n",
       "      <td>szGbmw_vq3kVU4SfK1x6Sw</td>\n",
       "      <td>4</td>\n",
       "      <td>1</td>\n",
       "      <td>0</td>\n",
       "      <td>0</td>\n",
       "      <td>Ruth Chris Steakhouse is by far one of the bes...</td>\n",
       "      <td>2015-01-03 23:44:23</td>\n",
       "    </tr>\n",
       "    <tr>\n",
       "      <th>273</th>\n",
       "      <td>NHDY0NUgqJrZcGBr2UT4fw</td>\n",
       "      <td>Yvs8q8tth9J5-7Pdxkaq6w</td>\n",
       "      <td>eF2jf-E5ktRQIh_4_-Jxsg</td>\n",
       "      <td>4</td>\n",
       "      <td>1</td>\n",
       "      <td>0</td>\n",
       "      <td>0</td>\n",
       "      <td>My rating is purely on the food and not on the...</td>\n",
       "      <td>2018-07-17 00:58:56</td>\n",
       "    </tr>\n",
       "    <tr>\n",
       "      <th>393</th>\n",
       "      <td>EEJXr9Huy4_xasYydJTjng</td>\n",
       "      <td>kdBn3eSDHkHod1Sl7z_MXw</td>\n",
       "      <td>JhxI7oS_jsFnq34dDubugQ</td>\n",
       "      <td>2</td>\n",
       "      <td>1</td>\n",
       "      <td>0</td>\n",
       "      <td>0</td>\n",
       "      <td>Rocky River location. Out of four different en...</td>\n",
       "      <td>2013-01-27 21:07:01</td>\n",
       "    </tr>\n",
       "  </tbody>\n",
       "</table>\n",
       "</div>"
      ],
      "text/plain": [
       "                  review_id                 user_id             business_id  \\\n",
       "188  wqwgRouFIAi29XGhSiZoDg  m5ID0Dpz6IxbNPmhgZQyEQ  lpxj6LFir23Ds6swW8a6fg   \n",
       "219  7vsixeZiFsfGoI7JxTpqLg  URig1W1Y_6P2viLKDx5hkQ  d6VYQbeTZ_WdD8Uuhh35dg   \n",
       "262  0wceCr75fE63DVC-BxJucQ  jV2JRJT9oSEVzoSkOSqmiQ  szGbmw_vq3kVU4SfK1x6Sw   \n",
       "273  NHDY0NUgqJrZcGBr2UT4fw  Yvs8q8tth9J5-7Pdxkaq6w  eF2jf-E5ktRQIh_4_-Jxsg   \n",
       "393  EEJXr9Huy4_xasYydJTjng  kdBn3eSDHkHod1Sl7z_MXw  JhxI7oS_jsFnq34dDubugQ   \n",
       "\n",
       "     stars  useful  funny  cool  \\\n",
       "188      4       0      0     0   \n",
       "219      5       0      0     1   \n",
       "262      4       1      0     0   \n",
       "273      4       1      0     0   \n",
       "393      2       1      0     0   \n",
       "\n",
       "                                                  text                date  \n",
       "188  Very fresh food and authentic Italian taste. T... 2014-08-10 20:30:28  \n",
       "219  This is my favorite happy hour place in all of... 2016-11-09 21:15:28  \n",
       "262  Ruth Chris Steakhouse is by far one of the bes... 2015-01-03 23:44:23  \n",
       "273  My rating is purely on the food and not on the... 2018-07-17 00:58:56  \n",
       "393  Rocky River location. Out of four different en... 2013-01-27 21:07:01  "
      ]
     },
     "execution_count": 21,
     "metadata": {},
     "output_type": "execute_result"
    }
   ],
   "source": [
    "review_steakhouse.head()"
   ]
  },
  {
   "cell_type": "code",
   "execution_count": 22,
   "metadata": {},
   "outputs": [
    {
     "data": {
      "text/html": [
       "<div>\n",
       "<style scoped>\n",
       "    .dataframe tbody tr th:only-of-type {\n",
       "        vertical-align: middle;\n",
       "    }\n",
       "\n",
       "    .dataframe tbody tr th {\n",
       "        vertical-align: top;\n",
       "    }\n",
       "\n",
       "    .dataframe thead th {\n",
       "        text-align: right;\n",
       "    }\n",
       "</style>\n",
       "<table border=\"1\" class=\"dataframe\">\n",
       "  <thead>\n",
       "    <tr style=\"text-align: right;\">\n",
       "      <th></th>\n",
       "      <th>business_id</th>\n",
       "      <th>stars_x</th>\n",
       "      <th>useful</th>\n",
       "      <th>text</th>\n",
       "      <th>name</th>\n",
       "      <th>address</th>\n",
       "      <th>city</th>\n",
       "      <th>state</th>\n",
       "      <th>postal_code</th>\n",
       "      <th>stars_y</th>\n",
       "      <th>attributes</th>\n",
       "      <th>categories</th>\n",
       "    </tr>\n",
       "  </thead>\n",
       "  <tbody>\n",
       "    <tr>\n",
       "      <th>188</th>\n",
       "      <td>lpxj6LFir23Ds6swW8a6fg</td>\n",
       "      <td>4</td>\n",
       "      <td>0</td>\n",
       "      <td>Very fresh food and authentic Italian taste. T...</td>\n",
       "      <td>Grandview Saloon</td>\n",
       "      <td>1212 Grandview Ave</td>\n",
       "      <td>Pittsburgh</td>\n",
       "      <td>PA</td>\n",
       "      <td>15211</td>\n",
       "      <td>3.0</td>\n",
       "      <td>{'Alcohol': 'u'full_bar'', 'WiFi': ''free'', '...</td>\n",
       "      <td>Restaurants, Steakhouses, Seafood, American (T...</td>\n",
       "    </tr>\n",
       "    <tr>\n",
       "      <th>219</th>\n",
       "      <td>d6VYQbeTZ_WdD8Uuhh35dg</td>\n",
       "      <td>5</td>\n",
       "      <td>0</td>\n",
       "      <td>This is my favorite happy hour place in all of...</td>\n",
       "      <td>Tempest Oyster Bar</td>\n",
       "      <td>120 E Wilson St</td>\n",
       "      <td>Madison</td>\n",
       "      <td>WI</td>\n",
       "      <td>53703</td>\n",
       "      <td>4.0</td>\n",
       "      <td>{'RestaurantsTakeOut': 'False', 'WiFi': 'u'no'...</td>\n",
       "      <td>Steakhouses, Restaurants, Bars, Seafood, Night...</td>\n",
       "    </tr>\n",
       "    <tr>\n",
       "      <th>262</th>\n",
       "      <td>szGbmw_vq3kVU4SfK1x6Sw</td>\n",
       "      <td>4</td>\n",
       "      <td>1</td>\n",
       "      <td>Ruth Chris Steakhouse is by far one of the bes...</td>\n",
       "      <td>Ruths Chris Steak House</td>\n",
       "      <td>6 PPG Pl</td>\n",
       "      <td>Pittsburgh</td>\n",
       "      <td>PA</td>\n",
       "      <td>15222</td>\n",
       "      <td>4.0</td>\n",
       "      <td>{'BusinessParking': '{'garage': False, 'street...</td>\n",
       "      <td>Restaurants, Steakhouses</td>\n",
       "    </tr>\n",
       "    <tr>\n",
       "      <th>273</th>\n",
       "      <td>eF2jf-E5ktRQIh_4_-Jxsg</td>\n",
       "      <td>4</td>\n",
       "      <td>1</td>\n",
       "      <td>My rating is purely on the food and not on the...</td>\n",
       "      <td>Cannon's Chop House</td>\n",
       "      <td>1900 Main St</td>\n",
       "      <td>Canonsburg</td>\n",
       "      <td>PA</td>\n",
       "      <td>15317</td>\n",
       "      <td>3.5</td>\n",
       "      <td>{'Alcohol': 'u'full_bar'', 'RestaurantsReserva...</td>\n",
       "      <td>Steakhouses, Restaurants, Cajun/Creole</td>\n",
       "    </tr>\n",
       "    <tr>\n",
       "      <th>393</th>\n",
       "      <td>JhxI7oS_jsFnq34dDubugQ</td>\n",
       "      <td>2</td>\n",
       "      <td>1</td>\n",
       "      <td>Rocky River location. Out of four different en...</td>\n",
       "      <td>Ferris Steak House</td>\n",
       "      <td>8700 Detroit Ave</td>\n",
       "      <td>Cleveland</td>\n",
       "      <td>OH</td>\n",
       "      <td>44102</td>\n",
       "      <td>3.5</td>\n",
       "      <td>{'RestaurantsReservations': 'True', 'Restauran...</td>\n",
       "      <td>Steakhouses, Restaurants</td>\n",
       "    </tr>\n",
       "  </tbody>\n",
       "</table>\n",
       "</div>"
      ],
      "text/plain": [
       "                business_id  stars_x  useful  \\\n",
       "188  lpxj6LFir23Ds6swW8a6fg        4       0   \n",
       "219  d6VYQbeTZ_WdD8Uuhh35dg        5       0   \n",
       "262  szGbmw_vq3kVU4SfK1x6Sw        4       1   \n",
       "273  eF2jf-E5ktRQIh_4_-Jxsg        4       1   \n",
       "393  JhxI7oS_jsFnq34dDubugQ        2       1   \n",
       "\n",
       "                                                  text  \\\n",
       "188  Very fresh food and authentic Italian taste. T...   \n",
       "219  This is my favorite happy hour place in all of...   \n",
       "262  Ruth Chris Steakhouse is by far one of the bes...   \n",
       "273  My rating is purely on the food and not on the...   \n",
       "393  Rocky River location. Out of four different en...   \n",
       "\n",
       "                        name             address        city state  \\\n",
       "188         Grandview Saloon  1212 Grandview Ave  Pittsburgh    PA   \n",
       "219       Tempest Oyster Bar     120 E Wilson St     Madison    WI   \n",
       "262  Ruths Chris Steak House            6 PPG Pl  Pittsburgh    PA   \n",
       "273      Cannon's Chop House        1900 Main St  Canonsburg    PA   \n",
       "393       Ferris Steak House    8700 Detroit Ave   Cleveland    OH   \n",
       "\n",
       "    postal_code  stars_y                                         attributes  \\\n",
       "188       15211      3.0  {'Alcohol': 'u'full_bar'', 'WiFi': ''free'', '...   \n",
       "219       53703      4.0  {'RestaurantsTakeOut': 'False', 'WiFi': 'u'no'...   \n",
       "262       15222      4.0  {'BusinessParking': '{'garage': False, 'street...   \n",
       "273       15317      3.5  {'Alcohol': 'u'full_bar'', 'RestaurantsReserva...   \n",
       "393       44102      3.5  {'RestaurantsReservations': 'True', 'Restauran...   \n",
       "\n",
       "                                            categories  \n",
       "188  Restaurants, Steakhouses, Seafood, American (T...  \n",
       "219  Steakhouses, Restaurants, Bars, Seafood, Night...  \n",
       "262                           Restaurants, Steakhouses  \n",
       "273             Steakhouses, Restaurants, Cajun/Creole  \n",
       "393                           Steakhouses, Restaurants  "
      ]
     },
     "execution_count": 22,
     "metadata": {},
     "output_type": "execute_result"
    }
   ],
   "source": [
    "data.head()"
   ]
  },
  {
   "cell_type": "markdown",
   "metadata": {},
   "source": [
    "#### Save the review_steakhouse"
   ]
  },
  {
   "cell_type": "code",
   "execution_count": 23,
   "metadata": {},
   "outputs": [],
   "source": [
    "data.to_csv('review_steakhouse.csv')"
   ]
  },
  {
   "cell_type": "markdown",
   "metadata": {},
   "source": [
    "#### Then let's take a loot at the length of the reviews."
   ]
  },
  {
   "cell_type": "code",
   "execution_count": 24,
   "metadata": {},
   "outputs": [
    {
     "data": {
      "image/png": "[encoded data removed]",
      "text/plain": [
       "<Figure size 1080x216 with 5 Axes>"
      ]
     },
     "metadata": {},
     "output_type": "display_data"
    }
   ],
   "source": [
    "import seaborn as sns\n",
    "sns.set()\n",
    "data['review_length'] = data.text.map(len)\n",
    "ax = sns.FacetGrid(data=data, col='stars_x',xlim=(0, 2000)).map(plt.hist, 'review_length', bins=50)\n",
    "ax.axes[0][0].set(ylabel='number of reviews');"
   ]
  },
  {
   "cell_type": "markdown",
   "metadata": {},
   "source": [
    "### 3. Choose the topics"
   ]
  },
  {
   "cell_type": "code",
   "execution_count": 25,
   "metadata": {},
   "outputs": [],
   "source": [
    "import numpy as np\n",
    "from textblob import TextBlob\n",
    "import nltk\n",
    "from nltk.corpus import stopwords\n",
    "from wordcloud import WordCloud\n",
    "import re, string\n",
    "import sys\n",
    "import time\n",
    "import collections"
   ]
  },
  {
   "cell_type": "code",
   "execution_count": 26,
   "metadata": {},
   "outputs": [
    {
     "name": "stderr",
     "output_type": "stream",
     "text": [
      "[nltk_data] Error loading stopwords: <urlopen error [Errno 11004]\n",
      "[nltk_data]     getaddrinfo failed>\n"
     ]
    }
   ],
   "source": [
    "import collections\n",
    "nltk.download('stopwords')\n",
    "stop_words = stopwords.words('english')"
   ]
  },
  {
   "cell_type": "code",
   "execution_count": 52,
   "metadata": {},
   "outputs": [
    {
     "name": "stdout",
     "output_type": "stream",
     "text": [
      "Postive Reviews:  17,270\n",
      "Negative Reviews:  7,284\n"
     ]
    }
   ],
   "source": [
    "badreviews = data[(data.stars_x <= 2 )]\n",
    "goodreviews = data[(data.stars_x >= 4)]\n",
    "badreviews = badreviews.text\n",
    "goodreviews = goodreviews.text\n",
    "print('Postive Reviews:  {:,}'.format(len(goodreviews)))\n",
    "print('Negative Reviews:  {:,}'.format(len(badreviews)))"
   ]
  },
  {
   "cell_type": "markdown",
   "metadata": {},
   "source": [
    "#### clean the reviews"
   ]
  },
  {
   "cell_type": "code",
   "execution_count": 28,
   "metadata": {},
   "outputs": [],
   "source": [
    "badreviews = [\"\".join([char for char in a if char not in string.punctuation]) for a in badreviews]\n",
    "goodreviews = [\"\".join([char for char in a if char not in string.punctuation]) for a in goodreviews]"
   ]
  },
  {
   "cell_type": "code",
   "execution_count": 30,
   "metadata": {},
   "outputs": [
    {
     "name": "stderr",
     "output_type": "stream",
     "text": [
      "[nltk_data] Error loading punkt: <urlopen error [Errno 11004]\n",
      "[nltk_data]     getaddrinfo failed>\n",
      "[nltk_data] Error loading wordnet: <urlopen error [Errno 11004]\n",
      "[nltk_data]     getaddrinfo failed>\n"
     ]
    }
   ],
   "source": [
    "import nltk\n",
    "nltk.download('punkt')\n",
    "nltk.download('wordnet')\n",
    "from nltk import word_tokenize,sent_tokenize"
   ]
  },
  {
   "cell_type": "code",
   "execution_count": 31,
   "metadata": {},
   "outputs": [],
   "source": [
    "text1=badreviews\n",
    "text1 = [a.lower() for a in text1]\n",
    "words1 = [nltk.word_tokenize(a) for a in text1]\n",
    "filtered_words1 = [[word for word in a if word not in stop_words] for a in words1]\n",
    "from nltk.stem.wordnet import WordNetLemmatizer\n",
    "lmtzr = WordNetLemmatizer()"
   ]
  },
  {
   "cell_type": "code",
   "execution_count": 32,
   "metadata": {},
   "outputs": [],
   "source": [
    "text2=goodreviews\n",
    "text2 = [a.lower() for a in text2]\n",
    "words2 = [nltk.word_tokenize(a) for a in text2]\n",
    "filtered_words2 = [[word for word in a if word not in stop_words] for a in words2]"
   ]
  },
  {
   "cell_type": "code",
   "execution_count": 33,
   "metadata": {},
   "outputs": [],
   "source": [
    "lemmatized_words1 = [[lmtzr.lemmatize(x) for x in a] for a in filtered_words1]\n",
    "lemmatized_words2 = [[lmtzr.lemmatize(x) for x in a] for a in filtered_words2]"
   ]
  },
  {
   "cell_type": "markdown",
   "metadata": {},
   "source": [
    "#### Let's use LSA to determine the number of top topics and topics we plan to do further analysis with"
   ]
  },
  {
   "cell_type": "markdown",
   "metadata": {},
   "source": [
    "#### Firstly, we have to use tfdif algorithm to get the top valuous words in bad/good reviews."
   ]
  },
  {
   "cell_type": "code",
   "execution_count": 34,
   "metadata": {},
   "outputs": [
    {
     "data": {
      "text/plain": [
       "list"
      ]
     },
     "execution_count": 34,
     "metadata": {},
     "output_type": "execute_result"
    }
   ],
   "source": [
    "type(lemmatized_words1)"
   ]
  },
  {
   "cell_type": "code",
   "execution_count": 35,
   "metadata": {},
   "outputs": [
    {
     "data": {
      "text/plain": [
       "'Rocky River location Out of four different entrees ordered at our table only 1 grilled salmon was ok A prime rib filet and the beef tips were poor margarine not butter  Dressing tasted bottled For the price I expected a better dinner  Longhorn or Outback blow this place away at a cheaper price  For the same money you can go to Chez Francois in Vermilion and actually get what you are paying for  Will not be back'"
      ]
     },
     "execution_count": 35,
     "metadata": {},
     "output_type": "execute_result"
    }
   ],
   "source": [
    "badreviews[0]"
   ]
  },
  {
   "cell_type": "code",
   "execution_count": 36,
   "metadata": {},
   "outputs": [
    {
     "data": {
      "text/plain": [
       "['rocky',\n",
       " 'river',\n",
       " 'location',\n",
       " 'four',\n",
       " 'different',\n",
       " 'entree',\n",
       " 'ordered',\n",
       " 'table',\n",
       " '1',\n",
       " 'grilled',\n",
       " 'salmon',\n",
       " 'ok',\n",
       " 'prime',\n",
       " 'rib',\n",
       " 'filet',\n",
       " 'beef',\n",
       " 'tip',\n",
       " 'poor',\n",
       " 'margarine',\n",
       " 'butter',\n",
       " 'dressing',\n",
       " 'tasted',\n",
       " 'bottled',\n",
       " 'price',\n",
       " 'expected',\n",
       " 'better',\n",
       " 'dinner',\n",
       " 'longhorn',\n",
       " 'outback',\n",
       " 'blow',\n",
       " 'place',\n",
       " 'away',\n",
       " 'cheaper',\n",
       " 'price',\n",
       " 'money',\n",
       " 'go',\n",
       " 'chez',\n",
       " 'francois',\n",
       " 'vermilion',\n",
       " 'actually',\n",
       " 'get',\n",
       " 'paying',\n",
       " 'back']"
      ]
     },
     "execution_count": 36,
     "metadata": {},
     "output_type": "execute_result"
    }
   ],
   "source": [
    "lemmatized_words1[0]"
   ]
  },
  {
   "cell_type": "code",
   "execution_count": 37,
   "metadata": {},
   "outputs": [],
   "source": [
    "import sklearn\n",
    "from sklearn.feature_extraction.text import TfidfVectorizer\n",
    "lemmatized_words1=[ ' '.join(map(str, sent)) for sent in lemmatized_words1]\n",
    "lemmatized_words2=[ ' '.join(map(str, sent)) for sent in lemmatized_words2]\n"
   ]
  },
  {
   "cell_type": "code",
   "execution_count": 38,
   "metadata": {},
   "outputs": [],
   "source": [
    "from array import array "
   ]
  },
  {
   "cell_type": "code",
   "execution_count": 39,
   "metadata": {},
   "outputs": [
    {
     "data": {
      "text/plain": [
       "'rocky river location four different entree ordered table 1 grilled salmon ok prime rib filet beef tip poor margarine butter dressing tasted bottled price expected better dinner longhorn outback blow place away cheaper price money go chez francois vermilion actually get paying back'"
      ]
     },
     "execution_count": 39,
     "metadata": {},
     "output_type": "execute_result"
    }
   ],
   "source": [
    "lemmatized_words1[0]"
   ]
  },
  {
   "cell_type": "code",
   "execution_count": 40,
   "metadata": {},
   "outputs": [
    {
     "data": {
      "text/plain": [
       "list"
      ]
     },
     "execution_count": 40,
     "metadata": {},
     "output_type": "execute_result"
    }
   ],
   "source": [
    "type(lemmatized_words1)"
   ]
  },
  {
   "cell_type": "code",
   "execution_count": 41,
   "metadata": {},
   "outputs": [],
   "source": [
    "tfidf_model1 = TfidfVectorizer(stop_words=stop_words,\n",
    "                        ngram_range=(1,1))\n",
    "tfidf_model2 = TfidfVectorizer(stop_words=stop_words, \n",
    "                        ngram_range=(1,1))\n",
    "result1=tfidf_model1.fit_transform(lemmatized_words1)\n",
    "result2=tfidf_model2.fit_transform(lemmatized_words2)"
   ]
  },
  {
   "cell_type": "code",
   "execution_count": 42,
   "metadata": {},
   "outputs": [
    {
     "name": "stdout",
     "output_type": "stream",
     "text": [
      "  (0, 2264)\t0.0673764798479966\n",
      "  (0, 13233)\t0.1445650014173118\n",
      "  (0, 8145)\t0.07127144776785639\n",
      "  (0, 1261)\t0.12278082160375589\n",
      "  (0, 19573)\t0.2802396442501933\n",
      "  (0, 7804)\t0.2710730400018782\n",
      "  (0, 4000)\t0.2710730400018782\n",
      "  (0, 8260)\t0.07303694179197054\n",
      "  (0, 11803)\t0.11094144612274134\n",
      "  (0, 3912)\t0.19325092018929368\n",
      "  (0, 2218)\t0.1112041323735029\n",
      "  (0, 13553)\t0.06653445134884596\n",
      "  (0, 2895)\t0.21533712749403772\n",
      "  (0, 12802)\t0.14047974035189298\n",
      "  (0, 10847)\t0.16489680260583245\n",
      "  (0, 5750)\t0.08692659424589755\n",
      "  (0, 2681)\t0.08815661654315605\n",
      "  (0, 6977)\t0.13818456484713107\n",
      "  (0, 14018)\t0.19228496982091897\n",
      "  (0, 3023)\t0.22314762658427634\n",
      "  (0, 18043)\t0.11442093542531885\n",
      "  (0, 6199)\t0.14101303584229946\n",
      "  (0, 3427)\t0.13502484468724005\n",
      "  (0, 11157)\t0.2581534369454493\n",
      "  (0, 13742)\t0.11981293398753029\n",
      "  :\t:\n",
      "  (7283, 7908)\t0.10021158106158215\n",
      "  (7283, 15747)\t0.07069139119858373\n",
      "  (7283, 18559)\t0.11302741695094798\n",
      "  (7283, 2440)\t0.17966214892050134\n",
      "  (7283, 20457)\t0.07986520537398953\n",
      "  (7283, 19820)\t0.07545135573762045\n",
      "  (7283, 2014)\t0.06379391448189621\n",
      "  (7283, 18948)\t0.07001412148316516\n",
      "  (7283, 19931)\t0.07109761267483897\n",
      "  (7283, 3922)\t0.08007558714878904\n",
      "  (7283, 4750)\t0.07241076269165063\n",
      "  (7283, 10789)\t0.10037709078379876\n",
      "  (7283, 20000)\t0.0653296613461095\n",
      "  (7283, 10673)\t0.052157759817636755\n",
      "  (7283, 4747)\t0.0955824042150504\n",
      "  (7283, 3532)\t0.2826680887781966\n",
      "  (7283, 4869)\t0.06255249290336418\n",
      "  (7283, 7637)\t0.11437486253658867\n",
      "  (7283, 17313)\t0.21117682464149823\n",
      "  (7283, 5814)\t0.0893051018406682\n",
      "  (7283, 12172)\t0.08384758555055893\n",
      "  (7283, 2264)\t0.20018447926421373\n",
      "  (7283, 7330)\t0.09142602393681813\n",
      "  (7283, 12728)\t0.05259485061164253\n",
      "  (7283, 5693)\t0.09432775041866044\n"
     ]
    }
   ],
   "source": [
    "print(result1)"
   ]
  },
  {
   "cell_type": "code",
   "execution_count": 43,
   "metadata": {},
   "outputs": [
    {
     "name": "stdout",
     "output_type": "stream",
     "text": [
      "Top words in good reviews:\n",
      "[('great',), ('food',), ('good',), ('service',), ('place',), ('steak',), ('time',), ('restaurant',)]\n",
      "Top words in bad reviews:\n",
      "[('food',), ('steak',), ('service',), ('time',), ('place',), ('good',), ('table',), ('back',)]\n"
     ]
    }
   ],
   "source": [
    "bad_df = pd.DataFrame(result1.todense(), columns=[tfidf_model1.get_feature_names()])\n",
    "good_df = pd.DataFrame(result2.todense(), columns=[tfidf_model2.get_feature_names()])\n",
    "col_means_bad = {}\n",
    "for col in bad_df:\n",
    "    col_means_bad[col] = bad_df[col].mean()\n",
    "\n",
    "col_means_good = {}\n",
    "for col in good_df:\n",
    "    col_means_good[col] = good_df[col].mean()\n",
    "    \n",
    "top_words = 8\n",
    "\n",
    "print('Top words in good reviews:')\n",
    "print(sorted(col_means_good, key=col_means_good.get, reverse=True)[:top_words])\n",
    "\n",
    "print('Top words in bad reviews:')\n",
    "print(sorted(col_means_bad, key=col_means_bad.get, reverse=True)[:top_words])"
   ]
  },
  {
   "cell_type": "markdown",
   "metadata": {},
   "source": [
    "#### It looks like the most valuable words in both bad and good reviews are 'food', 'place','service','time'. So clearly, what customers care most is the courses (ofcourse steaks for steakhouses), food delivery time and customer services. Now it has given us some intuition, let's do further analysis using LSA."
   ]
  },
  {
   "cell_type": "code",
   "execution_count": 44,
   "metadata": {},
   "outputs": [],
   "source": [
    "import gensim"
   ]
  },
  {
   "cell_type": "code",
   "execution_count": 45,
   "metadata": {},
   "outputs": [
    {
     "data": {
      "image/png": "[encoded data removed]",
      "text/plain": [
       "<Figure size 864x360 with 1 Axes>"
      ]
     },
     "metadata": {},
     "output_type": "display_data"
    }
   ],
   "source": [
    "'This part credited to Ankur Vishwakarma, Oakland, CA. https://github.com/Vishwacorp/'\n",
    "from gensim import corpora, models, similarities, matutils\n",
    "corpus1 = matutils.Sparse2Corpus(result1.transpose())\n",
    "corpus2 = matutils.Sparse2Corpus(result2.transpose())\n",
    "word_bad = dict((v,k) for k,v in tfidf_model1.vocabulary_.items())\n",
    "word_good = dict((v,k) for k,v in tfidf_model2.vocabulary_.items())\n",
    "word_bad2 = corpora.Dictionary.from_corpus(corpus1, id2word=word_bad)\n",
    "word_good2 = corpora.Dictionary.from_corpus(corpus2, id2word=word_good)\n",
    "lsi_bad = models.LsiModel(corpus1, id2word=word_bad2, num_topics=10)\n",
    "lsi_good = models.LsiModel(corpus2, id2word=word_good2, num_topics=10)\n",
    "\n",
    "singular_values_bad = lsi_bad.projection.s.tolist()\n",
    "singular_values_bad_rel = [sv/singular_values_bad[-1] for sv in singular_values_bad]\n",
    "singular_values_good = lsi_good.projection.s.tolist()\n",
    "singular_values_good_rel = [sv/singular_values_good[-1] for sv in singular_values_good]\n",
    "plt.style.use('fivethirtyeight')\n",
    "plt.figure(figsize=(12,5))\n",
    "plt.plot(range(len(singular_values_bad)), singular_values_bad_rel, label='Bad Reviews', alpha=1.0)\n",
    "plt.plot(range(len(singular_values_good)), singular_values_good_rel, label='Good Reviews', alpha=0.7)\n",
    "plt.xticks(range(len(singular_values_bad)), range(len(singular_values_bad)))\n",
    "plt.xlabel('Topic #')\n",
    "plt.ylabel('Relative Strength')\n",
    "plt.title('LSI Topic Strengths (Relative)')\n",
    "plt.legend(loc=0, fontsize='medium');"
   ]
  },
  {
   "cell_type": "markdown",
   "metadata": {},
   "source": [
    "#### from the above plot, we can see the it is decent to choose topic number as 4."
   ]
  },
  {
   "cell_type": "markdown",
   "metadata": {},
   "source": [
    "#### Let's see roughly what are these topics:"
   ]
  },
  {
   "cell_type": "markdown",
   "metadata": {},
   "source": [
    "#### Top topics in bad reviews:"
   ]
  },
  {
   "cell_type": "code",
   "execution_count": 46,
   "metadata": {},
   "outputs": [],
   "source": [
    "import pprint\n",
    "from pprint import pprint"
   ]
  },
  {
   "cell_type": "code",
   "execution_count": 50,
   "metadata": {},
   "outputs": [
    {
     "name": "stdout",
     "output_type": "stream",
     "text": [
      "[(0,\n",
      "  '0.189*\"food\" + 0.171*\"steak\" + 0.147*\"time\" + 0.142*\"service\" + '\n",
      "  '0.135*\"table\" + 0.131*\"good\" + 0.127*\"place\" + 0.123*\"back\" + '\n",
      "  '0.121*\"minute\" + 0.120*\"one\"'),\n",
      " (1,\n",
      "  '0.427*\"steak\" + -0.267*\"minute\" + -0.203*\"table\" + 0.166*\"medium\" + '\n",
      "  '-0.149*\"drink\" + 0.133*\"salad\" + -0.130*\"waited\" + -0.126*\"order\" + '\n",
      "  '0.122*\"cooked\" + 0.121*\"rare\"'),\n",
      " (2,\n",
      "  '-0.357*\"steak\" + 0.302*\"food\" + -0.245*\"medium\" + 0.244*\"place\" + '\n",
      "  '0.206*\"service\" + -0.174*\"rare\" + -0.171*\"came\" + -0.168*\"ordered\" + '\n",
      "  '-0.164*\"minute\" + 0.148*\"good\"'),\n",
      " (3,\n",
      "  '0.377*\"steak\" + 0.309*\"service\" + 0.266*\"food\" + -0.212*\"salad\" + '\n",
      "  '-0.187*\"chicken\" + -0.157*\"cheese\" + 0.128*\"slow\" + 0.118*\"time\" + '\n",
      "  '0.115*\"terrible\" + 0.112*\"worst\"')]\n"
     ]
    }
   ],
   "source": [
    "pprint(lsi_bad.show_topics()[0:4])"
   ]
  },
  {
   "cell_type": "markdown",
   "metadata": {},
   "source": [
    "#### It can be seen that the tops are likey to be:\n",
    "1.Service time of steak;\n",
    "2.Waiting time between different courses;\n",
    "3.Temperature of Steak;\n",
    "4.Sides,salads and other meals of the restaurant."
   ]
  },
  {
   "cell_type": "markdown",
   "metadata": {},
   "source": [
    "#### Top topics in good reviews:"
   ]
  },
  {
   "cell_type": "code",
   "execution_count": 48,
   "metadata": {},
   "outputs": [
    {
     "name": "stdout",
     "output_type": "stream",
     "text": [
      "[(0,\n",
      "  '0.225*\"great\" + 0.198*\"good\" + 0.189*\"food\" + 0.165*\"steak\" + 0.160*\"place\" '\n",
      "  '+ 0.156*\"service\" + 0.130*\"time\" + 0.111*\"restaurant\" + 0.104*\"best\" + '\n",
      "  '0.104*\"back\"'),\n",
      " (1,\n",
      "  '0.428*\"great\" + 0.281*\"food\" + -0.192*\"steak\" + 0.168*\"curd\" + '\n",
      "  '0.164*\"place\" + 0.162*\"service\" + 0.148*\"atmosphere\" + 0.147*\"beer\" + '\n",
      "  '0.147*\"always\" + -0.143*\"ordered\"'),\n",
      " (2,\n",
      "  '-0.363*\"cheese\" + -0.316*\"curd\" + 0.291*\"great\" + -0.278*\"burger\" + '\n",
      "  '0.239*\"service\" + -0.224*\"old\" + 0.213*\"food\" + -0.207*\"fashioned\" + '\n",
      "  '-0.195*\"beer\" + 0.155*\"steak\"'),\n",
      " (3,\n",
      "  '0.450*\"good\" + -0.383*\"best\" + -0.312*\"steak\" + -0.214*\"ever\" + '\n",
      "  '-0.207*\"always\" + -0.207*\"ive\" + 0.178*\"nice\" + -0.158*\"one\" + '\n",
      "  '0.157*\"really\" + -0.133*\"favorite\"')]\n"
     ]
    }
   ],
   "source": [
    "pprint(lsi_good.show_topics()[0:4])"
   ]
  },
  {
   "cell_type": "markdown",
   "metadata": {},
   "source": [
    "#### It can be discovered that the positive topics are likely to be:\n",
    "1.Service of the restaurant;2.The atomsphere of the restaurant;3.Side;4.Quality of Steak"
   ]
  },
  {
   "cell_type": "code",
   "execution_count": null,
   "metadata": {},
   "outputs": [],
   "source": []
  }
 ],
 "metadata": {
  "kernelspec": {
   "display_name": "Python 3",
   "language": "python",
   "name": "python3"
  },
  "language_info": {
   "codemirror_mode": {
    "name": "ipython",
    "version": 3
   },
   "file_extension": ".py",
   "mimetype": "text/x-python",
   "name": "python",
   "nbconvert_exporter": "python",
   "pygments_lexer": "ipython3",
   "version": "3.8.3"
  }
 },
 "nbformat": 4,
 "nbformat_minor": 4
}
