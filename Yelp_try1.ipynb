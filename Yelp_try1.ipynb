{
 "cells": [
  {
   "cell_type": "code",
   "execution_count": 3,
   "metadata": {},
   "outputs": [],
   "source": [
    "import pandas as pd\n",
    "review = pd.read_json('/Users/zhonglingliao/Desktop/stat628/module3/Data/review_city.json', lines=True)\n",
    "business = pd.read_json('/Users/zhonglingliao/Desktop/stat628/module3/Data/business_city.json', lines=True)"
   ]
  },
  {
   "cell_type": "code",
   "execution_count": 7,
   "metadata": {},
   "outputs": [],
   "source": [
    "df_raw = pd.merge(review, business, how='left', on='business_id')\n",
    "df = df_raw.drop(columns=['business_id', 'review_id', 'user_id', 'funny', 'cool', 'date', 'latitude', 'longitude', 'is_open', 'review_count', 'hours'])"
   ]
  },
  {
   "cell_type": "code",
   "execution_count": 9,
   "metadata": {},
   "outputs": [
    {
     "data": {
      "text/html": [
       "<div>\n",
       "<style scoped>\n",
       "    .dataframe tbody tr th:only-of-type {\n",
       "        vertical-align: middle;\n",
       "    }\n",
       "\n",
       "    .dataframe tbody tr th {\n",
       "        vertical-align: top;\n",
       "    }\n",
       "\n",
       "    .dataframe thead th {\n",
       "        text-align: right;\n",
       "    }\n",
       "</style>\n",
       "<table border=\"1\" class=\"dataframe\">\n",
       "  <thead>\n",
       "    <tr style=\"text-align: right;\">\n",
       "      <th></th>\n",
       "      <th>stars_x</th>\n",
       "      <th>useful</th>\n",
       "      <th>text</th>\n",
       "      <th>name</th>\n",
       "      <th>address</th>\n",
       "      <th>city</th>\n",
       "      <th>state</th>\n",
       "      <th>postal_code</th>\n",
       "      <th>stars_y</th>\n",
       "      <th>attributes</th>\n",
       "      <th>categories</th>\n",
       "    </tr>\n",
       "  </thead>\n",
       "  <tbody>\n",
       "    <tr>\n",
       "      <th>0</th>\n",
       "      <td>5</td>\n",
       "      <td>1</td>\n",
       "      <td>I love Deagan's. I do. I really do. The atmosp...</td>\n",
       "      <td>Deagan's Kitchen &amp; Bar</td>\n",
       "      <td>14810 Detroit Ave</td>\n",
       "      <td>Lakewood</td>\n",
       "      <td>OH</td>\n",
       "      <td>44107</td>\n",
       "      <td>4.0</td>\n",
       "      <td>{'BusinessAcceptsCreditCards': 'True', 'Outdoo...</td>\n",
       "      <td>Restaurants, Gastropubs, Nightlife, American (...</td>\n",
       "    </tr>\n",
       "    <tr>\n",
       "      <th>1</th>\n",
       "      <td>5</td>\n",
       "      <td>1</td>\n",
       "      <td>Called for a 5:15 morning reservation. The dri...</td>\n",
       "      <td>Black Cab &amp; Limo</td>\n",
       "      <td></td>\n",
       "      <td>Champaign</td>\n",
       "      <td>IL</td>\n",
       "      <td></td>\n",
       "      <td>4.5</td>\n",
       "      <td>{'WiFi': 'u'free''}</td>\n",
       "      <td>Airport Shuttles, Transportation, Taxis, Hotel...</td>\n",
       "    </tr>\n",
       "    <tr>\n",
       "      <th>2</th>\n",
       "      <td>4</td>\n",
       "      <td>3</td>\n",
       "      <td>A close friend was in town and so instead of t...</td>\n",
       "      <td>Choolaah Indian BBQ</td>\n",
       "      <td>6114 Centre Ave</td>\n",
       "      <td>Pittsburgh</td>\n",
       "      <td>PA</td>\n",
       "      <td>15206</td>\n",
       "      <td>4.0</td>\n",
       "      <td>{'RestaurantsTableService': 'False', 'Restaura...</td>\n",
       "      <td>Restaurants, Indian, Vegetarian, Vegan, Gluten...</td>\n",
       "    </tr>\n",
       "    <tr>\n",
       "      <th>3</th>\n",
       "      <td>3</td>\n",
       "      <td>0</td>\n",
       "      <td>The service is attentive. The decor attractive...</td>\n",
       "      <td>Adega</td>\n",
       "      <td>2017 E 9th St</td>\n",
       "      <td>Cleveland</td>\n",
       "      <td>OH</td>\n",
       "      <td>44115</td>\n",
       "      <td>4.0</td>\n",
       "      <td>{'BusinessAcceptsCreditCards': 'True', 'Restau...</td>\n",
       "      <td>Mediterranean, Hotels, Beer, Wine &amp; Spirits, B...</td>\n",
       "    </tr>\n",
       "    <tr>\n",
       "      <th>4</th>\n",
       "      <td>4</td>\n",
       "      <td>0</td>\n",
       "      <td>The ingredients are always fresh and I like th...</td>\n",
       "      <td>Pita Pit</td>\n",
       "      <td>2763 East Carson St</td>\n",
       "      <td>Pittsburgh</td>\n",
       "      <td>PA</td>\n",
       "      <td>15203</td>\n",
       "      <td>3.5</td>\n",
       "      <td>{'RestaurantsPriceRange2': '1', 'RestaurantsAt...</td>\n",
       "      <td>Fast Food, Greek, Breakfast &amp; Brunch, Restaura...</td>\n",
       "    </tr>\n",
       "  </tbody>\n",
       "</table>\n",
       "</div>"
      ],
      "text/plain": [
       "   stars_x  useful                                               text  \\\n",
       "0        5       1  I love Deagan's. I do. I really do. The atmosp...   \n",
       "1        5       1  Called for a 5:15 morning reservation. The dri...   \n",
       "2        4       3  A close friend was in town and so instead of t...   \n",
       "3        3       0  The service is attentive. The decor attractive...   \n",
       "4        4       0  The ingredients are always fresh and I like th...   \n",
       "\n",
       "                     name              address        city state postal_code  \\\n",
       "0  Deagan's Kitchen & Bar    14810 Detroit Ave    Lakewood    OH       44107   \n",
       "1        Black Cab & Limo                        Champaign    IL               \n",
       "2     Choolaah Indian BBQ      6114 Centre Ave  Pittsburgh    PA       15206   \n",
       "3                   Adega        2017 E 9th St   Cleveland    OH       44115   \n",
       "4                Pita Pit  2763 East Carson St  Pittsburgh    PA       15203   \n",
       "\n",
       "   stars_y                                         attributes  \\\n",
       "0      4.0  {'BusinessAcceptsCreditCards': 'True', 'Outdoo...   \n",
       "1      4.5                                {'WiFi': 'u'free''}   \n",
       "2      4.0  {'RestaurantsTableService': 'False', 'Restaura...   \n",
       "3      4.0  {'BusinessAcceptsCreditCards': 'True', 'Restau...   \n",
       "4      3.5  {'RestaurantsPriceRange2': '1', 'RestaurantsAt...   \n",
       "\n",
       "                                          categories  \n",
       "0  Restaurants, Gastropubs, Nightlife, American (...  \n",
       "1  Airport Shuttles, Transportation, Taxis, Hotel...  \n",
       "2  Restaurants, Indian, Vegetarian, Vegan, Gluten...  \n",
       "3  Mediterranean, Hotels, Beer, Wine & Spirits, B...  \n",
       "4  Fast Food, Greek, Breakfast & Brunch, Restaura...  "
      ]
     },
     "execution_count": 9,
     "metadata": {},
     "output_type": "execute_result"
    }
   ],
   "source": [
    "df.head()"
   ]
  },
  {
   "cell_type": "code",
   "execution_count": 16,
   "metadata": {},
   "outputs": [],
   "source": [
    "import numpy as np\n",
    "from textblob import TextBlob\n",
    "import nltk\n",
    "from nltk.corpus import stopwords\n",
    "from wordcloud import WordCloud\n",
    "import seaborn as sns\n",
    "import re, string\n",
    "import sys\n",
    "import time\n",
    "import collections"
   ]
  },
  {
   "cell_type": "code",
   "execution_count": 21,
   "metadata": {},
   "outputs": [
    {
     "name": "stderr",
     "output_type": "stream",
     "text": [
      "[nltk_data] Downloading package stopwords to\n",
      "[nltk_data]     /Users/zhonglingliao/nltk_data...\n",
      "[nltk_data]   Unzipping corpora/stopwords.zip.\n"
     ]
    },
    {
     "data": {
      "text/plain": [
       "True"
      ]
     },
     "execution_count": 21,
     "metadata": {},
     "output_type": "execute_result"
    }
   ],
   "source": [
    "import collections\n",
    "nltk.download('stopwords')"
   ]
  },
  {
   "cell_type": "code",
   "execution_count": 12,
   "metadata": {},
   "outputs": [],
   "source": [
    "badreviews = df[(df.stars_x <= 2 )]\n",
    "goodreviews = df[(df.stars_x >= 4)]\n",
    "badreviews = badreviews.text\n",
    "goodreviews = goodreviews.text"
   ]
  },
  {
   "cell_type": "code",
   "execution_count": 22,
   "metadata": {},
   "outputs": [],
   "source": [
    "def tokenize(s):\n",
    "    \"\"\"Convert string to lowercase and split into words (ignoring\n",
    "    punctuation), returning list of words.\n",
    "    \"\"\"\n",
    "    word_list = re.findall(r'\\w+', s.lower())\n",
    "    filtered_words = [word for word in word_list if word not in stopwords.words('english')]\n",
    "    return filtered_words\n",
    "\n",
    "\n",
    "def count_ngrams(lines, min_length=2, max_length=4):\n",
    "    \"\"\"Iterate through given lines iterator (file object or list of\n",
    "    lines) and return n-gram frequencies. The return value is a dict\n",
    "    mapping the length of the n-gram to a collections.Counter\n",
    "    object of n-gram tuple and number of times that n-gram occurred.\n",
    "    Returned dict includes n-grams of length min_length to max_length.\n",
    "    \"\"\"\n",
    "    lengths = range(min_length, max_length + 1)\n",
    "    ngrams = {length: collections.Counter() for length in lengths}\n",
    "    queue = collections.deque(maxlen=max_length)\n",
    "# Helper function to add n-grams at start of current queue to dict\n",
    "    def add_queue():\n",
    "        current = tuple(queue)\n",
    "        for length in lengths:\n",
    "            if len(current) >= length:\n",
    "                ngrams[length][current[:length]] += 1\n",
    "# Loop through all lines and words and add n-grams to dict\n",
    "    for line in lines:\n",
    "        for word in tokenize(line):\n",
    "            queue.append(word)\n",
    "            if len(queue) >= max_length:\n",
    "                add_queue()\n",
    "# Make sure we get the n-grams at the tail end of the queue\n",
    "    while len(queue) > min_length:\n",
    "        queue.popleft()\n",
    "        add_queue()\n",
    "    return ngrams\n",
    "\n",
    "\n",
    "def print_most_frequent(ngrams, num=10):\n",
    "    \"\"\"Print num most common n-grams of each length in n-grams dict.\"\"\"\n",
    "    for n in sorted(ngrams):\n",
    "        print('----- {} most common {}-word phrase -----'.format(num, n))\n",
    "        for gram, count in ngrams[n].most_common(num):\n",
    "            print('{0}: {1}'.format(' '.join(gram), count))\n",
    "        print('')\n",
    "        \n",
    "        \n",
    "def print_word_cloud(ngrams, num=5):\n",
    "    \"\"\"Print word cloud image plot \"\"\"\n",
    "    words = []\n",
    "    for n in sorted(ngrams):\n",
    "        for gram, count in ngrams[n].most_common(num):\n",
    "            s = ' '.join(gram)\n",
    "            words.append(s)\n",
    "            \n",
    "    cloud = WordCloud(width=1440, height= 1080,max_words= 200).generate(' '.join(words))\n",
    "    plt.figure(figsize=(20, 15))\n",
    "    plt.imshow(cloud)\n",
    "    plt.axis('off');\n",
    "    plt.show()\n",
    "    print('')\n",
    "    \n",
    "\"\"\"This part Credit from : https://gist.github.com/BetterProgramming/6817ceba998c6b902bad1a1d82f47556 \"\"\""
   ]
  },
  {
   "cell_type": "code",
   "execution_count": null,
   "metadata": {},
   "outputs": [],
   "source": [
    "most_frequent_badreviews = count_ngrams(badreviews,max_length=3)\n",
    "print_word_cloud(most_frequent_badreviews, 10)"
   ]
  },
  {
   "cell_type": "code",
   "execution_count": null,
   "metadata": {},
   "outputs": [],
   "source": [
    "print_most_frequent(most_frequent_badreviews, num= 10)\n",
    "most_frequent_goodreviews = count_ngrams(goodreviews,max_length=3)\n",
    "print_word_cloud(most_frequent_goodreviews, 10)\n",
    "print_most_frequent(most_frequent_goodreviews, num= 10)"
   ]
  }
 ],
 "metadata": {
  "kernelspec": {
   "display_name": "Python 3",
   "language": "python",
   "name": "python3"
  },
  "language_info": {
   "codemirror_mode": {
    "name": "ipython",
    "version": 3
   },
   "file_extension": ".py",
   "mimetype": "text/x-python",
   "name": "python",
   "nbconvert_exporter": "python",
   "pygments_lexer": "ipython3",
   "version": "3.8.5"
  }
 },
 "nbformat": 4,
 "nbformat_minor": 4
}
