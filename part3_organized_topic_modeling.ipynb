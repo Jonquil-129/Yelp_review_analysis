{
 "cells": [
  {
   "cell_type": "markdown",
   "metadata": {},
   "source": [
    "# Group 13 - Yelp Review Analysis for Module 3"
   ]
  },
  {
   "cell_type": "markdown",
   "metadata": {},
   "source": [
    "Group members:\n",
    "- Jonquil Liao\n",
    "- Yuhan Zhou\n",
    "- Yike Wang"
   ]
  },
  {
   "cell_type": "markdown",
   "metadata": {},
   "source": [
    "**It can be seen that the tops in bad reviews are likey to be:**\n",
    "\n",
    "(1) slow service and drink; (2) temperature of steak (seems like thai food in this subset of data); (3) sides and ingredients; (4) place."
   ]
  },
  {
   "cell_type": "markdown",
   "metadata": {},
   "source": [
    "## 1. Import the data"
   ]
  },
  {
   "cell_type": "code",
   "execution_count": 100,
   "metadata": {},
   "outputs": [],
   "source": [
    "import pandas as pd\n",
    "review = pd.read_json('Data/review_city.json', lines=True)\n",
    "business = pd.read_json('Data/business_city.json', lines=True)"
   ]
  },
  {
   "cell_type": "code",
   "execution_count": 101,
   "metadata": {},
   "outputs": [],
   "source": [
    "df_raw = pd.merge(review, business, how='left', on='business_id')\n",
    "df = df_raw.drop(columns=[ 'review_id', 'funny', 'cool', 'date', 'latitude', 'longitude', 'is_open', 'review_count', 'hours'])"
   ]
  },
  {
   "cell_type": "code",
   "execution_count": 102,
   "metadata": {},
   "outputs": [
    {
     "data": {
      "text/html": [
       "<div>\n",
       "<style scoped>\n",
       "    .dataframe tbody tr th:only-of-type {\n",
       "        vertical-align: middle;\n",
       "    }\n",
       "\n",
       "    .dataframe tbody tr th {\n",
       "        vertical-align: top;\n",
       "    }\n",
       "\n",
       "    .dataframe thead th {\n",
       "        text-align: right;\n",
       "    }\n",
       "</style>\n",
       "<table border=\"1\" class=\"dataframe\">\n",
       "  <thead>\n",
       "    <tr style=\"text-align: right;\">\n",
       "      <th></th>\n",
       "      <th>user_id</th>\n",
       "      <th>business_id</th>\n",
       "      <th>stars_x</th>\n",
       "      <th>useful</th>\n",
       "      <th>text</th>\n",
       "      <th>name</th>\n",
       "      <th>address</th>\n",
       "      <th>city</th>\n",
       "      <th>state</th>\n",
       "      <th>postal_code</th>\n",
       "      <th>stars_y</th>\n",
       "      <th>attributes</th>\n",
       "      <th>categories</th>\n",
       "    </tr>\n",
       "  </thead>\n",
       "  <tbody>\n",
       "    <tr>\n",
       "      <th>0</th>\n",
       "      <td>V34qejxNsCbcgD8C0HVk-Q</td>\n",
       "      <td>HQl28KMwrEKHqhFrrDqVNQ</td>\n",
       "      <td>5</td>\n",
       "      <td>1</td>\n",
       "      <td>I love Deagan's. I do. I really do. The atmosp...</td>\n",
       "      <td>Deagan's Kitchen &amp; Bar</td>\n",
       "      <td>14810 Detroit Ave</td>\n",
       "      <td>Lakewood</td>\n",
       "      <td>OH</td>\n",
       "      <td>44107</td>\n",
       "      <td>4.0</td>\n",
       "      <td>{'BusinessAcceptsCreditCards': 'True', 'Outdoo...</td>\n",
       "      <td>Restaurants, Gastropubs, Nightlife, American (...</td>\n",
       "    </tr>\n",
       "    <tr>\n",
       "      <th>1</th>\n",
       "      <td>5lb0POg2t-AkMFx6603cYQ</td>\n",
       "      <td>ZlCSsWS07JulSBIQlrbF5w</td>\n",
       "      <td>5</td>\n",
       "      <td>1</td>\n",
       "      <td>Called for a 5:15 morning reservation. The dri...</td>\n",
       "      <td>Black Cab &amp; Limo</td>\n",
       "      <td></td>\n",
       "      <td>Champaign</td>\n",
       "      <td>IL</td>\n",
       "      <td></td>\n",
       "      <td>4.5</td>\n",
       "      <td>{'WiFi': 'u'free''}</td>\n",
       "      <td>Airport Shuttles, Transportation, Taxis, Hotel...</td>\n",
       "    </tr>\n",
       "    <tr>\n",
       "      <th>2</th>\n",
       "      <td>6sJN_HlM_uwpfLJ1puf1Fg</td>\n",
       "      <td>oVuZtlCFg_zF090Nhtp0Ow</td>\n",
       "      <td>4</td>\n",
       "      <td>3</td>\n",
       "      <td>A close friend was in town and so instead of t...</td>\n",
       "      <td>Choolaah Indian BBQ</td>\n",
       "      <td>6114 Centre Ave</td>\n",
       "      <td>Pittsburgh</td>\n",
       "      <td>PA</td>\n",
       "      <td>15206</td>\n",
       "      <td>4.0</td>\n",
       "      <td>{'RestaurantsTableService': 'False', 'Restaura...</td>\n",
       "      <td>Restaurants, Indian, Vegetarian, Vegan, Gluten...</td>\n",
       "    </tr>\n",
       "    <tr>\n",
       "      <th>3</th>\n",
       "      <td>EZ6g9a17UdMjtR-wrZebmA</td>\n",
       "      <td>wSAGILK2CFbq5BVZ5D67-A</td>\n",
       "      <td>3</td>\n",
       "      <td>0</td>\n",
       "      <td>The service is attentive. The decor attractive...</td>\n",
       "      <td>Adega</td>\n",
       "      <td>2017 E 9th St</td>\n",
       "      <td>Cleveland</td>\n",
       "      <td>OH</td>\n",
       "      <td>44115</td>\n",
       "      <td>4.0</td>\n",
       "      <td>{'BusinessAcceptsCreditCards': 'True', 'Restau...</td>\n",
       "      <td>Mediterranean, Hotels, Beer, Wine &amp; Spirits, B...</td>\n",
       "    </tr>\n",
       "    <tr>\n",
       "      <th>4</th>\n",
       "      <td>hHFSpKcnDtJOs6M-JKFZ8Q</td>\n",
       "      <td>oCvxJBOs-Mbg-4oanPO7lQ</td>\n",
       "      <td>4</td>\n",
       "      <td>0</td>\n",
       "      <td>The ingredients are always fresh and I like th...</td>\n",
       "      <td>Pita Pit</td>\n",
       "      <td>2763 East Carson St</td>\n",
       "      <td>Pittsburgh</td>\n",
       "      <td>PA</td>\n",
       "      <td>15203</td>\n",
       "      <td>3.5</td>\n",
       "      <td>{'RestaurantsPriceRange2': '1', 'RestaurantsAt...</td>\n",
       "      <td>Fast Food, Greek, Breakfast &amp; Brunch, Restaura...</td>\n",
       "    </tr>\n",
       "  </tbody>\n",
       "</table>\n",
       "</div>"
      ],
      "text/plain": [
       "                  user_id             business_id  stars_x  useful  \\\n",
       "0  V34qejxNsCbcgD8C0HVk-Q  HQl28KMwrEKHqhFrrDqVNQ        5       1   \n",
       "1  5lb0POg2t-AkMFx6603cYQ  ZlCSsWS07JulSBIQlrbF5w        5       1   \n",
       "2  6sJN_HlM_uwpfLJ1puf1Fg  oVuZtlCFg_zF090Nhtp0Ow        4       3   \n",
       "3  EZ6g9a17UdMjtR-wrZebmA  wSAGILK2CFbq5BVZ5D67-A        3       0   \n",
       "4  hHFSpKcnDtJOs6M-JKFZ8Q  oCvxJBOs-Mbg-4oanPO7lQ        4       0   \n",
       "\n",
       "                                                text                    name  \\\n",
       "0  I love Deagan's. I do. I really do. The atmosp...  Deagan's Kitchen & Bar   \n",
       "1  Called for a 5:15 morning reservation. The dri...        Black Cab & Limo   \n",
       "2  A close friend was in town and so instead of t...     Choolaah Indian BBQ   \n",
       "3  The service is attentive. The decor attractive...                   Adega   \n",
       "4  The ingredients are always fresh and I like th...                Pita Pit   \n",
       "\n",
       "               address        city state postal_code  stars_y  \\\n",
       "0    14810 Detroit Ave    Lakewood    OH       44107      4.0   \n",
       "1                        Champaign    IL                  4.5   \n",
       "2      6114 Centre Ave  Pittsburgh    PA       15206      4.0   \n",
       "3        2017 E 9th St   Cleveland    OH       44115      4.0   \n",
       "4  2763 East Carson St  Pittsburgh    PA       15203      3.5   \n",
       "\n",
       "                                          attributes  \\\n",
       "0  {'BusinessAcceptsCreditCards': 'True', 'Outdoo...   \n",
       "1                                {'WiFi': 'u'free''}   \n",
       "2  {'RestaurantsTableService': 'False', 'Restaura...   \n",
       "3  {'BusinessAcceptsCreditCards': 'True', 'Restau...   \n",
       "4  {'RestaurantsPriceRange2': '1', 'RestaurantsAt...   \n",
       "\n",
       "                                          categories  \n",
       "0  Restaurants, Gastropubs, Nightlife, American (...  \n",
       "1  Airport Shuttles, Transportation, Taxis, Hotel...  \n",
       "2  Restaurants, Indian, Vegetarian, Vegan, Gluten...  \n",
       "3  Mediterranean, Hotels, Beer, Wine & Spirits, B...  \n",
       "4  Fast Food, Greek, Breakfast & Brunch, Restaura...  "
      ]
     },
     "execution_count": 102,
     "metadata": {},
     "output_type": "execute_result"
    }
   ],
   "source": [
    "df.head()"
   ]
  },
  {
   "cell_type": "code",
   "execution_count": 103,
   "metadata": {},
   "outputs": [
    {
     "data": {
      "text/html": [
       "<div>\n",
       "<style scoped>\n",
       "    .dataframe tbody tr th:only-of-type {\n",
       "        vertical-align: middle;\n",
       "    }\n",
       "\n",
       "    .dataframe tbody tr th {\n",
       "        vertical-align: top;\n",
       "    }\n",
       "\n",
       "    .dataframe thead th {\n",
       "        text-align: right;\n",
       "    }\n",
       "</style>\n",
       "<table border=\"1\" class=\"dataframe\">\n",
       "  <thead>\n",
       "    <tr style=\"text-align: right;\">\n",
       "      <th></th>\n",
       "      <th>user_id</th>\n",
       "      <th>business_id</th>\n",
       "      <th>stars_x</th>\n",
       "      <th>useful</th>\n",
       "      <th>text</th>\n",
       "      <th>name</th>\n",
       "      <th>address</th>\n",
       "      <th>city</th>\n",
       "      <th>state</th>\n",
       "      <th>postal_code</th>\n",
       "      <th>stars_y</th>\n",
       "      <th>attributes</th>\n",
       "      <th>categories</th>\n",
       "    </tr>\n",
       "  </thead>\n",
       "  <tbody>\n",
       "    <tr>\n",
       "      <th>942022</th>\n",
       "      <td>XYCyePb6v-RKdm_THQQQbQ</td>\n",
       "      <td>hWzbOi1-eS8PmPyZRV8Lew</td>\n",
       "      <td>5</td>\n",
       "      <td>0</td>\n",
       "      <td>AMAZING lattes and scones.  Nice relaxing atmo...</td>\n",
       "      <td>Staghorn Garden Cafe</td>\n",
       "      <td>517 Greenfield Ave</td>\n",
       "      <td>Pittsburgh</td>\n",
       "      <td>PA</td>\n",
       "      <td>15207</td>\n",
       "      <td>4.5</td>\n",
       "      <td>{'RestaurantsDelivery': 'False', 'BikeParking'...</td>\n",
       "      <td>Coffee &amp; Tea, Food, Home Decor, Bakeries, Home...</td>\n",
       "    </tr>\n",
       "    <tr>\n",
       "      <th>942023</th>\n",
       "      <td>kqytC4gk1EPGq6LoIYIoiA</td>\n",
       "      <td>NC4_GCUAB9fuvhWgl8bu5Q</td>\n",
       "      <td>5</td>\n",
       "      <td>0</td>\n",
       "      <td>The staff is very friendly and helpful. The fo...</td>\n",
       "      <td>The Blue Goose Saloon</td>\n",
       "      <td>605 Mt Royal Blvd</td>\n",
       "      <td>Pittsburgh</td>\n",
       "      <td>PA</td>\n",
       "      <td>15223</td>\n",
       "      <td>4.0</td>\n",
       "      <td>{'Ambience': '{'touristy': False, 'hipster': F...</td>\n",
       "      <td>Salad, Restaurants, Nightlife, American (Tradi...</td>\n",
       "    </tr>\n",
       "    <tr>\n",
       "      <th>942024</th>\n",
       "      <td>RfYEn-JHiP7QVovc-3ltgA</td>\n",
       "      <td>0hlQbEOdqNBagHP6xFgRRQ</td>\n",
       "      <td>5</td>\n",
       "      <td>0</td>\n",
       "      <td>This salon is very clean, professional and upb...</td>\n",
       "      <td>Step Up Styles</td>\n",
       "      <td>3248 Old Frankstown Rd</td>\n",
       "      <td>Plum</td>\n",
       "      <td>PA</td>\n",
       "      <td>15239</td>\n",
       "      <td>5.0</td>\n",
       "      <td>{'BusinessAcceptsCreditCards': 'True', 'ByAppo...</td>\n",
       "      <td>Hair Salons, Beauty &amp; Spas</td>\n",
       "    </tr>\n",
       "    <tr>\n",
       "      <th>942025</th>\n",
       "      <td>pjj4Y76C7jHNpH4WOG6slQ</td>\n",
       "      <td>QayOwK3LVRVniGnT6Gzveg</td>\n",
       "      <td>1</td>\n",
       "      <td>0</td>\n",
       "      <td>Went after work to order dinner. I asked the c...</td>\n",
       "      <td>Chipotle Mexican Grill</td>\n",
       "      <td>5 Atterbury Blvd, Ste 1</td>\n",
       "      <td>Hudson</td>\n",
       "      <td>OH</td>\n",
       "      <td>44236</td>\n",
       "      <td>3.0</td>\n",
       "      <td>{'BusinessAcceptsCreditCards': 'True', 'Alcoho...</td>\n",
       "      <td>Mexican, Restaurants, Fast Food</td>\n",
       "    </tr>\n",
       "    <tr>\n",
       "      <th>942026</th>\n",
       "      <td>VwVHW0hunS1NXceJJtfVrA</td>\n",
       "      <td>zxg3vChBI__R6q7ACtyokw</td>\n",
       "      <td>1</td>\n",
       "      <td>1</td>\n",
       "      <td>I should have read the pattern of complaints o...</td>\n",
       "      <td>American Asphalt Sealcoating</td>\n",
       "      <td></td>\n",
       "      <td>Willoughby</td>\n",
       "      <td>OH</td>\n",
       "      <td>44094</td>\n",
       "      <td>2.0</td>\n",
       "      <td>{'BusinessAcceptsCreditCards': 'True'}</td>\n",
       "      <td>Masonry/Concrete, Home Services</td>\n",
       "    </tr>\n",
       "  </tbody>\n",
       "</table>\n",
       "</div>"
      ],
      "text/plain": [
       "                       user_id             business_id  stars_x  useful  \\\n",
       "942022  XYCyePb6v-RKdm_THQQQbQ  hWzbOi1-eS8PmPyZRV8Lew        5       0   \n",
       "942023  kqytC4gk1EPGq6LoIYIoiA  NC4_GCUAB9fuvhWgl8bu5Q        5       0   \n",
       "942024  RfYEn-JHiP7QVovc-3ltgA  0hlQbEOdqNBagHP6xFgRRQ        5       0   \n",
       "942025  pjj4Y76C7jHNpH4WOG6slQ  QayOwK3LVRVniGnT6Gzveg        1       0   \n",
       "942026  VwVHW0hunS1NXceJJtfVrA  zxg3vChBI__R6q7ACtyokw        1       1   \n",
       "\n",
       "                                                     text  \\\n",
       "942022  AMAZING lattes and scones.  Nice relaxing atmo...   \n",
       "942023  The staff is very friendly and helpful. The fo...   \n",
       "942024  This salon is very clean, professional and upb...   \n",
       "942025  Went after work to order dinner. I asked the c...   \n",
       "942026  I should have read the pattern of complaints o...   \n",
       "\n",
       "                                name                  address        city  \\\n",
       "942022          Staghorn Garden Cafe       517 Greenfield Ave  Pittsburgh   \n",
       "942023         The Blue Goose Saloon        605 Mt Royal Blvd  Pittsburgh   \n",
       "942024                Step Up Styles   3248 Old Frankstown Rd        Plum   \n",
       "942025        Chipotle Mexican Grill  5 Atterbury Blvd, Ste 1      Hudson   \n",
       "942026  American Asphalt Sealcoating                           Willoughby   \n",
       "\n",
       "       state postal_code  stars_y  \\\n",
       "942022    PA       15207      4.5   \n",
       "942023    PA       15223      4.0   \n",
       "942024    PA       15239      5.0   \n",
       "942025    OH       44236      3.0   \n",
       "942026    OH       44094      2.0   \n",
       "\n",
       "                                               attributes  \\\n",
       "942022  {'RestaurantsDelivery': 'False', 'BikeParking'...   \n",
       "942023  {'Ambience': '{'touristy': False, 'hipster': F...   \n",
       "942024  {'BusinessAcceptsCreditCards': 'True', 'ByAppo...   \n",
       "942025  {'BusinessAcceptsCreditCards': 'True', 'Alcoho...   \n",
       "942026             {'BusinessAcceptsCreditCards': 'True'}   \n",
       "\n",
       "                                               categories  \n",
       "942022  Coffee & Tea, Food, Home Decor, Bakeries, Home...  \n",
       "942023  Salad, Restaurants, Nightlife, American (Tradi...  \n",
       "942024                         Hair Salons, Beauty & Spas  \n",
       "942025                    Mexican, Restaurants, Fast Food  \n",
       "942026                    Masonry/Concrete, Home Services  "
      ]
     },
     "execution_count": 103,
     "metadata": {},
     "output_type": "execute_result"
    }
   ],
   "source": [
    "df.tail()"
   ]
  },
  {
   "cell_type": "markdown",
   "metadata": {},
   "source": [
    "## 2. Choose the Business\n",
    "**We plan to focus on business type 'Steakhouse', so here we pick out the businesses only in category 'Steakhouse'.**"
   ]
  },
  {
   "cell_type": "code",
   "execution_count": 104,
   "metadata": {},
   "outputs": [],
   "source": [
    "data = df[df['categories'].str.contains('Steakhouse',na=False)]"
   ]
  },
  {
   "cell_type": "code",
   "execution_count": 105,
   "metadata": {},
   "outputs": [],
   "source": [
    "data = data[~data['categories'].str.contains('Japanese',na=False)]"
   ]
  },
  {
   "cell_type": "markdown",
   "metadata": {},
   "source": [
    "**Since Chinese Steakhouse and Japanese Steakhouse are not our target, we would exclude them from the dataset.**"
   ]
  },
  {
   "cell_type": "code",
   "execution_count": 106,
   "metadata": {},
   "outputs": [
    {
     "data": {
      "text/html": [
       "<div>\n",
       "<style scoped>\n",
       "    .dataframe tbody tr th:only-of-type {\n",
       "        vertical-align: middle;\n",
       "    }\n",
       "\n",
       "    .dataframe tbody tr th {\n",
       "        vertical-align: top;\n",
       "    }\n",
       "\n",
       "    .dataframe thead th {\n",
       "        text-align: right;\n",
       "    }\n",
       "</style>\n",
       "<table border=\"1\" class=\"dataframe\">\n",
       "  <thead>\n",
       "    <tr style=\"text-align: right;\">\n",
       "      <th></th>\n",
       "      <th>user_id</th>\n",
       "      <th>business_id</th>\n",
       "      <th>stars_x</th>\n",
       "      <th>useful</th>\n",
       "      <th>text</th>\n",
       "      <th>name</th>\n",
       "      <th>address</th>\n",
       "      <th>city</th>\n",
       "      <th>state</th>\n",
       "      <th>postal_code</th>\n",
       "      <th>stars_y</th>\n",
       "      <th>attributes</th>\n",
       "      <th>categories</th>\n",
       "    </tr>\n",
       "  </thead>\n",
       "  <tbody>\n",
       "    <tr>\n",
       "      <th>188</th>\n",
       "      <td>m5ID0Dpz6IxbNPmhgZQyEQ</td>\n",
       "      <td>lpxj6LFir23Ds6swW8a6fg</td>\n",
       "      <td>4</td>\n",
       "      <td>0</td>\n",
       "      <td>Very fresh food and authentic Italian taste. T...</td>\n",
       "      <td>Grandview Saloon</td>\n",
       "      <td>1212 Grandview Ave</td>\n",
       "      <td>Pittsburgh</td>\n",
       "      <td>PA</td>\n",
       "      <td>15211</td>\n",
       "      <td>3.0</td>\n",
       "      <td>{'Alcohol': 'u'full_bar'', 'WiFi': ''free'', '...</td>\n",
       "      <td>Restaurants, Steakhouses, Seafood, American (T...</td>\n",
       "    </tr>\n",
       "    <tr>\n",
       "      <th>219</th>\n",
       "      <td>URig1W1Y_6P2viLKDx5hkQ</td>\n",
       "      <td>d6VYQbeTZ_WdD8Uuhh35dg</td>\n",
       "      <td>5</td>\n",
       "      <td>0</td>\n",
       "      <td>This is my favorite happy hour place in all of...</td>\n",
       "      <td>Tempest Oyster Bar</td>\n",
       "      <td>120 E Wilson St</td>\n",
       "      <td>Madison</td>\n",
       "      <td>WI</td>\n",
       "      <td>53703</td>\n",
       "      <td>4.0</td>\n",
       "      <td>{'RestaurantsTakeOut': 'False', 'WiFi': 'u'no'...</td>\n",
       "      <td>Steakhouses, Restaurants, Bars, Seafood, Night...</td>\n",
       "    </tr>\n",
       "    <tr>\n",
       "      <th>262</th>\n",
       "      <td>jV2JRJT9oSEVzoSkOSqmiQ</td>\n",
       "      <td>szGbmw_vq3kVU4SfK1x6Sw</td>\n",
       "      <td>4</td>\n",
       "      <td>1</td>\n",
       "      <td>Ruth Chris Steakhouse is by far one of the bes...</td>\n",
       "      <td>Ruths Chris Steak House</td>\n",
       "      <td>6 PPG Pl</td>\n",
       "      <td>Pittsburgh</td>\n",
       "      <td>PA</td>\n",
       "      <td>15222</td>\n",
       "      <td>4.0</td>\n",
       "      <td>{'BusinessParking': '{'garage': False, 'street...</td>\n",
       "      <td>Restaurants, Steakhouses</td>\n",
       "    </tr>\n",
       "    <tr>\n",
       "      <th>273</th>\n",
       "      <td>Yvs8q8tth9J5-7Pdxkaq6w</td>\n",
       "      <td>eF2jf-E5ktRQIh_4_-Jxsg</td>\n",
       "      <td>4</td>\n",
       "      <td>1</td>\n",
       "      <td>My rating is purely on the food and not on the...</td>\n",
       "      <td>Cannon's Chop House</td>\n",
       "      <td>1900 Main St</td>\n",
       "      <td>Canonsburg</td>\n",
       "      <td>PA</td>\n",
       "      <td>15317</td>\n",
       "      <td>3.5</td>\n",
       "      <td>{'Alcohol': 'u'full_bar'', 'RestaurantsReserva...</td>\n",
       "      <td>Steakhouses, Restaurants, Cajun/Creole</td>\n",
       "    </tr>\n",
       "    <tr>\n",
       "      <th>393</th>\n",
       "      <td>kdBn3eSDHkHod1Sl7z_MXw</td>\n",
       "      <td>JhxI7oS_jsFnq34dDubugQ</td>\n",
       "      <td>2</td>\n",
       "      <td>1</td>\n",
       "      <td>Rocky River location. Out of four different en...</td>\n",
       "      <td>Ferris Steak House</td>\n",
       "      <td>8700 Detroit Ave</td>\n",
       "      <td>Cleveland</td>\n",
       "      <td>OH</td>\n",
       "      <td>44102</td>\n",
       "      <td>3.5</td>\n",
       "      <td>{'RestaurantsReservations': 'True', 'Restauran...</td>\n",
       "      <td>Steakhouses, Restaurants</td>\n",
       "    </tr>\n",
       "  </tbody>\n",
       "</table>\n",
       "</div>"
      ],
      "text/plain": [
       "                    user_id             business_id  stars_x  useful  \\\n",
       "188  m5ID0Dpz6IxbNPmhgZQyEQ  lpxj6LFir23Ds6swW8a6fg        4       0   \n",
       "219  URig1W1Y_6P2viLKDx5hkQ  d6VYQbeTZ_WdD8Uuhh35dg        5       0   \n",
       "262  jV2JRJT9oSEVzoSkOSqmiQ  szGbmw_vq3kVU4SfK1x6Sw        4       1   \n",
       "273  Yvs8q8tth9J5-7Pdxkaq6w  eF2jf-E5ktRQIh_4_-Jxsg        4       1   \n",
       "393  kdBn3eSDHkHod1Sl7z_MXw  JhxI7oS_jsFnq34dDubugQ        2       1   \n",
       "\n",
       "                                                  text  \\\n",
       "188  Very fresh food and authentic Italian taste. T...   \n",
       "219  This is my favorite happy hour place in all of...   \n",
       "262  Ruth Chris Steakhouse is by far one of the bes...   \n",
       "273  My rating is purely on the food and not on the...   \n",
       "393  Rocky River location. Out of four different en...   \n",
       "\n",
       "                        name             address        city state  \\\n",
       "188         Grandview Saloon  1212 Grandview Ave  Pittsburgh    PA   \n",
       "219       Tempest Oyster Bar     120 E Wilson St     Madison    WI   \n",
       "262  Ruths Chris Steak House            6 PPG Pl  Pittsburgh    PA   \n",
       "273      Cannon's Chop House        1900 Main St  Canonsburg    PA   \n",
       "393       Ferris Steak House    8700 Detroit Ave   Cleveland    OH   \n",
       "\n",
       "    postal_code  stars_y                                         attributes  \\\n",
       "188       15211      3.0  {'Alcohol': 'u'full_bar'', 'WiFi': ''free'', '...   \n",
       "219       53703      4.0  {'RestaurantsTakeOut': 'False', 'WiFi': 'u'no'...   \n",
       "262       15222      4.0  {'BusinessParking': '{'garage': False, 'street...   \n",
       "273       15317      3.5  {'Alcohol': 'u'full_bar'', 'RestaurantsReserva...   \n",
       "393       44102      3.5  {'RestaurantsReservations': 'True', 'Restauran...   \n",
       "\n",
       "                                            categories  \n",
       "188  Restaurants, Steakhouses, Seafood, American (T...  \n",
       "219  Steakhouses, Restaurants, Bars, Seafood, Night...  \n",
       "262                           Restaurants, Steakhouses  \n",
       "273             Steakhouses, Restaurants, Cajun/Creole  \n",
       "393                           Steakhouses, Restaurants  "
      ]
     },
     "execution_count": 106,
     "metadata": {},
     "output_type": "execute_result"
    }
   ],
   "source": [
    "data.head()"
   ]
  },
  {
   "cell_type": "code",
   "execution_count": 107,
   "metadata": {},
   "outputs": [
    {
     "data": {
      "text/plain": [
       "28409"
      ]
     },
     "execution_count": 107,
     "metadata": {},
     "output_type": "execute_result"
    }
   ],
   "source": [
    "len(data)"
   ]
  },
  {
   "cell_type": "code",
   "execution_count": 108,
   "metadata": {},
   "outputs": [
    {
     "data": {
      "text/plain": [
       "314"
      ]
     },
     "execution_count": 108,
     "metadata": {},
     "output_type": "execute_result"
    }
   ],
   "source": [
    "liststeak = {}.fromkeys(data.business_id).keys()\n",
    "len(liststeak)"
   ]
  },
  {
   "cell_type": "markdown",
   "metadata": {},
   "source": [
    "**There are around 314 businesses that contains category 'Steakhouse' and 28409 reviews we should work on.**\n",
    "\n",
    "**Let's take a look at how many reviews in each rating level in histogram.**"
   ]
  },
  {
   "cell_type": "code",
   "execution_count": 109,
   "metadata": {},
   "outputs": [
    {
     "data": {
      "image/png": "[encoded data removed]",
      "text/plain": [
       "<Figure size 576x432 with 1 Axes>"
      ]
     },
     "metadata": {},
     "output_type": "display_data"
    }
   ],
   "source": [
    "import matplotlib.pyplot as plt\n",
    "star_x = data.stars_x.value_counts().index\n",
    "num_star = data.stars_x.value_counts().values\n",
    "plt.figure(figsize=(8,6))\n",
    "bar_colors = ['mediumseagreen', 'lightgreen', 'orange', 'yellow', 'gold']\n",
    "plt.bar(star_x, num_star, color=bar_colors, width=0.8)\n",
    "plt.xlabel('stars_x (rating)', fontsize=16)\n",
    "plt.ylabel('number of reviews', fontsize=16)\n",
    "plt.title('Number of Reviews by Rating for Steakhouses',fontsize=16);"
   ]
  },
  {
   "cell_type": "markdown",
   "metadata": {},
   "source": [
    "**Let's take a look at how many reviews are there for each rating level.**"
   ]
  },
  {
   "cell_type": "code",
   "execution_count": 110,
   "metadata": {},
   "outputs": [
    {
     "data": {
      "text/html": [
       "<div>\n",
       "<style scoped>\n",
       "    .dataframe tbody tr th:only-of-type {\n",
       "        vertical-align: middle;\n",
       "    }\n",
       "\n",
       "    .dataframe tbody tr th {\n",
       "        vertical-align: top;\n",
       "    }\n",
       "\n",
       "    .dataframe thead th {\n",
       "        text-align: right;\n",
       "    }\n",
       "</style>\n",
       "<table border=\"1\" class=\"dataframe\">\n",
       "  <thead>\n",
       "    <tr style=\"text-align: right;\">\n",
       "      <th></th>\n",
       "      <th>review_id</th>\n",
       "      <th>user_id</th>\n",
       "      <th>business_id</th>\n",
       "      <th>stars</th>\n",
       "      <th>useful</th>\n",
       "      <th>funny</th>\n",
       "      <th>cool</th>\n",
       "      <th>text</th>\n",
       "      <th>date</th>\n",
       "    </tr>\n",
       "  </thead>\n",
       "  <tbody>\n",
       "    <tr>\n",
       "      <th>188</th>\n",
       "      <td>wqwgRouFIAi29XGhSiZoDg</td>\n",
       "      <td>m5ID0Dpz6IxbNPmhgZQyEQ</td>\n",
       "      <td>lpxj6LFir23Ds6swW8a6fg</td>\n",
       "      <td>4</td>\n",
       "      <td>0</td>\n",
       "      <td>0</td>\n",
       "      <td>0</td>\n",
       "      <td>Very fresh food and authentic Italian taste. T...</td>\n",
       "      <td>2014-08-10 20:30:28</td>\n",
       "    </tr>\n",
       "    <tr>\n",
       "      <th>219</th>\n",
       "      <td>7vsixeZiFsfGoI7JxTpqLg</td>\n",
       "      <td>URig1W1Y_6P2viLKDx5hkQ</td>\n",
       "      <td>d6VYQbeTZ_WdD8Uuhh35dg</td>\n",
       "      <td>5</td>\n",
       "      <td>0</td>\n",
       "      <td>0</td>\n",
       "      <td>1</td>\n",
       "      <td>This is my favorite happy hour place in all of...</td>\n",
       "      <td>2016-11-09 21:15:28</td>\n",
       "    </tr>\n",
       "    <tr>\n",
       "      <th>262</th>\n",
       "      <td>0wceCr75fE63DVC-BxJucQ</td>\n",
       "      <td>jV2JRJT9oSEVzoSkOSqmiQ</td>\n",
       "      <td>szGbmw_vq3kVU4SfK1x6Sw</td>\n",
       "      <td>4</td>\n",
       "      <td>1</td>\n",
       "      <td>0</td>\n",
       "      <td>0</td>\n",
       "      <td>Ruth Chris Steakhouse is by far one of the bes...</td>\n",
       "      <td>2015-01-03 23:44:23</td>\n",
       "    </tr>\n",
       "    <tr>\n",
       "      <th>273</th>\n",
       "      <td>NHDY0NUgqJrZcGBr2UT4fw</td>\n",
       "      <td>Yvs8q8tth9J5-7Pdxkaq6w</td>\n",
       "      <td>eF2jf-E5ktRQIh_4_-Jxsg</td>\n",
       "      <td>4</td>\n",
       "      <td>1</td>\n",
       "      <td>0</td>\n",
       "      <td>0</td>\n",
       "      <td>My rating is purely on the food and not on the...</td>\n",
       "      <td>2018-07-17 00:58:56</td>\n",
       "    </tr>\n",
       "    <tr>\n",
       "      <th>393</th>\n",
       "      <td>EEJXr9Huy4_xasYydJTjng</td>\n",
       "      <td>kdBn3eSDHkHod1Sl7z_MXw</td>\n",
       "      <td>JhxI7oS_jsFnq34dDubugQ</td>\n",
       "      <td>2</td>\n",
       "      <td>1</td>\n",
       "      <td>0</td>\n",
       "      <td>0</td>\n",
       "      <td>Rocky River location. Out of four different en...</td>\n",
       "      <td>2013-01-27 21:07:01</td>\n",
       "    </tr>\n",
       "  </tbody>\n",
       "</table>\n",
       "</div>"
      ],
      "text/plain": [
       "                  review_id                 user_id             business_id  \\\n",
       "188  wqwgRouFIAi29XGhSiZoDg  m5ID0Dpz6IxbNPmhgZQyEQ  lpxj6LFir23Ds6swW8a6fg   \n",
       "219  7vsixeZiFsfGoI7JxTpqLg  URig1W1Y_6P2viLKDx5hkQ  d6VYQbeTZ_WdD8Uuhh35dg   \n",
       "262  0wceCr75fE63DVC-BxJucQ  jV2JRJT9oSEVzoSkOSqmiQ  szGbmw_vq3kVU4SfK1x6Sw   \n",
       "273  NHDY0NUgqJrZcGBr2UT4fw  Yvs8q8tth9J5-7Pdxkaq6w  eF2jf-E5ktRQIh_4_-Jxsg   \n",
       "393  EEJXr9Huy4_xasYydJTjng  kdBn3eSDHkHod1Sl7z_MXw  JhxI7oS_jsFnq34dDubugQ   \n",
       "\n",
       "     stars  useful  funny  cool  \\\n",
       "188      4       0      0     0   \n",
       "219      5       0      0     1   \n",
       "262      4       1      0     0   \n",
       "273      4       1      0     0   \n",
       "393      2       1      0     0   \n",
       "\n",
       "                                                  text                date  \n",
       "188  Very fresh food and authentic Italian taste. T... 2014-08-10 20:30:28  \n",
       "219  This is my favorite happy hour place in all of... 2016-11-09 21:15:28  \n",
       "262  Ruth Chris Steakhouse is by far one of the bes... 2015-01-03 23:44:23  \n",
       "273  My rating is purely on the food and not on the... 2018-07-17 00:58:56  \n",
       "393  Rocky River location. Out of four different en... 2013-01-27 21:07:01  "
      ]
     },
     "execution_count": 110,
     "metadata": {},
     "output_type": "execute_result"
    }
   ],
   "source": [
    "review_steakhouse = review[review.business_id.isin(data.business_id)]\n",
    "review_steakhouse.head()"
   ]
  },
  {
   "cell_type": "markdown",
   "metadata": {},
   "source": [
    "**Save the review_steakhouse**"
   ]
  },
  {
   "cell_type": "code",
   "execution_count": 111,
   "metadata": {},
   "outputs": [],
   "source": [
    "data.to_csv('review_steakhouse.csv')"
   ]
  },
  {
   "cell_type": "markdown",
   "metadata": {},
   "source": [
    "**Then let's take a look at the length of the reviews.**"
   ]
  },
  {
   "cell_type": "code",
   "execution_count": 112,
   "metadata": {},
   "outputs": [
    {
     "data": {
      "image/png": "[encoded data removed]",
      "text/plain": [
       "<Figure size 1080x216 with 5 Axes>"
      ]
     },
     "metadata": {},
     "output_type": "display_data"
    }
   ],
   "source": [
    "import seaborn as sns\n",
    "sns.set()\n",
    "data['review_length'] = data.text.map(len)\n",
    "multihist = sns.FacetGrid(data=data, col='stars_x',xlim=(0, 1500)).map(plt.hist, 'review_length', bins=50)\n",
    "multihist.axes[0][0].set(ylabel='number of reviews');"
   ]
  },
  {
   "cell_type": "markdown",
   "metadata": {},
   "source": [
    "## 3. Choose the topics"
   ]
  },
  {
   "cell_type": "code",
   "execution_count": 113,
   "metadata": {},
   "outputs": [
    {
     "name": "stderr",
     "output_type": "stream",
     "text": [
      "[nltk_data] Downloading package stopwords to /Users/ichi/nltk_data...\n",
      "[nltk_data]   Package stopwords is already up-to-date!\n"
     ]
    }
   ],
   "source": [
    "import nltk\n",
    "from nltk.corpus import stopwords\n",
    "import collections\n",
    "nltk.download('stopwords')\n",
    "stop_words = stopwords.words('english')"
   ]
  },
  {
   "cell_type": "code",
   "execution_count": 123,
   "metadata": {},
   "outputs": [],
   "source": [
    "extra = ['ve', 'like', 'got', 'just', 'us','great','get','even',\n",
    "               'good','best','nice','always','back','ever',\n",
    "               'ive','go','well','not','bad','terrible','didnt',\n",
    "               'don', 'really', 'said', 'told', 'ok','dont',\n",
    "               'came', 'went', 'did', 'didn','one','would']\n",
    "stop_words=list(set().union(stop_words,extra))"
   ]
  },
  {
   "cell_type": "code",
   "execution_count": 124,
   "metadata": {},
   "outputs": [
    {
     "name": "stdout",
     "output_type": "stream",
     "text": [
      "Postive Reviews:  17,270\n",
      "Negative Reviews:  7,284\n"
     ]
    }
   ],
   "source": [
    "badreviews = data[(data.stars_x <= 2 )]\n",
    "goodreviews = data[(data.stars_x >= 4)]\n",
    "badreviews = badreviews.text\n",
    "goodreviews = goodreviews.text\n",
    "print('Postive Reviews:  {:,}'.format(len(goodreviews)))\n",
    "print('Negative Reviews:  {:,}'.format(len(badreviews)))"
   ]
  },
  {
   "cell_type": "markdown",
   "metadata": {},
   "source": [
    "**clean the review text**"
   ]
  },
  {
   "cell_type": "code",
   "execution_count": 125,
   "metadata": {},
   "outputs": [],
   "source": [
    "import re, string\n",
    "badreviews = [\"\".join([char for char in a if char not in string.punctuation]) for a in badreviews]\n",
    "goodreviews = [\"\".join([char for char in a if char not in string.punctuation]) for a in goodreviews]"
   ]
  },
  {
   "cell_type": "code",
   "execution_count": 126,
   "metadata": {},
   "outputs": [
    {
     "name": "stderr",
     "output_type": "stream",
     "text": [
      "[nltk_data] Downloading package punkt to /Users/ichi/nltk_data...\n",
      "[nltk_data]   Package punkt is already up-to-date!\n",
      "[nltk_data] Downloading package wordnet to /Users/ichi/nltk_data...\n",
      "[nltk_data]   Package wordnet is already up-to-date!\n"
     ]
    }
   ],
   "source": [
    "nltk.download('punkt')\n",
    "nltk.download('wordnet')\n",
    "from nltk import word_tokenize,sent_tokenize"
   ]
  },
  {
   "cell_type": "code",
   "execution_count": 127,
   "metadata": {},
   "outputs": [],
   "source": [
    "text1=badreviews\n",
    "text1 = [a.lower() for a in text1]\n",
    "words1 = [nltk.word_tokenize(a) for a in text1]\n",
    "filtered_words1 = [[word for word in a if word not in stop_words] for a in words1]\n",
    "from nltk.stem.wordnet import WordNetLemmatizer\n",
    "lmtzr = WordNetLemmatizer()"
   ]
  },
  {
   "cell_type": "code",
   "execution_count": 128,
   "metadata": {},
   "outputs": [],
   "source": [
    "text2=goodreviews\n",
    "text2 = [a.lower() for a in text2]\n",
    "words2 = [nltk.word_tokenize(a) for a in text2]\n",
    "filtered_words2 = [[word for word in a if word not in stop_words] for a in words2]"
   ]
  },
  {
   "cell_type": "code",
   "execution_count": 129,
   "metadata": {},
   "outputs": [],
   "source": [
    "lemmatized_words1 = [[lmtzr.lemmatize(x) for x in a] for a in filtered_words1]\n",
    "lemmatized_words2 = [[lmtzr.lemmatize(x) for x in a] for a in filtered_words2]"
   ]
  },
  {
   "cell_type": "markdown",
   "metadata": {},
   "source": [
    "**Let's use LSA to determine the number of top topics and topics we plan to do further analysis with.**\n",
    "\n",
    "**Firstly, we have to use tfdif algorithm to get the top valuous words in bad/good reviews.**"
   ]
  },
  {
   "cell_type": "code",
   "execution_count": 130,
   "metadata": {},
   "outputs": [
    {
     "data": {
      "text/plain": [
       "list"
      ]
     },
     "execution_count": 130,
     "metadata": {},
     "output_type": "execute_result"
    }
   ],
   "source": [
    "type(lemmatized_words1)"
   ]
  },
  {
   "cell_type": "code",
   "execution_count": 131,
   "metadata": {},
   "outputs": [
    {
     "data": {
      "text/plain": [
       "'Rocky River location Out of four different entrees ordered at our table only 1 grilled salmon was ok A prime rib filet and the beef tips were poor margarine not butter  Dressing tasted bottled For the price I expected a better dinner  Longhorn or Outback blow this place away at a cheaper price  For the same money you can go to Chez Francois in Vermilion and actually get what you are paying for  Will not be back'"
      ]
     },
     "execution_count": 131,
     "metadata": {},
     "output_type": "execute_result"
    }
   ],
   "source": [
    "badreviews[0]"
   ]
  },
  {
   "cell_type": "code",
   "execution_count": 132,
   "metadata": {},
   "outputs": [
    {
     "data": {
      "text/plain": [
       "['rocky',\n",
       " 'river',\n",
       " 'location',\n",
       " 'four',\n",
       " 'different',\n",
       " 'entree',\n",
       " 'ordered',\n",
       " 'table',\n",
       " '1',\n",
       " 'grilled',\n",
       " 'salmon',\n",
       " 'prime',\n",
       " 'rib',\n",
       " 'filet',\n",
       " 'beef',\n",
       " 'tip',\n",
       " 'poor',\n",
       " 'margarine',\n",
       " 'butter',\n",
       " 'dressing',\n",
       " 'tasted',\n",
       " 'bottled',\n",
       " 'price',\n",
       " 'expected',\n",
       " 'better',\n",
       " 'dinner',\n",
       " 'longhorn',\n",
       " 'outback',\n",
       " 'blow',\n",
       " 'place',\n",
       " 'away',\n",
       " 'cheaper',\n",
       " 'price',\n",
       " 'money',\n",
       " 'chez',\n",
       " 'francois',\n",
       " 'vermilion',\n",
       " 'actually',\n",
       " 'get',\n",
       " 'paying']"
      ]
     },
     "execution_count": 132,
     "metadata": {},
     "output_type": "execute_result"
    }
   ],
   "source": [
    "lemmatized_words1[0]"
   ]
  },
  {
   "cell_type": "code",
   "execution_count": 133,
   "metadata": {},
   "outputs": [],
   "source": [
    "import sklearn\n",
    "from sklearn.feature_extraction.text import TfidfVectorizer\n",
    "lemmatized_words1=[ ' '.join(map(str, sent)) for sent in lemmatized_words1]\n",
    "lemmatized_words2=[ ' '.join(map(str, sent)) for sent in lemmatized_words2]"
   ]
  },
  {
   "cell_type": "code",
   "execution_count": 134,
   "metadata": {},
   "outputs": [],
   "source": [
    "from array import array"
   ]
  },
  {
   "cell_type": "code",
   "execution_count": 135,
   "metadata": {},
   "outputs": [],
   "source": [
    "tfidf_model1 = TfidfVectorizer(stop_words=stop_words,\n",
    "                        ngram_range=(1,1))\n",
    "tfidf_model2 = TfidfVectorizer(stop_words=stop_words, \n",
    "                        ngram_range=(1,1))\n",
    "result1=tfidf_model1.fit_transform(lemmatized_words1)\n",
    "result2=tfidf_model2.fit_transform(lemmatized_words2)"
   ]
  },
  {
   "cell_type": "code",
   "execution_count": 136,
   "metadata": {},
   "outputs": [
    {
     "name": "stdout",
     "output_type": "stream",
     "text": [
      "  (0, 13217)\t0.14611135836782138\n",
      "  (0, 8138)\t0.07203381139354863\n",
      "  (0, 1261)\t0.12409416145098609\n",
      "  (0, 19552)\t0.28323726135977073\n",
      "  (0, 7797)\t0.27397260542499635\n",
      "  (0, 3995)\t0.27397260542499635\n",
      "  (0, 11790)\t0.11212814466408651\n",
      "  (0, 3907)\t0.19531805193416496\n",
      "  (0, 2217)\t0.1123936407699699\n",
      "  (0, 13537)\t0.06724614512177121\n",
      "  (0, 2891)\t0.21764050701562707\n",
      "  (0, 12786)\t0.14198239881534677\n",
      "  (0, 10834)\t0.16666064111671977\n",
      "  (0, 5745)\t0.08785641503155399\n",
      "  (0, 2677)\t0.08909959441047127\n",
      "  (0, 6970)\t0.13966267268934435\n",
      "  (0, 14002)\t0.19434176916132626\n",
      "  (0, 3019)\t0.2255345520501588\n",
      "  (0, 18025)\t0.11564485274309338\n",
      "  (0, 6193)\t0.14252139876520178\n",
      "  (0, 3423)\t0.13646915420217487\n",
      "  (0, 11144)\t0.2609148062783086\n",
      "  (0, 13726)\t0.12109452746739156\n",
      "  (0, 18485)\t0.137615342624553\n",
      "  (0, 2547)\t0.14880322636939988\n",
      "  :\t:\n",
      "  (7283, 5308)\t0.11963759482905793\n",
      "  (7283, 12704)\t0.06547976979039742\n",
      "  (7283, 6399)\t0.07545517187684535\n",
      "  (7283, 4866)\t0.09219606751374944\n",
      "  (7283, 7901)\t0.10725108794203007\n",
      "  (7283, 15729)\t0.07565720981414932\n",
      "  (7283, 18540)\t0.12096719068644574\n",
      "  (7283, 2437)\t0.19228277539983732\n",
      "  (7283, 20433)\t0.08547545178246696\n",
      "  (7283, 19799)\t0.08075154491962434\n",
      "  (7283, 2013)\t0.06827520990871966\n",
      "  (7283, 18928)\t0.07493236431186959\n",
      "  (7283, 19910)\t0.07609196690322288\n",
      "  (7283, 3917)\t0.08570061212812159\n",
      "  (7283, 4745)\t0.07749736103474146\n",
      "  (7283, 10776)\t0.10742822413312367\n",
      "  (7283, 4742)\t0.102296727898938\n",
      "  (7283, 4864)\t0.06694658288296249\n",
      "  (7283, 7630)\t0.1224092895284333\n",
      "  (7283, 17295)\t0.22601124491814706\n",
      "  (7283, 5809)\t0.09557846737593662\n",
      "  (7283, 12159)\t0.08973757999171426\n",
      "  (7283, 7323)\t0.09784837670021507\n",
      "  (7283, 12712)\t0.05628945166308454\n",
      "  (7283, 5688)\t0.10095393913911661\n"
     ]
    }
   ],
   "source": [
    "print(result1)"
   ]
  },
  {
   "cell_type": "code",
   "execution_count": 137,
   "metadata": {},
   "outputs": [
    {
     "name": "stdout",
     "output_type": "stream",
     "text": [
      "Top words in good reviews:\n",
      "[('food',), ('service',), ('place',), ('steak',), ('time',), ('restaurant',), ('delicious',), ('bar',), ('amazing',), ('dinner',)]\n",
      "Top words in bad reviews:\n",
      "[('food',), ('steak',), ('service',), ('time',), ('place',), ('table',), ('restaurant',), ('ordered',), ('get',), ('minute',)]\n"
     ]
    }
   ],
   "source": [
    "bad_df = pd.DataFrame(result1.todense(), columns=[tfidf_model1.get_feature_names()])\n",
    "good_df = pd.DataFrame(result2.todense(), columns=[tfidf_model2.get_feature_names()])\n",
    "\n",
    "col_means_bad = {}\n",
    "for col in bad_df:\n",
    "    col_means_bad[col] = bad_df[col].mean()\n",
    "col_means_good = {}\n",
    "for col in good_df:\n",
    "    col_means_good[col] = good_df[col].mean()\n",
    "    \n",
    "top_words = 10\n",
    "\n",
    "print('Top words in good reviews:')\n",
    "print(sorted(col_means_good, key=col_means_good.get, reverse=True)[:top_words])\n",
    "print('Top words in bad reviews:')\n",
    "print(sorted(col_means_bad, key=col_means_bad.get, reverse=True)[:top_words])"
   ]
  },
  {
   "cell_type": "markdown",
   "metadata": {},
   "source": [
    "**It looks like the most valuable words in both bad and good reviews are 'food', 'place','service','time'. So clearly, what customers care most is the courses (of course steaks for steakhouses), food delivery time and customer services. Now it has given us some intuition, let's do further analysis using LSA.**"
   ]
  },
  {
   "cell_type": "code",
   "execution_count": 138,
   "metadata": {},
   "outputs": [
    {
     "data": {
      "image/png": "[encoded data removed]",
      "text/plain": [
       "<Figure size 720x360 with 1 Axes>"
      ]
     },
     "metadata": {},
     "output_type": "display_data"
    }
   ],
   "source": [
    "import gensim\n",
    "from gensim import corpora, models, similarities, matutils\n",
    "'This part credited to Ankur Vishwakarma, Oakland, CA. https://github.com/Vishwacorp/'\n",
    "corpus1 = matutils.Sparse2Corpus(result1.transpose())\n",
    "corpus2 = matutils.Sparse2Corpus(result2.transpose())\n",
    "word_bad = dict((v,k) for k,v in tfidf_model1.vocabulary_.items())\n",
    "word_good = dict((v,k) for k,v in tfidf_model2.vocabulary_.items())\n",
    "word_bad2 = corpora.Dictionary.from_corpus(corpus1, id2word=word_bad)\n",
    "word_good2 = corpora.Dictionary.from_corpus(corpus2, id2word=word_good)\n",
    "lsa_bad = models.LsiModel(corpus1, id2word=word_bad2, num_topics=10)\n",
    "lsa_good = models.LsiModel(corpus2, id2word=word_good2, num_topics=10)\n",
    "\n",
    "singular_values_bad = lsa_bad.projection.s.tolist()\n",
    "singular_values_bad_rel = [sv/singular_values_bad[-1] for sv in singular_values_bad]\n",
    "singular_values_good = lsa_good.projection.s.tolist()\n",
    "singular_values_good_rel = [sv/singular_values_good[-1] for sv in singular_values_good]\n",
    "plt.style.use('fivethirtyeight')\n",
    "plt.figure(figsize=(10,5))\n",
    "plt.plot(range(len(singular_values_bad)), singular_values_bad_rel, label='Bad Reviews', alpha=1.0)\n",
    "plt.plot(range(len(singular_values_good)), singular_values_good_rel, label='Good Reviews', alpha=0.7)\n",
    "plt.xticks(range(len(singular_values_bad)), range(len(singular_values_bad)))\n",
    "plt.xlabel('Topic Index')\n",
    "plt.ylabel('Relative Strength')\n",
    "plt.title('LSA Topic Strengths (Relative)')\n",
    "plt.legend(loc=0, fontsize='medium');"
   ]
  },
  {
   "cell_type": "markdown",
   "metadata": {},
   "source": [
    "**From the above plot, we can see the it is decent to choose topic number as 5.**"
   ]
  },
  {
   "cell_type": "markdown",
   "metadata": {},
   "source": [
    "**Let's see roughly what are these topics:**\n",
    "\n",
    "**Top topics in bad reviews:**"
   ]
  },
  {
   "cell_type": "code",
   "execution_count": 140,
   "metadata": {},
   "outputs": [
    {
     "name": "stdout",
     "output_type": "stream",
     "text": [
      "Top words for bad reviews\n",
      "\n",
      "[(0,\n",
      "  '0.207*\"food\" + 0.186*\"steak\" + 0.163*\"time\" + 0.156*\"service\" + '\n",
      "  '0.150*\"table\" + 0.138*\"place\" + 0.135*\"minute\" + 0.129*\"ordered\" + '\n",
      "  '0.128*\"get\" + 0.122*\"restaurant\"'),\n",
      " (1,\n",
      "  '0.480*\"steak\" + -0.253*\"minute\" + -0.193*\"table\" + 0.193*\"medium\" + '\n",
      "  '-0.151*\"drink\" + 0.142*\"salad\" + 0.142*\"rare\" + 0.138*\"ordered\" + '\n",
      "  '0.132*\"cooked\" + -0.124*\"waited\"'),\n",
      " (2,\n",
      "  '-0.370*\"steak\" + 0.323*\"food\" + 0.262*\"place\" + -0.233*\"medium\" + '\n",
      "  '-0.233*\"minute\" + 0.195*\"service\" + -0.168*\"rare\" + -0.148*\"table\" + '\n",
      "  '-0.137*\"ordered\" + 0.136*\"price\"'),\n",
      " (3,\n",
      "  '0.387*\"steak\" + 0.336*\"service\" + 0.302*\"food\" + -0.227*\"salad\" + '\n",
      "  '-0.204*\"chicken\" + -0.172*\"cheese\" + -0.137*\"ordered\" + 0.136*\"slow\" + '\n",
      "  '0.115*\"time\" + 0.114*\"place\"')]\n"
     ]
    }
   ],
   "source": [
    "import pprint\n",
    "from pprint import pprint\n",
    "print('Top words for bad reviews')\n",
    "print()\n",
    "pprint(lsa_bad.show_topics()[0:4])"
   ]
  },
  {
   "cell_type": "markdown",
   "metadata": {},
   "source": [
    "**It can be seen that the tops are likey to be:**\n",
    "\n",
    "1.Service time of steak; 2.Waiting time between different courses; 3.Temperature of Steak; 4.Sides,salads and other meals of the restaurant."
   ]
  },
  {
   "cell_type": "markdown",
   "metadata": {},
   "source": [
    "**Top topics in good reviews:**"
   ]
  },
  {
   "cell_type": "code",
   "execution_count": 141,
   "metadata": {},
   "outputs": [
    {
     "name": "stdout",
     "output_type": "stream",
     "text": [
      "Top words for bad reviews\n",
      "\n",
      "[(0,\n",
      "  '0.208*\"food\" + 0.185*\"steak\" + 0.179*\"place\" + 0.172*\"service\" + '\n",
      "  '0.146*\"time\" + 0.126*\"restaurant\" + 0.115*\"bar\" + 0.115*\"delicious\" + '\n",
      "  '0.111*\"dinner\" + 0.109*\"salad\"'),\n",
      " (1,\n",
      "  '-0.361*\"curd\" + -0.357*\"cheese\" + -0.296*\"burger\" + 0.275*\"steak\" + '\n",
      "  '-0.260*\"old\" + -0.250*\"beer\" + -0.236*\"fashioned\" + -0.179*\"wisconsin\" + '\n",
      "  '-0.171*\"madison\" + -0.135*\"place\"'),\n",
      " (2,\n",
      "  '0.471*\"food\" + 0.308*\"service\" + 0.201*\"atmosphere\" + 0.184*\"excellent\" + '\n",
      "  '-0.170*\"cheese\" + -0.153*\"salad\" + -0.152*\"ordered\" + -0.145*\"steak\" + '\n",
      "  '0.144*\"place\" + 0.143*\"amazing\"'),\n",
      " (3,\n",
      "  '0.572*\"steak\" + -0.229*\"bar\" + 0.189*\"cheese\" + 0.176*\"curd\" + '\n",
      "  '0.173*\"service\" + -0.173*\"brunch\" + -0.163*\"meat\" + -0.159*\"hour\" + '\n",
      "  '-0.156*\"happy\" + 0.148*\"excellent\"')]\n"
     ]
    }
   ],
   "source": [
    "print('Top words for bad reviews')\n",
    "print()\n",
    "pprint(lsa_good.show_topics()[0:4])"
   ]
  },
  {
   "cell_type": "markdown",
   "metadata": {},
   "source": [
    "**It can be discovered that the positive topics are likely to be:**\n",
    "\n",
    "1.Service of the restaurant; 2.The atomsphere of the restaurant; 3.Sides; 4.Quality of Steak"
   ]
  },
  {
   "cell_type": "markdown",
   "metadata": {},
   "source": [
    "**Given the results of LSA, we could find out that there exists some negative weights for the extracted topics, which makes it hard for interpretation and could be misleading.**\n",
    "\n",
    "**Next, we tried NMF for better results.**"
   ]
  },
  {
   "cell_type": "code",
   "execution_count": 142,
   "metadata": {},
   "outputs": [],
   "source": [
    "from sklearn.decomposition import NMF\n",
    "num = 4\n",
    "nmf_bad = NMF(n_components=num)\n",
    "W_bad = nmf_bad.fit_transform(result1)\n",
    "H_bad = nmf_bad.components_\n",
    "\n",
    "nmf_good = NMF(n_components=num)\n",
    "W_good = nmf_good.fit_transform(result2)\n",
    "H_good = nmf_good.components_"
   ]
  },
  {
   "cell_type": "code",
   "execution_count": 143,
   "metadata": {},
   "outputs": [
    {
     "name": "stdout",
     "output_type": "stream",
     "text": [
      "[[6.34823417e-04 2.42874775e-04 2.99646702e-04 ... 0.00000000e+00\n",
      "  0.00000000e+00 0.00000000e+00]\n",
      " [0.00000000e+00 0.00000000e+00 0.00000000e+00 ... 0.00000000e+00\n",
      "  0.00000000e+00 0.00000000e+00]\n",
      " [2.29880392e-05 3.77121846e-04 0.00000000e+00 ... 0.00000000e+00\n",
      "  0.00000000e+00 0.00000000e+00]\n",
      " [0.00000000e+00 0.00000000e+00 7.84094571e-04 ... 0.00000000e+00\n",
      "  0.00000000e+00 0.00000000e+00]]\n"
     ]
    }
   ],
   "source": [
    "print(H_good)"
   ]
  },
  {
   "cell_type": "code",
   "execution_count": 144,
   "metadata": {},
   "outputs": [
    {
     "name": "stdout",
     "output_type": "stream",
     "text": [
      "Top words in good reviews:\n",
      "\n",
      "Topic 0: 0.748*salad + 0.738*meat + 0.665*ordered + 0.612*table + 0.597*bar + 0.566*dinner + 0.558*also + 0.558*delicious + 0.552*time + 0.548*meal\n",
      "Topic 1: 1.393*cheese + 1.244*curd + 1.133*burger + 0.964*old + 0.888*beer + 0.816*fashioned + 0.642*madison + 0.616*wisconsin + 0.492*place + 0.370*sandwich\n",
      "Topic 2: 1.684*food + 1.198*service + 0.766*place + 0.714*excellent + 0.687*atmosphere + 0.664*amazing + 0.550*staff + 0.528*recommend + 0.490*love + 0.447*restaurant\n",
      "Topic 3: 2.701*steak + 0.789*cooked + 0.468*perfectly + 0.436*side + 0.390*steakhouse + 0.379*house + 0.358*medium + 0.352*service + 0.344*ribeye + 0.328*rare\n",
      "\n"
     ]
    }
   ],
   "source": [
    "def print_topics(model, feature_names, n_top_words):\n",
    "    for topic_idx, topic in enumerate(model.components_):\n",
    "        message = \"Topic %d: \" % topic_idx\n",
    "        message += \" + \".join(['{:04.3f}*'.format(topic[i])+feature_names[i]\n",
    "                             for i in topic.argsort()[:-n_top_words - 1:-1]])\n",
    "        print(message)\n",
    "    print()\n",
    "    \n",
    "n_top_words = 10\n",
    "\n",
    "print('Top words in good reviews:')\n",
    "print()\n",
    "print_topics(nmf_good, tfidf_model2.get_feature_names(), n_top_words)"
   ]
  },
  {
   "cell_type": "markdown",
   "metadata": {},
   "source": [
    "**Compared with LSA method, we could give better interpretation based on the results of top words in topics.**\n",
    "\n",
    "**It can be seen that the tops in good reviews are likey to be:**\n",
    "\n",
    "(1) meat and salad; (2) good service and atmosphere; (3) sides and snacks ; (4) steak quality. (1) salad and sides and (2) meals other than steak."
   ]
  },
  {
   "cell_type": "code",
   "execution_count": 145,
   "metadata": {},
   "outputs": [
    {
     "name": "stdout",
     "output_type": "stream",
     "text": [
      "Top words in bad reviews:\n",
      "\n",
      "Topic 0: 1.065*minute + 1.033*table + 0.717*drink + 0.671*order + 0.543*time + 0.515*server + 0.507*wait + 0.505*waited + 0.494*asked + 0.490*took\n",
      "Topic 1: 1.953*steak + 0.793*medium + 0.596*rare + 0.427*cooked + 0.399*ordered + 0.344*done + 0.279*filet + 0.249*cook + 0.223*cut + 0.212*steakhouse\n",
      "Topic 2: 0.749*salad + 0.503*ordered + 0.479*chicken + 0.455*cheese + 0.390*burger + 0.372*fry + 0.353*meat + 0.352*potato + 0.351*sauce + 0.329*side\n",
      "Topic 3: 1.598*food + 1.177*service + 0.994*place + 0.573*time + 0.422*slow + 0.405*price + 0.382*better + 0.373*restaurant + 0.337*quality + 0.324*get\n",
      "\n"
     ]
    }
   ],
   "source": [
    "print('Top words in bad reviews:')\n",
    "print()\n",
    "print_topics(nmf_bad, tfidf_model1.get_feature_names(), n_top_words)"
   ]
  },
  {
   "cell_type": "markdown",
   "metadata": {},
   "source": [
    "**It can be seen that the tops in bad reviews are likey to be:**\n",
    "\n",
    "(1) slow service and drink; (2) temperature of steak (seems like thai food in this subset of data); (3) sides and ingredients; (4) place."
   ]
  },
  {
   "cell_type": "markdown",
   "metadata": {},
   "source": [
    "**By now we used LSA and NMF to choose top topics in review text, and from the results, we could make good interpretations. Then we'd like to try LDA.**"
   ]
  },
  {
   "cell_type": "markdown",
   "metadata": {},
   "source": [
    "**Before using LDA, we need to use CountVectorizer to convert the collection of text documents to a vector of token counts.**"
   ]
  },
  {
   "cell_type": "code",
   "execution_count": 146,
   "metadata": {},
   "outputs": [],
   "source": [
    "import numpy as np\n",
    "from sklearn.feature_extraction.text import CountVectorizer\n",
    "cv_bad = CountVectorizer(stop_words=stop_words, min_df=10, max_df=0.5, \n",
    "                        ngram_range=(1,1), token_pattern='[a-z][a-z]+')\n",
    "cv_good = CountVectorizer(stop_words=stop_words, min_df=10, max_df=0.5, \n",
    "                        ngram_range=(1,1), token_pattern='[a-z][a-z]+')\n",
    "\n",
    "np.random.seed(20)\n",
    "num_reviews = 5000\n",
    "cv_random_bad = np.random.choice(badreviews, size=num_reviews)\n",
    "cv_random_good = np.random.choice(goodreviews, size=num_reviews)\n",
    "cv_bad_vectors = cv_bad.fit_transform(cv_random_bad).transpose()\n",
    "cv_good_vectors = cv_good.fit_transform(cv_random_good).transpose()"
   ]
  },
  {
   "cell_type": "code",
   "execution_count": 147,
   "metadata": {},
   "outputs": [],
   "source": [
    "corpus_bad = matutils.Sparse2Corpus(cv_bad_vectors)\n",
    "corpus_good = matutils.Sparse2Corpus(cv_good_vectors)\n",
    "id2word_cv_bad = dict((v, k) for k, v in cv_bad.vocabulary_.items())\n",
    "id2word_cv_good = dict((v, k) for k, v in cv_good.vocabulary_.items())"
   ]
  },
  {
   "cell_type": "code",
   "execution_count": 148,
   "metadata": {},
   "outputs": [],
   "source": [
    "lda_bad = models.ldamulticore.LdaMulticore(corpus=corpus_bad, num_topics=4, \n",
    "                                           id2word=id2word_cv_bad, passes=10, workers=15)\n",
    "lda_good = models.ldamulticore.LdaMulticore(corpus=corpus_good, num_topics=4, \n",
    "                                           id2word=id2word_cv_good, passes=10, workers=15)"
   ]
  },
  {
   "cell_type": "code",
   "execution_count": 149,
   "metadata": {},
   "outputs": [
    {
     "name": "stdout",
     "output_type": "stream",
     "text": [
      "Top words for good reviews\n",
      "\n",
      "[(0,\n",
      "  '0.015*\"place\" + 0.013*\"service\" + 0.008*\"steak\" + 0.008*\"get\" + '\n",
      "  '0.007*\"restaurant\" + 0.007*\"better\" + 0.006*\"ordered\" + 0.006*\"time\" + '\n",
      "  '0.005*\"even\" + 0.005*\"much\"'),\n",
      " (1,\n",
      "  '0.010*\"restaurant\" + 0.009*\"table\" + 0.009*\"never\" + 0.008*\"place\" + '\n",
      "  '0.008*\"service\" + 0.008*\"bar\" + 0.008*\"time\" + 0.007*\"could\" + '\n",
      "  '0.007*\"manager\" + 0.007*\"get\"'),\n",
      " (2,\n",
      "  '0.016*\"minutes\" + 0.012*\"steak\" + 0.012*\"service\" + 0.011*\"time\" + '\n",
      "  '0.011*\"ordered\" + 0.011*\"get\" + 0.010*\"table\" + 0.009*\"order\" + '\n",
      "  '0.009*\"waitress\" + 0.009*\"took\"'),\n",
      " (3,\n",
      "  '0.011*\"steak\" + 0.010*\"ordered\" + 0.008*\"salad\" + 0.007*\"restaurant\" + '\n",
      "  '0.006*\"didnt\" + 0.006*\"menu\" + 0.006*\"bar\" + 0.006*\"service\" + '\n",
      "  '0.006*\"cheese\" + 0.005*\"server\"')]\n"
     ]
    }
   ],
   "source": [
    "print('Top words for good reviews')\n",
    "print()\n",
    "pprint(lda_bad.print_topics(num_words=10))"
   ]
  },
  {
   "cell_type": "code",
   "execution_count": 150,
   "metadata": {},
   "outputs": [
    {
     "name": "stdout",
     "output_type": "stream",
     "text": [
      "Top words for bad reviews\n",
      "\n",
      "[(0,\n",
      "  '0.015*\"place\" + 0.013*\"service\" + 0.008*\"steak\" + 0.008*\"get\" + '\n",
      "  '0.007*\"restaurant\" + 0.007*\"better\" + 0.006*\"ordered\" + 0.006*\"time\" + '\n",
      "  '0.005*\"even\" + 0.005*\"much\"'),\n",
      " (1,\n",
      "  '0.010*\"restaurant\" + 0.009*\"table\" + 0.009*\"never\" + 0.008*\"place\" + '\n",
      "  '0.008*\"service\" + 0.008*\"bar\" + 0.008*\"time\" + 0.007*\"could\" + '\n",
      "  '0.007*\"manager\" + 0.007*\"get\"'),\n",
      " (2,\n",
      "  '0.016*\"minutes\" + 0.012*\"steak\" + 0.012*\"service\" + 0.011*\"time\" + '\n",
      "  '0.011*\"ordered\" + 0.011*\"get\" + 0.010*\"table\" + 0.009*\"order\" + '\n",
      "  '0.009*\"waitress\" + 0.009*\"took\"'),\n",
      " (3,\n",
      "  '0.011*\"steak\" + 0.010*\"ordered\" + 0.008*\"salad\" + 0.007*\"restaurant\" + '\n",
      "  '0.006*\"didnt\" + 0.006*\"menu\" + 0.006*\"bar\" + 0.006*\"service\" + '\n",
      "  '0.006*\"cheese\" + 0.005*\"server\"')]\n"
     ]
    }
   ],
   "source": [
    "print('Top words for bad reviews')\n",
    "print()\n",
    "pprint(lda_bad.print_topics(num_words=10))"
   ]
  },
  {
   "cell_type": "markdown",
   "metadata": {},
   "source": [
    "**Compared with LSA method, we could give better interpretation based on the results of top words in topics.**\n",
    "\n",
    "**It can be seen that the tops in good reviews are likey to be:**\n",
    "\n",
    "(1) meat and salad; (2) good service and atmosphere; (3) sides and snacks ; (4) steak quality. (1) salad and sides and (2) meals other than steak."
   ]
  },
  {
   "cell_type": "markdown",
   "metadata": {},
   "source": [
    "**It can be seen that the tops in bad reviews are likey to be:**\n",
    "\n",
    "(1) slow service and drink; (2) temperature of steak (seems like thai food in this subset of data); (3) sides and ingredients; (4) place."
   ]
  },
  {
   "cell_type": "markdown",
   "metadata": {},
   "source": [
    "**Seen from the results of LDA, the topics are .**"
   ]
  },
  {
   "cell_type": "code",
   "execution_count": null,
   "metadata": {},
   "outputs": [],
   "source": []
  }
 ],
 "metadata": {
  "kernelspec": {
   "display_name": "Python 3",
   "language": "python",
   "name": "python3"
  },
  "language_info": {
   "codemirror_mode": {
    "name": "ipython",
    "version": 3
   },
   "file_extension": ".py",
   "mimetype": "text/x-python",
   "name": "python",
   "nbconvert_exporter": "python",
   "pygments_lexer": "ipython3",
   "version": "3.7.6"
  }
 },
 "nbformat": 4,
 "nbformat_minor": 4
}
