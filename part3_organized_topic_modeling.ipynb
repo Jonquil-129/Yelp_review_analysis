{
 "cells": [
  {
   "cell_type": "markdown",
   "metadata": {},
   "source": [
    "# Group 13 - Yelp Review Analysis for Module 3"
   ]
  },
  {
   "cell_type": "markdown",
   "metadata": {},
   "source": [
    "Group members:\n",
    "- Jonquil Liao\n",
    "- Yuhan Zhou\n",
    "- Yike Wang"
   ]
  },
  {
   "cell_type": "markdown",
   "metadata": {},
   "source": [
    "**It can be seen that the tops in bad reviews are likey to be:**\n",
    "\n",
    "(1) slow service and drink; (2) temperature of steak (seems like thai food in this subset of data); (3) sides and ingredients; (4) place."
   ]
  },
  {
   "cell_type": "markdown",
   "metadata": {},
   "source": [
    "## 1. Import the data"
   ]
  },
  {
   "cell_type": "code",
   "execution_count": 1,
   "metadata": {},
   "outputs": [],
   "source": [
    "import pandas as pd\n",
    "review = pd.read_json('Data/review_city.json', lines=True)\n",
    "business = pd.read_json('Data/business_city.json', lines=True)"
   ]
  },
  {
   "cell_type": "code",
   "execution_count": 2,
   "metadata": {},
   "outputs": [],
   "source": [
    "df_raw = pd.merge(review, business, how='left', on='business_id')\n",
    "df = df_raw.drop(columns=[ 'review_id', 'funny', 'cool', 'date', 'latitude', 'longitude', 'is_open', 'review_count', 'hours'])"
   ]
  },
  {
   "cell_type": "code",
   "execution_count": 3,
   "metadata": {},
   "outputs": [
    {
     "data": {
      "text/html": [
       "<div>\n",
       "<style scoped>\n",
       "    .dataframe tbody tr th:only-of-type {\n",
       "        vertical-align: middle;\n",
       "    }\n",
       "\n",
       "    .dataframe tbody tr th {\n",
       "        vertical-align: top;\n",
       "    }\n",
       "\n",
       "    .dataframe thead th {\n",
       "        text-align: right;\n",
       "    }\n",
       "</style>\n",
       "<table border=\"1\" class=\"dataframe\">\n",
       "  <thead>\n",
       "    <tr style=\"text-align: right;\">\n",
       "      <th></th>\n",
       "      <th>user_id</th>\n",
       "      <th>business_id</th>\n",
       "      <th>stars_x</th>\n",
       "      <th>useful</th>\n",
       "      <th>text</th>\n",
       "      <th>name</th>\n",
       "      <th>address</th>\n",
       "      <th>city</th>\n",
       "      <th>state</th>\n",
       "      <th>postal_code</th>\n",
       "      <th>stars_y</th>\n",
       "      <th>attributes</th>\n",
       "      <th>categories</th>\n",
       "    </tr>\n",
       "  </thead>\n",
       "  <tbody>\n",
       "    <tr>\n",
       "      <th>0</th>\n",
       "      <td>V34qejxNsCbcgD8C0HVk-Q</td>\n",
       "      <td>HQl28KMwrEKHqhFrrDqVNQ</td>\n",
       "      <td>5</td>\n",
       "      <td>1</td>\n",
       "      <td>I love Deagan's. I do. I really do. The atmosp...</td>\n",
       "      <td>Deagan's Kitchen &amp; Bar</td>\n",
       "      <td>14810 Detroit Ave</td>\n",
       "      <td>Lakewood</td>\n",
       "      <td>OH</td>\n",
       "      <td>44107</td>\n",
       "      <td>4.0</td>\n",
       "      <td>{'BusinessAcceptsCreditCards': 'True', 'Outdoo...</td>\n",
       "      <td>Restaurants, Gastropubs, Nightlife, American (...</td>\n",
       "    </tr>\n",
       "    <tr>\n",
       "      <th>1</th>\n",
       "      <td>5lb0POg2t-AkMFx6603cYQ</td>\n",
       "      <td>ZlCSsWS07JulSBIQlrbF5w</td>\n",
       "      <td>5</td>\n",
       "      <td>1</td>\n",
       "      <td>Called for a 5:15 morning reservation. The dri...</td>\n",
       "      <td>Black Cab &amp; Limo</td>\n",
       "      <td></td>\n",
       "      <td>Champaign</td>\n",
       "      <td>IL</td>\n",
       "      <td></td>\n",
       "      <td>4.5</td>\n",
       "      <td>{'WiFi': 'u'free''}</td>\n",
       "      <td>Airport Shuttles, Transportation, Taxis, Hotel...</td>\n",
       "    </tr>\n",
       "    <tr>\n",
       "      <th>2</th>\n",
       "      <td>6sJN_HlM_uwpfLJ1puf1Fg</td>\n",
       "      <td>oVuZtlCFg_zF090Nhtp0Ow</td>\n",
       "      <td>4</td>\n",
       "      <td>3</td>\n",
       "      <td>A close friend was in town and so instead of t...</td>\n",
       "      <td>Choolaah Indian BBQ</td>\n",
       "      <td>6114 Centre Ave</td>\n",
       "      <td>Pittsburgh</td>\n",
       "      <td>PA</td>\n",
       "      <td>15206</td>\n",
       "      <td>4.0</td>\n",
       "      <td>{'RestaurantsTableService': 'False', 'Restaura...</td>\n",
       "      <td>Restaurants, Indian, Vegetarian, Vegan, Gluten...</td>\n",
       "    </tr>\n",
       "    <tr>\n",
       "      <th>3</th>\n",
       "      <td>EZ6g9a17UdMjtR-wrZebmA</td>\n",
       "      <td>wSAGILK2CFbq5BVZ5D67-A</td>\n",
       "      <td>3</td>\n",
       "      <td>0</td>\n",
       "      <td>The service is attentive. The decor attractive...</td>\n",
       "      <td>Adega</td>\n",
       "      <td>2017 E 9th St</td>\n",
       "      <td>Cleveland</td>\n",
       "      <td>OH</td>\n",
       "      <td>44115</td>\n",
       "      <td>4.0</td>\n",
       "      <td>{'BusinessAcceptsCreditCards': 'True', 'Restau...</td>\n",
       "      <td>Mediterranean, Hotels, Beer, Wine &amp; Spirits, B...</td>\n",
       "    </tr>\n",
       "    <tr>\n",
       "      <th>4</th>\n",
       "      <td>hHFSpKcnDtJOs6M-JKFZ8Q</td>\n",
       "      <td>oCvxJBOs-Mbg-4oanPO7lQ</td>\n",
       "      <td>4</td>\n",
       "      <td>0</td>\n",
       "      <td>The ingredients are always fresh and I like th...</td>\n",
       "      <td>Pita Pit</td>\n",
       "      <td>2763 East Carson St</td>\n",
       "      <td>Pittsburgh</td>\n",
       "      <td>PA</td>\n",
       "      <td>15203</td>\n",
       "      <td>3.5</td>\n",
       "      <td>{'RestaurantsPriceRange2': '1', 'RestaurantsAt...</td>\n",
       "      <td>Fast Food, Greek, Breakfast &amp; Brunch, Restaura...</td>\n",
       "    </tr>\n",
       "  </tbody>\n",
       "</table>\n",
       "</div>"
      ],
      "text/plain": [
       "                  user_id             business_id  stars_x  useful  \\\n",
       "0  V34qejxNsCbcgD8C0HVk-Q  HQl28KMwrEKHqhFrrDqVNQ        5       1   \n",
       "1  5lb0POg2t-AkMFx6603cYQ  ZlCSsWS07JulSBIQlrbF5w        5       1   \n",
       "2  6sJN_HlM_uwpfLJ1puf1Fg  oVuZtlCFg_zF090Nhtp0Ow        4       3   \n",
       "3  EZ6g9a17UdMjtR-wrZebmA  wSAGILK2CFbq5BVZ5D67-A        3       0   \n",
       "4  hHFSpKcnDtJOs6M-JKFZ8Q  oCvxJBOs-Mbg-4oanPO7lQ        4       0   \n",
       "\n",
       "                                                text                    name  \\\n",
       "0  I love Deagan's. I do. I really do. The atmosp...  Deagan's Kitchen & Bar   \n",
       "1  Called for a 5:15 morning reservation. The dri...        Black Cab & Limo   \n",
       "2  A close friend was in town and so instead of t...     Choolaah Indian BBQ   \n",
       "3  The service is attentive. The decor attractive...                   Adega   \n",
       "4  The ingredients are always fresh and I like th...                Pita Pit   \n",
       "\n",
       "               address        city state postal_code  stars_y  \\\n",
       "0    14810 Detroit Ave    Lakewood    OH       44107      4.0   \n",
       "1                        Champaign    IL                  4.5   \n",
       "2      6114 Centre Ave  Pittsburgh    PA       15206      4.0   \n",
       "3        2017 E 9th St   Cleveland    OH       44115      4.0   \n",
       "4  2763 East Carson St  Pittsburgh    PA       15203      3.5   \n",
       "\n",
       "                                          attributes  \\\n",
       "0  {'BusinessAcceptsCreditCards': 'True', 'Outdoo...   \n",
       "1                                {'WiFi': 'u'free''}   \n",
       "2  {'RestaurantsTableService': 'False', 'Restaura...   \n",
       "3  {'BusinessAcceptsCreditCards': 'True', 'Restau...   \n",
       "4  {'RestaurantsPriceRange2': '1', 'RestaurantsAt...   \n",
       "\n",
       "                                          categories  \n",
       "0  Restaurants, Gastropubs, Nightlife, American (...  \n",
       "1  Airport Shuttles, Transportation, Taxis, Hotel...  \n",
       "2  Restaurants, Indian, Vegetarian, Vegan, Gluten...  \n",
       "3  Mediterranean, Hotels, Beer, Wine & Spirits, B...  \n",
       "4  Fast Food, Greek, Breakfast & Brunch, Restaura...  "
      ]
     },
     "execution_count": 3,
     "metadata": {},
     "output_type": "execute_result"
    }
   ],
   "source": [
    "df.head()"
   ]
  },
  {
   "cell_type": "code",
   "execution_count": 4,
   "metadata": {},
   "outputs": [
    {
     "data": {
      "text/html": [
       "<div>\n",
       "<style scoped>\n",
       "    .dataframe tbody tr th:only-of-type {\n",
       "        vertical-align: middle;\n",
       "    }\n",
       "\n",
       "    .dataframe tbody tr th {\n",
       "        vertical-align: top;\n",
       "    }\n",
       "\n",
       "    .dataframe thead th {\n",
       "        text-align: right;\n",
       "    }\n",
       "</style>\n",
       "<table border=\"1\" class=\"dataframe\">\n",
       "  <thead>\n",
       "    <tr style=\"text-align: right;\">\n",
       "      <th></th>\n",
       "      <th>user_id</th>\n",
       "      <th>business_id</th>\n",
       "      <th>stars_x</th>\n",
       "      <th>useful</th>\n",
       "      <th>text</th>\n",
       "      <th>name</th>\n",
       "      <th>address</th>\n",
       "      <th>city</th>\n",
       "      <th>state</th>\n",
       "      <th>postal_code</th>\n",
       "      <th>stars_y</th>\n",
       "      <th>attributes</th>\n",
       "      <th>categories</th>\n",
       "    </tr>\n",
       "  </thead>\n",
       "  <tbody>\n",
       "    <tr>\n",
       "      <th>942022</th>\n",
       "      <td>XYCyePb6v-RKdm_THQQQbQ</td>\n",
       "      <td>hWzbOi1-eS8PmPyZRV8Lew</td>\n",
       "      <td>5</td>\n",
       "      <td>0</td>\n",
       "      <td>AMAZING lattes and scones.  Nice relaxing atmo...</td>\n",
       "      <td>Staghorn Garden Cafe</td>\n",
       "      <td>517 Greenfield Ave</td>\n",
       "      <td>Pittsburgh</td>\n",
       "      <td>PA</td>\n",
       "      <td>15207</td>\n",
       "      <td>4.5</td>\n",
       "      <td>{'RestaurantsDelivery': 'False', 'BikeParking'...</td>\n",
       "      <td>Coffee &amp; Tea, Food, Home Decor, Bakeries, Home...</td>\n",
       "    </tr>\n",
       "    <tr>\n",
       "      <th>942023</th>\n",
       "      <td>kqytC4gk1EPGq6LoIYIoiA</td>\n",
       "      <td>NC4_GCUAB9fuvhWgl8bu5Q</td>\n",
       "      <td>5</td>\n",
       "      <td>0</td>\n",
       "      <td>The staff is very friendly and helpful. The fo...</td>\n",
       "      <td>The Blue Goose Saloon</td>\n",
       "      <td>605 Mt Royal Blvd</td>\n",
       "      <td>Pittsburgh</td>\n",
       "      <td>PA</td>\n",
       "      <td>15223</td>\n",
       "      <td>4.0</td>\n",
       "      <td>{'Ambience': '{'touristy': False, 'hipster': F...</td>\n",
       "      <td>Salad, Restaurants, Nightlife, American (Tradi...</td>\n",
       "    </tr>\n",
       "    <tr>\n",
       "      <th>942024</th>\n",
       "      <td>RfYEn-JHiP7QVovc-3ltgA</td>\n",
       "      <td>0hlQbEOdqNBagHP6xFgRRQ</td>\n",
       "      <td>5</td>\n",
       "      <td>0</td>\n",
       "      <td>This salon is very clean, professional and upb...</td>\n",
       "      <td>Step Up Styles</td>\n",
       "      <td>3248 Old Frankstown Rd</td>\n",
       "      <td>Plum</td>\n",
       "      <td>PA</td>\n",
       "      <td>15239</td>\n",
       "      <td>5.0</td>\n",
       "      <td>{'BusinessAcceptsCreditCards': 'True', 'ByAppo...</td>\n",
       "      <td>Hair Salons, Beauty &amp; Spas</td>\n",
       "    </tr>\n",
       "    <tr>\n",
       "      <th>942025</th>\n",
       "      <td>pjj4Y76C7jHNpH4WOG6slQ</td>\n",
       "      <td>QayOwK3LVRVniGnT6Gzveg</td>\n",
       "      <td>1</td>\n",
       "      <td>0</td>\n",
       "      <td>Went after work to order dinner. I asked the c...</td>\n",
       "      <td>Chipotle Mexican Grill</td>\n",
       "      <td>5 Atterbury Blvd, Ste 1</td>\n",
       "      <td>Hudson</td>\n",
       "      <td>OH</td>\n",
       "      <td>44236</td>\n",
       "      <td>3.0</td>\n",
       "      <td>{'BusinessAcceptsCreditCards': 'True', 'Alcoho...</td>\n",
       "      <td>Mexican, Restaurants, Fast Food</td>\n",
       "    </tr>\n",
       "    <tr>\n",
       "      <th>942026</th>\n",
       "      <td>VwVHW0hunS1NXceJJtfVrA</td>\n",
       "      <td>zxg3vChBI__R6q7ACtyokw</td>\n",
       "      <td>1</td>\n",
       "      <td>1</td>\n",
       "      <td>I should have read the pattern of complaints o...</td>\n",
       "      <td>American Asphalt Sealcoating</td>\n",
       "      <td></td>\n",
       "      <td>Willoughby</td>\n",
       "      <td>OH</td>\n",
       "      <td>44094</td>\n",
       "      <td>2.0</td>\n",
       "      <td>{'BusinessAcceptsCreditCards': 'True'}</td>\n",
       "      <td>Masonry/Concrete, Home Services</td>\n",
       "    </tr>\n",
       "  </tbody>\n",
       "</table>\n",
       "</div>"
      ],
      "text/plain": [
       "                       user_id             business_id  stars_x  useful  \\\n",
       "942022  XYCyePb6v-RKdm_THQQQbQ  hWzbOi1-eS8PmPyZRV8Lew        5       0   \n",
       "942023  kqytC4gk1EPGq6LoIYIoiA  NC4_GCUAB9fuvhWgl8bu5Q        5       0   \n",
       "942024  RfYEn-JHiP7QVovc-3ltgA  0hlQbEOdqNBagHP6xFgRRQ        5       0   \n",
       "942025  pjj4Y76C7jHNpH4WOG6slQ  QayOwK3LVRVniGnT6Gzveg        1       0   \n",
       "942026  VwVHW0hunS1NXceJJtfVrA  zxg3vChBI__R6q7ACtyokw        1       1   \n",
       "\n",
       "                                                     text  \\\n",
       "942022  AMAZING lattes and scones.  Nice relaxing atmo...   \n",
       "942023  The staff is very friendly and helpful. The fo...   \n",
       "942024  This salon is very clean, professional and upb...   \n",
       "942025  Went after work to order dinner. I asked the c...   \n",
       "942026  I should have read the pattern of complaints o...   \n",
       "\n",
       "                                name                  address        city  \\\n",
       "942022          Staghorn Garden Cafe       517 Greenfield Ave  Pittsburgh   \n",
       "942023         The Blue Goose Saloon        605 Mt Royal Blvd  Pittsburgh   \n",
       "942024                Step Up Styles   3248 Old Frankstown Rd        Plum   \n",
       "942025        Chipotle Mexican Grill  5 Atterbury Blvd, Ste 1      Hudson   \n",
       "942026  American Asphalt Sealcoating                           Willoughby   \n",
       "\n",
       "       state postal_code  stars_y  \\\n",
       "942022    PA       15207      4.5   \n",
       "942023    PA       15223      4.0   \n",
       "942024    PA       15239      5.0   \n",
       "942025    OH       44236      3.0   \n",
       "942026    OH       44094      2.0   \n",
       "\n",
       "                                               attributes  \\\n",
       "942022  {'RestaurantsDelivery': 'False', 'BikeParking'...   \n",
       "942023  {'Ambience': '{'touristy': False, 'hipster': F...   \n",
       "942024  {'BusinessAcceptsCreditCards': 'True', 'ByAppo...   \n",
       "942025  {'BusinessAcceptsCreditCards': 'True', 'Alcoho...   \n",
       "942026             {'BusinessAcceptsCreditCards': 'True'}   \n",
       "\n",
       "                                               categories  \n",
       "942022  Coffee & Tea, Food, Home Decor, Bakeries, Home...  \n",
       "942023  Salad, Restaurants, Nightlife, American (Tradi...  \n",
       "942024                         Hair Salons, Beauty & Spas  \n",
       "942025                    Mexican, Restaurants, Fast Food  \n",
       "942026                    Masonry/Concrete, Home Services  "
      ]
     },
     "execution_count": 4,
     "metadata": {},
     "output_type": "execute_result"
    }
   ],
   "source": [
    "df.tail()"
   ]
  },
  {
   "cell_type": "markdown",
   "metadata": {},
   "source": [
    "## 2. Choose the Business\n",
    "**We plan to focus on business type 'Steakhouse', so here we pick out the businesses only in category 'Steakhouse'.**"
   ]
  },
  {
   "cell_type": "code",
   "execution_count": 5,
   "metadata": {},
   "outputs": [],
   "source": [
    "data = df[df['categories'].str.contains('Steakhouse',na=False)]"
   ]
  },
  {
   "cell_type": "code",
   "execution_count": 6,
   "metadata": {},
   "outputs": [],
   "source": [
    "data = data[~data['categories'].str.contains('Japanese',na=False)]"
   ]
  },
  {
   "cell_type": "markdown",
   "metadata": {},
   "source": [
    "**Since Chinese Steakhouse and Japanese Steakhouse are not our target, we would exclude them from the dataset.**"
   ]
  },
  {
   "cell_type": "code",
   "execution_count": 7,
   "metadata": {},
   "outputs": [
    {
     "data": {
      "text/html": [
       "<div>\n",
       "<style scoped>\n",
       "    .dataframe tbody tr th:only-of-type {\n",
       "        vertical-align: middle;\n",
       "    }\n",
       "\n",
       "    .dataframe tbody tr th {\n",
       "        vertical-align: top;\n",
       "    }\n",
       "\n",
       "    .dataframe thead th {\n",
       "        text-align: right;\n",
       "    }\n",
       "</style>\n",
       "<table border=\"1\" class=\"dataframe\">\n",
       "  <thead>\n",
       "    <tr style=\"text-align: right;\">\n",
       "      <th></th>\n",
       "      <th>user_id</th>\n",
       "      <th>business_id</th>\n",
       "      <th>stars_x</th>\n",
       "      <th>useful</th>\n",
       "      <th>text</th>\n",
       "      <th>name</th>\n",
       "      <th>address</th>\n",
       "      <th>city</th>\n",
       "      <th>state</th>\n",
       "      <th>postal_code</th>\n",
       "      <th>stars_y</th>\n",
       "      <th>attributes</th>\n",
       "      <th>categories</th>\n",
       "    </tr>\n",
       "  </thead>\n",
       "  <tbody>\n",
       "    <tr>\n",
       "      <th>188</th>\n",
       "      <td>m5ID0Dpz6IxbNPmhgZQyEQ</td>\n",
       "      <td>lpxj6LFir23Ds6swW8a6fg</td>\n",
       "      <td>4</td>\n",
       "      <td>0</td>\n",
       "      <td>Very fresh food and authentic Italian taste. T...</td>\n",
       "      <td>Grandview Saloon</td>\n",
       "      <td>1212 Grandview Ave</td>\n",
       "      <td>Pittsburgh</td>\n",
       "      <td>PA</td>\n",
       "      <td>15211</td>\n",
       "      <td>3.0</td>\n",
       "      <td>{'Alcohol': 'u'full_bar'', 'WiFi': ''free'', '...</td>\n",
       "      <td>Restaurants, Steakhouses, Seafood, American (T...</td>\n",
       "    </tr>\n",
       "    <tr>\n",
       "      <th>219</th>\n",
       "      <td>URig1W1Y_6P2viLKDx5hkQ</td>\n",
       "      <td>d6VYQbeTZ_WdD8Uuhh35dg</td>\n",
       "      <td>5</td>\n",
       "      <td>0</td>\n",
       "      <td>This is my favorite happy hour place in all of...</td>\n",
       "      <td>Tempest Oyster Bar</td>\n",
       "      <td>120 E Wilson St</td>\n",
       "      <td>Madison</td>\n",
       "      <td>WI</td>\n",
       "      <td>53703</td>\n",
       "      <td>4.0</td>\n",
       "      <td>{'RestaurantsTakeOut': 'False', 'WiFi': 'u'no'...</td>\n",
       "      <td>Steakhouses, Restaurants, Bars, Seafood, Night...</td>\n",
       "    </tr>\n",
       "    <tr>\n",
       "      <th>262</th>\n",
       "      <td>jV2JRJT9oSEVzoSkOSqmiQ</td>\n",
       "      <td>szGbmw_vq3kVU4SfK1x6Sw</td>\n",
       "      <td>4</td>\n",
       "      <td>1</td>\n",
       "      <td>Ruth Chris Steakhouse is by far one of the bes...</td>\n",
       "      <td>Ruths Chris Steak House</td>\n",
       "      <td>6 PPG Pl</td>\n",
       "      <td>Pittsburgh</td>\n",
       "      <td>PA</td>\n",
       "      <td>15222</td>\n",
       "      <td>4.0</td>\n",
       "      <td>{'BusinessParking': '{'garage': False, 'street...</td>\n",
       "      <td>Restaurants, Steakhouses</td>\n",
       "    </tr>\n",
       "    <tr>\n",
       "      <th>273</th>\n",
       "      <td>Yvs8q8tth9J5-7Pdxkaq6w</td>\n",
       "      <td>eF2jf-E5ktRQIh_4_-Jxsg</td>\n",
       "      <td>4</td>\n",
       "      <td>1</td>\n",
       "      <td>My rating is purely on the food and not on the...</td>\n",
       "      <td>Cannon's Chop House</td>\n",
       "      <td>1900 Main St</td>\n",
       "      <td>Canonsburg</td>\n",
       "      <td>PA</td>\n",
       "      <td>15317</td>\n",
       "      <td>3.5</td>\n",
       "      <td>{'Alcohol': 'u'full_bar'', 'RestaurantsReserva...</td>\n",
       "      <td>Steakhouses, Restaurants, Cajun/Creole</td>\n",
       "    </tr>\n",
       "    <tr>\n",
       "      <th>393</th>\n",
       "      <td>kdBn3eSDHkHod1Sl7z_MXw</td>\n",
       "      <td>JhxI7oS_jsFnq34dDubugQ</td>\n",
       "      <td>2</td>\n",
       "      <td>1</td>\n",
       "      <td>Rocky River location. Out of four different en...</td>\n",
       "      <td>Ferris Steak House</td>\n",
       "      <td>8700 Detroit Ave</td>\n",
       "      <td>Cleveland</td>\n",
       "      <td>OH</td>\n",
       "      <td>44102</td>\n",
       "      <td>3.5</td>\n",
       "      <td>{'RestaurantsReservations': 'True', 'Restauran...</td>\n",
       "      <td>Steakhouses, Restaurants</td>\n",
       "    </tr>\n",
       "  </tbody>\n",
       "</table>\n",
       "</div>"
      ],
      "text/plain": [
       "                    user_id             business_id  stars_x  useful  \\\n",
       "188  m5ID0Dpz6IxbNPmhgZQyEQ  lpxj6LFir23Ds6swW8a6fg        4       0   \n",
       "219  URig1W1Y_6P2viLKDx5hkQ  d6VYQbeTZ_WdD8Uuhh35dg        5       0   \n",
       "262  jV2JRJT9oSEVzoSkOSqmiQ  szGbmw_vq3kVU4SfK1x6Sw        4       1   \n",
       "273  Yvs8q8tth9J5-7Pdxkaq6w  eF2jf-E5ktRQIh_4_-Jxsg        4       1   \n",
       "393  kdBn3eSDHkHod1Sl7z_MXw  JhxI7oS_jsFnq34dDubugQ        2       1   \n",
       "\n",
       "                                                  text  \\\n",
       "188  Very fresh food and authentic Italian taste. T...   \n",
       "219  This is my favorite happy hour place in all of...   \n",
       "262  Ruth Chris Steakhouse is by far one of the bes...   \n",
       "273  My rating is purely on the food and not on the...   \n",
       "393  Rocky River location. Out of four different en...   \n",
       "\n",
       "                        name             address        city state  \\\n",
       "188         Grandview Saloon  1212 Grandview Ave  Pittsburgh    PA   \n",
       "219       Tempest Oyster Bar     120 E Wilson St     Madison    WI   \n",
       "262  Ruths Chris Steak House            6 PPG Pl  Pittsburgh    PA   \n",
       "273      Cannon's Chop House        1900 Main St  Canonsburg    PA   \n",
       "393       Ferris Steak House    8700 Detroit Ave   Cleveland    OH   \n",
       "\n",
       "    postal_code  stars_y                                         attributes  \\\n",
       "188       15211      3.0  {'Alcohol': 'u'full_bar'', 'WiFi': ''free'', '...   \n",
       "219       53703      4.0  {'RestaurantsTakeOut': 'False', 'WiFi': 'u'no'...   \n",
       "262       15222      4.0  {'BusinessParking': '{'garage': False, 'street...   \n",
       "273       15317      3.5  {'Alcohol': 'u'full_bar'', 'RestaurantsReserva...   \n",
       "393       44102      3.5  {'RestaurantsReservations': 'True', 'Restauran...   \n",
       "\n",
       "                                            categories  \n",
       "188  Restaurants, Steakhouses, Seafood, American (T...  \n",
       "219  Steakhouses, Restaurants, Bars, Seafood, Night...  \n",
       "262                           Restaurants, Steakhouses  \n",
       "273             Steakhouses, Restaurants, Cajun/Creole  \n",
       "393                           Steakhouses, Restaurants  "
      ]
     },
     "execution_count": 7,
     "metadata": {},
     "output_type": "execute_result"
    }
   ],
   "source": [
    "data.head()"
   ]
  },
  {
   "cell_type": "code",
   "execution_count": 8,
   "metadata": {},
   "outputs": [
    {
     "data": {
      "text/plain": [
       "28409"
      ]
     },
     "execution_count": 8,
     "metadata": {},
     "output_type": "execute_result"
    }
   ],
   "source": [
    "len(data)"
   ]
  },
  {
   "cell_type": "code",
   "execution_count": 9,
   "metadata": {},
   "outputs": [
    {
     "data": {
      "text/plain": [
       "314"
      ]
     },
     "execution_count": 9,
     "metadata": {},
     "output_type": "execute_result"
    }
   ],
   "source": [
    "liststeak = {}.fromkeys(data.business_id).keys()\n",
    "len(liststeak)"
   ]
  },
  {
   "cell_type": "markdown",
   "metadata": {},
   "source": [
    "**There are around 314 businesses that contains category 'Steakhouse' and 28409 reviews we should work on.**\n",
    "\n",
    "**Let's take a look at how many reviews in each rating level in histogram.**"
   ]
  },
  {
   "cell_type": "code",
   "execution_count": 10,
   "metadata": {},
   "outputs": [
    {
     "data": {
      "image/png": "[encoded data removed]",
      "text/plain": [
       "<Figure size 576x432 with 1 Axes>"
      ]
     },
     "metadata": {
      "needs_background": "light"
     },
     "output_type": "display_data"
    }
   ],
   "source": [
    "import matplotlib.pyplot as plt\n",
    "star_x = data.stars_x.value_counts().index\n",
    "num_star = data.stars_x.value_counts().values\n",
    "plt.figure(figsize=(8,6))\n",
    "bar_colors = ['mediumseagreen', 'lightgreen', 'orange', 'yellow', 'gold']\n",
    "plt.bar(star_x, num_star, color=bar_colors, width=0.8)\n",
    "plt.xlabel('stars_x (rating)', fontsize=16)\n",
    "plt.ylabel('number of reviews', fontsize=16)\n",
    "plt.title('Number of Reviews by Rating for Steakhouses',fontsize=16);"
   ]
  },
  {
   "cell_type": "markdown",
   "metadata": {},
   "source": [
    "**Let's take a look at how many reviews are there for each rating level.**"
   ]
  },
  {
   "cell_type": "code",
   "execution_count": 11,
   "metadata": {},
   "outputs": [
    {
     "data": {
      "text/html": [
       "<div>\n",
       "<style scoped>\n",
       "    .dataframe tbody tr th:only-of-type {\n",
       "        vertical-align: middle;\n",
       "    }\n",
       "\n",
       "    .dataframe tbody tr th {\n",
       "        vertical-align: top;\n",
       "    }\n",
       "\n",
       "    .dataframe thead th {\n",
       "        text-align: right;\n",
       "    }\n",
       "</style>\n",
       "<table border=\"1\" class=\"dataframe\">\n",
       "  <thead>\n",
       "    <tr style=\"text-align: right;\">\n",
       "      <th></th>\n",
       "      <th>review_id</th>\n",
       "      <th>user_id</th>\n",
       "      <th>business_id</th>\n",
       "      <th>stars</th>\n",
       "      <th>useful</th>\n",
       "      <th>funny</th>\n",
       "      <th>cool</th>\n",
       "      <th>text</th>\n",
       "      <th>date</th>\n",
       "    </tr>\n",
       "  </thead>\n",
       "  <tbody>\n",
       "    <tr>\n",
       "      <th>188</th>\n",
       "      <td>wqwgRouFIAi29XGhSiZoDg</td>\n",
       "      <td>m5ID0Dpz6IxbNPmhgZQyEQ</td>\n",
       "      <td>lpxj6LFir23Ds6swW8a6fg</td>\n",
       "      <td>4</td>\n",
       "      <td>0</td>\n",
       "      <td>0</td>\n",
       "      <td>0</td>\n",
       "      <td>Very fresh food and authentic Italian taste. T...</td>\n",
       "      <td>2014-08-10 20:30:28</td>\n",
       "    </tr>\n",
       "    <tr>\n",
       "      <th>219</th>\n",
       "      <td>7vsixeZiFsfGoI7JxTpqLg</td>\n",
       "      <td>URig1W1Y_6P2viLKDx5hkQ</td>\n",
       "      <td>d6VYQbeTZ_WdD8Uuhh35dg</td>\n",
       "      <td>5</td>\n",
       "      <td>0</td>\n",
       "      <td>0</td>\n",
       "      <td>1</td>\n",
       "      <td>This is my favorite happy hour place in all of...</td>\n",
       "      <td>2016-11-09 21:15:28</td>\n",
       "    </tr>\n",
       "    <tr>\n",
       "      <th>262</th>\n",
       "      <td>0wceCr75fE63DVC-BxJucQ</td>\n",
       "      <td>jV2JRJT9oSEVzoSkOSqmiQ</td>\n",
       "      <td>szGbmw_vq3kVU4SfK1x6Sw</td>\n",
       "      <td>4</td>\n",
       "      <td>1</td>\n",
       "      <td>0</td>\n",
       "      <td>0</td>\n",
       "      <td>Ruth Chris Steakhouse is by far one of the bes...</td>\n",
       "      <td>2015-01-03 23:44:23</td>\n",
       "    </tr>\n",
       "    <tr>\n",
       "      <th>273</th>\n",
       "      <td>NHDY0NUgqJrZcGBr2UT4fw</td>\n",
       "      <td>Yvs8q8tth9J5-7Pdxkaq6w</td>\n",
       "      <td>eF2jf-E5ktRQIh_4_-Jxsg</td>\n",
       "      <td>4</td>\n",
       "      <td>1</td>\n",
       "      <td>0</td>\n",
       "      <td>0</td>\n",
       "      <td>My rating is purely on the food and not on the...</td>\n",
       "      <td>2018-07-17 00:58:56</td>\n",
       "    </tr>\n",
       "    <tr>\n",
       "      <th>393</th>\n",
       "      <td>EEJXr9Huy4_xasYydJTjng</td>\n",
       "      <td>kdBn3eSDHkHod1Sl7z_MXw</td>\n",
       "      <td>JhxI7oS_jsFnq34dDubugQ</td>\n",
       "      <td>2</td>\n",
       "      <td>1</td>\n",
       "      <td>0</td>\n",
       "      <td>0</td>\n",
       "      <td>Rocky River location. Out of four different en...</td>\n",
       "      <td>2013-01-27 21:07:01</td>\n",
       "    </tr>\n",
       "  </tbody>\n",
       "</table>\n",
       "</div>"
      ],
      "text/plain": [
       "                  review_id                 user_id             business_id  \\\n",
       "188  wqwgRouFIAi29XGhSiZoDg  m5ID0Dpz6IxbNPmhgZQyEQ  lpxj6LFir23Ds6swW8a6fg   \n",
       "219  7vsixeZiFsfGoI7JxTpqLg  URig1W1Y_6P2viLKDx5hkQ  d6VYQbeTZ_WdD8Uuhh35dg   \n",
       "262  0wceCr75fE63DVC-BxJucQ  jV2JRJT9oSEVzoSkOSqmiQ  szGbmw_vq3kVU4SfK1x6Sw   \n",
       "273  NHDY0NUgqJrZcGBr2UT4fw  Yvs8q8tth9J5-7Pdxkaq6w  eF2jf-E5ktRQIh_4_-Jxsg   \n",
       "393  EEJXr9Huy4_xasYydJTjng  kdBn3eSDHkHod1Sl7z_MXw  JhxI7oS_jsFnq34dDubugQ   \n",
       "\n",
       "     stars  useful  funny  cool  \\\n",
       "188      4       0      0     0   \n",
       "219      5       0      0     1   \n",
       "262      4       1      0     0   \n",
       "273      4       1      0     0   \n",
       "393      2       1      0     0   \n",
       "\n",
       "                                                  text                date  \n",
       "188  Very fresh food and authentic Italian taste. T... 2014-08-10 20:30:28  \n",
       "219  This is my favorite happy hour place in all of... 2016-11-09 21:15:28  \n",
       "262  Ruth Chris Steakhouse is by far one of the bes... 2015-01-03 23:44:23  \n",
       "273  My rating is purely on the food and not on the... 2018-07-17 00:58:56  \n",
       "393  Rocky River location. Out of four different en... 2013-01-27 21:07:01  "
      ]
     },
     "execution_count": 11,
     "metadata": {},
     "output_type": "execute_result"
    }
   ],
   "source": [
    "review_steakhouse = review[review.business_id.isin(data.business_id)]\n",
    "review_steakhouse.head()"
   ]
  },
  {
   "cell_type": "markdown",
   "metadata": {},
   "source": [
    "**Save the review_steakhouse**"
   ]
  },
  {
   "cell_type": "code",
   "execution_count": 12,
   "metadata": {},
   "outputs": [],
   "source": [
    "data.to_csv('review_steakhouse.csv')"
   ]
  },
  {
   "cell_type": "markdown",
   "metadata": {},
   "source": [
    "**Then let's take a look at the length of the reviews.**"
   ]
  },
  {
   "cell_type": "code",
   "execution_count": 13,
   "metadata": {},
   "outputs": [
    {
     "data": {
      "image/png": "[encoded data removed]",
      "text/plain": [
       "<Figure size 1080x216 with 5 Axes>"
      ]
     },
     "metadata": {},
     "output_type": "display_data"
    }
   ],
   "source": [
    "import seaborn as sns\n",
    "sns.set()\n",
    "data['review_length'] = data.text.map(len)\n",
    "multihist = sns.FacetGrid(data=data, col='stars_x',xlim=(0, 1500)).map(plt.hist, 'review_length', bins=50)\n",
    "multihist.axes[0][0].set(ylabel='number of reviews');"
   ]
  },
  {
   "cell_type": "markdown",
   "metadata": {},
   "source": [
    "## 3. Choose the topics"
   ]
  },
  {
   "cell_type": "code",
   "execution_count": 15,
   "metadata": {},
   "outputs": [],
   "source": [
    "import nltk\n",
    "from nltk.corpus import stopwords\n",
    "import collections\n",
    "stop_words = stopwords.words('english')"
   ]
  },
  {
   "cell_type": "code",
   "execution_count": 16,
   "metadata": {},
   "outputs": [],
   "source": [
    "extra = ['ve', 'like', 'got', 'just', 'us','great','get','even',\n",
    "               'good','best','nice','always','back','ever',\n",
    "               'ive','go','well','not','bad','terrible','didnt',\n",
    "               'don', 'really', 'said', 'told', 'ok','dont',\n",
    "               'came', 'went', 'did', 'didn','one','would']\n",
    "stop_words=list(set().union(stop_words,extra))"
   ]
  },
  {
   "cell_type": "code",
   "execution_count": 17,
   "metadata": {},
   "outputs": [
    {
     "name": "stdout",
     "output_type": "stream",
     "text": [
      "Postive Reviews:  17,270\n",
      "Negative Reviews:  11,139\n"
     ]
    }
   ],
   "source": [
    "badreviews = data[(data.stars_x <= 3 )]\n",
    "goodreviews = data[(data.stars_x >= 4)]\n",
    "badreviews = badreviews.text\n",
    "goodreviews = goodreviews.text\n",
    "print('Postive Reviews:  {:,}'.format(len(goodreviews)))\n",
    "print('Negative Reviews:  {:,}'.format(len(badreviews)))"
   ]
  },
  {
   "cell_type": "markdown",
   "metadata": {},
   "source": [
    "**clean the review text**"
   ]
  },
  {
   "cell_type": "code",
   "execution_count": 18,
   "metadata": {},
   "outputs": [],
   "source": [
    "import re, string\n",
    "badreviews = [\"\".join([char for char in a if char not in string.punctuation]) for a in badreviews]\n",
    "goodreviews = [\"\".join([char for char in a if char not in string.punctuation]) for a in goodreviews]"
   ]
  },
  {
   "cell_type": "code",
   "execution_count": 19,
   "metadata": {},
   "outputs": [],
   "source": [
    "from nltk import word_tokenize,sent_tokenize"
   ]
  },
  {
   "cell_type": "code",
   "execution_count": 20,
   "metadata": {},
   "outputs": [],
   "source": [
    "text1=badreviews\n",
    "text1 = [a.lower() for a in text1]\n",
    "words1 = [nltk.word_tokenize(a) for a in text1]\n",
    "filtered_words1 = [[word for word in a if word not in stop_words] for a in words1]\n",
    "from nltk.stem.wordnet import WordNetLemmatizer\n",
    "lmtzr = WordNetLemmatizer()"
   ]
  },
  {
   "cell_type": "code",
   "execution_count": 21,
   "metadata": {},
   "outputs": [],
   "source": [
    "text2=goodreviews\n",
    "text2 = [a.lower() for a in text2]\n",
    "words2 = [nltk.word_tokenize(a) for a in text2]\n",
    "filtered_words2 = [[word for word in a if word not in stop_words] for a in words2]"
   ]
  },
  {
   "cell_type": "code",
   "execution_count": 22,
   "metadata": {},
   "outputs": [],
   "source": [
    "lemmatized_words1 = [[lmtzr.lemmatize(x) for x in a] for a in filtered_words1]\n",
    "lemmatized_words2 = [[lmtzr.lemmatize(x) for x in a] for a in filtered_words2]"
   ]
  },
  {
   "cell_type": "markdown",
   "metadata": {},
   "source": [
    "**Let's use LSA to determine the number of top topics and topics we plan to do further analysis with.**\n",
    "\n",
    "**Firstly, we have to use tfdif algorithm to get the top valuous words in bad/good reviews.**"
   ]
  },
  {
   "cell_type": "code",
   "execution_count": 23,
   "metadata": {},
   "outputs": [
    {
     "data": {
      "text/plain": [
       "list"
      ]
     },
     "execution_count": 23,
     "metadata": {},
     "output_type": "execute_result"
    }
   ],
   "source": [
    "type(lemmatized_words1)"
   ]
  },
  {
   "cell_type": "code",
   "execution_count": 24,
   "metadata": {},
   "outputs": [
    {
     "data": {
      "text/plain": [
       "'Rocky River location Out of four different entrees ordered at our table only 1 grilled salmon was ok A prime rib filet and the beef tips were poor margarine not butter  Dressing tasted bottled For the price I expected a better dinner  Longhorn or Outback blow this place away at a cheaper price  For the same money you can go to Chez Francois in Vermilion and actually get what you are paying for  Will not be back'"
      ]
     },
     "execution_count": 24,
     "metadata": {},
     "output_type": "execute_result"
    }
   ],
   "source": [
    "badreviews[0]"
   ]
  },
  {
   "cell_type": "code",
   "execution_count": 25,
   "metadata": {},
   "outputs": [
    {
     "data": {
      "text/plain": [
       "['rocky',\n",
       " 'river',\n",
       " 'location',\n",
       " 'four',\n",
       " 'different',\n",
       " 'entree',\n",
       " 'ordered',\n",
       " 'table',\n",
       " '1',\n",
       " 'grilled',\n",
       " 'salmon',\n",
       " 'prime',\n",
       " 'rib',\n",
       " 'filet',\n",
       " 'beef',\n",
       " 'tip',\n",
       " 'poor',\n",
       " 'margarine',\n",
       " 'butter',\n",
       " 'dressing',\n",
       " 'tasted',\n",
       " 'bottled',\n",
       " 'price',\n",
       " 'expected',\n",
       " 'better',\n",
       " 'dinner',\n",
       " 'longhorn',\n",
       " 'outback',\n",
       " 'blow',\n",
       " 'place',\n",
       " 'away',\n",
       " 'cheaper',\n",
       " 'price',\n",
       " 'money',\n",
       " 'chez',\n",
       " 'francois',\n",
       " 'vermilion',\n",
       " 'actually',\n",
       " 'paying']"
      ]
     },
     "execution_count": 25,
     "metadata": {},
     "output_type": "execute_result"
    }
   ],
   "source": [
    "lemmatized_words1[0]"
   ]
  },
  {
   "cell_type": "code",
   "execution_count": 26,
   "metadata": {},
   "outputs": [],
   "source": [
    "import sklearn\n",
    "from sklearn.feature_extraction.text import TfidfVectorizer\n",
    "lemmatized_words1=[ ' '.join(map(str, sent)) for sent in lemmatized_words1]\n",
    "lemmatized_words2=[ ' '.join(map(str, sent)) for sent in lemmatized_words2]"
   ]
  },
  {
   "cell_type": "code",
   "execution_count": 27,
   "metadata": {},
   "outputs": [],
   "source": [
    "from array import array"
   ]
  },
  {
   "cell_type": "code",
   "execution_count": 28,
   "metadata": {},
   "outputs": [],
   "source": [
    "tfidf_model1 = TfidfVectorizer(stop_words=stop_words,\n",
    "                        ngram_range=(1,1))\n",
    "tfidf_model2 = TfidfVectorizer(stop_words=stop_words, \n",
    "                        ngram_range=(1,1))\n",
    "result1=tfidf_model1.fit_transform(lemmatized_words1)\n",
    "result2=tfidf_model2.fit_transform(lemmatized_words2)"
   ]
  },
  {
   "cell_type": "code",
   "execution_count": 29,
   "metadata": {},
   "outputs": [
    {
     "name": "stdout",
     "output_type": "stream",
     "text": [
      "  (0, 16712)\t0.14754090118182936\n",
      "  (0, 1521)\t0.12446827584391451\n",
      "  (0, 24517)\t0.295842732997814\n",
      "  (0, 9758)\t0.2794512787414887\n",
      "  (0, 5019)\t0.2794512787414887\n",
      "  (0, 14853)\t0.11757567015413165\n",
      "  (0, 4910)\t0.19008539289584434\n",
      "  (0, 2748)\t0.11401752781279588\n",
      "  (0, 17110)\t0.06596486683785775\n",
      "  (0, 3606)\t0.21040518926541577\n",
      "  (0, 16166)\t0.14560175787657195\n",
      "  (0, 13611)\t0.16804226431713346\n",
      "  (0, 7213)\t0.08651362311251379\n",
      "  (0, 3335)\t0.08784447449021181\n",
      "  (0, 8725)\t0.13463565192073063\n",
      "  (0, 17687)\t0.1838853831273944\n",
      "  (0, 3778)\t0.21610665127788506\n",
      "  (0, 22636)\t0.11663842552588788\n",
      "  (0, 7756)\t0.1401500104303607\n",
      "  (0, 4286)\t0.13428572304586092\n",
      "  (0, 14027)\t0.27360091548817783\n",
      "  (0, 17351)\t0.12815813854498348\n",
      "  (0, 23210)\t0.13932507657149523\n",
      "  (0, 3171)\t0.14491587796605468\n",
      "  (0, 9169)\t0.1214845929221131\n",
      "  :\t:\n",
      "  (11138, 16063)\t0.06633089567076488\n",
      "  (11138, 23276)\t0.11922470741574094\n",
      "  (11138, 20751)\t0.10222057669643693\n",
      "  (11138, 5981)\t0.0757434467540953\n",
      "  (11138, 13536)\t0.10251947720310445\n",
      "  (11138, 7597)\t0.1751673887196617\n",
      "  (11138, 19805)\t0.07584650771540948\n",
      "  (11138, 25638)\t0.08669079642224652\n",
      "  (11138, 2481)\t0.07139675345575587\n",
      "  (11138, 23749)\t0.07493393057998773\n",
      "  (11138, 19140)\t0.10920321873419578\n",
      "  (11138, 8015)\t0.0758637259941193\n",
      "  (11138, 5978)\t0.10423065708919246\n",
      "  (11138, 4921)\t0.08761125691812637\n",
      "  (11138, 24832)\t0.0802800994798637\n",
      "  (11138, 24958)\t0.07601922739435732\n",
      "  (11138, 15575)\t0.07991276489138353\n",
      "  (11138, 6131)\t0.06800834738763827\n",
      "  (11138, 9551)\t0.120040298783773\n",
      "  (11138, 21731)\t0.2220478237765602\n",
      "  (11138, 7286)\t0.0972934227046462\n",
      "  (11138, 15318)\t0.08908815018409905\n",
      "  (11138, 9169)\t0.0944896687640312\n",
      "  (11138, 16071)\t0.05641199618462726\n",
      "  (11138, 7145)\t0.09717177553936612\n"
     ]
    }
   ],
   "source": [
    "print(result1)"
   ]
  },
  {
   "cell_type": "code",
   "execution_count": 30,
   "metadata": {},
   "outputs": [
    {
     "name": "stdout",
     "output_type": "stream",
     "text": [
      "Top words in good reviews:\n",
      "[('food',), ('service',), ('place',), ('steak',), ('time',), ('restaurant',), ('delicious',), ('bar',), ('amazing',), ('dinner',)]\n",
      "Top words in bad reviews:\n",
      "[('food',), ('steak',), ('service',), ('place',), ('time',), ('table',), ('restaurant',), ('ordered',), ('drink',), ('salad',)]\n"
     ]
    }
   ],
   "source": [
    "bad_df = pd.DataFrame(result1.todense(), columns=[tfidf_model1.get_feature_names()])\n",
    "good_df = pd.DataFrame(result2.todense(), columns=[tfidf_model2.get_feature_names()])\n",
    "\n",
    "col_means_bad = {}\n",
    "for col in bad_df:\n",
    "    col_means_bad[col] = bad_df[col].mean()\n",
    "col_means_good = {}\n",
    "for col in good_df:\n",
    "    col_means_good[col] = good_df[col].mean()\n",
    "    \n",
    "top_words = 10\n",
    "\n",
    "print('Top words in good reviews:')\n",
    "print(sorted(col_means_good, key=col_means_good.get, reverse=True)[:top_words])\n",
    "print('Top words in bad reviews:')\n",
    "print(sorted(col_means_bad, key=col_means_bad.get, reverse=True)[:top_words])"
   ]
  },
  {
   "cell_type": "markdown",
   "metadata": {},
   "source": [
    "**It looks like the most valuable words in both bad and good reviews are 'food', 'place','service','time'. So clearly, what customers care most is the dishes (of course steaks for steakhouses), atmosphere, food delivery time and customer services. Now it has given us some intuition, let's do further analysis using LSA.**"
   ]
  },
  {
   "cell_type": "code",
   "execution_count": 32,
   "metadata": {},
   "outputs": [
    {
     "data": {
      "image/png": "[encoded data removed]",
      "text/plain": [
       "<Figure size 720x360 with 1 Axes>"
      ]
     },
     "metadata": {},
     "output_type": "display_data"
    }
   ],
   "source": [
    "import gensim\n",
    "from gensim import corpora, models, similarities, matutils\n",
    "'This part credited to Ankur Vishwakarma, Oakland, CA. https://github.com/Vishwacorp/'\n",
    "corpus1 = matutils.Sparse2Corpus(result1.transpose())\n",
    "corpus2 = matutils.Sparse2Corpus(result2.transpose())\n",
    "word_bad = dict((v,k) for k,v in tfidf_model1.vocabulary_.items())\n",
    "word_good = dict((v,k) for k,v in tfidf_model2.vocabulary_.items())\n",
    "word_bad2 = corpora.Dictionary.from_corpus(corpus1, id2word=word_bad)\n",
    "word_good2 = corpora.Dictionary.from_corpus(corpus2, id2word=word_good)\n",
    "lsa_bad = models.LsiModel(corpus1, id2word=word_bad2, num_topics=10)\n",
    "lsa_good = models.LsiModel(corpus2, id2word=word_good2, num_topics=10)\n",
    "\n",
    "singular_values_bad = lsa_bad.projection.s.tolist()\n",
    "singular_values_bad_rel = [sv/singular_values_bad[-1] for sv in singular_values_bad]\n",
    "singular_values_good = lsa_good.projection.s.tolist()\n",
    "singular_values_good_rel = [sv/singular_values_good[-1] for sv in singular_values_good]\n",
    "plt.style.use('fivethirtyeight')\n",
    "plt.figure(figsize=(10,5))\n",
    "plt.plot(range(len(singular_values_bad)), singular_values_bad_rel, label='Bad Reviews', alpha=1.0)\n",
    "plt.plot(range(len(singular_values_good)), singular_values_good_rel, label='Good Reviews', alpha=0.7)\n",
    "plt.xticks(range(len(singular_values_bad)), range(len(singular_values_bad)))\n",
    "plt.xlabel('Topic Index')\n",
    "plt.ylabel('Relative Strength')\n",
    "plt.title('LSA Topic Strengths (Relative)')\n",
    "plt.legend(loc=0, fontsize='medium');"
   ]
  },
  {
   "cell_type": "markdown",
   "metadata": {},
   "source": [
    "**From the above plot, we can see the it is decent to choose topic number as 4.**"
   ]
  },
  {
   "cell_type": "markdown",
   "metadata": {},
   "source": [
    "**Let's see roughly what are these topics:**\n",
    "\n",
    "**Top topics in bad reviews:**"
   ]
  },
  {
   "cell_type": "code",
   "execution_count": 34,
   "metadata": {},
   "outputs": [
    {
     "name": "stdout",
     "output_type": "stream",
     "text": [
      "Top words for bad reviews\n",
      "\n",
      "[(0,\n",
      "  '0.210*\"food\" + 0.195*\"steak\" + 0.163*\"time\" + 0.159*\"service\" + '\n",
      "  '0.147*\"place\" + 0.142*\"table\" + 0.131*\"ordered\" + 0.127*\"restaurant\" + '\n",
      "  '0.118*\"drink\" + 0.117*\"minute\"'),\n",
      " (1,\n",
      "  '0.474*\"steak\" + -0.253*\"minute\" + -0.204*\"table\" + 0.162*\"medium\" + '\n",
      "  '-0.148*\"drink\" + 0.138*\"salad\" + 0.122*\"cooked\" + 0.121*\"potato\" + '\n",
      "  '-0.121*\"waited\" + -0.120*\"wait\"'),\n",
      " (2,\n",
      "  '0.448*\"steak\" + -0.220*\"place\" + -0.219*\"food\" + 0.217*\"medium\" + '\n",
      "  '0.196*\"minute\" + 0.162*\"rare\" + -0.160*\"burger\" + -0.150*\"cheese\" + '\n",
      "  '0.128*\"manager\" + 0.123*\"ordered\"'),\n",
      " (3,\n",
      "  '0.357*\"food\" + 0.324*\"service\" + 0.293*\"steak\" + -0.233*\"cheese\" + '\n",
      "  '-0.212*\"burger\" + -0.186*\"salad\" + -0.177*\"ordered\" + -0.176*\"chicken\" + '\n",
      "  '0.173*\"place\" + 0.140*\"price\"')]\n"
     ]
    }
   ],
   "source": [
    "import pprint\n",
    "from pprint import pprint\n",
    "print('Top words for bad reviews')\n",
    "print()\n",
    "pprint(lsa_bad.show_topics()[0:4])"
   ]
  },
  {
   "cell_type": "markdown",
   "metadata": {},
   "source": [
    "**It can be seen that the tops are likey to be:**\n",
    "\n",
    "1.Service time of steak; 2.Waiting time between different courses; 3.Temperature of Steak and quality of other dishes; 4.Sides,salads and other snacks of the restaurant."
   ]
  },
  {
   "cell_type": "markdown",
   "metadata": {},
   "source": [
    "**Top topics in good reviews:**"
   ]
  },
  {
   "cell_type": "code",
   "execution_count": 35,
   "metadata": {},
   "outputs": [
    {
     "name": "stdout",
     "output_type": "stream",
     "text": [
      "Top words for bad reviews\n",
      "\n",
      "[(0,\n",
      "  '0.210*\"food\" + 0.187*\"steak\" + 0.180*\"place\" + 0.174*\"service\" + '\n",
      "  '0.147*\"time\" + 0.128*\"restaurant\" + 0.116*\"bar\" + 0.116*\"delicious\" + '\n",
      "  '0.112*\"dinner\" + 0.111*\"salad\"'),\n",
      " (1,\n",
      "  '0.365*\"curd\" + 0.360*\"cheese\" + 0.298*\"burger\" + -0.277*\"steak\" + '\n",
      "  '0.261*\"old\" + 0.251*\"beer\" + 0.236*\"fashioned\" + 0.179*\"wisconsin\" + '\n",
      "  '0.173*\"madison\" + 0.135*\"place\"'),\n",
      " (2,\n",
      "  '-0.469*\"food\" + -0.311*\"service\" + -0.201*\"atmosphere\" + -0.179*\"excellent\" '\n",
      "  '+ 0.175*\"cheese\" + 0.157*\"salad\" + 0.152*\"ordered\" + 0.148*\"steak\" + '\n",
      "  '-0.146*\"place\" + -0.141*\"amazing\"'),\n",
      " (3,\n",
      "  '0.579*\"steak\" + -0.235*\"bar\" + 0.185*\"cheese\" + 0.181*\"service\" + '\n",
      "  '0.179*\"curd\" + -0.170*\"brunch\" + -0.167*\"meat\" + -0.158*\"hour\" + '\n",
      "  '-0.151*\"happy\" + 0.142*\"cooked\"')]\n"
     ]
    }
   ],
   "source": [
    "print('Top words for bad reviews')\n",
    "print()\n",
    "pprint(lsa_good.show_topics()[0:4])"
   ]
  },
  {
   "cell_type": "markdown",
   "metadata": {},
   "source": [
    "**It can be discovered that the positive topics are likely to be:**\n",
    "\n",
    "1.Service and food of the restaurant; 2.Drinks and other dishes; 3.Sides; 4.Bar and happy hour"
   ]
  },
  {
   "cell_type": "markdown",
   "metadata": {},
   "source": [
    "**Given the results of LSA, we could find out that there exists some negative weights for the extracted topics, which makes it hard for interpretation and could be misleading.**\n",
    "\n",
    "**Next, we tried NMF for better results.**"
   ]
  },
  {
   "cell_type": "code",
   "execution_count": 40,
   "metadata": {},
   "outputs": [],
   "source": [
    "from sklearn.decomposition import NMF\n",
    "num = 4\n",
    "nmf_bad = NMF(n_components=num)\n",
    "W_bad = nmf_bad.fit_transform(result1)\n",
    "H_bad = nmf_bad.components_\n",
    "\n",
    "nmf_good = NMF(n_components=num)\n",
    "W_good = nmf_good.fit_transform(result2)\n",
    "H_good = nmf_good.components_"
   ]
  },
  {
   "cell_type": "code",
   "execution_count": 41,
   "metadata": {},
   "outputs": [
    {
     "name": "stdout",
     "output_type": "stream",
     "text": [
      "[[6.32454443e-04 2.44929896e-04 3.15605758e-04 ... 0.00000000e+00\n",
      "  0.00000000e+00 0.00000000e+00]\n",
      " [0.00000000e+00 0.00000000e+00 0.00000000e+00 ... 0.00000000e+00\n",
      "  0.00000000e+00 0.00000000e+00]\n",
      " [2.72746358e-05 3.78302826e-04 0.00000000e+00 ... 0.00000000e+00\n",
      "  0.00000000e+00 0.00000000e+00]\n",
      " [0.00000000e+00 0.00000000e+00 7.73559005e-04 ... 0.00000000e+00\n",
      "  0.00000000e+00 0.00000000e+00]]\n"
     ]
    }
   ],
   "source": [
    "print(H_good)"
   ]
  },
  {
   "cell_type": "code",
   "execution_count": 39,
   "metadata": {},
   "outputs": [
    {
     "name": "stdout",
     "output_type": "stream",
     "text": [
      "Top words in good reviews:\n",
      "\n",
      "Topic 0: 0.763*salad + 0.744*meat + 0.675*ordered + 0.609*table + 0.595*bar + 0.579*dinner\n",
      "Topic 1: 1.403*cheese + 1.255*curd + 1.137*burger + 0.971*old + 0.892*beer + 0.823*fashioned\n",
      "Topic 2: 1.680*food + 1.190*service + 0.779*place + 0.707*excellent + 0.682*atmosphere + 0.661*amazing\n",
      "Topic 3: 2.697*steak + 0.775*cooked + 0.457*perfectly + 0.428*side + 0.388*steakhouse + 0.378*house\n",
      "\n"
     ]
    }
   ],
   "source": [
    "def print_topics(model, feature_names, n_top_words):\n",
    "    for topic_idx, topic in enumerate(model.components_):\n",
    "        message = \"Topic %d: \" % topic_idx\n",
    "        message += \" + \".join(['{:04.3f}*'.format(topic[i])+feature_names[i]\n",
    "                             for i in topic.argsort()[:-n_top_words - 1:-1]])\n",
    "        print(message)\n",
    "    print()\n",
    "    \n",
    "n_top_words = 6\n",
    "\n",
    "print('Top words in good reviews:')\n",
    "print()\n",
    "print_topics(nmf_good, tfidf_model2.get_feature_names(), n_top_words)"
   ]
  },
  {
   "cell_type": "code",
   "execution_count": 145,
   "metadata": {},
   "outputs": [
    {
     "name": "stdout",
     "output_type": "stream",
     "text": [
      "Top words in bad reviews:\n",
      "\n",
      "Topic 0: 1.065*minute + 1.033*table + 0.717*drink + 0.671*order + 0.543*time + 0.515*server + 0.507*wait + 0.505*waited + 0.494*asked + 0.490*took\n",
      "Topic 1: 1.953*steak + 0.793*medium + 0.596*rare + 0.427*cooked + 0.399*ordered + 0.344*done + 0.279*filet + 0.249*cook + 0.223*cut + 0.212*steakhouse\n",
      "Topic 2: 0.749*salad + 0.503*ordered + 0.479*chicken + 0.455*cheese + 0.390*burger + 0.372*fry + 0.353*meat + 0.352*potato + 0.351*sauce + 0.329*side\n",
      "Topic 3: 1.598*food + 1.177*service + 0.994*place + 0.573*time + 0.422*slow + 0.405*price + 0.382*better + 0.373*restaurant + 0.337*quality + 0.324*get\n",
      "\n"
     ]
    }
   ],
   "source": [
    "print('Top words in bad reviews:')\n",
    "print()\n",
    "print_topics(nmf_bad, tfidf_model1.get_feature_names(), n_top_words)"
   ]
  },
  {
   "cell_type": "markdown",
   "metadata": {},
   "source": [
    "**Compared with LSA method, we could give better interpretation based on the results of top words in topics.**\n",
    "\n",
    "**It can be seen that the tops in good reviews are likey to be:**\n",
    "\n",
    "(1) meat and salad; (2)sides and snacks;  (3) good service and atmosphere; (4) steak quality;"
   ]
  },
  {
   "cell_type": "markdown",
   "metadata": {},
   "source": [
    "**It can be seen that the tops in bad reviews are likey to be:**\n",
    "\n",
    "(1) slow service and drink; (2) temperature and quality of steak; (3) sides and ingredients; (4) place and price."
   ]
  },
  {
   "cell_type": "markdown",
   "metadata": {},
   "source": [
    "**By now we used LSA and NMF to choose top topics in review text, and from the results, we could make good interpretations. Then we'd like to try LDA.**"
   ]
  },
  {
   "cell_type": "markdown",
   "metadata": {},
   "source": [
    "**Before using LDA, we need to use CountVectorizer to convert the collection of text documents to a vector of token counts.**"
   ]
  },
  {
   "cell_type": "code",
   "execution_count": 42,
   "metadata": {},
   "outputs": [],
   "source": [
    "import numpy as np\n",
    "from sklearn.feature_extraction.text import CountVectorizer\n",
    "cv_bad = CountVectorizer(stop_words=stop_words, min_df=10, max_df=0.5, \n",
    "                        ngram_range=(1,1), token_pattern='[a-z][a-z]+')\n",
    "cv_good = CountVectorizer(stop_words=stop_words, min_df=10, max_df=0.5, \n",
    "                        ngram_range=(1,1), token_pattern='[a-z][a-z]+')\n",
    "\n",
    "np.random.seed(20)\n",
    "num_reviews = 5000\n",
    "cv_random_bad = np.random.choice(badreviews, size=num_reviews)\n",
    "cv_random_good = np.random.choice(goodreviews, size=num_reviews)\n",
    "cv_bad_vectors = cv_bad.fit_transform(cv_random_bad).transpose()\n",
    "cv_good_vectors = cv_good.fit_transform(cv_random_good).transpose()"
   ]
  },
  {
   "cell_type": "code",
   "execution_count": 43,
   "metadata": {},
   "outputs": [],
   "source": [
    "corpus_bad = matutils.Sparse2Corpus(cv_bad_vectors)\n",
    "corpus_good = matutils.Sparse2Corpus(cv_good_vectors)\n",
    "id2word_cv_bad = dict((v, k) for k, v in cv_bad.vocabulary_.items())\n",
    "id2word_cv_good = dict((v, k) for k, v in cv_good.vocabulary_.items())"
   ]
  },
  {
   "cell_type": "code",
   "execution_count": 44,
   "metadata": {},
   "outputs": [],
   "source": [
    "lda_bad = models.ldamulticore.LdaMulticore(corpus=corpus_bad, num_topics=4, \n",
    "                                           id2word=id2word_cv_bad, passes=10, workers=15)\n",
    "lda_good = models.ldamulticore.LdaMulticore(corpus=corpus_good, num_topics=4, \n",
    "                                           id2word=id2word_cv_good, passes=10, workers=15)"
   ]
  },
  {
   "cell_type": "code",
   "execution_count": 47,
   "metadata": {},
   "outputs": [
    {
     "name": "stdout",
     "output_type": "stream",
     "text": [
      "Top words for good reviews\n",
      "\n",
      "[(0,\n",
      "  '0.014*\"food\" + 0.011*\"place\" + 0.011*\"bar\" + 0.009*\"also\" + 0.008*\"time\" + '\n",
      "  '0.007*\"service\" + 0.006*\"restaurant\" + 0.006*\"meat\" + 0.006*\"table\" + '\n",
      "  '0.005*\"delicious\"'),\n",
      " (1,\n",
      "  '0.027*\"food\" + 0.021*\"service\" + 0.013*\"place\" + 0.009*\"dinner\" + '\n",
      "  '0.009*\"excellent\" + 0.008*\"restaurant\" + 0.008*\"experience\" + 0.008*\"time\" '\n",
      "  '+ 0.007*\"staff\" + 0.007*\"night\"'),\n",
      " (2,\n",
      "  '0.017*\"cheese\" + 0.014*\"place\" + 0.011*\"old\" + 0.011*\"burger\" + '\n",
      "  '0.009*\"food\" + 0.008*\"madison\" + 0.008*\"curds\" + 0.007*\"time\" + '\n",
      "  '0.007*\"fashioned\" + 0.006*\"service\"'),\n",
      " (3,\n",
      "  '0.016*\"steak\" + 0.009*\"ordered\" + 0.008*\"salad\" + 0.007*\"delicious\" + '\n",
      "  '0.007*\"service\" + 0.007*\"cooked\" + 0.006*\"place\" + 0.006*\"meal\" + '\n",
      "  '0.006*\"food\" + 0.006*\"also\"')]\n"
     ]
    }
   ],
   "source": [
    "print('Top words for good reviews')\n",
    "print()\n",
    "pprint(lda_good.print_topics(num_words=10))"
   ]
  },
  {
   "cell_type": "code",
   "execution_count": 46,
   "metadata": {},
   "outputs": [
    {
     "name": "stdout",
     "output_type": "stream",
     "text": [
      "Top words for bad reviews\n",
      "\n",
      "[(0,\n",
      "  '0.014*\"restaurant\" + 0.013*\"service\" + 0.010*\"place\" + 0.008*\"never\" + '\n",
      "  '0.008*\"time\" + 0.007*\"manager\" + 0.007*\"table\" + 0.006*\"server\" + '\n",
      "  '0.005*\"could\" + 0.005*\"night\"'),\n",
      " (1,\n",
      "  '0.013*\"minutes\" + 0.013*\"table\" + 0.011*\"service\" + 0.010*\"time\" + '\n",
      "  '0.010*\"asked\" + 0.010*\"order\" + 0.008*\"bar\" + 0.007*\"took\" + 0.007*\"wait\" + '\n",
      "  '0.007*\"ordered\"'),\n",
      " (2,\n",
      "  '0.013*\"place\" + 0.007*\"menu\" + 0.007*\"service\" + 0.007*\"cheese\" + '\n",
      "  '0.007*\"chicken\" + 0.006*\"bar\" + 0.006*\"salad\" + 0.006*\"pretty\" + '\n",
      "  '0.005*\"dinner\" + 0.005*\"ordered\"'),\n",
      " (3,\n",
      "  '0.025*\"steak\" + 0.014*\"ordered\" + 0.009*\"salad\" + 0.009*\"service\" + '\n",
      "  '0.008*\"medium\" + 0.008*\"cooked\" + 0.007*\"time\" + 0.007*\"meat\" + '\n",
      "  '0.006*\"steaks\" + 0.006*\"meal\"')]\n"
     ]
    }
   ],
   "source": [
    "print('Top words for bad reviews')\n",
    "print()\n",
    "pprint(lda_bad.print_topics(num_words=10))"
   ]
  },
  {
   "cell_type": "markdown",
   "metadata": {},
   "source": [
    "**Compared with LSA method, we could give better interpretation based on the results of top words in topics.**\n",
    "\n",
    "**It can be seen that the tops in good reviews are likey to be:**\n",
    "\n",
    "(1) Food; (2) good service and atmosphere; (3) sides and snacks ; (4) steak quality."
   ]
  },
  {
   "cell_type": "markdown",
   "metadata": {},
   "source": [
    "**It can be seen that the tops in bad reviews are likey to be:**\n",
    "\n",
    "(1) Atmosphere; (2) Service; (3) sides and other dishes; (4) steak quality."
   ]
  },
  {
   "cell_type": "markdown",
   "metadata": {},
   "source": [
    "**Seen from the results of LDA, the topics are mixed up. Therefore we are going to use TFIDF in future modeling.**"
   ]
  },
  {
   "cell_type": "markdown",
   "metadata": {},
   "source": [
    "# Topic Modeling All Reviews <a name='s9'></a>  "
   ]
  },
  {
   "cell_type": "code",
   "execution_count": 48,
   "metadata": {},
   "outputs": [
    {
     "name": "stdout",
     "output_type": "stream",
     "text": [
      "Postive Reviews:  17,270\n",
      "Negative Reviews:  11,139\n"
     ]
    }
   ],
   "source": [
    "print('Postive Reviews:  {:,}'.format(len(goodreviews)))\n",
    "print('Negative Reviews:  {:,}'.format(len(badreviews)))"
   ]
  },
  {
   "cell_type": "code",
   "execution_count": 64,
   "metadata": {},
   "outputs": [
    {
     "name": "stdout",
     "output_type": "stream",
     "text": [
      "Wall time: 1.64 s\n"
     ]
    }
   ],
   "source": [
    "%%time\n",
    "# Create a vectorizer object to generate term document counts\n",
    "tfidf_model1 = TfidfVectorizer(stop_words=stop_words, min_df=10, max_df=0.5, \n",
    "                        ngram_range=(1,1), token_pattern='[a-z][a-z]+')\n",
    "\n",
    "tfidf_model2 = TfidfVectorizer(stop_words=stop_words, min_df=10, max_df=0.5, \n",
    "                        ngram_range=(1,1), token_pattern='[a-z][a-z]+')\n",
    "\n",
    "# Get the vectors\n",
    "neg_vectors = tfidf_model1.fit_transform(badreviews)\n",
    "pos_vectors = tfidf_model2.fit_transform(goodreviews)"
   ]
  },
  {
   "cell_type": "code",
   "execution_count": 65,
   "metadata": {},
   "outputs": [
    {
     "name": "stdout",
     "output_type": "stream",
     "text": [
      "Wall time: 3.3 s\n"
     ]
    }
   ],
   "source": [
    "%%time\n",
    "# NMF for all reviews\n",
    "from sklearn.decomposition import NMF\n",
    "\n",
    "# change num_topics\n",
    "num_topics = 4\n",
    "\n",
    "nmf_pos = NMF(n_components=num_topics,max_iter=1000)\n",
    "W_pos = nmf_pos.fit_transform(pos_vectors)\n",
    "H_pos = nmf_pos.components_\n",
    "\n",
    "nmf_neg = NMF(n_components=num_topics,max_iter=1000)\n",
    "W_neg = nmf_neg.fit_transform(neg_vectors)\n",
    "H_neg = nmf_neg.components_"
   ]
  },
  {
   "cell_type": "code",
   "execution_count": 66,
   "metadata": {},
   "outputs": [],
   "source": [
    "def display_topics(model, feature_names, num_topics, no_top_words):\n",
    "    for topic_idx, topic in enumerate(model.components_):\n",
    "        if topic_idx < num_topics:\n",
    "            print(\"{:11}\".format(\"Topic %d:\" %(topic_idx)), end='')\n",
    "            print(\", \".join(['{:04.3f}*'.format(topic[i])+feature_names[i] \\\n",
    "                             for i in topic.argsort()[:-no_top_words-1:-1]]))"
   ]
  },
  {
   "cell_type": "code",
   "execution_count": 67,
   "metadata": {},
   "outputs": [
    {
     "name": "stdout",
     "output_type": "stream",
     "text": [
      "Topics for POSITIVE reviews\n",
      "---------------------------------------\n",
      "Topic 0:   1.116*bar, 1.094*place, 0.725*menu, 0.659*time, 0.570*happy, 0.525*meat\n",
      "Topic 1:   1.620*cheese, 1.392*curds, 1.070*old, 0.924*fashioned, 0.704*beer, 0.695*madison\n",
      "Topic 2:   1.743*food, 1.400*service, 0.851*excellent, 0.756*atmosphere, 0.755*amazing, 0.585*recommend\n",
      "Topic 3:   1.592*steak, 0.843*ordered, 0.840*cooked, 0.682*salad, 0.603*delicious, 0.569*perfectly\n",
      "\n",
      "Topics for NEGATIVE reviews\n",
      "---------------------------------------\n",
      "Topic 0:   1.120*minutes, 0.965*table, 0.710*time, 0.652*never, 0.647*order, 0.632*asked\n",
      "Topic 1:   1.153*place, 0.842*service, 0.593*bar, 0.524*better, 0.492*restaurant, 0.394*much\n",
      "Topic 2:   2.153*steak, 0.929*medium, 0.684*rare, 0.551*cooked, 0.533*steaks, 0.525*ordered\n",
      "Topic 3:   0.834*cheese, 0.824*salad, 0.731*chicken, 0.605*ordered, 0.551*burger, 0.486*fries\n"
     ]
    }
   ],
   "source": [
    "no_topics = num_topics\n",
    "no_top_words = 6\n",
    "\n",
    "print('Topics for POSITIVE reviews')\n",
    "print('-'*39)\n",
    "display_topics(nmf_pos, tfidf_model2.get_feature_names(), no_topics, no_top_words)\n",
    "\n",
    "print('\\nTopics for NEGATIVE reviews')\n",
    "print('-'*39)\n",
    "display_topics(nmf_neg, tfidf_model1.get_feature_names(), no_topics, no_top_words)"
   ]
  },
  {
   "cell_type": "code",
   "execution_count": 70,
   "metadata": {},
   "outputs": [],
   "source": [
    "# create topic dictionaries to summarize the topic meanings\n",
    "pos_topics = {0:'Menu/Bar/Happy hour', 1:'Other main dishes and stype', \n",
    "              2:'Service and atmosphere', 3:'Quality of steaks'}\n",
    "\n",
    "neg_topics = {0:'Service/Bar/Menu', 1:\"Temperature of Steaks\" , 2:'Service time', \n",
    "              3:'Quality of other sides and snacks'}"
   ]
  },
  {
   "cell_type": "markdown",
   "metadata": {},
   "source": [
    "### Adding Topic Weights to Pandas DataFrame <a name='s10'></a>"
   ]
  },
  {
   "cell_type": "code",
   "execution_count": 71,
   "metadata": {},
   "outputs": [],
   "source": [
    "# we create dataframes for positive & negative reviews that we can\n",
    "# later add topic information to\n",
    "df_pos = data[['business_id', 'stars_y', 'text', 'review_length']][data.stars_x>3].reset_index()\n",
    "df_neg = data[['business_id', 'stars_y', 'text', 'review_length']][data.stars_x<=3].reset_index()\n",
    "df_pos.drop(labels='index', axis=1, inplace=True)\n",
    "df_neg.drop(labels='index', axis=1, inplace=True)"
   ]
  },
  {
   "cell_type": "code",
   "execution_count": 72,
   "metadata": {},
   "outputs": [
    {
     "name": "stdout",
     "output_type": "stream",
     "text": [
      "Topic weights :  [0.01724319 0.01652171 0.01657499 0.0043403 ]\n",
      "Sum of weights:  0.05468018767924731\n"
     ]
    }
   ],
   "source": [
    "print('Topic weights : ', W_pos[0])\n",
    "print('Sum of weights: ', W_pos[0].sum())"
   ]
  },
  {
   "cell_type": "markdown",
   "metadata": {},
   "source": [
    "Results like these are not easy to interpretate, Therefore, we can normalize the weights so they all add up to 1. Such scale is much more straightforward."
   ]
  },
  {
   "cell_type": "code",
   "execution_count": 73,
   "metadata": {},
   "outputs": [
    {
     "name": "stdout",
     "output_type": "stream",
     "text": [
      "Normalized Topic weights :  [[0.31534621 0.30215162 0.30312614 0.07937604]]\n",
      "Sum of normalized weights:  0.9999999999999999\n"
     ]
    }
   ],
   "source": [
    "from sklearn.preprocessing import normalize\n",
    "print('Normalized Topic weights : ', normalize(W_pos[0].reshape(1,-1), norm='l1'))\n",
    "print('Sum of normalized weights: ', normalize(W_pos[0].reshape(1,-1), norm='l1').sum())"
   ]
  },
  {
   "cell_type": "code",
   "execution_count": 74,
   "metadata": {},
   "outputs": [],
   "source": [
    "# add normalized topic weights to each review\n",
    "df_pos = pd.concat([df_pos, pd.DataFrame(normalize(W_pos, norm='l1'))], axis=1)\n",
    "df_neg = pd.concat([df_neg, pd.DataFrame(normalize(W_neg, norm='l1'))], axis=1)"
   ]
  },
  {
   "cell_type": "code",
   "execution_count": 75,
   "metadata": {},
   "outputs": [],
   "source": [
    "# group by business_id and apply mean/count functions to columns\n",
    "df_pos_bsns = df_pos.groupby('business_id').agg({'stars_y':'mean', 'text':'count',\n",
    "                                                 'review_length':'mean',0:'mean', \n",
    "                                                 1:'mean', 2:'mean', 3:'mean'}).reset_index()\n",
    "df_neg_bsns = df_neg.groupby('business_id').agg({'stars_y':'mean', 'text':'count',\n",
    "                                                 'review_length':'mean',0:'mean', \n",
    "                                                 1:'mean', 2:'mean', 3:'mean'}).reset_index()"
   ]
  },
  {
   "cell_type": "markdown",
   "metadata": {},
   "source": [
    "### Adding in Business Information <a name='s11'></a>"
   ]
  },
  {
   "cell_type": "code",
   "execution_count": 77,
   "metadata": {},
   "outputs": [],
   "source": [
    "# we can read in business info from a saved CSV file\n",
    "# and add that to our last dataframe\n",
    "steak_df = pd.read_csv('review_steakhouse.csv')\n",
    "steak_df.drop(labels='Unnamed: 0', axis=1, inplace=True)\n",
    "steak_df=steak_df.drop(columns=['useful','text','address',\"postal_code\",\"attributes\",\"categories\"])"
   ]
  },
  {
   "cell_type": "code",
   "execution_count": 79,
   "metadata": {},
   "outputs": [
    {
     "data": {
      "text/html": [
       "<div>\n",
       "<style scoped>\n",
       "    .dataframe tbody tr th:only-of-type {\n",
       "        vertical-align: middle;\n",
       "    }\n",
       "\n",
       "    .dataframe tbody tr th {\n",
       "        vertical-align: top;\n",
       "    }\n",
       "\n",
       "    .dataframe thead th {\n",
       "        text-align: right;\n",
       "    }\n",
       "</style>\n",
       "<table border=\"1\" class=\"dataframe\">\n",
       "  <thead>\n",
       "    <tr style=\"text-align: right;\">\n",
       "      <th></th>\n",
       "      <th>user_id</th>\n",
       "      <th>business_id</th>\n",
       "      <th>stars_x</th>\n",
       "      <th>name</th>\n",
       "      <th>city</th>\n",
       "      <th>state</th>\n",
       "      <th>stars_y</th>\n",
       "    </tr>\n",
       "  </thead>\n",
       "  <tbody>\n",
       "    <tr>\n",
       "      <th>0</th>\n",
       "      <td>m5ID0Dpz6IxbNPmhgZQyEQ</td>\n",
       "      <td>lpxj6LFir23Ds6swW8a6fg</td>\n",
       "      <td>4</td>\n",
       "      <td>Grandview Saloon</td>\n",
       "      <td>Pittsburgh</td>\n",
       "      <td>PA</td>\n",
       "      <td>3.0</td>\n",
       "    </tr>\n",
       "    <tr>\n",
       "      <th>1</th>\n",
       "      <td>URig1W1Y_6P2viLKDx5hkQ</td>\n",
       "      <td>d6VYQbeTZ_WdD8Uuhh35dg</td>\n",
       "      <td>5</td>\n",
       "      <td>Tempest Oyster Bar</td>\n",
       "      <td>Madison</td>\n",
       "      <td>WI</td>\n",
       "      <td>4.0</td>\n",
       "    </tr>\n",
       "    <tr>\n",
       "      <th>2</th>\n",
       "      <td>jV2JRJT9oSEVzoSkOSqmiQ</td>\n",
       "      <td>szGbmw_vq3kVU4SfK1x6Sw</td>\n",
       "      <td>4</td>\n",
       "      <td>Ruths Chris Steak House</td>\n",
       "      <td>Pittsburgh</td>\n",
       "      <td>PA</td>\n",
       "      <td>4.0</td>\n",
       "    </tr>\n",
       "    <tr>\n",
       "      <th>3</th>\n",
       "      <td>Yvs8q8tth9J5-7Pdxkaq6w</td>\n",
       "      <td>eF2jf-E5ktRQIh_4_-Jxsg</td>\n",
       "      <td>4</td>\n",
       "      <td>Cannon's Chop House</td>\n",
       "      <td>Canonsburg</td>\n",
       "      <td>PA</td>\n",
       "      <td>3.5</td>\n",
       "    </tr>\n",
       "    <tr>\n",
       "      <th>4</th>\n",
       "      <td>kdBn3eSDHkHod1Sl7z_MXw</td>\n",
       "      <td>JhxI7oS_jsFnq34dDubugQ</td>\n",
       "      <td>2</td>\n",
       "      <td>Ferris Steak House</td>\n",
       "      <td>Cleveland</td>\n",
       "      <td>OH</td>\n",
       "      <td>3.5</td>\n",
       "    </tr>\n",
       "  </tbody>\n",
       "</table>\n",
       "</div>"
      ],
      "text/plain": [
       "                  user_id             business_id  stars_x  \\\n",
       "0  m5ID0Dpz6IxbNPmhgZQyEQ  lpxj6LFir23Ds6swW8a6fg        4   \n",
       "1  URig1W1Y_6P2viLKDx5hkQ  d6VYQbeTZ_WdD8Uuhh35dg        5   \n",
       "2  jV2JRJT9oSEVzoSkOSqmiQ  szGbmw_vq3kVU4SfK1x6Sw        4   \n",
       "3  Yvs8q8tth9J5-7Pdxkaq6w  eF2jf-E5ktRQIh_4_-Jxsg        4   \n",
       "4  kdBn3eSDHkHod1Sl7z_MXw  JhxI7oS_jsFnq34dDubugQ        2   \n",
       "\n",
       "                      name        city state  stars_y  \n",
       "0         Grandview Saloon  Pittsburgh    PA      3.0  \n",
       "1       Tempest Oyster Bar     Madison    WI      4.0  \n",
       "2  Ruths Chris Steak House  Pittsburgh    PA      4.0  \n",
       "3      Cannon's Chop House  Canonsburg    PA      3.5  \n",
       "4       Ferris Steak House   Cleveland    OH      3.5  "
      ]
     },
     "execution_count": 79,
     "metadata": {},
     "output_type": "execute_result"
    }
   ],
   "source": [
    "steakid=steak_df.groupby('business_id').apply(lambda x: x)\n",
    "steakid=steakid.drop_duplicates()\n",
    "steakid.head()"
   ]
  },
  {
   "cell_type": "code",
   "execution_count": 80,
   "metadata": {},
   "outputs": [],
   "source": [
    "df_pos_tot = df_pos_bsns.merge(steakid[['business_id','name','city','state']], left_on='business_id', \n",
    "                               right_on='business_id')[['business_id', 'name', 'city','state','stars_y', 0, 1, 2, 3]]\n",
    "\n",
    "df_neg_tot = df_neg_bsns.merge(steakid[['business_id','name','city','state']], left_on='business_id', \n",
    "                               right_on='business_id')[['business_id', 'name', 'city','state','stars_y',0, 1, 2, 3]]"
   ]
  },
  {
   "cell_type": "code",
   "execution_count": 82,
   "metadata": {},
   "outputs": [],
   "source": [
    "# peek into business/topic distributions\n",
    "#df_pos_tot.head()\n",
    "df_pos_tot=df_pos_tot.drop_duplicates()\n",
    "df_neg_tot=df_neg_tot.drop_duplicates()"
   ]
  },
  {
   "cell_type": "markdown",
   "metadata": {},
   "source": [
    "We can check topic distributions for a business and see how they make sense after all the reviews have been normalized and then averaged up to the business-level. Let's check `business_id '-bHpvkmiFzm_swHLYsGiqw'`, a famous grille resturant."
   ]
  },
  {
   "cell_type": "code",
   "execution_count": 83,
   "metadata": {},
   "outputs": [
    {
     "name": "stdout",
     "output_type": "stream",
     "text": [
      "Ken Stewart's Grille - Positive Reviews\n",
      "------------------------------------\n",
      "Topic 0: Menu/Bar/Happy hour > 0.3323\n",
      "Topic 1: Other main dishes and stype > 0.0544\n",
      "Topic 2: Service and atmosphere > 0.3543\n",
      "Topic 3: Quality of steaks  > 0.2589\n"
     ]
    }
   ],
   "source": [
    "scores = df_pos_bsns[df_pos_bsns.business_id == '-bHpvkmiFzm_swHLYsGiqw'].iloc[:,-4:].values\n",
    "print(steakid[steakid.business_id == '-bHpvkmiFzm_swHLYsGiqw']['name'].values[0] + ' - Positive Reviews')\n",
    "print('-'*36)\n",
    "for n in pos_topics:\n",
    "    print('Topic {}: {:18} > {:.4f}'.format(n, pos_topics[n], scores[0][n]))"
   ]
  },
  {
   "cell_type": "markdown",
   "metadata": {},
   "source": [
    "We now have 4 dataframes:  \n",
    "1. **`df_pos_tot`: ** topic distribution of positive reviews with name, city, and stars for all restaurants\n",
    "2. **`df_neg_tot`: ** topic distribution of negative reviews with name, city, and stars for all restaurants\n",
    "3. **`df_pos`: ** topic distribution of all positive reviews with associated business_id\n",
    "4. **`df_neg`: ** topic distribution of all negative reviews with associated business_id  \n",
    "\n",
    "We can write them to CSV files and then use that information for further analysis with R and Shiny app."
   ]
  },
  {
   "cell_type": "code",
   "execution_count": null,
   "metadata": {},
   "outputs": [],
   "source": [
    "%%time\n",
    "# write to CSV\n",
    "df_pos_tot.to_csv('outputcsv/pos_bsns.csv')\n",
    "df_neg_tot.to_csv('outputcsv/neg_bsns.csv')"
   ]
  }
 ],
 "metadata": {
  "kernelspec": {
   "display_name": "Python 3",
   "language": "python",
   "name": "python3"
  },
  "language_info": {
   "codemirror_mode": {
    "name": "ipython",
    "version": 3
   },
   "file_extension": ".py",
   "mimetype": "text/x-python",
   "name": "python",
   "nbconvert_exporter": "python",
   "pygments_lexer": "ipython3",
   "version": "3.8.3"
  }
 },
 "nbformat": 4,
 "nbformat_minor": 4
}
